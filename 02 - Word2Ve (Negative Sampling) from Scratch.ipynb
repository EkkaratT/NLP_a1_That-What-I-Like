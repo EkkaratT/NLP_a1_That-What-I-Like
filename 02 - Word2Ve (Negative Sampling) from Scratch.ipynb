{
  "cells": [
    {
      "attachments": {},
      "cell_type": "markdown",
      "metadata": {},
      "source": [
        "# Word2Vec (Negative Sampling)\n",
        "\n",
        "Let's work on negative-sampling based implementation of word2vec."
      ]
    },
    {
      "cell_type": "code",
      "execution_count": 1,
      "metadata": {},
      "outputs": [],
      "source": [
        "import numpy as np\n",
        "import torch\n",
        "import torch.nn as nn\n",
        "import torch.optim as optim\n",
        "import matplotlib.pyplot as plt\n",
        "import torch.nn.functional as F"
      ]
    },
    {
      "cell_type": "code",
      "execution_count": 2,
      "metadata": {},
      "outputs": [
        {
          "data": {
            "text/plain": [
              "('1.21.5', '2.5.1+cu118')"
            ]
          },
          "execution_count": 2,
          "metadata": {},
          "output_type": "execute_result"
        }
      ],
      "source": [
        "np.__version__, torch.__version__"
      ]
    },
    {
      "attachments": {},
      "cell_type": "markdown",
      "metadata": {},
      "source": [
        "## 1. Define some very simple data for understanding"
      ]
    },
    {
      "cell_type": "code",
      "execution_count": 3,
      "metadata": {},
      "outputs": [
        {
          "name": "stderr",
          "output_type": "stream",
          "text": [
            "[nltk_data] Downloading package brown to\n",
            "[nltk_data]     C:\\Users\\Ekkar\\AppData\\Roaming\\nltk_data...\n",
            "[nltk_data]   Package brown is already up-to-date!\n"
          ]
        },
        {
          "data": {
            "text/plain": [
              "True"
            ]
          },
          "execution_count": 3,
          "metadata": {},
          "output_type": "execute_result"
        }
      ],
      "source": [
        "import nltk\n",
        "nltk.download('brown')"
      ]
    },
    {
      "cell_type": "code",
      "execution_count": 4,
      "metadata": {},
      "outputs": [],
      "source": [
        "from nltk.corpus import brown\n",
        "corpus = brown.sents(categories='news')"
      ]
    },
    {
      "cell_type": "code",
      "execution_count": 5,
      "metadata": {},
      "outputs": [
        {
          "data": {
            "text/plain": [
              "[['The', 'Fulton', 'County', 'Grand', 'Jury', 'said', 'Friday', 'an', 'investigation', 'of', \"Atlanta's\", 'recent', 'primary', 'election', 'produced', '``', 'no', 'evidence', \"''\", 'that', 'any', 'irregularities', 'took', 'place', '.'], ['The', 'jury', 'further', 'said', 'in', 'term-end', 'presentments', 'that', 'the', 'City', 'Executive', 'Committee', ',', 'which', 'had', 'over-all', 'charge', 'of', 'the', 'election', ',', '``', 'deserves', 'the', 'praise', 'and', 'thanks', 'of', 'the', 'City', 'of', 'Atlanta', \"''\", 'for', 'the', 'manner', 'in', 'which', 'the', 'election', 'was', 'conducted', '.'], ...]"
            ]
          },
          "execution_count": 5,
          "metadata": {},
          "output_type": "execute_result"
        }
      ],
      "source": [
        "corpus"
      ]
    },
    {
      "cell_type": "code",
      "execution_count": 6,
      "metadata": {},
      "outputs": [
        {
          "data": {
            "text/plain": [
              "['Tulsa',\n",
              " 'soldiers',\n",
              " 'Steve',\n",
              " 'adapting',\n",
              " 'event',\n",
              " 'oases',\n",
              " 'conspicuously',\n",
              " 'drill',\n",
              " 'enlivened',\n",
              " 'junta']"
            ]
          },
          "execution_count": 6,
          "metadata": {},
          "output_type": "execute_result"
        }
      ],
      "source": [
        "#get word sequences and unique words\n",
        "flatten = lambda l: [item for sublist in l for item in sublist]\n",
        "vocab = list(set(flatten(corpus)))\n",
        "vocab[:10]"
      ]
    },
    {
      "cell_type": "code",
      "execution_count": 7,
      "metadata": {},
      "outputs": [
        {
          "name": "stdout",
          "output_type": "stream",
          "text": [
            "{'Tulsa': 0, 'soldiers': 1, 'Steve': 2, 'adapting': 3, 'event': 4, 'oases': 5, 'conspicuously': 6, 'drill': 7, 'enlivened': 8, 'junta': 9, 'surgery': 10, 'Rabb': 11, 'coordinate': 12, 'Connecticut': 13, 'suavity': 14, 'licenses': 15, 'combination': 16, 'pretext': 17, 'foreign-policy': 18, 'plus': 19, 'mathematics': 20, 'seemed': 21, 'unknown': 22, 'sponsor': 23, 'occupying': 24, '9329': 25, 'intervals': 26, 'What': 27, 'Norris-LaGuardia': 28, 'Monte': 29, 'Banner': 30, 'less': 31, 'tomato-red': 32, 'done': 33, 'sculptures': 34, 'announcement': 35, 'fairway': 36, 'festive': 37, 'miserable': 38, 'enter': 39, 'frankness': 40, 'Deadlock': 41, 'sponsored': 42, 'misunderstanding': 43, 'Behind': 44, 'Odell': 45, 'acrobatic': 46, 'neutralists': 47, 'flood': 48, 'reportedly': 49, 'governments': 50, '100%': 51, 'solve': 52, 'language': 53, 'led': 54, 'sheet': 55, 'Milties': 56, 'while': 57, 'Youth': 58, 'Johns': 59, 'Claus': 60, 'dying': 61, 'passed': 62, 'Starts': 63, 'breathes': 64, 'Tree': 65, '5-1': 66, 'Voiture': 67, 'Chardon': 68, 'Dulles': 69, 'core': 70, 'belonged': 71, 'Act': 72, 'justify': 73, 'qualities': 74, 'Austin': 75, \"wouldn't\": 76, '$28': 77, 'catastrophe': 78, 'animism': 79, 'chef': 80, 'contended': 81, 'Dutch': 82, 'Manville': 83, 'Not': 84, 'laying': 85, \"Birds'\": 86, \"teammate's\": 87, 'Riverside': 88, \"Canada's\": 89, 'Lichtenstein': 90, 'Wegener': 91, 'Cutting': 92, 'Assuming': 93, '4,441': 94, '9th': 95, 'Wesley': 96, 'whom': 97, 'Insuring': 98, 'routine': 99, 'whisking': 100, 'meetings': 101, 'what': 102, '1946': 103, 'Bulloch': 104, 'bottling': 105, 'carry': 106, 'pour': 107, 'Philippine': 108, '1,119': 109, 'Biblically': 110, 'executed': 111, 'indirect': 112, 'subsequent': 113, 'spirit': 114, 'Campus': 115, 'fastened': 116, 'California': 117, 'carpeting': 118, '11-5': 119, 'Jansen': 120, 'Eng.': 121, 'civil': 122, 'exaggeration': 123, 'DiMaggio': 124, 'resignation': 125, 'solicit': 126, 'Swelling': 127, 'autonomy': 128, 'breakdown': 129, 'Phillies': 130, 'we': 131, \"Kennedy's\": 132, 'McLauchlin': 133, 'necessitated': 134, 'ex-singer': 135, 'comparison': 136, 'conceded': 137, 'battle': 138, 'Schrunk': 139, 'eager': 140, '1940': 141, 'privately': 142, 'conditions': 143, 'hurlers': 144, 'femininity': 145, 'glove': 146, 'Drs.': 147, 'showing': 148, 'liberals': 149, 'thunderous': 150, 'register': 151, 'submachine': 152, 'familiarity': 153, 'crop': 154, 'detach': 155, 'suburbs': 156, 'Gallup': 157, 'contact': 158, 'counties': 159, 'allowances': 160, 'discussions': 161, 'idolize': 162, 'Elmer': 163, 'Mediterranean': 164, 'Indemnity': 165, 'lawyer': 166, \"Case's\": 167, 'Rizzuto': 168, '93': 169, 'India': 170, 'worth': 171, 'invoked': 172, \"Gulf's\": 173, 'motion': 174, 'Putt': 175, 'Other': 176, 'denying': 177, 'possibly': 178, 'redecoration': 179, 'front': 180, 'hotel': 181, '15-year-old': 182, 'squabbles': 183, 'Decisions': 184, 'lags': 185, 'composed': 186, 'private': 187, 'walnut': 188, 'dozen': 189, 'amazement': 190, 'yardstick': 191, 'resist': 192, 'kid': 193, 'officiate': 194, 'Cheshire': 195, 'unemployment': 196, 'During': 197, 'junior': 198, 'billion': 199, 'Class': 200, 'ruggedly': 201, 'separating': 202, 'une': 203, 'Much': 204, 'Appropriately': 205, 'ones': 206, 'Which': 207, 'cross': 208, 'governed': 209, 'everybody': 210, 'Stuart': 211, 'Called': 212, 'cleaners': 213, 'except': 214, 'fate': 215, 'disturbing': 216, 'rushing': 217, 'aside': 218, 'determine': 219, 'Gauer': 220, 'Searles': 221, 'conservatives': 222, 'Teter': 223, 'northeast': 224, 'Sen.': 225, 'condition': 226, 'sectors': 227, 'rookie-of-the-year': 228, 'Senese': 229, 'relearns': 230, 'abstention': 231, 'Mill': 232, 'exacerbated': 233, 'infield': 234, 'Moultons': 235, 'Oslo': 236, 'Conant': 237, 'specialists': 238, 'checks': 239, 'Strong': 240, '3,399': 241, 'Broeg': 242, 'Germany': 243, 'killed': 244, 'valued': 245, 'emotionally': 246, '48': 247, 'adversaries': 248, 'difficult': 249, '2731': 250, 'Trustee': 251, 'Always': 252, '1927': 253, 'garden': 254, 'saving': 255, 'success': 256, 'Lamar': 257, 'fancy': 258, 'Navy': 259, 'suffragettes': 260, 'School': 261, 'Polaris': 262, 'drives': 263, 'Vacancy': 264, 'turnpike': 265, 'Dec.': 266, 'favors': 267, 'Bernie': 268, 'faint': 269, 'downhill': 270, 'firmer': 271, 'Anaconda': 272, 'carried': 273, 'topnotch': 274, 'persuade': 275, 'reporters': 276, 'Gaines': 277, 'C': 278, 'saute': 279, 'associate': 280, 'Ryne': 281, 'Attacks': 282, 'vowed': 283, 'vote': 284, 'inquiries': 285, \"Year's\": 286, 'sink': 287, 'smooth': 288, 'Kay': 289, 'result': 290, 'telephoned': 291, 'buddy': 292, 'informally': 293, 'Oklahoma': 294, 'Staiger': 295, 'Aaron': 296, 'en': 297, 'Murphy': 298, 'multi-million-dollar': 299, 'Carey': 300, 'diamond-studded': 301, 'indictments': 302, 'worn': 303, 'Sisk': 304, 'integrated': 305, 'term': 306, 'Clay': 307, 'loves': 308, 'expect': 309, 'eventual': 310, 'sued': 311, 'staunchest': 312, 'exporting': 313, 'Mmes.': 314, 'serving': 315, 'smoldered': 316, 'science': 317, 'slides': 318, 'governmental': 319, 'dollar': 320, \"Daniel's\": 321, 'up': 322, 'Texas': 323, \"Italy's\": 324, 'fits': 325, 'Dow': 326, 'Delta': 327, 'camp': 328, 'supposed': 329, 'Mercury': 330, 'gumption': 331, 'violations': 332, 'Leary': 333, 'Spahnie': 334, 'Siebern': 335, 'units': 336, 'Van': 337, 'quarter-to-quarter': 338, 'Well-wishers': 339, 'wording': 340, 'dreadful': 341, 'listening': 342, 'ball': 343, 'battered': 344, 'Heights': 345, 'dilemma': 346, 'thank': 347, 'sweat-suits': 348, 'Bleckley': 349, 'Braves': 350, 'Alusik': 351, 'revolving': 352, 'mentally': 353, 'effectiveness': 354, \"people's\": 355, 'shootings': 356, 'All': 357, 'gains': 358, 'Emmert': 359, 'Hit': 360, 'Stetson': 361, 'level': 362, 'Hemus': 363, 'Librarians': 364, 'Patterson': 365, '5-to-2': 366, 'amendment': 367, 'modification': 368, \"10-o'clock\": 369, 'sensitive': 370, '158-pounder': 371, 'youths': 372, 'weaknesses': 373, 'robber': 374, 'complicated': 375, 'systems': 376, 'Blumberg': 377, 'finance': 378, 'posted': 379, 'gaping': 380, 'viewing': 381, 'allocated': 382, 'underwater': 383, 'Northwestern': 384, '8:30': 385, 'unchecked': 386, 'longstanding': 387, 'infallible': 388, 'Thrush': 389, 'embroidered': 390, 'salesman': 391, 'lengthening': 392, 'bare': 393, 'Tournament': 394, 'Illinois': 395, 'farm': 396, 'Perennian': 397, 'Mining': 398, 'deemed': 399, 'harmony': 400, 'slender': 401, 'implementation': 402, 'Springfield': 403, 'slump': 404, 'Congo': 405, 'balance': 406, 'land': 407, 'judgeship': 408, 'duties': 409, 'Lisle': 410, 'Garson': 411, 'Hillcrest': 412, '120': 413, 'Leonard': 414, 'lucky': 415, 'solidarity': 416, 'hang': 417, 'NBC': 418, \"Hutchins'\": 419, '$37': 420, 'impoverished': 421, 'automobile': 422, '480': 423, 'Commission': 424, 'Helene': 425, 'chrome': 426, 'pounds': 427, 'hundred': 428, 'Cotton': 429, 'intelligent': 430, 'rough': 431, 'Rum': 432, 'fueled': 433, 'rightfully': 434, 'Greenfield': 435, 'fifteenth': 436, 'Tarzan': 437, 'pay': 438, 'leading': 439, 'expenditures': 440, 'pleads': 441, 'uncle': 442, 'attacked': 443, 'diplomacy': 444, 'ICC': 445, 'teen-agers': 446, 'Rudolph': 447, 'cane': 448, 'relations': 449, 'collecting': 450, 'Leland': 451, 'optimistic': 452, 'handled': 453, 'three-fifths': 454, 'homer': 455, 'Waggin': 456, 'short-term': 457, 'pound': 458, 'lack': 459, 'Sr.': 460, 'bank': 461, 'color': 462, 'Elementary': 463, 'sight': 464, 'fielders': 465, 'stand-ins': 466, 'awaited': 467, 'scorecard': 468, 'divide': 469, 'Misunderstanding': 470, 'Expressways': 471, 'indecisive': 472, 'specified': 473, 'Outfielder': 474, 'mat': 475, 'Associated': 476, 'collection': 477, 'Travelers': 478, 'lend': 479, 'nabbed': 480, 'Hartweger': 481, 'Alto': 482, 'Mmes': 483, '29th': 484, 'controls': 485, 'reward': 486, 'Stickney': 487, 'improper': 488, 'rehabilitation': 489, 'ayes': 490, 'smoother': 491, \"Mills's\": 492, 'stereotype': 493, 'masterpiece': 494, 'A135': 495, 'period': 496, 'peppery': 497, 'call': 498, 'Chronicle': 499, 'Grant': 500, 'loomed': 501, 'hinted': 502, 'Plee-Zing': 503, 'Kathy': 504, 'heralded': 505, 'ministerial': 506, 'Boun': 507, 'basketball': 508, '41': 509, \"clients'\": 510, 'opera': 511, 'Colorful': 512, 'errs': 513, 'exhibition': 514, 'Import': 515, 'Robert': 516, 'occupied': 517, 'Mayor-nominate': 518, 'Downtown': 519, 'niece': 520, 'Baldrige': 521, 'Purse': 522, 'battleground': 523, 'Gordon': 524, 'Dunlop': 525, 'Refuses': 526, 'video': 527, 'sculptured': 528, 'specialties': 529, 'scholarships': 530, 'officiated': 531, \"Poor's\": 532, 'offensives': 533, 'welcoming': 534, 'pools': 535, 'brooding': 536, 'motel': 537, 'Florida': 538, 'wiped': 539, \"O'Clock\": 540, 'fifth': 541, \"Shop's\": 542, 'reply': 543, 'distracted': 544, 'high-density': 545, 'Seekonk': 546, 'closeness': 547, 'jetliners': 548, 'megaton': 549, 'rely': 550, 'Anniversary': 551, 'prosecutors': 552, 'Tyson': 553, 'Red': 554, 'stocks': 555, 'Louise': 556, 'zeroed': 557, 'titular': 558, 'amounts': 559, 'changed': 560, 'Richardson': 561, 'conquer': 562, 'E.': 563, 'Langsdorf': 564, 'Dearborn': 565, 'Jan.': 566, 'Sinatra': 567, 'solicits': 568, 'collect': 569, 'favored': 570, \"Here's\": 571, 'tapestries': 572, 'delinquency': 573, 'Battalion': 574, 'rich': 575, 'detriment': 576, 'blue-uniformed': 577, 'preferred': 578, 'lazy': 579, 'name': 580, '60-inch': 581, 'anonymous': 582, 'returned': 583, 'funds': 584, 'bundles': 585, 'overpowered': 586, 'Sufficient': 587, 'enlarged': 588, 'weapons': 589, 'Proceeds': 590, 'reared': 591, 'costly': 592, 'tying': 593, \"Arnold's\": 594, 'clash': 595, 'win': 596, 'Pp.': 597, 'adopt': 598, 'McAlister': 599, 'Henri': 600, 'reasons': 601, 'polls': 602, 'thoroughly': 603, 'forecast': 604, 'stops': 605, 'assailant': 606, 'Olivet': 607, 'Invitations': 608, 'sharing': 609, 'Send': 610, 'one-week-old': 611, 'purchasing': 612, 'Augusta': 613, 'Coronado': 614, 'stole': 615, 'Delaware': 616, 'mere': 617, 'experiment': 618, 'Freddie': 619, 'tragedies': 620, \"Anderson's\": 621, 'dynamic': 622, 'sending': 623, 'Harveys': 624, 'revisions': 625, '20': 626, \"Chronicle's\": 627, 'hostesses': 628, 'platform': 629, 'Hunter': 630, '$14': 631, 'corrupt': 632, 'usually': 633, 'Delahanty': 634, 'damages': 635, 'removal': 636, 'counted': 637, 'interpret': 638, '25,000': 639, 'practices': 640, 'Journal-Bulletin': 641, 'dreamed': 642, 'Cincinnati': 643, 'Kentfield': 644, '$2,000': 645, 'denied': 646, 'workable': 647, 'sake': 648, 'planted': 649, '1920s': 650, 'sue': 651, 'December': 652, 'compiled': 653, 'hackers': 654, 'horde': 655, 'Guerin': 656, 'historian': 657, 'eve': 658, 'Corpus': 659, 'Self': 660, \"shouldn't\": 661, 'era': 662, '35': 663, 'N.J.': 664, 'Rackmil': 665, 'donated': 666, 'inlaid': 667, 'conscious': 668, 'clustered': 669, '23': 670, 'Mag': 671, 'bounded': 672, 'Read': 673, 'Mayor': 674, 'opponents': 675, 'key': 676, 'FFA': 677, 'relief': 678, 'gain': 679, 'justices': 680, 'tapestry': 681, 'runners': 682, 'Dane': 683, 'attract': 684, '$4,800': 685, 'After': 686, 'bunched': 687, 'retiring': 688, 'earn': 689, '31': 690, 'simultaneous': 691, 'blunt': 692, 'sing': 693, 'Hank': 694, 'housing': 695, 'narcotic': 696, 'they': 697, 'Mazeroski': 698, 'Serra': 699, 'nicer': 700, 'Carnival': 701, 'Bruce': 702, 'techniques': 703, \"chapter's\": 704, 'coffee': 705, 'held': 706, 'aiding': 707, 'homers': 708, 'Notre': 709, \"Dresbach's\": 710, 'producer': 711, 'trial': 712, 'mates': 713, '300-450': 714, \"hemisphere's\": 715, 'i.e.': 716, '3-0': 717, 'connections': 718, 'prosecutions': 719, 'alternate': 720, 'our': 721, 'marching': 722, 'dances': 723, 'Ceil': 724, 'beads': 725, 'Oriole': 726, 'Yes': 727, 'Sulcer': 728, 'load': 729, 'Office': 730, 'Boothby': 731, 'aeronautical': 732, 'hair': 733, '185,000': 734, 'recent': 735, 'acres': 736, 'streamliner': 737, 'TV': 738, 'Pumpkin': 739, 'Duque': 740, '25-footer': 741, 'Lubbock': 742, 'audio-visual': 743, 'Kel': 744, 'Hall': 745, 'Oak': 746, 'Irene': 747, 'pledges': 748, 'cyclical': 749, 'oust': 750, 'drawn': 751, 'Gift': 752, 're-set': 753, 'door-to-door': 754, 'Y.': 755, 'engrossed': 756, 'midnight': 757, 'slugging': 758, 'elder': 759, 'abstaining': 760, 'estate': 761, 'scoop': 762, 'Justice': 763, 'gas': 764, 'Gets': 765, 'Society': 766, 'Buick': 767, 'accompanied': 768, 'designs': 769, '6-5': 770, 'fine': 771, '340-blast': 772, 'Former': 773, 'architecture': 774, 'Beaumont': 775, 'conflict': 776, 'injunctions': 777, 'religion': 778, 'weeds': 779, 'pointing': 780, 'settle': 781, 'obligation': 782, 'rock': 783, 'charter': 784, 'pieces': 785, 'green': 786, 'trawler': 787, 'He': 788, 'examine': 789, 'sledding': 790, '$45': 791, 'representations': 792, '508-yard': 793, 'accelerated': 794, 'sorts': 795, 'Hamm': 796, 'US': 797, 'Ledford': 798, 'ex-schoolteacher': 799, 'press': 800, 'saves': 801, 'Johns-Manville': 802, 'down': 803, 'stepson': 804, 'Severna': 805, 'Bontempo': 806, 'roommate': 807, 'Totaling': 808, 'percentage': 809, 'stuff': 810, 'Baird': 811, 'Kanin': 812, \"wasn't\": 813, 'plays': 814, 'Newark': 815, 'bag': 816, 'politics': 817, 'veto': 818, 'propose': 819, 'canvassers': 820, 'Burgess': 821, 'Beronio': 822, 'senators': 823, 'dealer': 824, 'five-home': 825, \"junior's\": 826, 'ensembles': 827, 'includes': 828, 'Before': 829, 'lovers': 830, 'Nancy': 831, 'informed': 832, 'sky': 833, 'Sylvania': 834, \"Shartzer's\": 835, 'heights': 836, 'biz': 837, 'summer': 838, 'crowns': 839, 'complexity': 840, 'faith': 841, 'visits': 842, \"they're\": 843, 'Chiang': 844, 'Luther': 845, 'pork': 846, 'virtues': 847, '1917': 848, 'Surveys': 849, 'territory': 850, 'painting': 851, 'pleasant': 852, 'Surprised': 853, 'talents': 854, 'Stay': 855, 'common': 856, 'authority': 857, 'tribunals': 858, 'Oscar': 859, 'Butlers': 860, 'Cemal': 861, '75-minute': 862, 'never': 863, 'grants': 864, 'airlines': 865, 'lightness': 866, 'manufacturers': 867, 'Ind.': 868, 'Split': 869, 'disproportionate': 870, 'surrounded': 871, 'Catcher': 872, \"rbi's\": 873, 'tripartite': 874, 'automatic': 875, 'scenic': 876, 'Shay': 877, 'National': 878, 'Curry': 879, 'insistence': 880, 'lieutenant': 881, 'leave': 882, 'enabled': 883, 'sank': 884, 'Mr.': 885, 'easy': 886, 'reputedly': 887, 'scriptures': 888, 'Weldon': 889, 'swim': 890, \"Gardner's\": 891, 'become': 892, 'manganese': 893, 'foreign-aid': 894, 'intense': 895, 'shown': 896, 'negotiations': 897, 'colored': 898, 'acquittal': 899, '$9': 900, 'Fruit': 901, 'turn': 902, '3646': 903, 'unions': 904, 'Celebration': 905, 'lettered': 906, 'Thereafter': 907, 'tripping': 908, 'dignitaries': 909, 'debate': 910, 'unify': 911, 'busied': 912, 'high-legged': 913, 'letter': 914, 'Cable': 915, 'fractured': 916, 'stomach': 917, 'USSR': 918, 'maids': 919, 'withdrawn': 920, 'grimace': 921, 'sugar': 922, 'refer': 923, 'station': 924, 'envision': 925, 'Crystal': 926, 'preceeded': 927, 'ultimately': 928, 'fixed': 929, 'first-class': 930, 'boost': 931, 'optimism': 932, 'store': 933, 'reds': 934, '1944': 935, 'Gillis': 936, 'assertion': 937, 'reluctant': 938, 'Fears': 939, '87-31': 940, 'Cotty': 941, 'Hogan': 942, 'Dobbins': 943, 'Paris': 944, '1.09.3': 945, 'regrettable': 946, 'downtrodden': 947, 'Sweet': 948, 'allied': 949, 'structure': 950, 'Guam': 951, 'hot': 952, \"taxpayers'\": 953, 'Melcher': 954, 'abolish': 955, 'submarine-ball': 956, 'pressed-paper': 957, 'overtake': 958, \"Marr's\": 959, 'averages': 960, 'steak': 961, 'delighted': 962, 'evacuate': 963, 'white-clad': 964, 'price-earnings': 965, 'Papa': 966, 'Phil': 967, 'Tieken': 968, 'gradually': 969, 'scratches': 970, 'three-hour': 971, 'guerrilla': 972, 'eat': 973, 'staging': 974, \"Owl's\": 975, \"W.'s\": 976, '64': 977, 'pessimism': 978, 'temperament': 979, 'Sanctuary': 980, 'four-letter': 981, 'Life': 982, 'banned': 983, 'Gray': 984, 'keynote': 985, 'Betsy': 986, \"months'\": 987, 'snow': 988, 'ridiculous': 989, '923,076': 990, 'pop': 991, '$1,000,000,000': 992, 'condemning': 993, 'Naturally': 994, 'requirements': 995, 'tortured': 996, 'quipping': 997, 'senior': 998, 'concessionaires': 999, 'toll-road': 1000, 'Queens': 1001, 'quota': 1002, 'close': 1003, 'Warren': 1004, 'conspired': 1005, 'directly': 1006, 'Sees': 1007, 'Petipa-Tschaikowsky': 1008, 'doubted': 1009, 'spouse': 1010, 'taxpayers': 1011, 'crazy-wonderful': 1012, 'Presidents': 1013, 'Besset': 1014, \"R's\": 1015, 'Barnet': 1016, 'pier': 1017, 'neatly': 1018, 'Greyhound': 1019, 'numerous': 1020, 'Master': 1021, 'above': 1022, '145-pound': 1023, 'Turkish': 1024, 'fallacious': 1025, 'Streeters': 1026, 'artillery': 1027, 'Singles': 1028, 'theft': 1029, 'administered': 1030, 'Cup': 1031, 'Special': 1032, 'Secretary': 1033, 'Thomas': 1034, 'District': 1035, 'Abell': 1036, 'speakers': 1037, 'landed': 1038, 'Angel': 1039, 'Mound': 1040, 'decide': 1041, 'discussed': 1042, 'having': 1043, 'blended': 1044, 'Dresbachs': 1045, '1991': 1046, 'tanks': 1047, 'suit': 1048, 'frustrations': 1049, 'skyjackers': 1050, 'Kasavubu': 1051, 'renowned': 1052, 'unveiled': 1053, 'improvement': 1054, 'size': 1055, 'outstanding': 1056, 'administrative': 1057, '15-hit': 1058, 'Brownings': 1059, 'Kaminsky': 1060, 'Knox': 1061, 'Screvane': 1062, 'intercepted': 1063, 'Skid': 1064, 'Price': 1065, 'Wilbur': 1066, 'correspondent': 1067, 'Rollie': 1068, 'rainstorm': 1069, 'filled': 1070, 'Burke-Rostagno': 1071, 'teaching': 1072, 'mano': 1073, 'Evans': 1074, 'Alpha': 1075, 'Chapel': 1076, 'breaching': 1077, 'unlinked': 1078, 'least': 1079, 'exhibited': 1080, 'trusted': 1081, 'countless': 1082, 'Dist.': 1083, 'representation': 1084, 'collective-bargaining': 1085, 'periodicals': 1086, 'athlete': 1087, 'commencing': 1088, 'if': 1089, 'Tax': 1090, 'weaken': 1091, 'cautioned': 1092, 'miners': 1093, '5-4': 1094, 'Abraham': 1095, '30,000': 1096, 'Opelika': 1097, 'Fund': 1098, 'Pierre': 1099, 'innings': 1100, 'Apartment': 1101, 'Nanook': 1102, 'highest': 1103, 'steep': 1104, 'Money': 1105, 'Lefty': 1106, 'haze': 1107, 'tulle': 1108, 'wages': 1109, 'Pfohl': 1110, 'Third': 1111, 'inevitably': 1112, 'Wells': 1113, 'tattered': 1114, 'Elks': 1115, 'writing': 1116, 'Pye': 1117, 'recipient': 1118, 'competitively': 1119, 'minorities': 1120, 'temperate': 1121, 'based': 1122, \"capital's\": 1123, 'available': 1124, 'spectator': 1125, \"Committee's\": 1126, 'Aiken': 1127, 'adaptation': 1128, 'Detroit': 1129, 'double-header': 1130, 'pork-barrel': 1131, \"Allison's\": 1132, \"Louis's\": 1133, 'must': 1134, 'celebrated': 1135, 'glad': 1136, 'virtually': 1137, '75th': 1138, 'Soviet': 1139, 'computers': 1140, 'bus': 1141, 'Grovers': 1142, 'proportionate': 1143, 'Pearson': 1144, 'invoices': 1145, 'Hansen': 1146, 'arise': 1147, 'happens': 1148, 'larceny': 1149, 'sewing': 1150, 'flows': 1151, '6-3': 1152, 'domain': 1153, 'Merritt': 1154, 'catalogue': 1155, 'pastel-like': 1156, 'attactive': 1157, 'improvements': 1158, 'elderly': 1159, 'sharply': 1160, 'reach': 1161, 'Walters': 1162, 'specialized': 1163, 'mailed': 1164, 'Rochester': 1165, 'predominating': 1166, 'financial': 1167, 'athletic': 1168, 'Districts': 1169, 'Railroad': 1170, 'second-half': 1171, 'Prattville': 1172, 'Tunis': 1173, 'Wingback': 1174, 'raced': 1175, 'differently': 1176, 'Should': 1177, 'Arnold': 1178, \"Doris'\": 1179, 'grandiose': 1180, 'These': 1181, 'Attitude': 1182, 'immigrant': 1183, 'tense': 1184, 'Rome': 1185, \"McCloy's\": 1186, 'seize': 1187, 'banks': 1188, 'fair': 1189, 'leader': 1190, 'Border': 1191, 'bit': 1192, 'ringing': 1193, 'strictly': 1194, 'extraordinarily': 1195, 'bodice': 1196, 'substantially': 1197, 'undergo': 1198, 'Allison': 1199, 'carries': 1200, 'Rosen': 1201, 'loosely': 1202, 'acquaint': 1203, 'Imperial': 1204, 'Cotten': 1205, 'Bills': 1206, \"player's\": 1207, 'oppose': 1208, 'Haase': 1209, 'ability': 1210, 'finest': 1211, 'unscathed': 1212, 'hopes': 1213, 'residents': 1214, 'Hemphill': 1215, 'thereupon': 1216, 'forma': 1217, 'Kenny': 1218, 'probably': 1219, 'Those': 1220, \"U.S.'s\": 1221, 'Schweitzer': 1222, 'inadequacy': 1223, 'decisive': 1224, 'sorry': 1225, 'receive': 1226, 'seen': 1227, 'sweets': 1228, 'Gas': 1229, '$40,000,000': 1230, 'bilateral': 1231, 'broken': 1232, 'girls': 1233, 'month': 1234, 'Auntie': 1235, 'arms': 1236, '121': 1237, 'quarterback': 1238, '7-9': 1239, 'disparities': 1240, 'talks': 1241, 'parent': 1242, 'Salt': 1243, 'Church': 1244, \"world's\": 1245, 'convey': 1246, 'obtained': 1247, 'blunders': 1248, 'Terry': 1249, 'disapprove': 1250, 'rail': 1251, 'departments': 1252, 'bought': 1253, 'Cuba': 1254, 'Successful': 1255, 'Legers': 1256, 'servants': 1257, 'COAHR': 1258, 'robes': 1259, 'testing': 1260, 'Full': 1261, 'search': 1262, 'one-sided': 1263, 'appearing': 1264, 'Patricia': 1265, 'Raoul': 1266, 'Kittredge': 1267, 'island': 1268, 'deterrent': 1269, 'Neiman-Marcus': 1270, 'ham': 1271, 'contributing': 1272, 'paths': 1273, 'Richey': 1274, 'Longinotti': 1275, 'Lovely': 1276, 'watched': 1277, 'canted': 1278, 'potent': 1279, 'Nilsson': 1280, 'unity': 1281, 'Reed': 1282, 'baton': 1283, 'revenuers': 1284, 'Brain': 1285, 'intrigue': 1286, 'product': 1287, 'footing': 1288, 'Attorney': 1289, 'Arthur': 1290, 'looting': 1291, 'rodents': 1292, 'unnoticed': 1293, 'Fairless': 1294, 'Nicklaus': 1295, 'Mickey': 1296, '228-229': 1297, 'gentlemen': 1298, 'squeeze': 1299, 'campaigned': 1300, 'excessive': 1301, 'penetration': 1302, '5777': 1303, '15th': 1304, 'fraction': 1305, 'Owen': 1306, 'comeback': 1307, 'loath': 1308, 'missed': 1309, 'featuring': 1310, 'Speaker': 1311, 'Maybe': 1312, 'prospects': 1313, 'chase': 1314, 'most': 1315, 'well-prepared': 1316, '$4,177.37': 1317, 'hitless': 1318, 'ideology': 1319, 'old': 1320, 'Moscow': 1321, 'Tropic': 1322, 'A.M.': 1323, 'Cynthia': 1324, 'aloud': 1325, 'slice': 1326, 'MacGregors': 1327, 'statues': 1328, 'adjusted': 1329, 'Fifteen': 1330, 'dour': 1331, 'nitroglycerine': 1332, 'coordination': 1333, 'mishap': 1334, '149': 1335, 'index': 1336, 'entrance': 1337, 'wind-and-water': 1338, 'ligament': 1339, 'Equator': 1340, 'offerings': 1341, 'deadlock': 1342, 'Christian': 1343, 'taxed': 1344, 'union': 1345, 'components': 1346, 'contained': 1347, 'Manhattan': 1348, 'Gerosa': 1349, 'nature': 1350, 'Eisenhower': 1351, 'penalized': 1352, 'parklike': 1353, 'provincial': 1354, 'slogan': 1355, 'reactors': 1356, 'artistic': 1357, 'headdress': 1358, 'alternatives': 1359, 'fall-off': 1360, 'Simms': 1361, 'Brook': 1362, 'scoreboards': 1363, 'trivial': 1364, 'annually': 1365, 'liberal': 1366, 'Casey': 1367, 'Robbins': 1368, 'beggar': 1369, 'Cudmore': 1370, 'Oregon': 1371, 'society': 1372, 'relinquish': 1373, '5%': 1374, '16-22': 1375, 'entries': 1376, 'Commerce': 1377, 'Louis': 1378, \"children's\": 1379, 'Center': 1380, 'extreme': 1381, \"I'd\": 1382, 'weakened': 1383, '900': 1384, 'sacker': 1385, '58': 1386, 'leather': 1387, 'corporate': 1388, 'federalize': 1389, 'colonies': 1390, 'Jimmie': 1391, 'Cohn': 1392, 'cooperating': 1393, 'actual': 1394, 'Meek': 1395, 'protected': 1396, 'regrouping': 1397, 'nostalgic': 1398, 'cannibalistic': 1399, '19,000': 1400, 'uniformed': 1401, 'Minnie': 1402, 'ankle': 1403, 'Champion': 1404, 'Hugh': 1405, 'sponsorship': 1406, 'gala': 1407, 'Accounting': 1408, 'spend': 1409, 'Kershbaum': 1410, 'headline': 1411, 'drifts': 1412, \"Cuba's\": 1413, 'Larimer': 1414, 'Michaelson': 1415, 'postgraduate': 1416, 'wife': 1417, 'gasoline': 1418, 'upper': 1419, 'excellent': 1420, 'tribunal': 1421, 'manuscript': 1422, 'Neuberger': 1423, 'programmed': 1424, 'rocket': 1425, 'agonizing': 1426, 'unaccustomed': 1427, 'game': 1428, 'merger': 1429, 'danseur': 1430, 'decorations': 1431, 'mar': 1432, 'sleeping': 1433, '62': 1434, 'services': 1435, 'permitting': 1436, 'Paso': 1437, 'examiner': 1438, 'Hurrah': 1439, 'owe': 1440, 'decides': 1441, 'empires': 1442, '39': 1443, 'Fulbright': 1444, 'teaches': 1445, 'chosen': 1446, 'Rickenbaugh': 1447, 'dealt': 1448, 'Freeman': 1449, 'aunt': 1450, 'sexton': 1451, 'to': 1452, 'mention': 1453, 'Mercy': 1454, 'resulting': 1455, \"Miller's\": 1456, 'bossman': 1457, 'performers': 1458, '92': 1459, 'McNaughton': 1460, 'Seerey': 1461, 'parade': 1462, 'canceled': 1463, 'roommates': 1464, 'contingency': 1465, 'voting': 1466, 'intensity': 1467, 'saying': 1468, 'continues': 1469, 'determination': 1470, 'flour': 1471, 'Down': 1472, 'Questions': 1473, 'Last': 1474, 'Fogelson': 1475, 'harmonies': 1476, 'plea': 1477, 'Eastwick': 1478, 'crippled': 1479, 'ball-carriers': 1480, 'farmers': 1481, 'malingering': 1482, 'poster': 1483, 'hearty': 1484, 'bothered': 1485, 'moldboard': 1486, 'Fritz': 1487, 'Rogers': 1488, 'camping-out': 1489, 'noise': 1490, 'Moving': 1491, 'Tailback': 1492, 'Byer-Rolnick': 1493, 'love': 1494, 'Bernardine': 1495, 'grooming': 1496, 'creed': 1497, 'Loper': 1498, 'Redevelopment': 1499, 'businesses': 1500, 'adversary': 1501, 'Los': 1502, 'regulation': 1503, 'Reprisals': 1504, 'Ann': 1505, 'offensive': 1506, 'sick': 1507, 'coverage': 1508, 'go-go-go': 1509, 'protest': 1510, 'false': 1511, 'circulation': 1512, 'affair': 1513, 'Nationalist': 1514, 'Gunther': 1515, 'Herridge': 1516, 'mile': 1517, 'Place': 1518, 'brook': 1519, 'virile': 1520, 'Latinovich': 1521, 'taper': 1522, 'modifications': 1523, 'tennis': 1524, \"Rusk's\": 1525, 'Clinton': 1526, 'consul': 1527, 'generated': 1528, 'Scotch-Irish-Scandinavian': 1529, 'Salvatore': 1530, 'Picasso': 1531, 'reconvention': 1532, 'Mays': 1533, 'nightly': 1534, 'Can': 1535, 'Killebrew': 1536, '675': 1537, 'many': 1538, 'utility': 1539, 'north': 1540, 'foreign': 1541, 'Freida': 1542, 'North': 1543, 'combines': 1544, 'incomparably': 1545, 'deodorant': 1546, 'doctor': 1547, 'forces': 1548, 'heard': 1549, 'hazards': 1550, 'kitchen': 1551, 'article': 1552, 'colonialism': 1553, 'powered': 1554, 'entitled': 1555, 'toolmaker': 1556, 'overturned': 1557, \"navy's\": 1558, 'regular': 1559, 'popular': 1560, 'headache': 1561, 'long-term': 1562, 'Bubenik': 1563, 'strengthened': 1564, 'shaken': 1565, 'Employes': 1566, 'Case': 1567, '54': 1568, 'dancer': 1569, 'advisability': 1570, 'co-op': 1571, 'chopper': 1572, 'appointment': 1573, '133': 1574, 'extend': 1575, 'doubtful': 1576, 'Copeland': 1577, 'Locked': 1578, 'probe': 1579, 'excuses': 1580, \"it's\": 1581, 'king': 1582, 'profession': 1583, 'lawyers': 1584, \"Stephen's\": 1585, 'expectation': 1586, 'cry': 1587, 'Fur': 1588, 'polished': 1589, 'Half': 1590, 'inauguration': 1591, 'delegates': 1592, '240': 1593, 'scrutiny': 1594, 'DeCicco': 1595, 'Danish': 1596, 'checked': 1597, 'enemies': 1598, 'believes': 1599, 'bat': 1600, 'monotony': 1601, 'Luis': 1602, 'laboratory': 1603, 'out-of-bounds': 1604, 'jurisdictional': 1605, 'October': 1606, 'If': 1607, 'consolidation': 1608, 'Gov.': 1609, 'pitches': 1610, 'practiced': 1611, 'gangling': 1612, \"alliance's\": 1613, 'handed': 1614, 'Sept.': 1615, \"weren't\": 1616, 'Hills': 1617, 'lad': 1618, 'percentages': 1619, 'points': 1620, 'crown': 1621, 'aide': 1622, 'livability': 1623, 'crew': 1624, 'ailing': 1625, 'Chinese': 1626, 'teletype': 1627, 'wound': 1628, 'Saxton': 1629, 'quickly': 1630, \"Spahn's\": 1631, 'Spikes': 1632, 'little': 1633, 'counseling': 1634, 'Mrs': 1635, 'nowhere': 1636, 'vessel': 1637, 'invests': 1638, 'whole': 1639, 'Air': 1640, 'Majesties': 1641, 'however': 1642, 'kinda': 1643, 'money-winner': 1644, 'firemen': 1645, 'tuba': 1646, 'alarmingly': 1647, 'verify': 1648, 'cornerstone': 1649, 'matter': 1650, \"Missouri's\": 1651, 'Millie': 1652, '12:01': 1653, 'Roads': 1654, 'Year': 1655, 'industry': 1656, 'Milt': 1657, 'Puddingstone': 1658, 'cast': 1659, 'try': 1660, 'say': 1661, 'overhauling': 1662, 'picnic': 1663, 'Nakoma': 1664, 'marriage': 1665, 'double': 1666, 'Burnes': 1667, 'better': 1668, 'occasions': 1669, 'Myron': 1670, 'Liberal': 1671, 'resourcefulness': 1672, 'Considering': 1673, 'halt': 1674, 'lavishly': 1675, \"ordinary's\": 1676, 'Klaus': 1677, 'Craig': 1678, '&': 1679, '1955': 1680, 'Wangemans': 1681, 'rapid': 1682, 'reacted': 1683, 'mourn': 1684, 'departed': 1685, 'hearsay': 1686, '$39.5': 1687, 'artists': 1688, 'subdivision': 1689, 'decorating': 1690, \"AID's\": 1691, 'propeller-driven': 1692, 'frothier': 1693, '4:05': 1694, 'switched': 1695, 'Grace': 1696, 'still': 1697, 'Gore': 1698, 'range': 1699, '2,418': 1700, 'rescind': 1701, 'Dey': 1702, 'rapt': 1703, 'universal': 1704, 'rapidly': 1705, 'depending': 1706, 'Klux': 1707, 'Yet': 1708, 'loving': 1709, 'nearly': 1710, 'briefs': 1711, 'remark': 1712, 'obstructed': 1713, 'Babe': 1714, 'Welfare': 1715, 'nucleus': 1716, 'clothing': 1717, 'affect': 1718, 'Africa': 1719, \"Art's\": 1720, 'Crunch': 1721, 'Television-Electronics': 1722, 'mergers': 1723, 'bureau': 1724, 'Mexican': 1725, 'radical': 1726, \"Russia's\": 1727, 'Gino': 1728, 'accomplishment': 1729, \"Raphael's\": 1730, 'startling': 1731, 'inspection': 1732, 'them': 1733, 'doubt': 1734, 'job': 1735, 'vital': 1736, 'timed': 1737, 'and': 1738, 'star': 1739, 'newsmen': 1740, 'Duren': 1741, '187.5': 1742, 'gin': 1743, 'by': 1744, 'Decorators': 1745, 'Calls': 1746, 'poultry': 1747, 'victories': 1748, 'revived': 1749, 'picketing': 1750, 'Let': 1751, 'like': 1752, 'packed': 1753, 'pleaded': 1754, 'norm': 1755, 'tore': 1756, 'specimen': 1757, 'depositors': 1758, 'bombing': 1759, 'splitting': 1760, 'clients': 1761, 'haute': 1762, 'negotiating': 1763, 'enact': 1764, 'UCLA': 1765, 'international': 1766, 'reopening': 1767, 'prudently': 1768, 'August': 1769, '$100,000': 1770, '24-inch': 1771, 'Llewellyn': 1772, 'Sentry': 1773, '1943': 1774, 'privilege': 1775, 'Sheeran': 1776, \"SMU's\": 1777, 'declaration': 1778, 'explorers': 1779, 'Cal.': 1780, 'fantastic': 1781, 'balls': 1782, 'uprisings': 1783, 'Brelin': 1784, 'mines': 1785, 'its': 1786, 'arrest': 1787, 'awareness': 1788, 'Tyler': 1789, 'Fulton': 1790, 'Mayer': 1791, 'lighters': 1792, 'baseballight': 1793, 'Holmes': 1794, 'agency': 1795, 'problem': 1796, 'usual': 1797, 'cherish': 1798, 'cross-examination': 1799, 'circulating': 1800, 'layout': 1801, 'Oliver': 1802, 'stronger': 1803, \"o'clock\": 1804, 'opportunity': 1805, 'Laos': 1806, 'drama': 1807, '42': 1808, 'arrived': 1809, 'scholastic': 1810, 'Education': 1811, 'accomodations': 1812, 'often': 1813, 'Howser': 1814, 'shape': 1815, 'Mortgage': 1816, '1959-60': 1817, 'enigma': 1818, 'grapefruit': 1819, 'repository': 1820, 'Huffman': 1821, 'glutted': 1822, '$500': 1823, 'gift': 1824, 'squad': 1825, 'followers': 1826, '$1,500': 1827, '$135': 1828, 'singers': 1829, 'resolve': 1830, 'explains': 1831, 'criticized': 1832, 'commodities': 1833, 'duels': 1834, 'Hodges': 1835, 'Gables': 1836, 'muted': 1837, '12th': 1838, \"David's\": 1839, '12:50': 1840, 'tosses': 1841, \"Willie's\": 1842, 'strongest': 1843, 'Gradual': 1844, 'repeated': 1845, 'Sox': 1846, 'chatting': 1847, 'bipartisan': 1848, 'chemise': 1849, '$300': 1850, 'segregation': 1851, '64-cent': 1852, 'mandatory': 1853, 'fans': 1854, 'sportsman': 1855, 'opus': 1856, 'uses': 1857, 'speeches': 1858, 'Porters': 1859, 'definition': 1860, 'rough-housing': 1861, 'directions': 1862, 'Out': 1863, 'muster': 1864, 'Kerby': 1865, 'Road': 1866, 'Gus': 1867, '18th': 1868, 'Harmon': 1869, 'Participants': 1870, 'spirits': 1871, 'Kiowa': 1872, 'tragedy': 1873, 'Sixty-seven': 1874, 'mid-1960': 1875, 'accumulation': 1876, 'purged': 1877, 'prepare': 1878, 'Glimco': 1879, '165-unit': 1880, 'conduct': 1881, 'chores': 1882, 'Space': 1883, 'Ideally': 1884, 'Wragge': 1885, 'command': 1886, 'particularly': 1887, 'victory': 1888, 'Incumbent': 1889, 'bay': 1890, 'sparsely': 1891, 'Abra': 1892, 'unit': 1893, 'annual': 1894, 'feted': 1895, 'Australia': 1896, 'message': 1897, '469': 1898, 'laurels': 1899, \"we've\": 1900, 'prisoners': 1901, 'Operation': 1902, '$15': 1903, 'machine': 1904, 'Alex': 1905, \"Titche's\": 1906, 'Loewe': 1907, 'Alvin': 1908, '38': 1909, 'agreeing': 1910, 'Talking': 1911, 'Mullenax': 1912, 'sandwich': 1913, 'Harcourt': 1914, \"commission's\": 1915, 'goodness': 1916, 'banked': 1917, 'transports': 1918, 'Arata': 1919, '50-year-old': 1920, 'languages': 1921, 'nominating': 1922, '99': 1923, 'Capello': 1924, 'Chapelles': 1925, 'Nichols': 1926, '1-0': 1927, 'horizon': 1928, 'blonde': 1929, 'experiencing': 1930, 'merchandising': 1931, 'simple': 1932, 'rare': 1933, 'Carnegie': 1934, 'Pablo': 1935, '2-score-year': 1936, 'explained': 1937, 'D.': 1938, 'highways': 1939, '46': 1940, 'writer': 1941, 'corps': 1942, '$325': 1943, 'format': 1944, 'north-bound': 1945, 'bleacher-type': 1946, 'Alabama': 1947, '125,000': 1948, 'ward': 1949, 'apartment-building': 1950, 'dense': 1951, 'greens': 1952, '10-year': 1953, 'Tactics': 1954, 'endure': 1955, 'winter': 1956, 'staff': 1957, 'headboard': 1958, 'Bucks': 1959, 'republic': 1960, 'Stone': 1961, 'Howard': 1962, 'atomic': 1963, 'seats': 1964, 'decision-making': 1965, 'woo': 1966, 'economically': 1967, 'Cardinal': 1968, '250-275': 1969, '1-3': 1970, '12-17': 1971, 'one-half': 1972, 'joined': 1973, 'attending': 1974, 'enterprise': 1975, 'Caesar': 1976, 'roles': 1977, 'near': 1978, 'Coles': 1979, 'elaborate': 1980, 'duffer': 1981, 'move': 1982, 'propaganda': 1983, 'or': 1984, 'well': 1985, 'Treatment': 1986, 'Summer': 1987, 'centuries': 1988, 'topics': 1989, 'smiles': 1990, 'mass': 1991, 'Dusseldorf': 1992, 'Actually': 1993, '4911': 1994, 'Enforce': 1995, 'unarmed': 1996, 'really': 1997, 'Good': 1998, 'me': 1999, 'General': 2000, 'adding': 2001, \"Hall's\": 2002, 'Writers': 2003, 'trees': 2004, 'Religious': 2005, 'Ozzie': 2006, 'onrush': 2007, 'viewed': 2008, '31st': 2009, 'economize': 2010, '$9,841,000': 2011, 'somehow': 2012, 'peddle': 2013, 'queen': 2014, 'collected': 2015, 'risk': 2016, 'given': 2017, '3-5': 2018, 'restricted': 2019, 'heightened': 2020, 'Ruggiero': 2021, 'disclosed': 2022, 'fan': 2023, 'association': 2024, 'Branch': 2025, 'specific': 2026, '1600': 2027, \"Brocklin's\": 2028, \"Baltimore's\": 2029, 'roses': 2030, '1928': 2031, 'Sportsman': 2032, 'hides': 2033, 'Afterwards': 2034, 'fertilizer': 2035, \"Achaeans'\": 2036, \"I'm\": 2037, 'calamity': 2038, 'Honor': 2039, 'skeet': 2040, 'consultations': 2041, 'measures': 2042, 'Experts': 2043, \"month's\": 2044, '4,500': 2045, 'Virdon': 2046, 'collapsed': 2047, 'Contribution': 2048, 'undisputed': 2049, 'achievement': 2050, 'lean': 2051, 'hopelessly': 2052, 'fastest': 2053, 'Franciscans': 2054, 'gates': 2055, 'feminine': 2056, 'ranging': 2057, 'well-played': 2058, 'appraisers': 2059, 'refocusing': 2060, 'heptachlor': 2061, 'Go': 2062, 'pilot': 2063, 'playtime': 2064, 'librarian-board': 2065, 'materials': 2066, 'Brooklyn': 2067, 'Danger': 2068, 'Arts': 2069, 'Pauleys': 2070, 'textile-importing': 2071, 'beginning': 2072, 'squads': 2073, 'exhibitors': 2074, 'Pratt': 2075, 'discussing': 2076, '$20': 2077, \"Monday's\": 2078, 'esplanade': 2079, 'translates': 2080, 'Grimm': 2081, 'Bond': 2082, 'Extend': 2083, 'touchdown': 2084, 'round': 2085, 'Little': 2086, 'Said': 2087, 'underwriting': 2088, 'gayety': 2089, 'Traffic': 2090, 'enacting': 2091, 'grace': 2092, 'installed': 2093, 'double-bogeyed': 2094, 'susceptible': 2095, 'render': 2096, 'Isles': 2097, 'Testifies': 2098, 'naturalized': 2099, 'wagons': 2100, 'continue': 2101, '$12.50': 2102, 'knocks': 2103, 'established': 2104, 'Shreveport': 2105, 'return': 2106, \"Christine's\": 2107, 'registration': 2108, 'spurt': 2109, 'landing': 2110, 'Waddell': 2111, 'animals': 2112, 'impolitic': 2113, 'interfere': 2114, 'Tulane': 2115, 'pray': 2116, 'exotic': 2117, 'contrasts': 2118, 'rescued': 2119, 'released': 2120, 'exclusive': 2121, 'Madame': 2122, 'preclude': 2123, 'crackpots': 2124, 'Pompano': 2125, 'conspicuous': 2126, '2.21.6': 2127, \"Field's\": 2128, 'precarious': 2129, 'requested': 2130, \"Mayor's\": 2131, 'Great': 2132, 'Desmond': 2133, 'Student': 2134, 'Quite': 2135, '1-1/2-story': 2136, 'Conference': 2137, 'starred': 2138, 'full': 2139, 'violinists': 2140, \"we'll\": 2141, 'scientific': 2142, 'Ehlers': 2143, '1733': 2144, 'diocesan': 2145, 'teach': 2146, 'familiar': 2147, 'Sybert': 2148, 'drum': 2149, 'words': 2150, 'reconvenes': 2151, 'damaged': 2152, 'firing': 2153, 'training': 2154, 'refinement': 2155, 'self-respect': 2156, 'house': 2157, 'entourage': 2158, 'rock-strewn': 2159, 'costlier': 2160, 'steer': 2161, 'Tuohy': 2162, 'hard': 2163, 'Nell': 2164, 'modernizing': 2165, 'nations': 2166, 'passport': 2167, 'manslaughter': 2168, 'Wendells': 2169, 'Fashion': 2170, \"Glimco's\": 2171, 'disunity': 2172, 'They': 2173, 'Atlee': 2174, 'shrewd': 2175, 'Lives': 2176, 'covering': 2177, 'grounds': 2178, 'notable': 2179, 'literally': 2180, 'Dannehower': 2181, 'Consolidated': 2182, 'Messrs.': 2183, 'sister-in-law': 2184, 'acknowledgment': 2185, 'champions': 2186, '11-year-old': 2187, '58th': 2188, 'losing': 2189, 'Henderson': 2190, 'Grooms': 2191, 'spills': 2192, 'Moreover': 2193, 'heritage': 2194, '12-month': 2195, 'Winchell': 2196, 'over-all': 2197, 'with': 2198, 'emphasizes': 2199, 'Avon': 2200, 'week-end': 2201, '40': 2202, 'feeble': 2203, 'magnificent': 2204, 'blueberries': 2205, 'NE': 2206, 'Ludwig': 2207, 'Vivier': 2208, 'faults': 2209, 'sinless': 2210, 'Vern': 2211, 'inure': 2212, 'beneath': 2213, 'Inauguration': 2214, 'dinners': 2215, 'break-even': 2216, \"Yankees'\": 2217, 'delight': 2218, 'White': 2219, 'fines': 2220, 'ending': 2221, '3-month': 2222, 'blackmail': 2223, '1923': 2224, 'Mexico': 2225, 'fight': 2226, '70,000': 2227, 'substantiation': 2228, 'builders': 2229, '95': 2230, 'Turandot': 2231, 'underestimate': 2232, 'reports': 2233, 'Regrets': 2234, 'something': 2235, 'showed': 2236, 'judge': 2237, 'midmorning': 2238, 'Zurich': 2239, 'betting': 2240, 'boomed': 2241, 'ginning': 2242, 'ideological': 2243, 'Butcher': 2244, ',': 2245, 'quality': 2246, 'Lumumba': 2247, 'Between': 2248, 'Skinny': 2249, 'eradication': 2250, 'Albacore': 2251, 'validated': 2252, 'water': 2253, 'Sheraton-Biltmore': 2254, 'structures': 2255, 'Customary': 2256, 'beaming': 2257, 'Chantilly': 2258, 'Scots': 2259, \"Force's\": 2260, 'forestry': 2261, 'Back': 2262, 'Calling': 2263, 'Dip': 2264, 'Simultaneously': 2265, 'circus': 2266, 'beside': 2267, 'Nightingale': 2268, 'Salinger': 2269, 'traditionally': 2270, 'promised': 2271, 'mutiny': 2272, 'Examiner': 2273, 'apparent': 2274, 'Seeking': 2275, 'Standard': 2276, 'wardrobe': 2277, 'pars': 2278, 'dog': 2279, 'chicken': 2280, 'anti-trust': 2281, 'Beadle': 2282, 'Bears': 2283, 'stagecoach': 2284, 'endurance': 2285, 'element': 2286, 'Olivia': 2287, 'elected': 2288, 'busy': 2289, 'rose': 2290, 'Snead': 2291, 'pushed': 2292, 'ease': 2293, 'household': 2294, 'Dorenzo': 2295, \"bishops'\": 2296, 'Tennis': 2297, 'times': 2298, 'adults': 2299, 'furloughed': 2300, 'Fidel': 2301, 'far-out': 2302, 'perturbed': 2303, 'family': 2304, 'outnumber': 2305, 'threads': 2306, 'Maurice': 2307, 'reflexes': 2308, 'crossroads': 2309, 'parlor': 2310, \"Tuttle's\": 2311, 'baby': 2312, 'Shipman': 2313, 'builtin': 2314, 'unworkable': 2315, '3-inch': 2316, 'specializing': 2317, 'Pfau': 2318, 'retarded': 2319, 'watchers': 2320, 'Thornton': 2321, 'Texans': 2322, 'rules': 2323, '26-year-old': 2324, 'mood': 2325, 'scoreless': 2326, \"mother's\": 2327, 'slip': 2328, 'seed': 2329, 'left': 2330, 'Crumlish': 2331, 'discovering': 2332, 'Parichy-Hamm': 2333, 'couch': 2334, 'Hoaps': 2335, 'Forsyth': 2336, 'conservative-liberal': 2337, 'slaughter': 2338, 'Boyce': 2339, 'boy': 2340, 'Patty': 2341, 'unconventional': 2342, 'Handicapped': 2343, 'blame': 2344, 'medal': 2345, 'raged': 2346, 'casuals': 2347, \"Beadles'\": 2348, 'tells': 2349, 'telephone': 2350, 'classical': 2351, 'Teaching': 2352, 'spider-leg': 2353, 'doubles': 2354, 'at-bats': 2355, 'ill': 2356, 'dynamo': 2357, 'founder': 2358, 'Rutherford': 2359, 'Stephen': 2360, 'Woodland': 2361, 'Sample': 2362, 'responsibility': 2363, 'plane': 2364, 'kinds': 2365, 'Metal': 2366, 'batch': 2367, 'Work': 2368, 'Eaton': 2369, 'Holders': 2370, 'Vinegar': 2371, 'tour': 2372, 'Jordan': 2373, 'ankles': 2374, 'combo': 2375, 'hire': 2376, 'Iowa': 2377, 'proof': 2378, 'proposed': 2379, 'K.J.P.': 2380, 'specialize': 2381, 'other': 2382, 'Academy': 2383, 'nine-game': 2384, 'volunteered': 2385, 'shotgun': 2386, 'lip': 2387, 'fittest': 2388, 'chairmanships': 2389, \"you're\": 2390, 'jersey': 2391, 'derived': 2392, 'suggestions': 2393, 'railway': 2394, 'private-school': 2395, 'communism': 2396, 'manipulate': 2397, 'Concerts': 2398, 'A.A.U.': 2399, \"state's\": 2400, 'Borland': 2401, 'fat': 2402, 'photographing': 2403, 'professors': 2404, 'Moise': 2405, 'finger': 2406, 'neck': 2407, 'Milwaukee': 2408, 'converted': 2409, 'subpoenas': 2410, 'quartet': 2411, '85-student': 2412, '11': 2413, 'enforce': 2414, \"'51\": 2415, 'commended': 2416, 'vice-president': 2417, 'subs': 2418, 'Becket': 2419, 'LSU': 2420, 'Women': 2421, '186': 2422, 'merchandise': 2423, 'draught': 2424, 'processes': 2425, 'owed': 2426, '273': 2427, 'Buddy': 2428, 'promising': 2429, 'urged': 2430, 'millions': 2431, 'bars': 2432, 'Wrigley': 2433, 'rapport': 2434, 'groove': 2435, 'potentially': 2436, 'workers': 2437, '$2': 2438, 'mortgage': 2439, 'biennial': 2440, 'brotherly': 2441, 'further': 2442, 'Both': 2443, 'Shortcuts': 2444, 'Lorlyn': 2445, '210': 2446, '6-foot-3-inch': 2447, 'provisional': 2448, 'Athlete': 2449, 'Newman': 2450, 'Actress': 2451, 'imposing': 2452, 'Put': 2453, 'lever': 2454, \"'20's\": 2455, 'Solid': 2456, 'think': 2457, 'organizations': 2458, 'fur': 2459, 'caucuses': 2460, 'channels': 2461, 'review': 2462, 'Wacklin': 2463, 'enriching': 2464, 'displayed': 2465, 'Piedmont': 2466, 'wide': 2467, 'challenger': 2468, 'refuel': 2469, 'rooms': 2470, 'tolls': 2471, 'skimmed': 2472, 'rain-slick': 2473, 'academic': 2474, 'all-round': 2475, 'Appointment': 2476, 'Earlier': 2477, 'new-rich': 2478, 'Offenses': 2479, 'stakes': 2480, 'Comus': 2481, 'wholly-owned': 2482, 'craven': 2483, 'instance': 2484, 'Daley': 2485, 'exile': 2486, 'golfing': 2487, 'remote': 2488, 'fighters': 2489, 'wonderful': 2490, 'spotlights': 2491, 'sweater': 2492, 'Harry': 2493, 'groceries': 2494, 'registered': 2495, 'amateurish': 2496, 'agitating': 2497, 'graciously': 2498, 'deliberation': 2499, 'Developments': 2500, 'neutral': 2501, '6-foot': 2502, 'Scherer': 2503, 'Buell': 2504, '90-day': 2505, 'System': 2506, 'diagnostic': 2507, 'Adamson': 2508, 'precinct': 2509, 'ownership': 2510, 'dud': 2511, 'tops': 2512, 'Boonton': 2513, 'London': 2514, 'Belafonte': 2515, 'par': 2516, 'infrequent': 2517, 'redoubled': 2518, 'eight-year': 2519, 'Coulson': 2520, 'entry': 2521, 'bright': 2522, '13th': 2523, 'newspapers': 2524, 'Subsequent': 2525, 'Registrations': 2526, 'approaching': 2527, 'seemingly': 2528, 'buried': 2529, 'humans': 2530, 'obligations': 2531, 'delegate': 2532, 'Hollywood': 2533, '800': 2534, 'Leroy': 2535, 'Bradford': 2536, 'Lowe': 2537, 'stretch': 2538, 'bushes': 2539, 'cauliflower': 2540, 'advances': 2541, 'costumes': 2542, 'Christ': 2543, 'pennies': 2544, 'attracting': 2545, 'Schenk': 2546, 'engine': 2547, 'legislation': 2548, '$28,700,000': 2549, 'issued': 2550, 'testified': 2551, \"Lockheed's\": 2552, 'currency': 2553, 'barbs': 2554, '155-yarder': 2555, 'Orange': 2556, 'ordained': 2557, 'discriminating': 2558, 'expanded': 2559, 'mortal': 2560, '50': 2561, 'propelling': 2562, 'required': 2563, '7599': 2564, 'arrests': 2565, 'Farrell': 2566, \"women's\": 2567, 'Action': 2568, 'Wilmette': 2569, 'traffic': 2570, 'lay': 2571, 'Reifenrath': 2572, '$52,500': 2573, 'acknowledged': 2574, 'Jon': 2575, 'choppy': 2576, 'hard-fought': 2577, 'expanding': 2578, 'Treaty': 2579, 'Backs': 2580, 'reduced': 2581, 'afford': 2582, 'violate': 2583, 'Gibson': 2584, 'precisely': 2585, 'Oddly': 2586, 'revamped': 2587, 'imagination': 2588, 'Tsitouris': 2589, 'Dunbar': 2590, 'tucked': 2591, 'Newbold': 2592, 'shoe': 2593, 'physiology': 2594, 'keeping': 2595, 'reunion': 2596, 'locker': 2597, 'invitations': 2598, 'Glison': 2599, 'recovery': 2600, 'abuse': 2601, '$1,500,000': 2602, '4-homer': 2603, 'violation': 2604, 'enables': 2605, 'drive': 2606, 'Geneva': 2607, 'Liston': 2608, 'obstacles': 2609, 'Higher': 2610, 'segregationist': 2611, 'indeed': 2612, 'Everywhere': 2613, 'Huntley': 2614, 'player': 2615, 'members': 2616, 'Riverview': 2617, 'unrestrictedly': 2618, 'decline': 2619, 'amount': 2620, 'claims': 2621, 'primarily': 2622, 'flattering': 2623, 'Independent': 2624, '$581,000': 2625, \"TCU's\": 2626, '5835': 2627, 'Pecos': 2628, 'defaulted': 2629, \"League's\": 2630, 'Lord': 2631, 'pedestrian': 2632, 'Big': 2633, 'watch': 2634, 'cursing': 2635, 'major-league': 2636, 'Odom': 2637, 'Despite': 2638, 'condiments': 2639, 'sidechairs': 2640, 'guests': 2641, 'route': 2642, 'Gamma': 2643, 'Jody': 2644, 'scope': 2645, 'cell': 2646, 'Denverite': 2647, 'stimulus': 2648, 'billed': 2649, 'underwriters': 2650, 'uncommitted': 2651, 'bicycle-auto': 2652, 'government': 2653, 'Aikin': 2654, 'near-Balkanization': 2655, 'quoted': 2656, '$15,000,000': 2657, 'goes': 2658, 'Madison': 2659, 'varied': 2660, 'baked': 2661, 'date': 2662, 'Publisher': 2663, 'Spot': 2664, 'Zebek': 2665, 'Tawes': 2666, 'Miss': 2667, 'families': 2668, '65%': 2669, 'Althaus': 2670, 'retail': 2671, \"Underwood's\": 2672, 'publishes': 2673, 'caliber': 2674, 'Dreadnought': 2675, 'Phyfe': 2676, 'self-plagiarisms': 2677, 'advisement': 2678, 'pre-academic': 2679, 'unanimity': 2680, 'Skyway': 2681, 'breaks': 2682, 'owner': 2683, 'warless': 2684, 'deed': 2685, 'raping': 2686, '29': 2687, 'Seven': 2688, 'Operating': 2689, 'illegal': 2690, 'divorce': 2691, 'engagement': 2692, 'Use': 2693, '$278,877,000': 2694, 'well-springs': 2695, 'Missoula': 2696, '70': 2697, 'combating': 2698, 'bodily': 2699, 'Dean': 2700, 'column': 2701, 'saws': 2702, 'vantage': 2703, '129%': 2704, 'off': 2705, 'makes': 2706, 'pan': 2707, 'three-wood': 2708, \"U.S.S.R.'s\": 2709, 'birth': 2710, 'Kans.': 2711, '31978': 2712, 'Factories': 2713, 'broccoli': 2714, 'quit': 2715, 'responded': 2716, 'Nijinsky': 2717, 'grassroots': 2718, 'plans': 2719, \"Weinstein's\": 2720, 'quarters': 2721, 'toes': 2722, 'supper': 2723, 'Tonight': 2724, 'menu': 2725, \"owners'\": 2726, '$102,285,000': 2727, 'nuclear': 2728, 'present': 2729, 'letters': 2730, 'Players': 2731, 'buys': 2732, 'Relatively': 2733, \"Leavitt's\": 2734, 'neckline': 2735, '1966': 2736, 'Completing': 2737, 'Arequipa': 2738, 'refueling': 2739, 'boosts': 2740, 'Along': 2741, 'Give': 2742, 'husbands': 2743, 'shortstop': 2744, 'edging': 2745, 'court-appointed': 2746, 'admit': 2747, 'Maryland': 2748, 'Indianapolis': 2749, 'uphold': 2750, 'classic': 2751, 'which': 2752, 'Blacks': 2753, 'wrongdoing': 2754, 'Hampton': 2755, 'Federation': 2756, 'aides': 2757, 'Bellwood': 2758, 'Musica': 2759, 'outfield': 2760, 'soaring': 2761, 'Okla.': 2762, '1920': 2763, 'monopolies': 2764, 'lessons': 2765, 'collections': 2766, 'Increase': 2767, 'against': 2768, 'warned': 2769, 'implication': 2770, 'far-flung': 2771, 'Channel': 2772, 'Arranging': 2773, 'gangland': 2774, 'Bordeau': 2775, 'coasted': 2776, 'threw': 2777, 'Mana': 2778, 'effectively': 2779, '390-foot': 2780, 'raw': 2781, 'Hope': 2782, 'shopping': 2783, 'Sanitary': 2784, 'Industry': 2785, 'movie': 2786, 'Confederacy': 2787, 'tusks': 2788, 'tagged': 2789, 'Bertoia': 2790, 'Omega': 2791, 'Boucher': 2792, 'Killingsworth': 2793, 'frame': 2794, 'whiz': 2795, 'eject': 2796, 'Cocktails': 2797, '175': 2798, '182': 2799, 'Moody': 2800, '30': 2801, 'linking': 2802, 'athletics': 2803, 'dental': 2804, 'Newsweek': 2805, 'ripened': 2806, 'profound': 2807, 'copy': 2808, 'ready': 2809, 'restrained': 2810, 'six': 2811, 'Maureen': 2812, 'birds': 2813, 'advertising-conscious': 2814, 'earrings': 2815, 'talk': 2816, 'reiterated': 2817, 'generously': 2818, 'potato': 2819, 'Streets': 2820, 'perjury': 2821, 'menace': 2822, '61': 2823, 'auspiciously': 2824, 'retains': 2825, 'wore': 2826, 'civilian': 2827, 'reporter': 2828, 'Kas.': 2829, 'Albert': 2830, 'Brussels': 2831, 'telling': 2832, 'Creations': 2833, 'transferred': 2834, 'summoned': 2835, 'Voters': 2836, 'N.D.': 2837, 'greater': 2838, 'Frank': 2839, 'Sometimes': 2840, 'boom': 2841, 'Salter': 2842, 'Manila': 2843, '44': 2844, 'lest': 2845, 'Slow': 2846, 'emphasizing': 2847, 'England-born': 2848, 'dealing': 2849, 'Buffalo': 2850, 'Amateur': 2851, 'code': 2852, 'Corcoran': 2853, 'signers': 2854, 'cardiac': 2855, 'Princes': 2856, 'Further': 2857, 'Lacking': 2858, 'Wyman': 2859, 'denomination': 2860, '!': 2861, 'thinking': 2862, 'Pavletich': 2863, 're-arguing': 2864, 'Av.': 2865, 'Khrushchev': 2866, 'buildings': 2867, 'roller': 2868, 'mercenaries': 2869, 'declined': 2870, '37': 2871, 'Saturday': 2872, 'Me': 2873, '13.5': 2874, 'legislature': 2875, 'Hose': 2876, 'in-group': 2877, 'oversimplification': 2878, \"Yanks'\": 2879, \"O'Hare\": 2880, 'get-together': 2881, 'invited': 2882, 'passage': 2883, 'speak': 2884, 'determining': 2885, 'cousin': 2886, 'fashion': 2887, 'independence': 2888, 'Officer': 2889, 'Gen.': 2890, 'Buckley': 2891, 'actually': 2892, \"You'll\": 2893, 'opens': 2894, 'Stripes': 2895, 'crisis': 2896, 'misuse': 2897, 'observing': 2898, 'resumed': 2899, 'Salvador': 2900, 'Exploratory': 2901, 'unprofitable': 2902, 'told': 2903, \"football's\": 2904, 'vacancies': 2905, 'Conceding': 2906, 'record': 2907, 'Judson': 2908, 'Four': 2909, 'Kiefferm': 2910, 'prediction': 2911, 'acknowledge': 2912, 'black': 2913, 'Morley': 2914, 'commit': 2915, 'assaults': 2916, 'activity': 2917, 'sentence': 2918, 'possible': 2919, 'value': 2920, 'anniversary': 2921, 'Communism': 2922, 'largest': 2923, '$2,170': 2924, 'mechanics': 2925, 'equipped': 2926, 'Whitney': 2927, 'Currys': 2928, 'Kilhour': 2929, 'formulating': 2930, 'textile-producing': 2931, 'woods': 2932, 'Statements': 2933, 'Katanga': 2934, 'come': 2935, \"engineers'\": 2936, 'biography': 2937, 'Bldg.': 2938, 'poor': 2939, 'court': 2940, \"let's\": 2941, 'all-automatic': 2942, 'Minneapolis': 2943, 'chains': 2944, 'Its': 2945, 'season': 2946, 'Cafeteria': 2947, 'O': 2948, 'recruit': 2949, 'bird': 2950, 'wailed': 2951, 'poised': 2952, 'unchanged': 2953, 'chafing': 2954, 'interesting': 2955, 'Giving': 2956, 'King': 2957, 'suspect': 2958, 'being': 2959, 'behaving': 2960, \"else's\": 2961, 'innocence': 2962, 'grow': 2963, 'Nevada': 2964, 'lineup': 2965, 'falls': 2966, 'stitch': 2967, 'Named': 2968, 'eighteenth-': 2969, 'R-Cape': 2970, 'severly': 2971, 'created': 2972, 'exchanges': 2973, 'war': 2974, 'canned': 2975, 'uptown': 2976, 'interlibrary': 2977, 'Marshall': 2978, '1886': 2979, 'emissaries': 2980, 'row': 2981, 'going': 2982, 'adminstration': 2983, 'owned': 2984, 'opinion': 2985, 'representatives': 2986, 'Aj': 2987, 'disrepute': 2988, 'Arlington': 2989, 'Viceroy': 2990, 'Bellows': 2991, 'Munger': 2992, 'witnesses': 2993, \"shop's\": 2994, 'guiltless': 2995, 'vivid': 2996, 'shapeless': 2997, 'seniors': 2998, 'ineligible': 2999, 'south': 3000, 'check': 3001, 'convinced': 3002, 'puzzle': 3003, 'sore': 3004, 'NYU': 3005, 'warn': 3006, 'Heitschmidt': 3007, 'sure': 3008, 'Incidentally': 3009, 'fallen': 3010, 'grandma': 3011, 'Hoyt': 3012, 'Burkes': 3013, 'stolen': 3014, 'ahead': 3015, 'Serve': 3016, 'subcommittee': 3017, 'university': 3018, 'Flashed': 3019, 'served': 3020, 'clouded': 3021, 'motivated': 3022, 'Wilkinson': 3023, 'release': 3024, 'Diversified': 3025, '1933': 3026, '354': 3027, 'suspects': 3028, 'begun': 3029, 'she': 3030, 'Hargett': 3031, 'ties': 3032, '6-3-3': 3033, 'Buchanan': 3034, 'supervise': 3035, 'buy': 3036, 'worsens': 3037, 'ship': 3038, 'Karen': 3039, 'divulging': 3040, 'extractors': 3041, 'outmoded': 3042, 'maturity': 3043, 'Very': 3044, 'unusual': 3045, 'Main': 3046, 'Hinckley': 3047, 'secessionist': 3048, 'Electric': 3049, 'tracing': 3050, 'Report': 3051, 'Stevens': 3052, 'personification': 3053, 'humor': 3054, 'shadowy': 3055, 'lecturer': 3056, 'antidote': 3057, 'bronzy-green-gold': 3058, 'aids': 3059, 'Newcomers': 3060, 'appreciated': 3061, 'Edna': 3062, 'Carl': 3063, 'Al': 3064, 'Steelers': 3065, 'how': 3066, 'Washington-Oregon': 3067, 'obliged': 3068, 'Water': 3069, 'Community': 3070, 'indifference': 3071, \"D'Art\": 3072, 'retaliating': 3073, 'Welton': 3074, 'tendency': 3075, 'plotting': 3076, 'pal': 3077, 'harmless': 3078, 'accomplished': 3079, 'exceptionally': 3080, 'insisted': 3081, 'all-time': 3082, 'markets': 3083, 'Campobello': 3084, 'Donnell': 3085, 'yet': 3086, ')': 3087, 'battalion': 3088, \"Nixon's\": 3089, '6-7': 3090, 'blasting': 3091, 'marketings': 3092, 'congealed': 3093, 'investigated': 3094, 'shoulder': 3095, 'huddling': 3096, 'injured': 3097, 'anybody': 3098, 'parochial': 3099, 'entails': 3100, '3:57': 3101, 'saw': 3102, 'door-fronted': 3103, 'fondness': 3104, '$450': 3105, 'Wise': 3106, 'Ghormley': 3107, \"Chip-o's\": 3108, 'wide-open': 3109, 'Extension': 3110, 'boarded': 3111, '200': 3112, 'eggs': 3113, 'hitch': 3114, 'proceeds': 3115, 'Suddenly': 3116, 'comedy': 3117, 'jesting': 3118, 'send': 3119, 'Willie': 3120, 'Towne': 3121, 'harsh': 3122, 'at': 3123, 'Shortstop': 3124, 'variation': 3125, 'Charlayne': 3126, 'streams': 3127, 'Pen': 3128, 'Unit': 3129, 'non-partisan': 3130, 'pure': 3131, 'Senator': 3132, \"firm's\": 3133, 'realizing': 3134, 'predictably': 3135, 'bang': 3136, 'subscribe': 3137, '1949': 3138, 'journalist': 3139, 'writers': 3140, 'some': 3141, 'rebel': 3142, 'Swim': 3143, 'maneuver': 3144, 'defensive': 3145, 'nominee': 3146, 'lace': 3147, 'employees': 3148, 'originating': 3149, 'handle': 3150, 'homemakers': 3151, 'Detective': 3152, 'undermining': 3153, 'fiscal': 3154, '7034': 3155, 'recipients': 3156, 'teammate': 3157, 'jurors': 3158, 'several': 3159, 'diplomatic': 3160, 'Chapter': 3161, 'bull': 3162, 'hilt': 3163, 'Sharkey': 3164, 'pick': 3165, 'century': 3166, 'venom': 3167, 'contemporary': 3168, 'aggravates': 3169, \"Nobody's\": 3170, 'refused': 3171, 'labor': 3172, 'Alexander': 3173, 'luck': 3174, 'clay': 3175, 'Hobart': 3176, 'commander': 3177, 'seated': 3178, 'heads': 3179, '$5.2': 3180, '1960-61': 3181, 'Kiwanis': 3182, 'cease-fire': 3183, 'artificial': 3184, 'Coast': 3185, 'priced': 3186, 'Episcopal': 3187, 'Martin': 3188, '20%': 3189, '823': 3190, 'coercion': 3191, 'encouraging': 3192, \"Nugent's\": 3193, 'Italy': 3194, 'Richmond-Petersburg': 3195, 'aforementioned': 3196, 'Friday': 3197, 'Company': 3198, 'ancient': 3199, 'Asked': 3200, 'vented': 3201, 'Misses': 3202, 'acceptable': 3203, 'Valley': 3204, 'half-brothers': 3205, 'flower': 3206, 'Tommie': 3207, 'Republicanism': 3208, 'properties': 3209, 'seldom': 3210, 'stairs': 3211, 'finding': 3212, 'measured': 3213, 'Doctor': 3214, 'verbally': 3215, 'concerts': 3216, 'hastily': 3217, 'Midwest': 3218, 'granular-type': 3219, 'tax-freedom': 3220, 'Wilderness': 3221, 'aspect': 3222, 'realized': 3223, 'smile': 3224, 'sheriff': 3225, 'supplies': 3226, \"carpenters'\": 3227, 'Chairman': 3228, 'universities': 3229, \"County's\": 3230, 'Any': 3231, 'Doyle': 3232, 'affirmation': 3233, 'Michigan': 3234, 'Lt.': 3235, 'trading': 3236, 'Square': 3237, 'Hagner': 3238, 'Woodrow': 3239, 'four-wood': 3240, 'Returning': 3241, 'Democratic-endorsed': 3242, 'wildly': 3243, 'newly': 3244, 'induce': 3245, 'recommended': 3246, 'elsewhere': 3247, 'Pamela': 3248, 'Basketball': 3249, 'supplied': 3250, 'driving': 3251, 'truth': 3252, 'advocacy': 3253, \"they'd\": 3254, 'walkout': 3255, 'bases': 3256, 'Assisting': 3257, 'sporting': 3258, 'distasteful': 3259, 'Russell': 3260, 'Antonio': 3261, '229': 3262, 'cook': 3263, 'resistance': 3264, 'Paul': 3265, 'election': 3266, 'Chaplin': 3267, 'outlets': 3268, '600-yard': 3269, 'formal': 3270, 'biggest': 3271, 'repeatedly': 3272, 'Christine': 3273, 'gang': 3274, 'Councilwoman': 3275, 'reconsideration': 3276, 'access': 3277, 'gauntlet': 3278, 'Theodore': 3279, 'Is': 3280, 'select': 3281, 'Jackson': 3282, 'loan': 3283, 'Sheets': 3284, 'pending': 3285, 'listed': 3286, 'stores': 3287, 'Delegates': 3288, 'teamster': 3289, \"bridegroom's\": 3290, 'Led': 3291, 'sixth-sense': 3292, 'socialized': 3293, 'organdy': 3294, 'Camp': 3295, \"d'etat\": 3296, 'Thakhek': 3297, 'thus': 3298, 'position': 3299, 'liked': 3300, 'clobbers': 3301, 'League': 3302, 'Playboy-Show-Biz': 3303, 'cabinetmakers': 3304, 'Ghana': 3305, 'Congresses': 3306, 'Pride': 3307, 'birdie': 3308, 'Republican': 3309, 'Mac': 3310, 'dragged': 3311, \"club's\": 3312, 'agreements': 3313, '$20,447,000': 3314, 'Bell': 3315, 'heading': 3316, 'reproductions': 3317, 'Leatherneck': 3318, 'Lester': 3319, 'worded': 3320, 'focus': 3321, 'candidly': 3322, 'public-school': 3323, 'Horstman': 3324, 'William': 3325, 'teacher': 3326, 'contract-negotiation': 3327, 'sometimes': 3328, \"I'll\": 3329, 'Janssen': 3330, 'reduce': 3331, 'Marines': 3332, 'string': 3333, 'dot': 3334, 'instantly': 3335, \"librarian's\": 3336, 'abuses': 3337, 'Aid': 3338, 'honorary': 3339, 'Lovelace': 3340, 'strange': 3341, 'Pfc.': 3342, 'bloodstream': 3343, 'decorators': 3344, '1937': 3345, 'tended': 3346, 'target': 3347, 'courageous': 3348, 'series': 3349, 'Ellen': 3350, 'Aeronautics': 3351, 'NATO': 3352, 'task': 3353, 'seedless': 3354, 'palm': 3355, 'Appeals': 3356, 'regulated': 3357, 'voiced': 3358, 'lodged': 3359, '3-10': 3360, 'music-loving': 3361, 'grabbed': 3362, 'championships': 3363, 'workshop': 3364, 'tossed': 3365, 'requests': 3366, 'entire': 3367, 'typewriter': 3368, 'family-community': 3369, \"Gaines'\": 3370, 'western': 3371, 'reckless': 3372, '8861': 3373, 'Aug.': 3374, 'D': 3375, 'Anson': 3376, 'pace': 3377, 'reprimanded': 3378, 'Frederic': 3379, 'imports': 3380, 'spice': 3381, 'selection': 3382, 'dissents': 3383, 'electors': 3384, 'depend': 3385, 'considerably': 3386, '$75': 3387, 'purchased': 3388, '1963': 3389, 'Carmine': 3390, 'parish': 3391, 'Tony': 3392, 'prop': 3393, 'legend': 3394, 'leisurely': 3395, 'geometrically': 3396, 'rebuild': 3397, 'tries': 3398, 'persons': 3399, \"1800's\": 3400, 'fiction': 3401, 'shipped': 3402, 'Hartselle': 3403, '$55,000': 3404, 'Rimini': 3405, 'honest': 3406, 'commerce': 3407, 'rid': 3408, 'statistical': 3409, 'transit': 3410, 'Laotian': 3411, 'pad': 3412, 'finish': 3413, 'continuing': 3414, 'suitable': 3415, 'tally': 3416, 'contributed': 3417, 'town': 3418, 'referred': 3419, 'trimmed': 3420, 'Cooperman': 3421, 'spell': 3422, 'Steak': 3423, 'slow': 3424, 'quick': 3425, 'institute': 3426, 'restaurants': 3427, 'throw': 3428, 'ramp': 3429, 'rates': 3430, 'Sunay': 3431, '145': 3432, '$150': 3433, 'Plainview': 3434, 'Pirie': 3435, 'satisfied': 3436, 'band': 3437, 'Signal': 3438, 'art': 3439, 'every': 3440, 'herself': 3441, 'priority': 3442, 'increasing': 3443, 'successor': 3444, 'blabbed': 3445, 'None': 3446, 'Roommates': 3447, 'sway': 3448, 'Boxwood': 3449, 'walls': 3450, 'dissent': 3451, 'actors': 3452, '1.10.4': 3453, 'Sims': 3454, 'sophisticated': 3455, 'Pinar': 3456, 'disappointing': 3457, 'garbage': 3458, 'under': 3459, 'glories': 3460, '6-12': 3461, 'Mansion': 3462, 'responsibilities': 3463, 'P.': 3464, 'supervisors': 3465, 'Courtney': 3466, 'bombs': 3467, 'doing': 3468, 'thin': 3469, 'transmitter': 3470, 'Beauty': 3471, 'Supply': 3472, 'devised': 3473, 'pronto': 3474, 'Shipley': 3475, 'gay': 3476, \"Governor's\": 3477, 'avoids': 3478, 'Judge': 3479, 'Writer': 3480, 'Broncs': 3481, 'judgment': 3482, 'stand': 3483, 'furnished': 3484, 'Crosby': 3485, 'Paschal': 3486, 'citizenry': 3487, 'Arrington': 3488, 'Indications': 3489, 'alterations': 3490, 'navy': 3491, 'boils': 3492, 'composure': 3493, 'erected': 3494, 'able': 3495, 'pepper': 3496, 'Avenue': 3497, 'unmarried': 3498, \"Wednesday's\": 3499, 'Hudson': 3500, 'laborers': 3501, 'unmistakably': 3502, 'Ter.': 3503, 'adverse': 3504, '1921': 3505, '3300': 3506, 'sixth': 3507, 'City': 3508, 'franchise': 3509, 'Future': 3510, 'McNair': 3511, 'emerges': 3512, 'slob': 3513, 'Columbus': 3514, 'see': 3515, 'singled': 3516, 'assign': 3517, 'Vocational': 3518, \"Brooklyn's\": 3519, 'apart': 3520, 'Also': 3521, 'occurrence': 3522, 'Vero': 3523, 'Connelly': 3524, 'believed': 3525, 'Rip': 3526, 'Bouton': 3527, 'fundamental': 3528, 'W.': 3529, 'Then': 3530, 'doubling': 3531, 'motivations': 3532, 'Lynn': 3533, '21st': 3534, 'manufacture': 3535, 'Adcock': 3536, 'go': 3537, 'imagines': 3538, 'boxer': 3539, 'cope': 3540, 'St.': 3541, 'Band': 3542, \"Georgia's\": 3543, 'institutions': 3544, 'hitched': 3545, '13-8': 3546, 'Laguna': 3547, 'self-crimination': 3548, 'Commies': 3549, 'spent': 3550, 'resisting': 3551, 'preferably': 3552, 'lending': 3553, 'disbanded': 3554, 'Consul': 3555, \"Stevenses'\": 3556, 'architect': 3557, 'qualified': 3558, 'Ivan': 3559, 'ballgowns': 3560, 'Bowden': 3561, 'Dollar': 3562, 'V-1': 3563, 'assessments': 3564, 'Adnan': 3565, 'slapstick': 3566, 'layer': 3567, 'lowliest': 3568, 'No.': 3569, 'tall': 3570, 'Horton': 3571, 'carriers': 3572, 'purchase': 3573, 'resembles': 3574, 'windy': 3575, 'preserving': 3576, 'argument': 3577, 'journalism': 3578, 'arises': 3579, 'moment': 3580, 'Kimbolton': 3581, 'cottage': 3582, 'Jaross': 3583, 'Gaynor': 3584, \"country's\": 3585, 'cats': 3586, 'teamsters': 3587, 'grain': 3588, 'crossed': 3589, 'outright': 3590, 'shade': 3591, 'crucified': 3592, 'participate': 3593, 'steelmaker': 3594, 'is': 3595, 'unspecified': 3596, 'extending': 3597, 'spurred': 3598, 'Jackie': 3599, 'Baseball': 3600, 'noticeable': 3601, 'accredited': 3602, 'wage': 3603, '1970': 3604, 'conversation': 3605, 'Cain': 3606, 'received': 3607, 'Hazard': 3608, 'levy': 3609, '45': 3610, 'identically': 3611, 'Shop': 3612, 'Vietnam': 3613, 'Tech.': 3614, 'Tearle': 3615, 'Omsk': 3616, 'participation': 3617, 'International': 3618, 'Leave': 3619, \"Pirates'\": 3620, 'San': 3621, 'boasting': 3622, '1976': 3623, 'orderly': 3624, 'coach': 3625, 'ineptness': 3626, 'children': 3627, 'Edwin': 3628, 'Teachers': 3629, 'psychology': 3630, 'House': 3631, 'compensations': 3632, 'Falls': 3633, 'Vernon': 3634, 'Chestnut': 3635, 'paymaster': 3636, 'belief': 3637, 'situations': 3638, 'fixture': 3639, 'Mayoral': 3640, 'Garza': 3641, 'Pathet': 3642, 'barbecue': 3643, 'taxable': 3644, 'pile': 3645, 'Wealth': 3646, 'Get': 3647, 'fairways': 3648, 'first': 3649, 'bills': 3650, 'understood': 3651, 'awaiting': 3652, 'attempted': 3653, 'clothes': 3654, '3,000': 3655, 'broadened': 3656, 'Butler': 3657, 'strongrooms': 3658, 'ranked': 3659, 'Sue': 3660, 'burl': 3661, 'seat': 3662, 'unpredictability': 3663, 'doldrums': 3664, 'same': 3665, 'despair': 3666, 'Bursts': 3667, 'Missionary': 3668, 'Bay-front': 3669, 'Gainesville': 3670, 'mighty': 3671, 'prelude': 3672, 'hired': 3673, 'female': 3674, 'Reconstruction': 3675, 'gratification': 3676, 'hand-crafted': 3677, 'belong': 3678, 'citizen': 3679, 'computed': 3680, 'sessions': 3681, 'pastime': 3682, 'bloc': 3683, 'Vice-President': 3684, 'Bradley': 3685, 'conclusions': 3686, 'Mutual': 3687, 'planes': 3688, \"Baylor's\": 3689, 'ambitious': 3690, 'w.': 3691, 'clarification': 3692, 'earning': 3693, 'Clark': 3694, 'purple': 3695, 'good-will': 3696, 'guns': 3697, 'cash': 3698, 'lying': 3699, 'Parents': 3700, 'streamlined': 3701, 'Savannah': 3702, 'joints': 3703, 'born': 3704, 'disputes': 3705, 'monument': 3706, 'Waldorf-Astoria': 3707, 'Now': 3708, 'Kapnek': 3709, 'criminals': 3710, 'Encouraging': 3711, 'eliminates': 3712, 'year': 3713, 'Allan': 3714, \"father's\": 3715, '67-year-old': 3716, 'additional': 3717, '$4': 3718, 'Stranahan': 3719, 'greeting': 3720, '8-year-old': 3721, 'burden': 3722, 'according': 3723, 'blacked': 3724, 'national': 3725, 'declares': 3726, 'arrange': 3727, 'bulk': 3728, 'consists': 3729, 'Times-Picayune': 3730, 'Bundle': 3731, 'respective': 3732, 'Round': 3733, 'questionable': 3734, 'productive': 3735, 'folk': 3736, 'would': 3737, 'uniquely': 3738, 'Carson': 3739, 'Stetsons': 3740, 'Palm': 3741, 'Box': 3742, 'pact': 3743, 'breakoff': 3744, 'Carreon': 3745, 'blind': 3746, 'imprisonment': 3747, 'cream': 3748, 'G.': 3749, 'speech': 3750, 'Perhaps': 3751, 'Robinsonville': 3752, 'Irina': 3753, 'Authority': 3754, 'Ximenez-Vargas': 3755, 'McRoberts': 3756, 'Break': 3757, 'had': 3758, 'God': 3759, '22111': 3760, 'regulate': 3761, 'stirling': 3762, 'Dubois': 3763, 'Seeks': 3764, 'violence': 3765, 'project': 3766, 'officiating': 3767, \"child's\": 3768, 'tiles': 3769, 'kicked': 3770, 'Mouse': 3771, 'filly': 3772, 'classrooms': 3773, 'knit': 3774, 'Tokyo': 3775, 'routed': 3776, 'disposed': 3777, 'strength': 3778, 'Rural': 3779, 'Freeholder': 3780, 'understandably': 3781, 'Ella': 3782, 'Bookwalter': 3783, 'earnings': 3784, 'Hong': 3785, 'Works': 3786, 'Journal-American': 3787, 'objection': 3788, 'output': 3789, 'Afro-Cuban': 3790, 'pleased': 3791, 'Sethness': 3792, 'Greenberg': 3793, '$172,000': 3794, 'Nixon': 3795, 'commandant': 3796, 'heat': 3797, 'defend': 3798, 'Zurcher': 3799, 'Lewelleyn': 3800, '1947-49': 3801, 'Reaction': 3802, 'bed-time': 3803, 'slipped': 3804, 'transfer': 3805, 'Corp.': 3806, 'ashore': 3807, 'seeks': 3808, 'E.O.': 3809, \"Molly's\": 3810, \"denomination's\": 3811, 'criteria': 3812, 'Thousands': 3813, 'quarrel': 3814, '1885': 3815, 'ignition': 3816, 'singing': 3817, '$90': 3818, 'scoreboard': 3819, 'brokers': 3820, 'gunmen': 3821, 'repay': 3822, 'forms': 3823, 'Licenses': 3824, 'intend': 3825, 'Breuer': 3826, 'wait': 3827, 'valuable': 3828, 'executions': 3829, 'catapulted': 3830, 'Point': 3831, 'advisory': 3832, 'struggles': 3833, 'Newport': 3834, 'jointly': 3835, 'run': 3836, 'broke': 3837, 'Bend': 3838, 'guidance': 3839, 'Eve': 3840, 'unrest': 3841, '511': 3842, 'stultifying': 3843, 'Thompson': 3844, \"leader's\": 3845, 'choices': 3846, 'Hicks': 3847, 'syndicate': 3848, 'detested': 3849, 'capita': 3850, '49ers': 3851, 'certificate': 3852, 'conserve': 3853, 'crypt': 3854, 'Interviews': 3855, 'prosecution': 3856, 'clock': 3857, 'Enos': 3858, 'recently': 3859, 'producer-hubby': 3860, 'instructor': 3861, 'request': 3862, 'securities': 3863, 'discrepancy': 3864, 'River': 3865, 'Ankara': 3866, 'transatlantic': 3867, 'Orcutt': 3868, 'Bundy': 3869, 'strain': 3870, 'mea': 3871, 'Schuyler': 3872, 'crosswalk': 3873, 'customs': 3874, 'limitations': 3875, 'maintenance': 3876, 'Beach': 3877, 'Westinghouse': 3878, 'Louisville': 3879, 'Vikings': 3880, 'loans': 3881, 'anti': 3882, 'exploring': 3883, 'Dunkel': 3884, '10': 3885, 'math': 3886, 'indicate': 3887, 'basis': 3888, 'changing': 3889, 'Service': 3890, 'over-night': 3891, 'congressmen': 3892, 'McCormick': 3893, 'Meanwhile': 3894, 'occasionally': 3895, 'Dumont': 3896, 'Revenue': 3897, 'infant': 3898, 'lumped': 3899, 'GA': 3900, 'cities': 3901, 'cashed': 3902, 'Accardo': 3903, 'rises': 3904, '400': 3905, 'Prize': 3906, 'anymore': 3907, 'occur': 3908, 'seriously': 3909, 'Uncas': 3910, 'Spring': 3911, 'Sustaining': 3912, 'presented': 3913, 'sporadic': 3914, 'Sid': 3915, 'electronic': 3916, 'slave': 3917, 'especially': 3918, 'story': 3919, 'calls': 3920, '$2,330,000': 3921, 'Winthrop': 3922, 'dies': 3923, 'equation': 3924, 'Khrush': 3925, 'discredited': 3926, 'juvenile': 3927, 'whipped': 3928, \"railroad's\": 3929, 'spearhead': 3930, 'insets': 3931, 'operate': 3932, 'relaxation': 3933, 'technicians': 3934, 'inviting': 3935, 'Merrill': 3936, 'Venable': 3937, 'Producer': 3938, 'directive': 3939, 'choreography': 3940, 'might': 3941, 'announcements': 3942, 'picture': 3943, 'immediate': 3944, 'pupils': 3945, 'Luette': 3946, 'Guest': 3947, 'Morocco': 3948, 'Starting': 3949, 'prevent': 3950, 'judged': 3951, 'Blanche': 3952, 'bankruptcy': 3953, \"Patrick's\": 3954, 'gone': 3955, 'Nazi': 3956, \"February's\": 3957, 'profits': 3958, '15,000': 3959, 'instincts': 3960, 'citizens': 3961, 'Iran': 3962, 'handful': 3963, 'Williams': 3964, 'recommendation': 3965, 'last-round': 3966, 'spends': 3967, 'blast': 3968, 'impetus': 3969, 'hike': 3970, 'jeopardy': 3971, '1924': 3972, 'cross-section': 3973, 'Reeder': 3974, 'warrant': 3975, 'Tift': 3976, 'Tell': 3977, 'Stark': 3978, 'glaze': 3979, 'meet': 3980, 'playoff': 3981, 'Award': 3982, 'Santa': 3983, 'worker': 3984, 'graduates': 3985, 'meager': 3986, 'Nyberg': 3987, 'causes': 3988, 'Vandiver': 3989, 'post': 3990, 'space': 3991, 'underprivileged': 3992, 'pollution': 3993, '1834': 3994, 'violent': 3995, 'right-handed': 3996, 'Oh-the-pain-of-it': 3997, 'Professors': 3998, 'Wales': 3999, 'three-front': 4000, 'Manzanola': 4001, 'guest': 4002, 'corrected': 4003, 'Write': 4004, 'rooming': 4005, 'textile': 4006, 'Small': 4007, 'party': 4008, '30th': 4009, 'over-the-counter': 4010, 'style': 4011, 'point': 4012, 'interment': 4013, 'seaside': 4014, 'guiding': 4015, 'Palo': 4016, 'Elected': 4017, 'property': 4018, '86': 4019, \"O'Connor's\": 4020, 'competitor': 4021, 'sports': 4022, 'Solicitor': 4023, 'slate': 4024, 'Cancer': 4025, 'organization': 4026, 'Feb.': 4027, 'react': 4028, 'roll': 4029, 'Gill': 4030, 'provoked': 4031, 'Dr.': 4032, 'contracted': 4033, 'recessed': 4034, '7-day': 4035, 'Newton': 4036, 'Knecht': 4037, 'two-game': 4038, 'overcame': 4039, 'By': 4040, 'Kawecki': 4041, 'containing': 4042, 'Fergeson': 4043, 'delivered': 4044, 'crack': 4045, 'Bank': 4046, 'Radio': 4047, 'frightening': 4048, 'Jones': 4049, 'Merner': 4050, 'twice': 4051, 'disarmament': 4052, 'Atwells': 4053, 'combat': 4054, 'finished': 4055, '1.10.1': 4056, 'Kedzie': 4057, 'facets': 4058, 'gale': 4059, 'word': 4060, 'Hackstaff': 4061, 'pains': 4062, '100': 4063, 'managers': 4064, 'booklists': 4065, 'flies': 4066, 'Nassau': 4067, 'wormy': 4068, 'reiterate': 4069, 'documents': 4070, 'Lex': 4071, 'enmity': 4072, 'Ah': 4073, 'deteriorating': 4074, 'Weinstein': 4075, 'avenue': 4076, 'Houghton': 4077, 'honor': 4078, 'involve': 4079, 'purposely': 4080, 'presentation': 4081, 'Herzog': 4082, 'discuss': 4083, 'personally': 4084, 'Drive': 4085, 'Geneticist': 4086, 'slowed': 4087, 'assure': 4088, 'Dussa': 4089, 'dentistry': 4090, 'Harvest': 4091, 'passengers': 4092, 'anyway': 4093, '33d': 4094, 'farmer': 4095, 'married': 4096, 'Secretary-designate': 4097, 'Dwight': 4098, 'industrial': 4099, 'co-operation': 4100, 'club': 4101, 'Buster': 4102, 'sub-zero': 4103, 'Trigg': 4104, 'beliefs': 4105, 'Evelyn': 4106, 'imposition': 4107, 'partners': 4108, 'blackout': 4109, 'Sir': 4110, 'visit': 4111, 'archaeology': 4112, 'mature': 4113, 'appropriations': 4114, 'Soloviev': 4115, 'rental': 4116, '57': 4117, 'reported': 4118, 'respected': 4119, 'cover': 4120, 'Boeing': 4121, 'Frick': 4122, 'management': 4123, \"Berger's\": 4124, 'Armour': 4125, 'Sousa': 4126, 'slowly-mending': 4127, '$451,500': 4128, 'September-October': 4129, 'K.': 4130, 'congenial': 4131, 'phase': 4132, 'prepared': 4133, 'Kolb': 4134, 'entering': 4135, 'guards': 4136, 'Equipment': 4137, 'revolutionized': 4138, 'devotion': 4139, 'Simon': 4140, 'Bennington': 4141, 'Marine': 4142, 'unable': 4143, 'minds': 4144, 'director': 4145, 'my': 4146, 'Estimates': 4147, 'washed': 4148, 'assignments': 4149, 'raises': 4150, 'getting': 4151, 'following': 4152, 'baking': 4153, 'southwest': 4154, 'Dalles': 4155, 'exploit': 4156, 'Vague': 4157, 'Birmingham': 4158, 'gloomily': 4159, 'films': 4160, 'wheeled': 4161, 'sells': 4162, 'quarter-mile': 4163, 'pretty': 4164, 'Cluck': 4165, 'hamburger': 4166, 'walks': 4167, 'strive': 4168, 'Screw': 4169, 'McIntosh': 4170, 'vigor': 4171, 'Week': 4172, 'confession': 4173, 'visa': 4174, 'Somerset': 4175, 'confusion': 4176, 'probing': 4177, 'arrival': 4178, 'shortages': 4179, 'rebound': 4180, 'denting': 4181, 'daughters': 4182, 'debuts': 4183, 'politely': 4184, 'Spanish': 4185, 'Griffin': 4186, 'produced': 4187, 'zombies': 4188, 'miracle': 4189, 'helped': 4190, 'Dumas': 4191, 'Banks': 4192, 'portrayal': 4193, 'Secret': 4194, 'kingdom': 4195, 'gruonded': 4196, 'Ferdinand': 4197, 'Baptist': 4198, 'fields': 4199, 'preferable': 4200, 'pre-school': 4201, 'surviving': 4202, 'UPI': 4203, 'Patti': 4204, 'harvesting': 4205, 'Revolutionary': 4206, 'plunder': 4207, 'path': 4208, 'defending': 4209, 'safari': 4210, 'theory': 4211, 'Sarkees': 4212, 'exploited': 4213, 'special-interest': 4214, 'Galveston': 4215, 'males': 4216, 'disappointments': 4217, '50th': 4218, 'Mustang': 4219, 'spring': 4220, 'Hector': 4221, 'Hatters': 4222, 'Lawrenceville': 4223, 'dots': 4224, 'desertion': 4225, 'hunt': 4226, 'forecasts': 4227, 'letterman': 4228, 'vagueness': 4229, 'build-up': 4230, 'adjoining': 4231, 'year-earlier': 4232, 'two-year-old': 4233, '$6,100,000,000': 4234, 'Since': 4235, 'gulped': 4236, 'understand': 4237, 'card': 4238, '325': 4239, 'development': 4240, 'low-wage': 4241, '11,744': 4242, 'extended': 4243, '6-foot-10': 4244, 'MacWhorter': 4245, 'Mrs.': 4246, 'thought': 4247, 'spring-training': 4248, 'convicted': 4249, 'dessert': 4250, 'process': 4251, 'Frankie': 4252, 'rarity': 4253, 'tower': 4254, 'Andy': 4255, 'Siberia': 4256, 'Middle': 4257, 'northernmost': 4258, 'trampled': 4259, 'twenty-first': 4260, 'Peterson': 4261, 'why': 4262, \"Jorda's\": 4263, 'payment': 4264, 'undue': 4265, 'Annapolis': 4266, 'passes': 4267, \"Pal's\": 4268, 'although': 4269, 'Stacy': 4270, 'offer': 4271, 'original': 4272, 'Woodyard': 4273, '$251': 4274, \"Gore's\": 4275, 'seconds': 4276, 'Pact': 4277, \"Stengel's\": 4278, 'People': 4279, 'pressure': 4280, '$25-a-plate': 4281, 'Godwin': 4282, '1,700': 4283, 'patio': 4284, '1938': 4285, 'declines': 4286, 'Getting': 4287, 'senate': 4288, '2-hour-and-27-minute': 4289, 'convenience': 4290, 'Julian': 4291, 'geriatric': 4292, 'reflecting': 4293, 'Maurine': 4294, 'employments': 4295, 'male': 4296, 'Shantz': 4297, 'safeties': 4298, 'Fingered': 4299, 'presents': 4300, 'kicks': 4301, 'Yogi': 4302, 'Reputedly': 4303, 'effected': 4304, 'miscount': 4305, \"Geraghty's\": 4306, 'contented': 4307, 'beauty': 4308, 'difficulty': 4309, 'hip': 4310, 'difficulties': 4311, 'M': 4312, 'Patience': 4313, 'disgusted': 4314, 'Windsor': 4315, '7.19': 4316, '52-year': 4317, 'boarding': 4318, 'Rostagnos': 4319, 'publishing': 4320, 'tag': 4321, 'Decathlon': 4322, 'ideal': 4323, 'Uruguay': 4324, '2-baser': 4325, 'street': 4326, 'conversations': 4327, 'Britain': 4328, 'New': 4329, 'coat': 4330, 'Inside': 4331, 'heady': 4332, 'Auditorium': 4333, \"Giants'\": 4334, 'Molinari': 4335, 'Bake-Off': 4336, 'allies': 4337, 'itself': 4338, 'princesse': 4339, 'base-runner': 4340, 'were': 4341, 'attitude': 4342, 'classified': 4343, \"Administration's\": 4344, 'supplement': 4345, 'placing': 4346, '$7,500,000': 4347, 'unlike': 4348, 'Invitation': 4349, 'Beatrice': 4350, 'Md.': 4351, 'heavy-electrical-goods': 4352, 'hold-back': 4353, \"morning's\": 4354, 'less-developed': 4355, 'globe-girdling': 4356, 'enterprises': 4357, 'Mills': 4358, 'tomorrow': 4359, 'Rhode': 4360, 'Increasing': 4361, 'cheer': 4362, '60': 4363, 'short': 4364, 'Crump': 4365, 'Hillsboro': 4366, 'compared': 4367, \"Danny's\": 4368, 'Caucusing': 4369, 'temporary': 4370, 'fragmentation': 4371, 'Games': 4372, 'halftime': 4373, 'Drawers': 4374, 'Resentment': 4375, \"Tribe's\": 4376, 'beef': 4377, 'tracts': 4378, 'adviser': 4379, 'add': 4380, 'Chrysler': 4381, 'prodigal': 4382, 'Schwab': 4383, 'Ku': 4384, 'bulletins': 4385, 'Already': 4386, 'fees': 4387, '3': 4388, 'relative': 4389, \"Tennessee's\": 4390, 'child': 4391, 'readiness': 4392, 'anecdote': 4393, 'Their': 4394, 'Jacksonville': 4395, 'retirements': 4396, 'invites': 4397, 'Ore.': 4398, 'Flanagan': 4399, 'Bow': 4400, '1971': 4401, 'Bourguiba': 4402, 'Emma': 4403, 'lampoon': 4404, 'morality': 4405, 'die': 4406, 'Chicken': 4407, 'mother': 4408, 'Paradise': 4409, 'lightweight': 4410, 'making': 4411, 'recorded': 4412, 'willingness': 4413, 'Occasionally': 4414, 'Lenygon': 4415, 'Waters': 4416, 'Larson': 4417, 'destroy': 4418, 'resort': 4419, 'factor': 4420, 'no-hit': 4421, 'blue': 4422, 'Study': 4423, 'Rob': 4424, 'intervened': 4425, 'monstrous': 4426, 'colonial': 4427, 'populous': 4428, 'urgency': 4429, '76': 4430, 'rebels': 4431, 'picked': 4432, 'Florence': 4433, 'Reid': 4434, 'Elizabeth': 4435, 'boogie': 4436, 'continent': 4437, 'magenta': 4438, 'suffrage': 4439, 'begin': 4440, \"Reily's\": 4441, 'revolutionary': 4442, 'dismissed': 4443, 'second-echelon': 4444, 'Huntingtons': 4445, 'so-far': 4446, '380-foot': 4447, 'court-length': 4448, 'Simonelli': 4449, 'stalemate': 4450, 'tidal': 4451, 'including': 4452, 'Gaston': 4453, '60,000': 4454, 'Turk': 4455, 'bedrooms': 4456, 'triumphs': 4457, 'jealousies': 4458, 'oldest': 4459, 'Emcee': 4460, 'Fortier': 4461, 'strike': 4462, 'Eighteenth-century': 4463, 'Construction': 4464, 'envisaged': 4465, 'acreage': 4466, 'pre-set': 4467, \"She's\": 4468, 'flag-stick': 4469, 'furs': 4470, 'J.': 4471, 'Baringer': 4472, 'Anderlini': 4473, 'College': 4474, 'freedom': 4475, 'Plains': 4476, 'contractor': 4477, 'bound': 4478, \"superintendent's\": 4479, 'headlights': 4480, 'theologian': 4481, 'East-West': 4482, 'length': 4483, 'Wednesday': 4484, 'Slaughter': 4485, 'Ala.': 4486, 'drop': 4487, 'doubled': 4488, 'display': 4489, 'cabinet': 4490, 'Cris': 4491, 'g-p': 4492, 'Redbirds': 4493, '$16': 4494, '10-year-old': 4495, 'Jenkins': 4496, 'senator': 4497, 'curator': 4498, 'guided': 4499, 'rational': 4500, 'Nuttall': 4501, 'Garden': 4502, 'Hours': 4503, \"'40's\": 4504, 'stunk': 4505, 'Baraclough': 4506, 'liquidation': 4507, 'bomber': 4508, 'meals': 4509, 'advocate': 4510, 'leaned': 4511, 'winless': 4512, 'positive': 4513, 'silhouette': 4514, 'incident': 4515, 'rainy': 4516, 'cafeteria': 4517, '355': 4518, '2-inch': 4519, 'touched': 4520, '$900': 4521, 'needs': 4522, 'ranch': 4523, 'Hollander': 4524, 'miles': 4525, 'competitive': 4526, 'totals': 4527, 'normal': 4528, 'duty': 4529, 'politicos': 4530, 'benefit': 4531, 'Schools': 4532, 'aerials': 4533, 'has': 4534, 'local': 4535, 'friendly': 4536, 'Anna': 4537, 'raft': 4538, 'arches': 4539, 'Indian': 4540, 'resumption': 4541, 'touch': 4542, 'rigging': 4543, 'firmly': 4544, 'using': 4545, 'Outer': 4546, 'finned': 4547, 'Kegham': 4548, 'culmination': 4549, 'exchange': 4550, 'Bricker': 4551, 'Lavaughn': 4552, 'valuation': 4553, 'Harriman': 4554, 'manufacturer': 4555, '$2,700': 4556, 'Tex': 4557, 'Serving': 4558, \"organization's\": 4559, 'operator': 4560, 'accounted': 4561, 'panel': 4562, 'Ross': 4563, 'contention': 4564, 'play': 4565, 'Residential': 4566, 'written': 4567, 'aware': 4568, '1000': 4569, 'Powell': 4570, 'couples': 4571, 'effective': 4572, 'courts': 4573, 'Pitchers': 4574, '27-year-old': 4575, 'loading': 4576, 'watching': 4577, '24th': 4578, 'AF': 4579, 'dogs': 4580, 'cut': 4581, 'Ebbetts': 4582, 'Ranch': 4583, 'concrete': 4584, 'forward': 4585, 'sampled': 4586, 'knows': 4587, 'Burbank': 4588, 'detract': 4589, 'manned': 4590, 'mantel': 4591, 'aptly': 4592, 'oysters': 4593, 'Edgewater': 4594, 'Governments': 4595, '1776': 4596, 'Boyer': 4597, 'Military': 4598, 'Haynes': 4599, 'conpired': 4600, 'tough': 4601, '75': 4602, 'gambling': 4603, 'all': 4604, 'Frances': 4605, 'figures': 4606, 'taxing': 4607, '90%': 4608, 'Long-term': 4609, 'low-key': 4610, 'ruled': 4611, 'Chief': 4612, 'Scotch': 4613, 'innumerable': 4614, 'mediocre': 4615, 'Batchelder': 4616, 'Hearn': 4617, 'nice': 4618, 'ten-hour': 4619, 'fell': 4620, 'Glazer': 4621, 'admission': 4622, 'lightly': 4623, 'bogeys': 4624, 'contingent': 4625, 'caps': 4626, 'lure': 4627, 'ceased': 4628, 'Builders': 4629, 'masquerade': 4630, 'ratification': 4631, 'correctness': 4632, 'Diety': 4633, 'Elsie': 4634, '18': 4635, 'all-out': 4636, 'adjourned': 4637, 'advantage': 4638, 'officer': 4639, 'Denver-area': 4640, 'bleak': 4641, 'capable': 4642, 'Calvary': 4643, 'Neal': 4644, 'clears': 4645, 'seeking': 4646, 'happy': 4647, 'pondered': 4648, 'sought': 4649, 'comprise': 4650, '(': 4651, 'tractor': 4652, 'personality': 4653, 'kindergarten': 4654, 'Paree': 4655, 'self-restraint': 4656, 'speed': 4657, 'Howell': 4658, 'troublesome': 4659, 'Bowl': 4660, 'sow': 4661, 'rhythm': 4662, \"John's\": 4663, 'unsure': 4664, 'defeats': 4665, 'founded': 4666, 'teacher-employee': 4667, 'vigorously': 4668, 'borne': 4669, 'Outstanding': 4670, 'Jump': 4671, 'talked': 4672, 'inducted': 4673, \"Kai-shek's\": 4674, 'height': 4675, 'Ransom': 4676, 'unconstitutional': 4677, 'guys': 4678, 'protection': 4679, 'inevitable': 4680, 'expire': 4681, 'marketed': 4682, 'fourteen': 4683, 'concertmaster': 4684, 'visibly': 4685, 'blows': 4686, 'welcome': 4687, 'cherished': 4688, 'indorsed': 4689, 'conventional': 4690, 'aid': 4691, 'Corneilus': 4692, 'appeasement': 4693, 'radiation': 4694, 'Airlines': 4695, 'Plainfield': 4696, 'person': 4697, 'neighborhood': 4698, 'Eastland': 4699, 'restraint': 4700, 'stressed': 4701, 'studio': 4702, 'Welborn': 4703, '87th': 4704, 'citizenship': 4705, 'Achievement': 4706, 'councils': 4707, 'Nick': 4708, 'Students': 4709, '1859': 4710, 'Assistant': 4711, 'protect': 4712, 'pest': 4713, 'opening': 4714, 'Aderholds': 4715, 'pricing': 4716, 'three-way': 4717, 'drafted': 4718, 'right': 4719, 'Perkins': 4720, 'Randall': 4721, 'Simpson': 4722, 'episodes': 4723, 'summitry': 4724, 'York-Pennsylvania': 4725, 'Authenticated': 4726, 'rally': 4727, 'Mich.': 4728, 'ages': 4729, \"Simpson's\": 4730, 'taxation': 4731, 'appearance': 4732, 'benefits': 4733, 'Lown': 4734, 'Knickerbocker': 4735, 'neo-stagnationist': 4736, 'phones': 4737, '32,000': 4738, 'Word': 4739, 'genes': 4740, 'adjourning': 4741, 'educational': 4742, 'expansive': 4743, 'products': 4744, 'permission': 4745, 'remainder': 4746, 'undersea': 4747, 'grabbing': 4748, 'gallery': 4749, 'increase': 4750, 'Harvard': 4751, 'Sands': 4752, 'testify': 4753, 'rumored': 4754, 'sponsors': 4755, 'repair': 4756, 'cotton': 4757, 'Royal': 4758, 'Honors': 4759, 'finals': 4760, 'education': 4761, 'noticed': 4762, 'miscalculation': 4763, 'consumed': 4764, 'battling': 4765, \"Geraghtys'\": 4766, 'serious': 4767, 'record-tying': 4768, 'week': 4769, 'Speaking': 4770, \"puppet's\": 4771, 'Library': 4772, '$8,250': 4773, \"Stein's\": 4774, 'embassy': 4775, '72': 4776, 'filmy': 4777, 'counsel': 4778, 'assisting': 4779, \"Kowalski's\": 4780, 'versatile': 4781, 'upped': 4782, 'Reilly': 4783, 'binding': 4784, 'Flip': 4785, 'prepares': 4786, 'shot': 4787, 'Samoa': 4788, 'allotment': 4789, 'German': 4790, 'guy': 4791, 'ardor': 4792, 'Inheriting': 4793, 'distinctly': 4794, 'afternoon': 4795, 'Crusade': 4796, 'skyjacked': 4797, 'presidential': 4798, 'piracy': 4799, 'knowing': 4800, 'powerful': 4801, 'pointed': 4802, 'ex-National': 4803, 'conspiracy': 4804, 'Blumenthal': 4805, 'captured': 4806, 'exasperated': 4807, 'springboard': 4808, 'gals': 4809, 'Paine': 4810, 'pool': 4811, 'glow': 4812, 'lease': 4813, 'results': 4814, 'super': 4815, 'thirteen': 4816, 'headquarters': 4817, 'Guatemala': 4818, 'under-developed': 4819, 'engage': 4820, 'Callan': 4821, 'Rensselaer': 4822, 'Rex': 4823, 'fiance': 4824, 'worry': 4825, 'Neil': 4826, '9': 4827, 'appliances': 4828, 'troubled': 4829, 'conservation': 4830, 'high-sounding': 4831, 'flicker': 4832, 'variety': 4833, 'gangsters': 4834, 'ADC': 4835, 'Coach': 4836, 'commitment': 4837, 'mothers': 4838, 'Epstein': 4839, 'population': 4840, '646': 4841, 'tax-exemption': 4842, 'ministers': 4843, 'deserts': 4844, 'of': 4845, \"Lenygon's\": 4846, 'Michaels': 4847, 'Maple': 4848, 'conference': 4849, 'radios': 4850, 'mistrial': 4851, 'Members': 4852, 'stripped': 4853, '280': 4854, \"Flock's\": 4855, 'undetermined': 4856, 'Attilio': 4857, 'hand-screened': 4858, 'Ogden': 4859, 'newsman': 4860, 'imposes': 4861, 'paragon': 4862, 'yearly': 4863, 'noted': 4864, 'impeccable': 4865, 'earned-run': 4866, 'Stricken': 4867, 'defeated': 4868, 'ad': 4869, 'June': 4870, 'slowly': 4871, 'Line': 4872, 'Hail': 4873, \"Pawtucket's\": 4874, 'Pilots': 4875, 'technique': 4876, 'vanilla': 4877, 'evidence': 4878, 'buyers': 4879, '$22.50': 4880, \"Augusta's\": 4881, 'kickbacks': 4882, 'junction': 4883, 'indefinite': 4884, 'Hubert': 4885, 'Walter': 4886, 'Alden': 4887, 'prize': 4888, 'maitre': 4889, 'brainwashing': 4890, 'allotted': 4891, 'sirens': 4892, 'Democratic-sponsored': 4893, 'Dallas-based': 4894, 'James': 4895, \"we'd\": 4896, 'nailed': 4897, 'Above': 4898, \"day's\": 4899, '59': 4900, 'twelve': 4901, 'Louisiana': 4902, 'R-Warren': 4903, \"girl's\": 4904, 'Durwood': 4905, 'knee': 4906, 'provision': 4907, '$12': 4908, 'Agriculture': 4909, 'Bailey': 4910, 'Gould': 4911, 'anomalies': 4912, '72nd': 4913, 'Kan.': 4914, 'Eugene': 4915, 'addicts': 4916, 'plowing': 4917, 'rigged': 4918, 'Sherwood': 4919, 'functional': 4920, 'plain': 4921, 'enterprisingly': 4922, 'N.Y.': 4923, 'soldier': 4924, 'penalty': 4925, 'patterned': 4926, 'attributable': 4927, '16': 4928, 'challenged': 4929, 'sailing': 4930, 'develop': 4931, 'truths': 4932, 'Wacker': 4933, 'observations': 4934, 'your': 4935, 'toured': 4936, 'incurred': 4937, 'mutter': 4938, 'guise': 4939, 'constant': 4940, 'accent': 4941, 'thanks': 4942, 'ripped': 4943, \"Alusik's\": 4944, 'Balkanizing': 4945, 'ratified': 4946, 'Ervin': 4947, 'readjust': 4948, 'Constantinos': 4949, 'AP': 4950, 'not': 4951, 'Edith': 4952, 'ever': 4953, \"Santa's\": 4954, 'mortgages': 4955, 'pastors': 4956, 'ethics': 4957, 'Worth': 4958, 'sewage': 4959, 'waters': 4960, 'Goldwater': 4961, \"he'll\": 4962, 'about': 4963, 'wavelengths': 4964, 'credits': 4965, \"Kunkel's\": 4966, 'means': 4967, 'Auburn': 4968, 'tidelands': 4969, 'dragnet': 4970, 'parading': 4971, 'toneless': 4972, 'mail': 4973, 'stadium': 4974, 'Stein': 4975, 'Follow': 4976, 'quarreling': 4977, 'hunter': 4978, 'Hand': 4979, 'swipe': 4980, 'swine': 4981, 'puts': 4982, 'bridal': 4983, 'brunches': 4984, 'paces': 4985, \"fall's\": 4986, 'comparatively': 4987, 'strayed': 4988, 'Parmer': 4989, 'Southerners': 4990, 'happened': 4991, 'Schultz': 4992, 'Deloris': 4993, 'Indo-China': 4994, '2-run': 4995, 'Tareytown': 4996, 'accepted': 4997, '700': 4998, 'proceedings': 4999, \"car's\": 5000, 'Publique': 5001, 'terminated': 5002, 'perform': 5003, 'sighed': 5004, 'breed': 5005, 'hopper': 5006, 'Germania': 5007, 'investigation': 5008, 'abandoned': 5009, 'rolled': 5010, 'Sunnyvale': 5011, 'Niven': 5012, \"Leopold's\": 5013, 'texture': 5014, 'want': 5015, 'stimulatory': 5016, 'Thirteen': 5017, 'eye': 5018, 'comments': 5019, 'loophole': 5020, 'Ken': 5021, 'critical': 5022, 'Palace': 5023, 'Boehmer': 5024, 'dozens': 5025, 'riot': 5026, 'Century': 5027, 'eminent': 5028, 'mantlepiece': 5029, 'Willy': 5030, 'aged-care': 5031, 'forming': 5032, 'thirty-eighth': 5033, 'challenges': 5034, 'account': 5035, 'Drexel': 5036, \"Mongolia's\": 5037, 'Springs': 5038, 'Balenciaga': 5039, 'foresee': 5040, '28th': 5041, '540': 5042, 'playing': 5043, 'top-ranking': 5044, 'aching': 5045, 'mammoth': 5046, 'Trust': 5047, 'premium': 5048, 'freed': 5049, 'driven': 5050, 'nurse': 5051, 'quietly': 5052, 'one-room': 5053, 'flourishes': 5054, 'Uncle': 5055, 'chestnut': 5056, '187-mile': 5057, 'Stansbery': 5058, 'Reese': 5059, 'runaway': 5060, 're-election': 5061, 'years': 5062, 'Douglas': 5063, 'Southwest': 5064, 'detail': 5065, 'Francisco': 5066, '1020': 5067, 'chairman': 5068, 'Queen': 5069, '180-degrees': 5070, 'Ernst': 5071, 'eight': 5072, 'Hospital': 5073, 'risen': 5074, \"today's\": 5075, 'Berrellez': 5076, 'We': 5077, 'gas-fired': 5078, 'golden': 5079, 'boats': 5080, 'clerk': 5081, 'baggage': 5082, 'Rose': 5083, 'Eastman': 5084, 'interstate': 5085, 'indicated': 5086, 'seniority': 5087, 'Southern': 5088, 'decorate': 5089, 'equality': 5090, 'textile-exporting': 5091, 'tapped': 5092, 'brief': 5093, 'Owens': 5094, 'Fine': 5095, 'unspoken': 5096, 'swept': 5097, 'coming': 5098, \"layman's\": 5099, '34': 5100, 'mining': 5101, 'missiles': 5102, 'Atlantic': 5103, 'Steeves': 5104, 'emphasize': 5105, 'Grossman': 5106, 'hesitated': 5107, 'Show': 5108, '7-6': 5109, 'roads': 5110, '2.325%': 5111, 'groomsmen': 5112, 'Priddy': 5113, 'lasted': 5114, 'back': 5115, 'actress': 5116, 'reactionary': 5117, 'skid': 5118, 'protective': 5119, 'paid': 5120, 'Confusion': 5121, 'chest': 5122, 'undertaken': 5123, 'suite': 5124, '154': 5125, 'completes': 5126, 'Eddie': 5127, 'supported': 5128, 'Wagner': 5129, 'missions': 5130, 'aggression': 5131, 'Surrounding': 5132, '400,000,000': 5133, 'delivery': 5134, 'skies': 5135, 'barn': 5136, 'allergic': 5137, 'sell': 5138, 'peace-loving': 5139, 'entertainment': 5140, 'expressing': 5141, 'slid': 5142, \"Milwaukee's\": 5143, 'Grenier': 5144, 'figured': 5145, 'necessity': 5146, 'disturbance': 5147, 'revive': 5148, 'boldness': 5149, 'malice': 5150, 'prevailed': 5151, 'tax-exempt': 5152, 'nymphomaniacs': 5153, 'explosion': 5154, 'unofficial': 5155, 'bachelor': 5156, 'satisfaction': 5157, 'multiply': 5158, 'Benington': 5159, '49': 5160, 'three-story': 5161, 'retracted': 5162, 'Buchheister': 5163, 'Second': 5164, 'Carrel': 5165, 'caution': 5166, 'retrospect': 5167, '$10,000': 5168, 'extends': 5169, 'ultimatum': 5170, 'appointed': 5171, 'composition': 5172, 'bobbles': 5173, 'replacement': 5174, 'willing': 5175, 'regrets': 5176, 'operations': 5177, 'Mizell': 5178, '68': 5179, \"Maestro's\": 5180, 'et': 5181, 'jeopardizing': 5182, \"ain't\": 5183, 'subsequently': 5184, 'requesting': 5185, 'error': 5186, 'Policemen': 5187, 'ignited': 5188, 'Du': 5189, 'bleachers': 5190, 'involving': 5191, 'Ballet': 5192, 'ships': 5193, '$50,000': 5194, 'officers': 5195, 'bridesmaids': 5196, \"Tuesday's\": 5197, 'champion': 5198, '1865': 5199, 'cameras': 5200, 'cloakrooms': 5201, 'careers': 5202, 'collapse': 5203, 'Without': 5204, 'amazing': 5205, 'raising': 5206, 'Longhorns': 5207, 'consulate': 5208, 'drew': 5209, 'Seminole': 5210, 'Nautilus': 5211, 'supernatural': 5212, 'home-run': 5213, 'flow': 5214, 'notions': 5215, 'Corruption': 5216, 'Packs': 5217, 'teenage': 5218, 'bond': 5219, 'Gary': 5220, 'scientist': 5221, 'Minister': 5222, 'President-elect': 5223, 'Hartley': 5224, 'Cinemactor': 5225, 'Commandeering': 5226, 'subordinated': 5227, 'let': 5228, 'departure': 5229, 'weary': 5230, 'comfort': 5231, 'Jussel': 5232, 'Mets': 5233, 'gear': 5234, 'attention': 5235, 'compel': 5236, 'swinging': 5237, 'tool': 5238, 'feasible': 5239, 'hasty': 5240, 'forthcoming': 5241, 'Phyllis': 5242, 'lows': 5243, 'intangible': 5244, 'On': 5245, '2809': 5246, 'escaped': 5247, 'prejudicial': 5248, 'funeral': 5249, 'choice': 5250, 'Earl': 5251, 'tables': 5252, 'Balkan': 5253, 'recommends': 5254, 'rulers': 5255, 'Toppers': 5256, 'flash': 5257, \"Hubie's\": 5258, 'college': 5259, 'logical': 5260, '22-year-old': 5261, 'C.': 5262, 'Pierce': 5263, 'fractures': 5264, 'Lockies': 5265, 'detonation': 5266, \"Today's\": 5267, 'assuring': 5268, 'essentially': 5269, 'faces': 5270, 'frau': 5271, \"latter's\": 5272, 'stances': 5273, 'before': 5274, 'pretends': 5275, 'paternalism': 5276, 'Sunshine': 5277, 'residing': 5278, 'godliness': 5279, 'dignity': 5280, 'Wert': 5281, 'Ethel': 5282, 'wanted': 5283, 'Logan': 5284, 'Adair': 5285, 'run-ups': 5286, 'escaping': 5287, 'origin': 5288, 'Geddes': 5289, 'dimension': 5290, 'Samuel': 5291, 'Leukemia': 5292, 'Shore': 5293, 'larger': 5294, 'Supt.': 5295, 'steered': 5296, 'Sarasota': 5297, 'proper': 5298, 'leftfield': 5299, 'aboard': 5300, 'among': 5301, 'four-hour': 5302, 'wave': 5303, 'bluebonnets': 5304, 'evil': 5305, 'clubs': 5306, '1970s': 5307, 'employed': 5308, 'machines': 5309, 'haggling': 5310, '$1,000': 5311, 'along': 5312, 'Political': 5313, 'Randy': 5314, 'women-trodden': 5315, 'tidying': 5316, '4-7/8': 5317, 'Braques': 5318, 'Canadian': 5319, 'secrets': 5320, 'Thursday': 5321, 'Among': 5322, 'successfully': 5323, 'lull': 5324, 'neutralist': 5325, 'orders': 5326, 'Whitfield': 5327, 'earnest': 5328, 'Scotchgard': 5329, '6th': 5330, 'wrote': 5331, 'consisted': 5332, 'exec': 5333, 'valve': 5334, 'Ex-Oriole': 5335, 'churchmen': 5336, 'expenses': 5337, 'Sports': 5338, 'Y-Teen': 5339, 'snack': 5340, 'contaminating': 5341, '$7,082': 5342, 'hate': 5343, '1960': 5344, 'ton': 5345, 'excellence': 5346, 'nap': 5347, 'ever-present': 5348, 'switch': 5349, 'Sunset': 5350, 'investments': 5351, 'daylight': 5352, 'five-year': 5353, 'burns': 5354, 'legs': 5355, 'treasurer': 5356, 'petty': 5357, 'fuels': 5358, 'coordinator': 5359, 'smelling': 5360, 'desegregation': 5361, 'lemonade': 5362, 'Newburger': 5363, 'Physicians': 5364, '1956': 5365, 'geographically': 5366, 'Campagnoli': 5367, 'found': 5368, 'Stella': 5369, 'tasteful': 5370, 'leagues': 5371, 'Besides': 5372, 'Dixiecrats': 5373, 'equitable': 5374, 'Stram': 5375, 'procedures': 5376, 'Dodger': 5377, '53-year-old': 5378, 'stalled': 5379, 'greenish': 5380, 'tractor-trailer': 5381, 'Aggies': 5382, 'Rosemary': 5383, 'pious': 5384, 'truly': 5385, 'Grounds': 5386, 'escheat': 5387, 'academies': 5388, 'trick': 5389, 'outclass': 5390, 'Ariz.': 5391, 'fanned': 5392, 'decolletage': 5393, 'Pullen': 5394, 'hall': 5395, 'endowments': 5396, 'Except': 5397, 'typical': 5398, 'Hartford': 5399, 'vision': 5400, 'pulse-jet': 5401, \"ruling's\": 5402, 'edge': 5403, \"Wagner's\": 5404, 'implement': 5405, 'teen-age': 5406, 'bounced': 5407, 'deeper': 5408, '2825': 5409, 'tons': 5410, 'batters': 5411, 'graduate': 5412, 'existing': 5413, 'carrying': 5414, 'saluted': 5415, 'Admitting': 5416, 'doorman': 5417, 'allowing': 5418, '1960s': 5419, 'entail': 5420, 'reveal': 5421, 'Result': 5422, 'bet': 5423, 'Rylie': 5424, 'games': 5425, 'Apart': 5426, 'Neither': 5427, 'Stage': 5428, 'Athletics': 5429, 'overly': 5430, 'stating': 5431, '$29,000': 5432, 'per-game': 5433, 'Kamens': 5434, 'See': 5435, 'wash': 5436, 'whopping': 5437, 'livelihood': 5438, 'deadline': 5439, 'page': 5440, 'Gil': 5441, 'Strickland': 5442, 'Verrone': 5443, 'Thurman': 5444, '211': 5445, 'borrower': 5446, 'utter': 5447, 'cooperate': 5448, 'libraries': 5449, 'increases': 5450, 'Mountains': 5451, '61st': 5452, 'recruiting': 5453, 'serve': 5454, 'spark': 5455, 'Deane': 5456, 'calling': 5457, 'Met': 5458, 'Wiley': 5459, 'cost': 5460, 'scrapbook': 5461, 'keyboarding': 5462, 'ribs': 5463, 'Greece': 5464, 'perched': 5465, 'Inter-American': 5466, 'genuine': 5467, 'whiplash': 5468, 'Congress': 5469, 'repartee': 5470, 'shortcuts': 5471, 'yards': 5472, 'Hickok': 5473, 'newcomers': 5474, 'ivory': 5475, 'rein': 5476, '$37,500': 5477, 'patrolman': 5478, 'Mt.': 5479, 'Incinerator': 5480, 'events': 5481, 'Leaguers': 5482, 'Petrini': 5483, 'village': 5484, 'harrowing': 5485, 'controllers': 5486, 'Department': 5487, '734': 5488, 'declare': 5489, '1792': 5490, 'Cezannes': 5491, 'Dick': 5492, \"Hyde's\": 5493, \"Gee's\": 5494, 'troopships': 5495, 'Scores': 5496, 'courteous': 5497, 'piety': 5498, 'Stephenson': 5499, 'cabled': 5500, 'chapters': 5501, 'retirement': 5502, 'Rotelli': 5503, 'aggressiveness': 5504, 'county': 5505, 'splendid': 5506, 'Krogers': 5507, 'Scolatti': 5508, 'autumn': 5509, 'climate': 5510, 'prominent': 5511, \"Furhmann's\": 5512, 'strongly': 5513, 'seem': 5514, 'centered': 5515, 'very': 5516, 'February': 5517, 're-elected': 5518, 'Kader': 5519, 'selected': 5520, 'debut': 5521, 'dependency': 5522, 'radio': 5523, 'gaining': 5524, 'imposed': 5525, 'actions': 5526, '3-hitter': 5527, 'influences': 5528, 'preview': 5529, 'enjoys': 5530, 'Kathleen': 5531, 'repaired': 5532, 'arrangements': 5533, 'disable': 5534, 'Ignition': 5535, 'second-degree': 5536, 'pain': 5537, 'named': 5538, '126': 5539, 'anyone': 5540, 'budgeted': 5541, 'sanctuary': 5542, 'juror': 5543, 'luncheon': 5544, 'face-saving': 5545, 'Hayes': 5546, 'offered': 5547, 'slated': 5548, 'heroes': 5549, 'righthander': 5550, 'Alba': 5551, 'shelters': 5552, 'engulfed': 5553, 'discriminate': 5554, '1825': 5555, 'models': 5556, 'co-ordination': 5557, 'pocket': 5558, 'effort': 5559, 'depends': 5560, '215': 5561, 'Still': 5562, 'acquaintance': 5563, 'bored': 5564, 'apologetically': 5565, 'Football': 5566, 'proven': 5567, 'Treasury': 5568, 'dramatic': 5569, 'olive-green': 5570, '$65': 5571, 'Congressional': 5572, 'assumed': 5573, 'boundaries': 5574, 'ritiuality': 5575, 'tending': 5576, 'stupidity': 5577, 'whatever': 5578, 'More': 5579, 'entered': 5580, 'you': 5581, 'items': 5582, 'previously': 5583, 'Dresbach': 5584, 'stock': 5585, 'Kretchmer': 5586, '11-18': 5587, 'knock': 5588, 'Benjamin': 5589, 'populated': 5590, 'Republican-controlled': 5591, 'Portland': 5592, 'learning': 5593, 'students': 5594, 'then': 5595, 'boast': 5596, 'Co.': 5597, 'hotels': 5598, 'gathering': 5599, 'nut': 5600, 'confident': 5601, 'butter': 5602, 'rain': 5603, 'teenagers': 5604, 'pizza': 5605, 'frosting': 5606, 'Nonresidential': 5607, 'holes': 5608, 'Berry': 5609, \"Hughes'\": 5610, 'Holabird': 5611, 'instrument': 5612, 'Lumpe': 5613, 'axiomatic': 5614, '$40': 5615, 'diplomats': 5616, 'insurance': 5617, 'substantial': 5618, '2274': 5619, '13-1/2': 5620, 'Sacramento': 5621, 'well-informed': 5622, 'noting': 5623, 'financing': 5624, 'hoodlums': 5625, \"bill's\": 5626, 'uncorked': 5627, 'three-year': 5628, 'beer': 5629, \"It's\": 5630, 'clashes': 5631, 'Hayward': 5632, 'dawn': 5633, 'swings': 5634, 'treasures': 5635, 'kidnapping': 5636, 'firms': 5637, 'addressing': 5638, 'consulted': 5639, 'Mead': 5640, 'reserving': 5641, 'appreciate': 5642, 'second-place': 5643, '4-for-5': 5644, 'dollars': 5645, 'stature': 5646, 'conviction': 5647, 'Damascus': 5648, 'Mason': 5649, 'Coleman': 5650, 'Neusteters': 5651, \"county's\": 5652, 'twenty': 5653, 'necessitate': 5654, 'thru': 5655, 'valid': 5656, 'Play': 5657, 'Command': 5658, 'younger': 5659, 'Beginning': 5660, 'Supervisor': 5661, 'cautious': 5662, '$32,000': 5663, 'Jim': 5664, 'batter': 5665, \"Lumumba's\": 5666, 'breakups': 5667, 'Formula': 5668, 'sufficiently': 5669, 'impact': 5670, '447': 5671, 'Nunes': 5672, 'Progress': 5673, 'discrimination': 5674, 'homes': 5675, 'Belt': 5676, 'alert': 5677, 'supports': 5678, 'rat-a-tat-tatty': 5679, \"Escape's\": 5680, 'Bevo': 5681, 'metropolitan': 5682, 'permanent': 5683, 'tax-aided': 5684, 'peacetime': 5685, 'shooting': 5686, 'cars': 5687, 'Erection': 5688, \"1900's\": 5689, 'mill': 5690, '38-7': 5691, 'nw.': 5692, 'Weissmuller': 5693, 'Narragansett': 5694, 'Olvey': 5695, 'confided': 5696, 'Oct.': 5697, 'three-day': 5698, 'caught': 5699, 'Klees': 5700, 'ace': 5701, 'housewife': 5702, 'hoped-for': 5703, 'Rusty': 5704, 'Advisors': 5705, 'turnpikes': 5706, 'feelings': 5707, '22': 5708, 'Hmpf': 5709, 'creditable': 5710, 'Sulphur': 5711, 'Election': 5712, 'reckonings': 5713, 'Important': 5714, 'car': 5715, 'flubbed': 5716, 'transportation': 5717, 'tactics': 5718, 'attempting': 5719, 'embarrassing': 5720, 'secretary': 5721, 'budget': 5722, 'charity': 5723, 'her': 5724, 'Footnotes': 5725, 'Norman': 5726, \"doesn't\": 5727, 'regretted': 5728, 'setup': 5729, 'erupts': 5730, 'Southwestern': 5731, 'ordinance': 5732, 'deep': 5733, 'crashes': 5734, 'crews': 5735, 'carefully': 5736, 'sit': 5737, 'fleeing': 5738, 'stimulation': 5739, 'shouldda': 5740, 'blamed': 5741, 'plenary': 5742, 'conspiracies': 5743, 'Lucy': 5744, 'Rd.': 5745, 'Constant': 5746, 'formation': 5747, 'remarked': 5748, 'industrialist': 5749, 'cufflinks': 5750, 'incorporated': 5751, 'Green': 5752, 'Secretariat': 5753, 'Guard': 5754, 'mayonnaise': 5755, 'Coliseum': 5756, 'Barber': 5757, 'approach': 5758, 'listing': 5759, 'instruments': 5760, 'Nov.': 5761, 'two-season': 5762, 'wrangler': 5763, 'different': 5764, 'buying': 5765, 'full-fledged': 5766, 'monks': 5767, 'specifically': 5768, 'Carbones': 5769, 'pardoned': 5770, 'cookies': 5771, 'trout': 5772, 'crystal': 5773, 'lucrative': 5774, 'Brandenburg': 5775, 'Maplecrest': 5776, 'Gorgeous': 5777, 'inboard': 5778, 'Monica': 5779, 'earth': 5780, 'culminating': 5781, 'maiden': 5782, 'regarded': 5783, 'wars': 5784, 'Breakthrough': 5785, 'over-corrected': 5786, 'globetrotter': 5787, 'accounts': 5788, 'Consumer': 5789, 'Doris': 5790, 'Louchheim': 5791, 'Cedvet': 5792, 'Expect': 5793, 'unquestionably': 5794, 'Star': 5795, 'Reserve': 5796, 'medicine': 5797, 'welcomed': 5798, 'patients': 5799, 'grew': 5800, 'U.': 5801, 'Martini': 5802, 'West': 5803, 'visitor': 5804, 'admitting': 5805, 'import': 5806, ':': 5807, 'beaten': 5808, 'full-time': 5809, 'campus': 5810, 'fear': 5811, 'skip': 5812, 'promotional': 5813, 'Shirley': 5814, 'stewardess': 5815, 'ranks': 5816, 'Certain': 5817, 'accosted': 5818, 'world-wide': 5819, 'tone': 5820, 'cold': 5821, \"She'll\": 5822, 'secede': 5823, 'Bregman': 5824, 'Perry': 5825, 'Given': 5826, 'bigger': 5827, 'characterized': 5828, 'interior': 5829, 'McEachern': 5830, 'bid': 5831, 'face': 5832, 'Plant': 5833, 'salting': 5834, 'trials': 5835, 'Teleprompter': 5836, 'Reared': 5837, 'eulogized': 5838, 'nine-year': 5839, \"mechanic's\": 5840, 'boycott': 5841, 'two-run': 5842, 'hands': 5843, 'dropped': 5844, 'Vegas': 5845, 'adamant': 5846, 'located': 5847, 'Knight': 5848, 'Nilsen': 5849, 'Ludwick': 5850, 'Smith': 5851, 'lies': 5852, 'disheartening': 5853, 'Beyond': 5854, 'silent': 5855, 'Mustangs': 5856, 'Science': 5857, \"night's\": 5858, 'magistrate': 5859, \"Stram's\": 5860, 'Turnpike': 5861, 'brought': 5862, 'screen': 5863, 'sections': 5864, 'tallies': 5865, 'organ': 5866, 'Inaugural': 5867, 'kind': 5868, 'performing': 5869, 'trains': 5870, 'contribution': 5871, 'Frito': 5872, 'bogeyed': 5873, 'grumble': 5874, 'chipped': 5875, 'Alan': 5876, 'said': 5877, 'Olsen': 5878, 'foreseeable': 5879, 'unsatisfactory': 5880, 'country': 5881, 'schoolers': 5882, 'closer': 5883, '77': 5884, 'Missiles': 5885, 'choose': 5886, 'preserve': 5887, 'probation': 5888, 'motels': 5889, 'maybe': 5890, 'applicant': 5891, 'exclusively': 5892, 'leaked': 5893, 'multi-product': 5894, 'Orleans': 5895, 'headed': 5896, 'simplicity': 5897, 'assigned': 5898, 'Eileen': 5899, 'benches': 5900, 'Sorrentino': 5901, 'improperly': 5902, 'fighting': 5903, 'Ditmar': 5904, 'Kunkel': 5905, 'visiting': 5906, 'Tuberculosis': 5907, 'Chamber': 5908, 'Northwest': 5909, 'Graft': 5910, 'Hardwicke-Etter': 5911, 'terms': 5912, '29-5': 5913, 'thrilling': 5914, 'Development': 5915, 'Jorge': 5916, 'colonialist': 5917, 'remanding': 5918, 'quotas': 5919, 'committee': 5920, 'knew': 5921, '90': 5922, '20,000': 5923, 'shoes': 5924, 'Hatfield': 5925, 'one-iron': 5926, 'Joseph': 5927, 'musical': 5928, 'recording': 5929, 'Luechtefeld': 5930, 'succeed': 5931, 'Milenoff': 5932, 'by-laws': 5933, 'reelection': 5934, 'listings': 5935, 'Caldwell': 5936, 'Bassis': 5937, 'type': 5938, 'ninety-nine': 5939, 'Lewis': 5940, 'Chandler': 5941, 'sentences': 5942, 'arrive': 5943, 'issues': 5944, 'Cmdr.': 5945, 'Irwin': 5946, 'exceed': 5947, 'ring': 5948, 'smoothed': 5949, 'Hubbell': 5950, 'Evegeni': 5951, 'unhappy': 5952, 'hooked': 5953, 'Pleas': 5954, 'barely': 5955, 'goaded': 5956, 'ablaze': 5957, 'called': 5958, '11-7': 5959, '3rd': 5960, 'Sunman': 5961, 'planning': 5962, 'Various': 5963, 'Liss': 5964, 'agents': 5965, \"trustees'\": 5966, 'Stalingr': 5967, 'forty-year': 5968, 'early': 5969, 'Charlie': 5970, 'continents': 5971, 'authoritative': 5972, 'apply': 5973, 'Cover': 5974, 'sidelines': 5975, 'connotes': 5976, 'locomotive': 5977, 'jockeying': 5978, 'memory': 5979, 'Francesca': 5980, 'satisfy': 5981, 'birdied': 5982, 'bitter': 5983, 'home': 5984, 'amid': 5985, 'organizing': 5986, 'R.': 5987, 'weight': 5988, 'earned': 5989, '45-degree': 5990, 'Ledge': 5991, 'bent': 5992, 'consumers': 5993, 'jet': 5994, 'Industries': 5995, 'dichotomy': 5996, 'modernization': 5997, 'chances': 5998, 'Moss': 5999, 'impossibly': 6000, 'exaltation': 6001, 'horsemanship': 6002, 'correspondence': 6003, 'diminutive': 6004, 'Willard': 6005, 'painter': 6006, '4-year-old': 6007, 'Globe-Democrat': 6008, 'S': 6009, 'Marvin': 6010, 'crashed': 6011, 'takes': 6012, 'ponies': 6013, 'stream': 6014, 'downtown': 6015, 'Maintenance': 6016, 'productions': 6017, 'outline': 6018, 'completion': 6019, 'Rowley': 6020, 'assemble': 6021, 'brushed': 6022, 'half-mile': 6023, 'Faced': 6024, 'reconstruction': 6025, 'pilots': 6026, 'Hartsfield': 6027, 'twisting': 6028, 'kerosene': 6029, 'postman': 6030, 'dent': 6031, 'Theatre': 6032, '$8,555': 6033, 'crazy': 6034, 'anything': 6035, 'licked': 6036, '160': 6037, 'intention': 6038, 'daughter': 6039, \"Meyner's\": 6040, 'coeds': 6041, \"Center's\": 6042, 'Strafaci': 6043, 'failure': 6044, 'good': 6045, 'evaluate': 6046, 'Lay': 6047, 'material': 6048, 'Dubovskoi': 6049, 'Winchester': 6050, 'taste': 6051, 'Landrum-Griffin': 6052, 'Newtown': 6053, 'true': 6054, 'demand': 6055, 'inefficient': 6056, \"don't\": 6057, 'Chico': 6058, 'Eastern': 6059, 'seventh': 6060, 'Lexington': 6061, 'taxpayer': 6062, 'indicating': 6063, 'Givers': 6064, 'dancers': 6065, 'Committees': 6066, '$172,400': 6067, \"Gerosa's\": 6068, 'officially': 6069, 'glimpsed': 6070, 'stopped': 6071, 'soviet': 6072, 'designing': 6073, 'statistics': 6074, 'glamorous': 6075, '14%': 6076, '$1.1': 6077, 'paratroops': 6078, 'Probably': 6079, 'Sanger-Harris': 6080, 'fled': 6081, 'television': 6082, 'Track': 6083, 'Grocery': 6084, 'covered': 6085, 'main': 6086, '22-12': 6087, 'reminisces': 6088, 'pardon': 6089, 'chapter': 6090, 'papers': 6091, 'endangering': 6092, 'Acting': 6093, 'Bassi': 6094, 'honors': 6095, 'informal': 6096, 'bearing': 6097, 'centralized': 6098, 'license': 6099, 'provides': 6100, 'disposal': 6101, 'Rush': 6102, 'sister': 6103, 'heed': 6104, 'evolutionary': 6105, 'melt': 6106, 'improved': 6107, 'eggshell': 6108, 'turmoil': 6109, 'Ford': 6110, '7026': 6111, 'fellow': 6112, \"Prentice's\": 6113, 'Factory': 6114, 'titian-haired': 6115, 'consequently': 6116, 'Lounge': 6117, 'Gulf': 6118, 'deeply': 6119, \"Castro's\": 6120, 'proximity': 6121, 'stemmed': 6122, '40-year-old': 6123, 'Caltech': 6124, 'spontaneously': 6125, '798': 6126, 'guilty': 6127, 'film': 6128, 'atmosphere': 6129, 'irate': 6130, 'Vice': 6131, 'deal': 6132, 'Thruston': 6133, 'caucus': 6134, 'should': 6135, 'Composite': 6136, 'heather': 6137, 'Livermore': 6138, 'weakness': 6139, 'giveaway': 6140, 'mantle': 6141, 'Genevieve': 6142, 'uncles': 6143, 'spare': 6144, 'Debate': 6145, 'rancho': 6146, 'enormous': 6147, 'calm': 6148, 'camps': 6149, 'purchases': 6150, 'abilities': 6151, 'reluctantly': 6152, 'clearance': 6153, 'stoked': 6154, 'Monk': 6155, 'Calude': 6156, 'affairs': 6157, 'Kerr': 6158, \"Tech's\": 6159, 'Wallace': 6160, 'specter': 6161, 'Richmond': 6162, 'Maine': 6163, 'break': 6164, 'proposing': 6165, 'bride': 6166, 'ailerons': 6167, 'pads': 6168, 'president': 6169, 'Beesemyers': 6170, 'pension': 6171, 'acting': 6172, 'Lemon': 6173, 'settlement': 6174, 'fail': 6175, 'walloped': 6176, 'Morehouse': 6177, 'Warwick': 6178, 'Joyce': 6179, 'Secretary-General': 6180, 'Cross': 6181, 'plates': 6182, 'Metropolitan': 6183, 'happening': 6184, 'restrain': 6185, 'Marv': 6186, 'Dealer': 6187, 'vacationing': 6188, 'Valedictorian': 6189, 'Tax-free': 6190, \"couldn't\": 6191, 'festival': 6192, \"Atlanta's\": 6193, 'aged': 6194, 'Fike': 6195, 'retired': 6196, \"sister's\": 6197, 'Assembly': 6198, 'shows': 6199, 'version': 6200, '687.87': 6201, 'diehard': 6202, 'ceremonies': 6203, 'Beadles': 6204, 'meter': 6205, 'spokesman': 6206, 'Iglehart': 6207, 'Old': 6208, 'speeding': 6209, 'dress': 6210, 'Connall': 6211, 'Broadway': 6212, \"Europe's\": 6213, 'ought': 6214, 'Breeding': 6215, 'setback': 6216, \"Denver's\": 6217, 'Societe': 6218, 'shift': 6219, 'branches': 6220, 'Bernet': 6221, 'closely': 6222, 'Audubon': 6223, 'five-cent': 6224, 'all-American': 6225, 'Initially': 6226, 'security': 6227, 'opposed': 6228, 'cumulative': 6229, 'steamship': 6230, 'Kochaneks': 6231, 'Saul': 6232, 'seven-hit': 6233, 'T.': 6234, 'scarcely': 6235, 'compartment': 6236, 'identity': 6237, 'loser': 6238, 'slug': 6239, '402': 6240, 'Fresh': 6241, '1962': 6242, 'oriental': 6243, 'decade': 6244, \"Tussard's\": 6245, 'AID': 6246, 'Theater': 6247, 'road': 6248, 'soft-shell': 6249, 'drawing': 6250, 'speaker': 6251, 'lots': 6252, 'Night': 6253, 'Beardens': 6254, 'frustrated': 6255, 'controversial': 6256, 'down-to-earth': 6257, 'Cadillacs': 6258, 'rival': 6259, 'excavation': 6260, 'Player': 6261, 'reams': 6262, 'grab': 6263, 'Sheila': 6264, \"that's\": 6265, 'Loan': 6266, 'brand': 6267, 'featured': 6268, 'Wendell': 6269, 'budgets': 6270, 'quote': 6271, 'Bernard': 6272, 'insure': 6273, 'accidentally': 6274, 'Bert': 6275, 'McIntyre': 6276, 'title': 6277, 'claiming': 6278, 'Assn.': 6279, 'Ted': 6280, 'witness': 6281, 'silly': 6282, '55': 6283, 'Armisteads': 6284, 'Dan': 6285, 'politicians': 6286, 'Flowers': 6287, 'nourished': 6288, 'appointments': 6289, 'April-June': 6290, 'bum': 6291, 'communications': 6292, 'Japanese': 6293, 'cornering': 6294, 'accepting': 6295, 'distinguished': 6296, 'Sleeping': 6297, 'one-over-par': 6298, 'market': 6299, 'picket': 6300, 'enrollments': 6301, 'eyes': 6302, 'Kong': 6303, 'Inna': 6304, '13-5': 6305, 'Newsom': 6306, \"Russell's\": 6307, 'question': 6308, 'Joey': 6309, 'Forte': 6310, 'Indication': 6311, '$5000': 6312, 'McCauley': 6313, 'Connection': 6314, '$15,000': 6315, 'bustling': 6316, 'displaying': 6317, 'resolution': 6318, 'Giacomo': 6319, 'Rickshaw': 6320, 'eighteen': 6321, 'Yankee': 6322, 'household-type': 6323, 'quickie': 6324, 'battery': 6325, 'parks': 6326, 'boxy': 6327, 'S.P.C.A.': 6328, 'gathered': 6329, 'added': 6330, 'knock-down': 6331, 'Phoenix': 6332, 'afloat': 6333, 'Whelan': 6334, 'fourth-down': 6335, 'Smoky': 6336, 'floor': 6337, 'pl.': 6338, 'Oceania': 6339, 'Spangled': 6340, 'ex-Yankee': 6341, 'Jenks': 6342, 'Greenwood': 6343, 'Greenville': 6344, 'acquisition': 6345, 'Goodman': 6346, 'devote': 6347, 'Murray': 6348, 'dash': 6349, 'demonstrate': 6350, 'Reynolds': 6351, 'arouse': 6352, 'connection': 6353, 'David': 6354, 'gait': 6355, 'interlude': 6356, 'attraction': 6357, 'thinks': 6358, 'affiliated': 6359, 'Oldsmobile': 6360, 'civilians': 6361, 'And': 6362, 'slugged': 6363, 'Antone': 6364, 'tank': 6365, 'Failure': 6366, 'heavily': 6367, 'Mont.': 6368, 'Pantas': 6369, 'doubtless': 6370, 'Lady': 6371, 'regional': 6372, 'Larry': 6373, 'crises': 6374, 'Arger': 6375, 'glowing': 6376, 'vicinity': 6377, 'chamber': 6378, 'roof': 6379, '1914': 6380, 'Though': 6381, 'dinner': 6382, '6-6': 6383, 'excite': 6384, 'permitted': 6385, 'McKee': 6386, 'sleeps': 6387, 'was': 6388, 'animal': 6389, 'indignation': 6390, 'inferior': 6391, 'everyone': 6392, 'Winnetka': 6393, 'generosity': 6394, 'took': 6395, 'went': 6396, 'incumbent': 6397, 'muscular': 6398, 'reaches': 6399, 'CD': 6400, 'kids': 6401, 'portrait': 6402, 'purse': 6403, 'wings': 6404, 'mid-flight': 6405, 'dangerously': 6406, 'part-time': 6407, 'Mali': 6408, 'Workshops': 6409, '$30': 6410, 'harm': 6411, 'slogans': 6412, 'source': 6413, 'Another': 6414, 'revealed': 6415, \"drivers'\": 6416, 'Examiners': 6417, 'reservoir': 6418, 'Curtis': 6419, 'Town': 6420, 'prompt': 6421, 'Hovarter': 6422, 'so': 6423, 'Puerto': 6424, 'smash': 6425, 'amend': 6426, 'Township': 6427, 'positions': 6428, 'fuel': 6429, '8': 6430, 'needles': 6431, 'raiser': 6432, 'Next': 6433, 'internal': 6434, 'Ministers': 6435, 'bowl': 6436, 'Kaufnabb': 6437, 'Wansley': 6438, 'Mollusks': 6439, 'bags': 6440, 'promote': 6441, 'exposed': 6442, 'adjournment': 6443, 'Peace': 6444, 'multi-family': 6445, 'Houston': 6446, 'program': 6447, 'already': 6448, 'affected': 6449, 'form': 6450, 'mouth': 6451, 'auto': 6452, '3-year-old': 6453, 'foods': 6454, 'standing': 6455, 'Helen': 6456, 'Association': 6457, 'retain': 6458, 'aimed': 6459, 'Richard': 6460, 'Double': 6461, 'dissension': 6462, 'Riders': 6463, 'facing': 6464, 'becoming': 6465, 'Mitchell': 6466, 'investors': 6467, 'Kimpton': 6468, 'nozzle': 6469, 'Greer': 6470, 'culture': 6471, 'Threshold': 6472, 'Route': 6473, 'modest': 6474, 'lining': 6475, 'vocalization': 6476, 'enlarging': 6477, 'bookseller': 6478, '242%': 6479, 'tea': 6480, 'says': 6481, '174': 6482, 'reaction': 6483, 'grade': 6484, 'fairgoers': 6485, 'mainly': 6486, 'sound': 6487, '$800': 6488, 'French': 6489, 'operators': 6490, 'Saledo': 6491, 'collaborated': 6492, \"Ruth's\": 6493, \"Roberts'\": 6494, 'stewardesses': 6495, 'Tims': 6496, '$11.50': 6497, 'Street': 6498, 'storms': 6499, 'earliest': 6500, 'committees': 6501, 'Novosibirsk': 6502, 'newest': 6503, \"there's\": 6504, 'answer': 6505, 'attend': 6506, 'miffed': 6507, 'describing': 6508, 'bobby-sox': 6509, 'Ace': 6510, 'majestic': 6511, 'preceding': 6512, 'brink': 6513, 'pro-Communist': 6514, 'sisters': 6515, 'measure': 6516, '869': 6517, \"Writers'\": 6518, 'Catch': 6519, 'Smith-Colmer': 6520, 'Fred': 6521, 'standard': 6522, 'counting': 6523, 'societies': 6524, 'concern': 6525, 'rains': 6526, 'acquire': 6527, 'enlarge': 6528, 'docile': 6529, 'Bud': 6530, 'staged': 6531, 'Marketing': 6532, 'half': 6533, 'le': 6534, 'outlawed': 6535, 'consultation': 6536, 'compassion': 6537, 'Cumbancheros': 6538, 'alone': 6539, 'southern-central': 6540, 'noses': 6541, 'friendliness': 6542, 'hard-to-get': 6543, 'cloudless': 6544, 'forbidden': 6545, 'Diving': 6546, 'Squeezed': 6547, 'venerable': 6548, \"other's\": 6549, 'Abner': 6550, 'roadside': 6551, 'ban': 6552, 'threatened': 6553, 'CTA': 6554, 'believe': 6555, 'Bob': 6556, '36': 6557, 'murder': 6558, 'Polytechnic': 6559, \"Woman's\": 6560, 'Marc': 6561, \"company's\": 6562, 'exported': 6563, 'Rosy': 6564, '$18.2': 6565, 'Forsythe': 6566, 'sprained': 6567, 'infantile': 6568, 'Dignity': 6569, 'Circle': 6570, 'disbelief': 6571, 'donor': 6572, '$10,000-per-year': 6573, 'holidays': 6574, 'complementary': 6575, 'Vietnamese': 6576, 'produces': 6577, '102': 6578, 'Ginning': 6579, 'suggest': 6580, 'British': 6581, 'juniors': 6582, 'due': 6583, 'shirking': 6584, 'deductible': 6585, 'faculty': 6586, 'Budapest': 6587, 'food': 6588, '1044': 6589, 'formed': 6590, \"teammates'\": 6591, 'burglary': 6592, 'Yokel': 6593, 'Prix': 6594, '$46.7': 6595, 'Simmonsville': 6596, 'delightful': 6597, 'Thailand': 6598, 'Jamaican': 6599, 'Jacques': 6600, 'Gala': 6601, 'erasing': 6602, 'punted': 6603, '520-acre': 6604, 'Take': 6605, '5-3': 6606, \"Dresbachs'\": 6607, 'Russ': 6608, 'donations': 6609, 'Under': 6610, 'unanimous': 6611, 'coaching': 6612, 'vehicular': 6613, 'Groat': 6614, '110': 6615, 'two-family': 6616, 'distribute': 6617, 'embezzlement': 6618, 'Luise': 6619, 'duress': 6620, \"Grizzlies'\": 6621, 'revision': 6622, 'Carter': 6623, 'recognizes': 6624, 'Christi': 6625, 'neighbors': 6626, '1215': 6627, 'Duhagon': 6628, 'absence': 6629, 'overlooked': 6630, 'Sholom': 6631, \"Drexel's\": 6632, '9-6': 6633, 'primary': 6634, 'fire-fighting': 6635, 'Our': 6636, 'Sum': 6637, 'treatment': 6638, 'Area': 6639, '1925': 6640, 'Lola': 6641, 'impossible': 6642, 'comparable': 6643, 'identified': 6644, 'best': 6645, 'trumpet': 6646, 'allowed': 6647, 'impressionist': 6648, 'vacation': 6649, 'Dallas-headquartered': 6650, 'locally': 6651, 'monthly': 6652, 'helps': 6653, 'wreath': 6654, 'enforcing': 6655, 'edged': 6656, 'intensifying': 6657, 'exact': 6658, 'Gene': 6659, 'Barnard': 6660, 'disappointment': 6661, 'predicted': 6662, 'super-secret': 6663, 'Scrapiron': 6664, 'more-than-ordinary': 6665, 'Angola': 6666, 'suggested': 6667, 'buddies': 6668, 'solving': 6669, 'Brocklin': 6670, 'Pankowski': 6671, 'Privately': 6672, 'system': 6673, 'Substance': 6674, \"Palmer's\": 6675, 'Mears': 6676, 'proceeded': 6677, 'intellectually': 6678, 'banjo': 6679, 'eliminate': 6680, 'cooperation': 6681, 'individuals': 6682, \"Colmer's\": 6683, 'Wright': 6684, 'experiments': 6685, 'self-sacrifice': 6686, 'shortly': 6687, 'gifted': 6688, 'Central': 6689, 'beating': 6690, 'latch': 6691, 'blueprints': 6692, 'reserved': 6693, 'cafeterias': 6694, \"athletes'\": 6695, 'deliberate': 6696, 'margins': 6697, 'script': 6698, 'compassionate': 6699, 'fun-loving': 6700, 'alcoholics': 6701, 'skylarking': 6702, '$12,500': 6703, 'Golden': 6704, 'bargaining': 6705, '20-piece': 6706, 'cent': 6707, 'namely': 6708, 'contracts': 6709, 'hurler': 6710, 'hold': 6711, '225,000': 6712, 'fulfillment': 6713, \"woman's\": 6714, 'Man': 6715, 'behavior': 6716, 'Camera': 6717, 'Cambridge': 6718, 'Wellesley': 6719, 'areas': 6720, 'conversion': 6721, 'crabapple': 6722, 'roughly': 6723, 'DiSimone': 6724, 'Eustis': 6725, 'identical': 6726, 'lied': 6727, 'bookkeeping': 6728, 'Lao': 6729, 'without': 6730, 'arithmetical': 6731, 'Palsy': 6732, 'Joan': 6733, 'healed': 6734, 'Hack': 6735, 'complaining': 6736, 'enforced': 6737, 'Jock': 6738, 'Costs': 6739, 'Guinea': 6740, 'undefined': 6741, 'South': 6742, 'Published': 6743, 'husky': 6744, '$22': 6745, 'coaches': 6746, '162': 6747, 'Nicholas': 6748, \"countin'\": 6749, 'hit-run': 6750, 'when': 6751, 'Letters': 6752, '5-day': 6753, '$1': 6754, 'ended': 6755, 'lower-priced': 6756, 'thrusts': 6757, 'consistently': 6758, 'Valerie': 6759, 'experts': 6760, 'currently': 6761, 'Europe': 6762, 'chief': 6763, 'Shiflett': 6764, 'quarter': 6765, 'Harvester': 6766, 'Kissak': 6767, 'View': 6768, 'handing': 6769, 'joblessness': 6770, 'split': 6771, 'lengthy': 6772, 'notes': 6773, '281': 6774, 'holdings': 6775, 'drunk': 6776, 'Nairne': 6777, 'Cacophonist': 6778, 'anti-organization': 6779, 'Senators': 6780, 'conversions': 6781, 'Quincy': 6782, 'Cooperation': 6783, 'Mail': 6784, 'outspoken': 6785, 'inflow': 6786, 'Ball': 6787, 'Shoup': 6788, 'Reports': 6789, \"Morton's\": 6790, 'custom-design': 6791, 'equal': 6792, 'Danny': 6793, 'painful': 6794, 'sidemen': 6795, 'reconvened': 6796, 'territories': 6797, 'prior': 6798, 'yield': 6799, 'uninjured': 6800, 'getaway': 6801, 'Shrove': 6802, 'sensational': 6803, 'Skinner': 6804, 'Ill.': 6805, 'volume': 6806, 'last': 6807, 'underlying': 6808, 'rundown': 6809, 'Trail': 6810, 'Persian': 6811, 'Carruthers': 6812, 'irreconcilable': 6813, 'descent': 6814, 'Kern': 6815, 'file': 6816, 'commitments': 6817, 'Geraldine': 6818, 'rest': 6819, 'aisle': 6820, '1952': 6821, 'intervene': 6822, '96': 6823, 'rear': 6824, 'Vladilen': 6825, 'billing': 6826, 'pedigreed': 6827, 'research': 6828, 'Why': 6829, 'defendants': 6830, 'squared': 6831, 'attempt': 6832, 'three-inning': 6833, 'N.': 6834, 'ten-month': 6835, 'Lovett': 6836, 'steering': 6837, 'greet': 6838, 'marines': 6839, 'Kira': 6840, 'poets': 6841, 'award': 6842, 'burst': 6843, 'Being': 6844, 'suicide': 6845, 'Western-style': 6846, '213': 6847, 'tend': 6848, 'Frankford': 6849, 'warbling': 6850, 'allow': 6851, 'Lieberman': 6852, 'endeared': 6853, 'Playboy': 6854, 'airfield': 6855, 'Republicans': 6856, 'manual': 6857, \"sheriff's\": 6858, 'tribes': 6859, 'idleness': 6860, 'committeewoman': 6861, 'morals': 6862, 'descendants': 6863, 'obligated': 6864, 'feed': 6865, 'Kemm': 6866, 'seized': 6867, 'proved': 6868, 'vehicle': 6869, 'nobody': 6870, 'things': 6871, 'barrage': 6872, 'Missouri': 6873, 'Spice-Nice': 6874, 'Hughes': 6875, 'Trap': 6876, 'third': 6877, 'ranged': 6878, 'authorized': 6879, 'accomplish': 6880, 'lot': 6881, 'Jacqueline': 6882, 'Sanitation': 6883, 'processing': 6884, 'For': 6885, 'confessed': 6886, 'strengthen': 6887, 'occurred': 6888, 'turned': 6889, 'Clayton': 6890, 'flaming': 6891, 'durable': 6892, 'clientele': 6893, 'bull-necked': 6894, 'timely': 6895, '$4,700': 6896, 'decent': 6897, 'Elm': 6898, 'nondescript': 6899, 'McCluskey': 6900, 'Civil': 6901, 'Throneberry': 6902, 'expressed': 6903, 'quarterly': 6904, 'Carroll': 6905, '3.98': 6906, 'restriction': 6907, '15': 6908, 'Sales': 6909, 'delicate': 6910, 'Son': 6911, \"association's\": 6912, 'cabinets': 6913, 'affixed': 6914, 'Charge': 6915, 'out': 6916, 'Wilmington': 6917, 'leadership': 6918, 'retained': 6919, 'formally': 6920, 'community': 6921, 'racket': 6922, 'widow': 6923, 'metal': 6924, 'remove': 6925, 'health': 6926, 'supreme': 6927, 'Noted': 6928, 'Shamrock': 6929, 'bateau': 6930, 'cloud': 6931, 'coins': 6932, 'two-and-a-half-mile': 6933, 'debonair': 6934, 'swimming': 6935, 'Anderson': 6936, 'radiomen': 6937, 'Broadly': 6938, 'inclination': 6939, 'Letitia': 6940, 'compulsory': 6941, '25': 6942, 'save': 6943, 'hammered': 6944, 'urgent': 6945, 'two': 6946, 'lukewarm': 6947, 'Conversion': 6948, 'depreciation': 6949, 'savings': 6950, 'book-review': 6951, 'Fourteen': 6952, 'built': 6953, 'district': 6954, 'survival': 6955, '$1.5': 6956, 'son-in-law': 6957, 'franker': 6958, 'discourage': 6959, 'globe': 6960, 'drawings': 6961, 'Ask': 6962, 'designers': 6963, 'Bill': 6964, 'responding': 6965, 'part': 6966, 'utilities': 6967, 'commenting': 6968, 'Did': 6969, 'utterly': 6970, 'Walbridge': 6971, 'city': 6972, 'electricity': 6973, 'learn': 6974, 'terribly': 6975, 'solid': 6976, 'labeled': 6977, 'finalist': 6978, '$50': 6979, 'revulsion': 6980, 'Wellsley': 6981, 'son': 6982, 'looked': 6983, \"Bombers'\": 6984, 'Caron': 6985, 'surplus': 6986, 'officials': 6987, 'behind': 6988, 'Mervin': 6989, 'effect': 6990, 'movies': 6991, 'engineer': 6992, 'similar': 6993, 'Typical': 6994, 'wisdom': 6995, '$47,101,000': 6996, 'pass': 6997, 'majors': 6998, 'Gentile': 6999, 'as': 7000, 'Jane': 7001, 'three-month': 7002, 'theatrical': 7003, '1896': 7004, 'Stalling': 7005, 'failing': 7006, 'chart': 7007, 'fouling': 7008, 'excise': 7009, 'plows': 7010, 'beautifully': 7011, 'paired': 7012, 'employment': 7013, 'spun': 7014, 'adult': 7015, 'buses': 7016, 'Pillsbury': 7017, 'muscles': 7018, 'Things': 7019, 'Virgin': 7020, 'boys': 7021, 'Ike': 7022, 'nationalized': 7023, 'Polo': 7024, 'Tau': 7025, \"city's\": 7026, 'into': 7027, 'shaped': 7028, \"Fardulli's\": 7029, 'worked': 7030, 'forest': 7031, 'conducts': 7032, 'Edwards': 7033, 'nightclubs': 7034, \"Controller's\": 7035, 'Deaf': 7036, 'trio': 7037, 'innate': 7038, 'renewal': 7039, 'deficit': 7040, 'erupted': 7041, 'initiative': 7042, 'Michael': 7043, 'characters': 7044, 'holed': 7045, 'capacity': 7046, 'accept': 7047, 'anti-Kennedy': 7048, 'heart': 7049, 'minor': 7050, 'idea': 7051, 'Some': 7052, 'Ohio': 7053, 'shots': 7054, 'lavish': 7055, 'considering': 7056, 'Milton': 7057, 'agricultural': 7058, 'wide-ranging': 7059, 'producing': 7060, 'hit': 7061, 'repealed': 7062, 'European': 7063, 'Sacrifices': 7064, 'reservations': 7065, 'troubles': 7066, 'undermine': 7067, 'Publishing': 7068, '10,000': 7069, 'festivities': 7070, 'dish': 7071, 'Eligio': 7072, 'large': 7073, \"athlete's\": 7074, 'contest': 7075, 'Rumford': 7076, 'Byrd': 7077, \"Dade's\": 7078, 'Ambassador': 7079, 'pedestrians': 7080, 'diversified': 7081, 'clocking': 7082, 'scratching': 7083, 'idols': 7084, 'Assemblies': 7085, 'firehouses': 7086, 'obstructionist': 7087, 'televised': 7088, 'Sheriff': 7089, 'drafts': 7090, 'ordered': 7091, 'comforting': 7092, 'Brevard': 7093, 'Answer': 7094, 'steel': 7095, 'fewer': 7096, 'loses': 7097, 'exercise': 7098, 'updated': 7099, 'invoking': 7100, 'Darrow': 7101, 'older': 7102, 'Outside': 7103, 'resembled': 7104, 'suspended': 7105, 'relationship': 7106, 'catcher': 7107, 'room': 7108, 'sympathy': 7109, '9:30': 7110, 'ballets': 7111, 'newspaper': 7112, 'pro-Yankee': 7113, 'Stennis': 7114, \"administration's\": 7115, 'shiny': 7116, 'Berlin': 7117, 'lumber': 7118, 'movements': 7119, '2%': 7120, 'Where': 7121, 'culminates': 7122, 'pixies': 7123, 'relieved': 7124, 'ticket': 7125, 'TNT': 7126, 'premier': 7127, 'Tucson': 7128, 'eyebrow': 7129, 'rides': 7130, 'Rather': 7131, 'displays': 7132, '$40,000': 7133, 'Roos': 7134, 'luggage': 7135, 'Susan': 7136, 'Vagabonds': 7137, 'Pa.': 7138, 'Issue': 7139, 'hospitality': 7140, 'Viet': 7141, 'Musial': 7142, 'varieties': 7143, 'Leading': 7144, 'sacrifices': 7145, '1908': 7146, 'far': 7147, 'Formby': 7148, 'prior-year': 7149, 'hearings': 7150, 'Ninth': 7151, \"Adair's\": 7152, 'hostages': 7153, 'chore': 7154, 'SEATO': 7155, 'contain': 7156, 'victimized': 7157, 'Morris': 7158, 'Sunday': 7159, 'Blue': 7160, 'Associations': 7161, 'putted': 7162, 'Southern-Republican': 7163, 'Investigation': 7164, 'Marty': 7165, 'severely': 7166, 'Capitol': 7167, 'flowed': 7168, 'operating': 7169, 'Law': 7170, 'favorite': 7171, '8,293': 7172, 'debentures': 7173, 'conforms': 7174, 'Indeed': 7175, 'excluding': 7176, 'running': 7177, 'appoint': 7178, 'Alton': 7179, 'broadcast': 7180, \"You're\": 7181, 'occasional': 7182, 'mob': 7183, 'Just': 7184, 'Lien': 7185, 'Everything': 7186, 'America': 7187, 'Book': 7188, 'commissioners': 7189, 'qualifications': 7190, 'interpretation': 7191, 'automatically': 7192, 'Bible': 7193, 'latter': 7194, 'domination': 7195, 'voters': 7196, 'Nischwitz': 7197, 'Hinton': 7198, 'barriers': 7199, 'cuts': 7200, 'grand-slam': 7201, 'Newport-based': 7202, 'otherwise': 7203, 'attends': 7204, 'baseball': 7205, 'much': 7206, 'alive': 7207, '?': 7208, 'Insofar': 7209, 'briefing': 7210, 'bath': 7211, 'Nations': 7212, 'remarkable': 7213, 'Ratto': 7214, 'Heating': 7215, 'Pentagon': 7216, 'absent': 7217, 'prevention': 7218, \"mayor's\": 7219, 'needed': 7220, 'Ernie': 7221, 'continuation': 7222, 'reporting': 7223, 'Attorneys': 7224, 'Cerv': 7225, 'Korman': 7226, 'fierce': 7227, 'Arms': 7228, '37,679': 7229, 'agree': 7230, 'export': 7231, 'Dequindre': 7232, 'four-jet': 7233, 'solicitor': 7234, 'engaged': 7235, 'pressures': 7236, 'Marskmen': 7237, 'Marr': 7238, 'awakening': 7239, 'obviously': 7240, 'Lyon': 7241, 'survive': 7242, 'honoree': 7243, 'wed': 7244, 'practicing': 7245, '1959': 7246, \"It'll\": 7247, 'Officials': 7248, 'pitch': 7249, 'paying': 7250, '1930s': 7251, 'Sarmi': 7252, 'preservation': 7253, 'transcended': 7254, 'inside': 7255, 'batted': 7256, 'title-holder': 7257, 'imply': 7258, 'Elevated': 7259, 'typewriters': 7260, 'approval': 7261, 'Perlman': 7262, 'deterioration': 7263, 'Kowalski': 7264, 'Dodgers': 7265, 'handsome': 7266, 'Latter': 7267, 'administrators': 7268, '4-year': 7269, 'streak': 7270, 'Bianco': 7271, 'reminiscent': 7272, 'chaos': 7273, 'ball-hawking': 7274, 'rebellion': 7275, 'discriminatory': 7276, 'interest': 7277, '$109': 7278, 'avoid': 7279, 'Pitcher': 7280, 'Dave': 7281, 'Immigration': 7282, 'continued': 7283, 'mails': 7284, 'Kelsey': 7285, 'Traxel': 7286, 'onion': 7287, 'deposit': 7288, 'fully': 7289, 'Belleville': 7290, 'Property': 7291, 'homerun': 7292, 'Mame': 7293, 'dance': 7294, 'zone': 7295, 'governor': 7296, 'assaulted': 7297, 'railing': 7298, 'glib': 7299, 'Everybody': 7300, 'properly': 7301, 'next': 7302, 'eventually': 7303, 'sang': 7304, \"governor's\": 7305, 'either': 7306, 'Felix': 7307, 'yard': 7308, 'suburb': 7309, 'growth': 7310, 'Dorsey': 7311, 'reaching': 7312, 'medical': 7313, 'mirror': 7314, \"yesterday's\": 7315, 'encounter': 7316, 'sadism': 7317, 'gave': 7318, 'Fuhrmann': 7319, 'five-day': 7320, 'spot': 7321, 'three-building': 7322, \"guide's\": 7323, 'peace': 7324, 'stroke': 7325, 'satisfactory': 7326, 'unexpected': 7327, 'Presbyterian-St.': 7328, 'centralization': 7329, 'numbered': 7330, 'practice': 7331, 'classroom': 7332, 'pro-Western': 7333, 'Spurdle': 7334, 'Administrative': 7335, 'Ben': 7336, 'peak': 7337, 'Audrey': 7338, 'Commissioner': 7339, '1213': 7340, 'guard': 7341, 'ethical': 7342, 'Thieves': 7343, 'hotdogs': 7344, 'consequences': 7345, 'racing': 7346, 'Longhorn': 7347, '$600': 7348, 'Hodosh': 7349, \"Mantle's\": 7350, 'roaring': 7351, 'sliced': 7352, 'extraction': 7353, 'discredit': 7354, 'rabbit': 7355, 'Phelan': 7356, 'holders': 7357, 'dervishes': 7358, \"We've\": 7359, 'inclusive': 7360, 'miss': 7361, 'Isaac': 7362, 'Comic': 7363, 'Watson': 7364, 'Mission': 7365, 'worst': 7366, 'Decries': 7367, 'sparkle': 7368, 'Parsons': 7369, 'wayward': 7370, 'east': 7371, 'pursued': 7372, 'Sweden': 7373, 'impressive': 7374, 'birdies': 7375, 'weekly': 7376, 'elegant': 7377, '65,000': 7378, 'businessman': 7379, 'Marcile': 7380, 'Communisn': 7381, 'lighter': 7382, 'Draper': 7383, 'scholastically': 7384, 'veiled': 7385, 'Moore': 7386, 'pocket-size': 7387, 'micro-microcurie': 7388, 'paneled': 7389, 'picking': 7390, 'Plaza': 7391, 'age': 7392, 'tribute': 7393, 'Reds': 7394, 'outfit': 7395, '$60': 7396, 'Greene': 7397, 'temper': 7398, 'resources': 7399, 'am': 7400, 'appropriation': 7401, 'selling': 7402, 'bankers': 7403, 'menaced': 7404, 'death': 7405, 'inroads': 7406, 'painted': 7407, 'Negro': 7408, 'It': 7409, 'windshield': 7410, 'Transylvania': 7411, 'economy': 7412, 'Providence': 7413, 'mounted': 7414, 'labor-management': 7415, 'neighbor': 7416, 'stuffed': 7417, 'confessing': 7418, 'Colmer': 7419, 'logic': 7420, 'canvas': 7421, 'Shahn': 7422, 'governing': 7423, 'Anatole': 7424, 'answered': 7425, '900,000': 7426, 'comic': 7427, 'clear': 7428, \"Women's\": 7429, 'snowfall': 7430, 'Lang': 7431, 'detachment': 7432, 'resurrection': 7433, 'managing': 7434, 'Acres': 7435, 'breaking': 7436, 'undistinguished': 7437, 'whip': 7438, 'trips': 7439, 'vocational': 7440, 'existed': 7441, 'apartment': 7442, 'ye': 7443, 'Vincent': 7444, 'Marcus': 7445, 'left-handed': 7446, 'subjects': 7447, 'particular': 7448, 'honored': 7449, '2,100': 7450, 'players': 7451, 'boards': 7452, 'warden': 7453, 'liable': 7454, 'statements': 7455, 'pipeline': 7456, 'Expresses': 7457, 'administrator': 7458, 'Investors': 7459, 'Saga': 7460, 'George': 7461, 'secretarial': 7462, 'diplomat': 7463, 'Prior': 7464, '330': 7465, 'area': 7466, 'Bonn': 7467, 'railroading': 7468, 'Multnomah': 7469, 'ventured': 7470, \"Green's\": 7471, 'Reno': 7472, 'jangling': 7473, 'holiday': 7474, 'Dallas': 7475, 'Tiao': 7476, 'shall': 7477, 'summertime': 7478, 'special': 7479, 'shipping': 7480, 'jobs': 7481, 'Ainsley': 7482, 'furlongs': 7483, 'Caroline': 7484, 'revenue': 7485, 'heroics': 7486, 'only': 7487, 'inclined': 7488, 'Gogh': 7489, 'hypocrisies': 7490, 'Sinfonica': 7491, 'Briar': 7492, 'lifeblood': 7493, 'Family': 7494, 'Federal': 7495, 'even': 7496, 'firm': 7497, 'Ireland': 7498, 'ground': 7499, 'Indiana': 7500, 'Bea': 7501, 'Superior': 7502, 'shaking': 7503, 'symphony': 7504, 'Clyde': 7505, 'waterline': 7506, 'Or': 7507, 'arrears': 7508, 'features': 7509, 'branch': 7510, 'Slocum': 7511, 'pros': 7512, 'detector': 7513, 'mounting': 7514, \"We'd\": 7515, 'wool': 7516, 'artist': 7517, 'defenders': 7518, 'wherever': 7519, 'followed': 7520, '1950': 7521, 'Lafayette': 7522, 'follows': 7523, 'mystery': 7524, 'educators': 7525, 'place-kicking': 7526, 'patrons': 7527, 'unknowns': 7528, 'detente': 7529, 'Fernberger': 7530, 'Sixth': 7531, 'Feis': 7532, 'almost': 7533, 'periodic': 7534, 'stein': 7535, '6.5': 7536, '62-year-old': 7537, 'perennial': 7538, '31730': 7539, 'Rio': 7540, 'Sitting': 7541, 'laymen': 7542, 'engagements': 7543, 'lefthanders': 7544, 'comprised': 7545, 'rolling': 7546, 'tip': 7547, 'quo': 7548, 'transporting': 7549, 'Col.': 7550, 'personnel': 7551, 'correlated': 7552, 'Electoral': 7553, 'rekindling': 7554, \"Fuhrmann's\": 7555, 'know-how': 7556, 'pianists': 7557, 'brings': 7558, 'drying': 7559, 'Darlene': 7560, 'woman': 7561, 'illusory': 7562, 'welled': 7563, 'Young': 7564, 'oft-repeated': 7565, 'eva': 7566, 'sand': 7567, 'Through': 7568, 'mutterers': 7569, \"master's\": 7570, 'crippling': 7571, 'idol': 7572, 'ally': 7573, 'Precise': 7574, 'McAlester': 7575, 'Esnards': 7576, 'sun': 7577, 'renderings': 7578, 'overthrow': 7579, 'guide': 7580, 'Washington': 7581, 'backbone': 7582, 'secure': 7583, 'Merit': 7584, 'Turin': 7585, 'triumph': 7586, 'shop': 7587, 'subsistence': 7588, 'Cheng': 7589, 'roar': 7590, 'Such': 7591, 'permanence': 7592, '8th': 7593, 'McGeorge': 7594, 'titles': 7595, 'reconsider': 7596, 'Results': 7597, 'fringe': 7598, 'greatest': 7599, 'Geraghty': 7600, 'Arkansas': 7601, 'sheep': 7602, 'Coral': 7603, 'liens': 7604, 'picks': 7605, 'greatly': 7606, 'Miami': 7607, 'colors': 7608, 'Nagle': 7609, '81': 7610, 'nevertheless': 7611, 'fatal': 7612, 'Monroe': 7613, 'reside': 7614, 'angry': 7615, 'obstacle': 7616, 'greeted': 7617, 'filing': 7618, 'reviewing': 7619, 'dangerous': 7620, 'yen': 7621, 'cited': 7622, 'state': 7623, 'on-the-scene': 7624, 'Continental': 7625, 'Stickler': 7626, 'Rite': 7627, 'tacked': 7628, 'Super': 7629, 'crowding': 7630, 'countries': 7631, 'Pittsboro': 7632, 'Belanger': 7633, 'unmatched': 7634, 'establish': 7635, 'home-and-home': 7636, 'expectations': 7637, '250': 7638, 'thrill': 7639, 'French-born': 7640, 'operates': 7641, '1964': 7642, 'sidled': 7643, 'Expressway': 7644, '420': 7645, 'Lilac': 7646, 'Parliament': 7647, 'well-planned': 7648, 'fourteen-team': 7649, 'discounts': 7650, 'senseless': 7651, 'grisly': 7652, 'V.': 7653, 'Northern': 7654, 'yielding': 7655, 'squeezed': 7656, 'Henry': 7657, 'p.m.': 7658, 'touchdowns': 7659, 'honestly': 7660, 'termed': 7661, 'Martinelli': 7662, 'fulfilled': 7663, 'Unfortunately': 7664, 'Kankakee': 7665, 'improve': 7666, 'Judith': 7667, 'Afterward': 7668, 'bunters': 7669, 'mark': 7670, 'conclusion': 7671, 'Convair': 7672, 'Slim': 7673, \"Department's\": 7674, 'Ruiz': 7675, 'waterfront': 7676, 'balconies': 7677, 'Plus': 7678, 'Sukarno': 7679, 'chum': 7680, 'feared': 7681, 'fast-spreading': 7682, '85-piece': 7683, 'brethren': 7684, 'margin': 7685, 'Owls': 7686, 'vacancy': 7687, '8,280': 7688, 'Broglio': 7689, 'surpluses': 7690, 'slow-baked': 7691, 'beardown': 7692, '60-day': 7693, 'hastened': 7694, 'Heideman': 7695, 'overshot': 7696, 'estimate': 7697, 'off-duty': 7698, 'practical': 7699, 'pennant': 7700, 'mind': 7701, 'Adams': 7702, 'proceed': 7703, 'starring': 7704, 'developing': 7705, 'Vieux': 7706, 'Thesis': 7707, 'Clemente': 7708, 'Charley': 7709, 'McClellan': 7710, \"Massachusetts'\": 7711, 'young': 7712, 'paradox': 7713, 'cordial': 7714, 'chambers': 7715, \"Army's\": 7716, '1.24': 7717, 'met': 7718, 'relatively': 7719, 'skirt': 7720, 'well-established': 7721, 'Controller': 7722, 'confirmation': 7723, 'facts': 7724, 'Latin': 7725, 'Snellville': 7726, 'explanation': 7727, 'offers': 7728, 'chiefly': 7729, 'peril': 7730, \"Hallowell's\": 7731, 'tiled': 7732, 'four-year': 7733, 'Siciliana': 7734, 'incomplete': 7735, 'burr': 7736, 'illusion': 7737, 'shouting': 7738, 'organized': 7739, 'motel-keepers': 7740, 'Nepal': 7741, '$17': 7742, 'Boyd': 7743, 'Fiedler': 7744, 'presentments': 7745, 'higher': 7746, 'untold': 7747, 'develops': 7748, \"Mexico's\": 7749, \"Saturday's\": 7750, 'Seattle': 7751, 'Dodge': 7752, 'first-run': 7753, 'nolo': 7754, 'occupation': 7755, 'shaky': 7756, 'won': 7757, 'gazing': 7758, 'Trade': 7759, 'Dawson': 7760, 'encouraged': 7761, 'conscience': 7762, 'Models': 7763, 'Grzesiak': 7764, 'Joe': 7765, '33': 7766, 'rifles': 7767, '1958': 7768, 'acceptance': 7769, 'base': 7770, 'Advisory': 7771, 'dapper': 7772, 'official': 7773, 'Bankers': 7774, 'SanAntonio': 7775, 'renting': 7776, '16-year-old': 7777, 'match': 7778, 'administers': 7779, 'ample': 7780, 'El': 7781, 'Sopsaisana': 7782, 'acute': 7783, 're-enactment': 7784, '14.2': 7785, 'philosopher': 7786, \"wife's\": 7787, 'nursing': 7788, 'Harold': 7789, 'strikes': 7790, 'wholly': 7791, 'definitely': 7792, 'Page': 7793, 'Cherry': 7794, 'inadequate': 7795, 'preach': 7796, 'incompetents': 7797, 'flying': 7798, '15-1': 7799, 'chairmen': 7800, 'teeth': 7801, 'stems': 7802, 'achieve': 7803, 'Orioles': 7804, 'orchestra': 7805, 'disability': 7806, 'Leopoldville': 7807, 'ants': 7808, 'heartening': 7809, 'phrase': 7810, 'ogled': 7811, 'coolheaded': 7812, \"We're\": 7813, 'flavored': 7814, 'titled': 7815, 'presently': 7816, 'double-crosser': 7817, 'Democratic': 7818, 'accurate': 7819, '30-30': 7820, 'barred': 7821, 'Seats': 7822, 'reputation': 7823, 'shelter': 7824, 'Village': 7825, 'pre-Easter': 7826, '``': 7827, 'tambourine': 7828, 'affects': 7829, 'Yuri': 7830, 'At': 7831, 'doings': 7832, 'smaller': 7833, 'Hess': 7834, 'Airport': 7835, 'Kappa': 7836, 'Christmas': 7837, 'toward': 7838, 'Sunny': 7839, 'clerical-lay': 7840, 'recovering': 7841, 'Debutante': 7842, 'inventories': 7843, 'precipitated': 7844, 'Espagnol': 7845, 'temperatures': 7846, 'loud': 7847, 'Stirling': 7848, 'upheld': 7849, 'performances': 7850, 'Princeton': 7851, 'knocked': 7852, '1,000': 7853, \"Gladden's\": 7854, 'Dilworth': 7855, 'Ilyushin': 7856, 'spiritual': 7857, 'auspices': 7858, 'Bermuda': 7859, 'enlisted': 7860, 'staffing': 7861, 'device': 7862, 'gaudy': 7863, 'vast': 7864, 'relegated': 7865, 'shocked': 7866, 'swing': 7867, 'Country': 7868, 'seasonal': 7869, 'combinations': 7870, \"Karns'\": 7871, 'novel': 7872, 'Heritage': 7873, 'Balkanize': 7874, 'Gimbel': 7875, '1910-14': 7876, 'us': 7877, 'Patrolmen': 7878, 'trims': 7879, 'pianist': 7880, \"University's\": 7881, 'Mohammedanism': 7882, 'Liberals': 7883, 'loop': 7884, 'skit': 7885, 'cable': 7886, 'Gardner': 7887, '111': 7888, 'handicapped': 7889, 'Dicks': 7890, 'network': 7891, 'Medical': 7892, 'afternoons': 7893, 'oops': 7894, 'Phouma': 7895, 'antiques': 7896, 'sparks': 7897, 'matters': 7898, 'derives': 7899, 'newly-appointed': 7900, 'plate': 7901, 'dullest': 7902, 'crash': 7903, 'been': 7904, 'threshold': 7905, 'outlay': 7906, 'Question': 7907, 'Altar': 7908, 'Reps.': 7909, 'Times': 7910, 'Collett': 7911, 'concerns': 7912, 'Her': 7913, 'Allied': 7914, 'selects': 7915, 'resource': 7916, 'redistricting': 7917, 'dwellings': 7918, 'astray': 7919, 'capers': 7920, 'run-scoring': 7921, 'legitimate': 7922, \"he's\": 7923, 'warning': 7924, \"hadn't\": 7925, 'Gevurtz': 7926, 'jury-tampering': 7927, 'dust': 7928, 'concluded': 7929, 'Denton': 7930, 'important': 7931, \"Princes'\": 7932, 'belonging': 7933, 'Smallwood': 7934, 'burglarproof': 7935, 'Somerville': 7936, 'Tranquility': 7937, 'Miller': 7938, 'nor': 7939, 'authorizing': 7940, 'ransacked': 7941, 'corner': 7942, 'Washington-Alexandria': 7943, 'eulogizers': 7944, 'props': 7945, 'Schmalzried': 7946, 'Olive': 7947, 'Farley': 7948, 'Oilers': 7949, '11:30': 7950, 'Walkers': 7951, '43': 7952, 'Fletcher': 7953, 'As': 7954, 'driveway': 7955, 'museum': 7956, 'change': 7957, 'step': 7958, 'contests': 7959, 'translate': 7960, 'apparently': 7961, 'Concern': 7962, 'Marie': 7963, 'contributors': 7964, \"We'll\": 7965, 'competition': 7966, 'Juvenile': 7967, 'Tech': 7968, 'internationalist': 7969, 'Person': 7970, 'Gay': 7971, 'U-2': 7972, 'Myers': 7973, '1981': 7974, 'taxes': 7975, 'section': 7976, '$20,000': 7977, '280-yard': 7978, 'possessive': 7979, 'housed': 7980, 'indoor': 7981, 'start': 7982, 'Gee': 7983, 'Corporate': 7984, \"boy's\": 7985, 'accented': 7986, 'tension': 7987, \"contractor's\": 7988, 'Asia': 7989, 'coyly': 7990, 'Belgian': 7991, 'Broncos': 7992, 'Shea': 7993, 'adds': 7994, 'supply': 7995, 'spending': 7996, \"President's\": 7997, '1500': 7998, 'air-conditioning': 7999, 'experienced': 8000, 'investigations': 8001, 'communities': 8002, \"men's\": 8003, 'DeForest': 8004, 'emissary': 8005, 'Herbert': 8006, 'meaningless': 8007, 'gleam': 8008, 'individual': 8009, 'Terror': 8010, 'Dirksen': 8011, '51': 8012, 'use': 8013, 'impinging': 8014, 'bandstand': 8015, 'army': 8016, 'ha': 8017, 'Kaplan': 8018, 'Race': 8019, 'inflicted': 8020, 'lacked': 8021, 'Plea': 8022, 'Satterfield': 8023, 'Carolyn': 8024, 'Eagles': 8025, 'terrace': 8026, 'Kerrville': 8027, 'melee': 8028, 'haltingly': 8029, '7,000': 8030, 'masterful': 8031, 'tightly': 8032, '3211': 8033, 'administration': 8034, 'decreeing': 8035, 'altered': 8036, 'Map': 8037, 'list': 8038, 'Philip': 8039, 'concerned': 8040, 'head-on': 8041, 'locate': 8042, 'Cardinals': 8043, 'Claude': 8044, 'Truman': 8045, 'tight': 8046, 'scramble': 8047, 'lose': 8048, 'charming': 8049, 'application': 8050, 'climaxed': 8051, 'wintertime': 8052, 'Most': 8053, 'aspects': 8054, 'rehearsal': 8055, 'Defense': 8056, 'clinic': 8057, 'blazing': 8058, 'stared': 8059, 'tired': 8060, 'Bimini': 8061, 'seeing': 8062, 'pertinent': 8063, 'matching': 8064, 'small': 8065, 'Islands': 8066, 'loyalist': 8067, \"bulletin'd\": 8068, 'Perasso': 8069, 'jotted': 8070, 'Decorating': 8071, 'time': 8072, 'praised': 8073, 'defray': 8074, 'converting': 8075, 'appears': 8076, 'Natural': 8077, 'Foundation': 8078, 'Planning': 8079, \"season's\": 8080, '$18': 8081, 'centers': 8082, 'Leader': 8083, 'ultimate': 8084, 'balking': 8085, 'substitutionary': 8086, 'score': 8087, 'Troop': 8088, 'correspondents': 8089, 'hear': 8090, 'anemic': 8091, 'swarm': 8092, '19th': 8093, 'armed': 8094, 'An': 8095, 'felt': 8096, 'Crime': 8097, 'collision': 8098, 'Detente': 8099, '38-point': 8100, 'analysis': 8101, 'pistol': 8102, 'favoring': 8103, 'Janice': 8104, 'sphynxes': 8105, 'tied': 8106, 'prospective': 8107, 'another': 8108, 'Dunn': 8109, 'consent': 8110, 'Karns': 8111, 'Norristown': 8112, 'weeks': 8113, \"Snyder's\": 8114, 'Thirty-one': 8115, 'shuns': 8116, \"High's\": 8117, 'grist': 8118, 'easily': 8119, 'citation': 8120, 'Cologne': 8121, 'Beirut': 8122, 'cocky': 8123, 'Guy': 8124, 'feats': 8125, 'intellectual': 8126, 'shortage': 8127, 'rejoining': 8128, 'Terral': 8129, 'railroads': 8130, 'Exposition': 8131, 'serene': 8132, 'debates': 8133, 'Coe': 8134, 'Bird': 8135, 'Basic': 8136, 'climbed': 8137, 'bookcases': 8138, 'returns': 8139, 'Quarterback': 8140, 'Ilona': 8141, 'across': 8142, \"Simmons'\": 8143, 'Seventeen': 8144, 'Mo.': 8145, 'seekers': 8146, 'hardship': 8147, 'fete': 8148, 'Claims': 8149, '$125': 8150, 'augment': 8151, 'infested': 8152, 'summed': 8153, 'dividend': 8154, 'refurbishing': 8155, '19-12': 8156, 'bridegroom': 8157, 'sufficient': 8158, 'inhomogeneous': 8159, 'talking': 8160, 'Wall': 8161, 'KKK': 8162, 'days': 8163, 'Rhodes': 8164, '63': 8165, 'box': 8166, 'ranges': 8167, 'Pensacola': 8168, 'matched': 8169, 'rings': 8170, 'indication': 8171, 'applications': 8172, 'Fazio': 8173, 'Kaiser': 8174, 'luncheon-table': 8175, 'basically': 8176, '2-1/2': 8177, 'experimental': 8178, 'austere': 8179, 'overnight': 8180, 'anti-monopoly': 8181, 'Union': 8182, 'pickup': 8183, 'because': 8184, 'Brandt': 8185, 'Canada': 8186, 'hardly': 8187, 'rookie': 8188, 'spree': 8189, 'resting': 8190, 'pillow': 8191, '108': 8192, \"council's\": 8193, \"system's\": 8194, 'runs': 8195, 'Lucille': 8196, 'depression': 8197, 'meantime': 8198, 'erase': 8199, 'Reichenberg': 8200, 'deliberations': 8201, 'wary': 8202, 'flight': 8203, 'par-3': 8204, 'complaint': 8205, 'monetary': 8206, 'efforts': 8207, 'tutors': 8208, 'Slate': 8209, 'drums': 8210, 'Cir.': 8211, 'So': 8212, 'Cody': 8213, 'bridges': 8214, 'Scenic': 8215, 'Comedian': 8216, 'rescue': 8217, 'Appeal': 8218, 'Lumia': 8219, 'year-round': 8220, 'lamps': 8221, 'five-month': 8222, 'Russian': 8223, 'wild': 8224, 'justified': 8225, \"Howsam's\": 8226, 'probate': 8227, \"'\": 8228, 'catching': 8229, 'asks': 8230, 'slash': 8231, 'stopping': 8232, 'seasoned': 8233, 'Threat': 8234, 'wear': 8235, 'janitors': 8236, 'significance': 8237, 'Transportation': 8238, 'coast': 8239, 'assumption': 8240, 'private-eye': 8241, \"Bill's\": 8242, 'January': 8243, 'merits': 8244, 'Barbara': 8245, 'resent': 8246, 'helping': 8247, 'Dade': 8248, 'O-B': 8249, 'cases': 8250, 'liquidations': 8251, 'filial': 8252, 'accuse': 8253, 'address': 8254, 'Petersburg': 8255, 'Keeler': 8256, 'efficient': 8257, 'skidded': 8258, 'Americans': 8259, 'Schwartz': 8260, 'feature': 8261, 'Bobby': 8262, 'Baton': 8263, 'Meadow': 8264, 'oks': 8265, '8%': 8266, 'Accepted': 8267, 'prayer-time': 8268, 'exist': 8269, 'delivering': 8270, 'beneficiaries': 8271, 'devoted': 8272, 'Nehf': 8273, 'constantly': 8274, 'teardrop': 8275, 'destroying': 8276, 'Representatives': 8277, 'steps': 8278, '72-hole': 8279, 'Blyth': 8280, 'unfair': 8281, 'careful': 8282, \"panel's\": 8283, 'ran': 8284, \"A's\": 8285, 'prestige': 8286, '$80': 8287, 'Birds': 8288, 'surely': 8289, 'connected': 8290, 'rangy': 8291, 'Ultimately': 8292, 'juries': 8293, 'fuller': 8294, 'enthusiasm': 8295, 'closest': 8296, 'tease': 8297, 'Range': 8298, 'Barnes': 8299, 'Lorain': 8300, 'deliver': 8301, 'redhead': 8302, 'denounced': 8303, 'Whatever': 8304, 'Doctors': 8305, 'situation': 8306, 'dug': 8307, 'Chicago': 8308, 'flowing': 8309, 'disinterested': 8310, 'Indians': 8311, 'romp': 8312, 'Yehudi': 8313, 'Pelham': 8314, 'brokerage': 8315, \"committee's\": 8316, 'dates': 8317, 'charities': 8318, 'snake': 8319, 'dumping': 8320, 'reestablish': 8321, 'excused': 8322, 'miniature': 8323, 'darling': 8324, 'lover': 8325, 'facto': 8326, 'finances': 8327, 'Roquemore': 8328, 'Bluebird': 8329, 'brilliant': 8330, 'Sandman': 8331, 'Highway': 8332, 'Cleaner': 8333, 'respect': 8334, 'chemistry': 8335, 'Trenton': 8336, 'rejection': 8337, 'Only': 8338, 'preoccupied': 8339, 'Berton': 8340, 'statutory': 8341, '963': 8342, 'secretly': 8343, '2-over-par': 8344, '$634,517,000': 8345, 'Hypocrisy': 8346, 'underground': 8347, 'marking': 8348, 'crushed': 8349, 'McDermott': 8350, 'awe': 8351, '5155': 8352, 'clubhouse': 8353, 'heavier': 8354, 'snacks': 8355, 'grasp': 8356, 'Lambert': 8357, 'Jolly': 8358, 'Generale': 8359, 'avid': 8360, 'Disarmament': 8361, 'dangers': 8362, 'Could': 8363, 'drove': 8364, 'gulf': 8365, 'Winds': 8366, 'recommend': 8367, 'wrapping': 8368, 'Liquor': 8369, 'Skyline': 8370, 'antagonism': 8371, 'Ratcliff': 8372, 'correct': 8373, 'bite': 8374, 'classics': 8375, '1912': 8376, 'proposes': 8377, 'jarred': 8378, 'Whipple': 8379, \"Republicans'\": 8380, 'hurdle': 8381, 'tonight': 8382, 'weaker': 8383, 'brother-in-law': 8384, 'tipped': 8385, 'critic': 8386, 'drain': 8387, 'Arab': 8388, 'traveled': 8389, 'alloted': 8390, 'Couve': 8391, 'standpoint': 8392, 'columnist': 8393, 'misled': 8394, 'grandfather': 8395, 'detention': 8396, 'geeing': 8397, 'Herb': 8398, 'intensified': 8399, 'arose': 8400, 'Choice': 8401, \"Authority's\": 8402, 'example': 8403, 'Human': 8404, 'Flock': 8405, 'panels': 8406, 'considerable': 8407, 'farms': 8408, 'taking': 8409, 'steamed': 8410, 'contrasting': 8411, 'cut-off': 8412, 'showdown': 8413, 'economics': 8414, 'petition': 8415, \"man's\": 8416, 'Famed': 8417, 'cooperative': 8418, 'leathery': 8419, 'Goldberg': 8420, 'Reyes': 8421, 'Nobel': 8422, 'take': 8423, 'correctly': 8424, 'types': 8425, 'Wyoming': 8426, 'failed': 8427, 'listen': 8428, 'Private': 8429, 'driers': 8430, 'addressed': 8431, 'clown': 8432, 'demanded': 8433, 'long-life': 8434, 'Retail': 8435, 'Of': 8436, 'leaders': 8437, 'fairly': 8438, 'filibuster': 8439, 'trying': 8440, 'inherited': 8441, 'maid': 8442, 'misfortune': 8443, 'smashed': 8444, 'captivated': 8445, 'Like': 8446, \"darlin'\": 8447, 'textiles': 8448, 'successes': 8449, 'Leighton': 8450, 'That': 8451, 'widowed': 8452, 'intern': 8453, 'Wolverton': 8454, 'Drum': 8455, 'conferences': 8456, 'cellar': 8457, 'Idealist': 8458, 'Troup': 8459, \"States'\": 8460, 'York': 8461, 'test': 8462, \"Orioles'\": 8463, 'ebony': 8464, 'Virgil': 8465, 'launched': 8466, 'pledge': 8467, 'adequate': 8468, 'deliberately': 8469, 'plow': 8470, 'lagged': 8471, 'awards': 8472, \"ladies'\": 8473, 'Fellowship': 8474, 'Sandra': 8475, '0': 8476, 'questioning': 8477, 'Republic': 8478, 'miscellaneous': 8479, 'Farmers': 8480, 'Certainly': 8481, 'particulars': 8482, 'preserved': 8483, 'attacking': 8484, 'Almost': 8485, 'involved': 8486, 'pack': 8487, 'Vivacious': 8488, 'siding': 8489, 'holdup': 8490, 'Patrice': 8491, 'Sudier': 8492, 'blades': 8493, 'array': 8494, 'assailed': 8495, 'feeds': 8496, 'Cimoli': 8497, 'Rice': 8498, 'voter': 8499, 'Masters': 8500, 'But': 8501, 'mechanism': 8502, 'announcing': 8503, 'dependent': 8504, 'co-ops': 8505, 'Fall': 8506, 'bondsman': 8507, 'song': 8508, 'Hartman': 8509, 'Economic': 8510, 'slackening': 8511, 'upwards': 8512, 'acacia': 8513, 'scholars': 8514, 'attributed': 8515, 'sometime': 8516, 'Georgia': 8517, 'via': 8518, 'Bingles': 8519, 'Ga.': 8520, 'filling': 8521, 'conspirators': 8522, 'Twist': 8523, 'conductors': 8524, 'hamlet': 8525, 'captain': 8526, 'Six': 8527, 'fallout': 8528, 'counts': 8529, 'Blanton': 8530, 'enchantment': 8531, 'attorney': 8532, 'instead': 8533, 'Tribune': 8534, 'duplicated': 8535, 'linebackers': 8536, 'note': 8537, 'Harvey': 8538, 'Ambulances': 8539, 'someone': 8540, 'escape': 8541, '160,000': 8542, 'hole': 8543, 'Sprinkel': 8544, \"Portland's\": 8545, 'welfare': 8546, 'relieve': 8547, '1954': 8548, 'loss': 8549, 'slight': 8550, 'incentive': 8551, 'cruelty': 8552, '1,512': 8553, 'Pretty': 8554, 'offenses': 8555, '$200,000': 8556, 'respectable': 8557, 'inflate': 8558, 'safely': 8559, 'A': 8560, 'introduced': 8561, 'Again': 8562, 'icy': 8563, 'washed-out': 8564, \"Speaker's\": 8565, 'daring': 8566, 'Implementation': 8567, 'Yanks': 8568, '14-power': 8569, '3:30': 8570, 'excitement': 8571, 'peddler': 8572, 'confirm': 8573, 'traded': 8574, 'U.S.': 8575, 'danger': 8576, 'Pike': 8577, 'claimed': 8578, 'contend': 8579, 'Embassy': 8580, 'prominently': 8581, 'two-thirds': 8582, 'initial': 8583, 'incidents': 8584, 'walking': 8585, 'convening': 8586, 'Using': 8587, 'loaded': 8588, 'cheaper': 8589, 'office': 8590, 'awoke': 8591, 'moments': 8592, 'yesterday': 8593, '5-5': 8594, 'Congregation': 8595, 'supermarkets': 8596, 'industrialized': 8597, 'Gander': 8598, 'organs': 8599, 'between': 8600, \"Brassbound's\": 8601, 'occupants': 8602, 'Glennon': 8603, 'god-like': 8604, 'Ordinarily': 8605, 'Leatherman': 8606, 'explosive': 8607, 'campaign': 8608, 'phone': 8609, 'Jerome': 8610, 'Heinze': 8611, \"union's\": 8612, 'Cedric': 8613, '8-4': 8614, 'raise': 8615, '1913': 8616, 'Principals': 8617, 'Kieffer': 8618, 'calendar': 8619, 'Soon': 8620, 'upswing': 8621, 'mineral-rich': 8622, 'robbed': 8623, 'started': 8624, 'braced': 8625, 'detecting': 8626, 'hitters': 8627, 'totaling': 8628, 'mid-July': 8629, 'Gehrig': 8630, 'Swiss': 8631, 'filbert': 8632, 'Relations': 8633, 'Carlo': 8634, 'confidence': 8635, 'Lockheed': 8636, 'bomb': 8637, 'mating': 8638, 'solos': 8639, 'Aircraft': 8640, 'courtroom': 8641, 'night-coach': 8642, 'widely': 8643, 'Kelly': 8644, 'massive': 8645, 'problems': 8646, 'hiring': 8647, 'avidly': 8648, 'applied': 8649, 'Institute': 8650, '1.10.8': 8651, 'Christianity': 8652, 'Catholics': 8653, 'doormen': 8654, 'Zimmerman': 8655, 'ruling': 8656, 'Meet': 8657, 'Whitey': 8658, 'makers': 8659, 'Arden': 8660, 'batting': 8661, 'staffs': 8662, 'giants': 8663, 'Fitzgerald': 8664, 'economist': 8665, 'hungry': 8666, 'compete': 8667, 'Quell': 8668, 'Moritz': 8669, 'walked': 8670, 'Hyde': 8671, 'Rico': 8672, 'ruthless': 8673, 'chandeliers': 8674, 'achieves': 8675, 'Clements': 8676, 'Haddix': 8677, 'gun': 8678, 'pride': 8679, 'employ': 8680, 'Check': 8681, 'co-signers': 8682, 'Children': 8683, 'putting': 8684, 'Diocesan': 8685, 'timing': 8686, 'Felske': 8687, 'model': 8688, 'toss': 8689, 'Illustrated': 8690, 'solved': 8691, 'Nine': 8692, 'Sexton': 8693, 'geographical': 8694, 'thigh': 8695, 'underbelly': 8696, 'mushrooms': 8697, 'logistical': 8698, 'Youngsters': 8699, 'reformatory': 8700, 'shareholders': 8701, 'varying': 8702, 'Chips': 8703, 'Clipper': 8704, 'inflamed': 8705, 'the': 8706, 'scrimmage': 8707, 'abrupt': 8708, 'stayed': 8709, 'Dictator': 8710, \"Maris's\": 8711, 'Helping': 8712, 'microfilm': 8713, 'DeSoto': 8714, 'Pacific': 8715, 'variously': 8716, 'Bolker': 8717, 'useful': 8718, 'Graham': 8719, 'wire': 8720, 'Frederick': 8721, 'deducted': 8722, 'appraisal': 8723, 'Woonasquatucket': 8724, 'taxi': 8725, 'Couturier': 8726, 'Foil': 8727, 'degree': 8728, 'fringed': 8729, 'App': 8730, 'Jossy': 8731, 'taken': 8732, 'Midway': 8733, \"Men's\": 8734, 'joint': 8735, 'acted': 8736, 'Greek': 8737, 'Nelson': 8738, 'diem': 8739, 'Strategic': 8740, '1.5': 8741, 'beach': 8742, 'appreciation': 8743, 'boss': 8744, 'Coopers': 8745, 'Burgher': 8746, 'High': 8747, 'Urged': 8748, \"Texas'\": 8749, 'Berger': 8750, 'ballet': 8751, 'geography': 8752, 'Boys': 8753, 'evoked': 8754, 'whether': 8755, 'milestone': 8756, 'Hardy': 8757, 'structured': 8758, 'unanimously': 8759, '10%': 8760, 'reiterating': 8761, '208-pound': 8762, 'Hungarian': 8763, 'cadet': 8764, 'wearing': 8765, 'Pate': 8766, 'prime': 8767, 'nickels': 8768, 'Abbey': 8769, 'Passage': 8770, 'block': 8771, '8,000': 8772, 'Harris': 8773, 'career': 8774, '$12,192,865': 8775, 'Others': 8776, 'Parker': 8777, 'lifted': 8778, 'Walker': 8779, 'Social': 8780, 'Concert': 8781, 'perfect': 8782, 'esprit': 8783, 'bruises': 8784, 'moans': 8785, 'Fenwick': 8786, 'bonding': 8787, 'Intervenes': 8788, 'elite': 8789, 'life': 8790, 'B-52': 8791, 'First': 8792, 'barrel': 8793, 'outcome': 8794, 'high-school': 8795, \"Chicago's\": 8796, '1947': 8797, 'Cost': 8798, 'houses': 8799, 'Massimo': 8800, '30,000,000': 8801, 'praise': 8802, 'Mayfair': 8803, 'poorly': 8804, 'affiliations': 8805, '4th': 8806, 'Lenny': 8807, 'Communist': 8808, 'surge': 8809, 'Cabinet': 8810, 'solution': 8811, 'deficiencies': 8812, 'gully': 8813, 'H.': 8814, 'Pasadena': 8815, 'directorate': 8816, 'more': 8817, 'credit': 8818, 'Five': 8819, 'interview': 8820, 'contacted': 8821, 'Party': 8822, 'rifle': 8823, '132,000': 8824, 'AFL-CIO': 8825, 'thirds': 8826, 'Statesman': 8827, 'defective': 8828, 'tickets': 8829, 'verification': 8830, 'Holy': 8831, 'generally': 8832, 'parking': 8833, 'coolest': 8834, '$100': 8835, 'chairs': 8836, '7:30': 8837, 'Commissioners': 8838, 'Fort': 8839, 'tin': 8840, 'Series': 8841, 'Simmons': 8842, 'commenced': 8843, 'Evanston': 8844, 'southpaw': 8845, 'Blaber': 8846, 'dominated': 8847, 'panic': 8848, 'destroyers': 8849, 'movement': 8850, 'County': 8851, 'bottom': 8852, 'outpatient': 8853, 'unhappily': 8854, 'million': 8855, 'make': 8856, 'Teller': 8857, 'robbery': 8858, 'day': 8859, \"body's\": 8860, 'Scott': 8861, 'argue': 8862, 'distressing': 8863, 'U-I': 8864, 'Troopers': 8865, 'appealing': 8866, 'Gains': 8867, 'reasoning': 8868, 'Haskins': 8869, 'badly': 8870, 'visible': 8871, 'all-county': 8872, 'link': 8873, 'bicameral': 8874, 'Inn': 8875, 'achieved': 8876, 'Fra': 8877, 'enforcers': 8878, '18,792': 8879, 'blunts': 8880, 'Apartments': 8881, 'Arvey': 8882, \"Byrd's\": 8883, 'police': 8884, 'PTC': 8885, 'confrontation': 8886, 'Cotillion': 8887, 'meant': 8888, 'Bucharest': 8889, 'frequently': 8890, '$253,355,000': 8891, 'elevated': 8892, 'slightly': 8893, '$2.50': 8894, 'Jude': 8895, '3.28': 8896, 'independents': 8897, '1899': 8898, 'municipal': 8899, 'Hockaday': 8900, 'conditioned': 8901, 'offering': 8902, 'suffering': 8903, 'Forest': 8904, 'misses': 8905, 'Net': 8906, 'evaluating': 8907, 'fender': 8908, 'concede': 8909, 'Hyannis': 8910, 'sold': 8911, 'Coolidge': 8912, 'suspicious': 8913, 'tax-free': 8914, 'white': 8915, 'Prentice-Hall': 8916, 'Maynor': 8917, 'fluid': 8918, 'prayers': 8919, 'smelts': 8920, 'marveled': 8921, 'Mobutu': 8922, 'disharmony': 8923, 'Row': 8924, 'uniforms': 8925, 'subbing': 8926, 'Defends': 8927, 'Gods': 8928, 'understands': 8929, 'hood': 8930, 'integration': 8931, \"Mississippi's\": 8932, 'Mantle': 8933, 'Molly': 8934, 'Willett': 8935, 'Stonestown': 8936, 'Bad': 8937, 'write': 8938, 'loose': 8939, 'legislators': 8940, 'patrol': 8941, 'jails': 8942, \"Kramer's\": 8943, '3-game': 8944, 'experience': 8945, 'Atty.': 8946, 'Delaney': 8947, 'Orlando': 8948, 'rightfield': 8949, 'convertible': 8950, 'employers': 8951, 'who': 8952, '11-month-old': 8953, 'weighs': 8954, 'incorrigible': 8955, 'plants': 8956, 'signaled': 8957, '1932': 8958, 'In': 8959, 'carpeted': 8960, 'OK': 8961, 'Colonial': 8962, 'known': 8963, 'Anthony': 8964, 'downstairs': 8965, 'renew': 8966, 'Island': 8967, 'embassies': 8968, 'floors': 8969, 'principle': 8970, 'Control': 8971, '$5,000': 8972, 'trouble': 8973, 'janitor': 8974, 'irrespective': 8975, 'retrenching': 8976, 'Board': 8977, 'monotonous': 8978, 'merit': 8979, 'allocation': 8980, 'precede': 8981, 'dining': 8982, 'Grady': 8983, 'tasks': 8984, 'coincidence': 8985, 'desperate': 8986, 'Carre': 8987, 'Chisholm': 8988, 'around': 8989, 'subject': 8990, 'paused': 8991, '2-and-2': 8992, 'hopeful': 8993, 'meat': 8994, 'workout': 8995, 'opposite': 8996, 'trend': 8997, \"farmers'\": 8998, 'Ridge': 8999, 'Asian': 9000, 'price-setting': 9001, 'tournaments': 9002, 'juice': 9003, \"Luke's\": 9004, 'riding': 9005, 'Todd': 9006, 'capsule': 9007, 'alter': 9008, '343': 9009, 'Rules': 9010, 'Cantonese': 9011, 'Legion': 9012, 'scholarship': 9013, 'S.': 9014, 'sympathetic': 9015, 'policy': 9016, 'sources': 9017, 'exploratory': 9018, 'Ensign': 9019, 'Italian': 9020, 'subdued': 9021, 'lamp': 9022, 'Twins': 9023, 'thirty': 9024, 'daily': 9025, 'northern': 9026, \"York's\": 9027, 'wider': 9028, 'he': 9029, 'Momentarily': 9030, 'agencies': 9031, '162-game': 9032, 'wanting': 9033, 'lift': 9034, 'inapt': 9035, 'ruddy': 9036, '1945': 9037, \"Bernadine's\": 9038, 'allotting': 9039, 'Stern': 9040, 'window': 9041, 'lifetime': 9042, 'frank': 9043, \"ol'\": 9044, 'pipe': 9045, 'Testament': 9046, 'burning': 9047, 'Waveland': 9048, 'Andover': 9049, 'starting': 9050, 'men': 9051, 'April': 9052, 'Empire': 9053, 'Wards': 9054, \"Boston's\": 9055, 'none': 9056, 'fabled': 9057, 'catchers': 9058, 'L.': 9059, 'Mark': 9060, 'breasts': 9061, 'burned': 9062, 'express': 9063, 'Southeastern': 9064, 'wilderness': 9065, 'master': 9066, 'State': 9067, 'entrant': 9068, 'propeller': 9069, 'Emory': 9070, 'belongs': 9071, \"builders'\": 9072, '1565': 9073, 'reliance': 9074, 'recruiter': 9075, 'phonies': 9076, 'Cubs': 9077, 'Adequate': 9078, 'fullback': 9079, 'have': 9080, 'manner': 9081, 'borders': 9082, 'formative': 9083, 'inconclusive': 9084, 'left-centerfield': 9085, 'likely': 9086, 'China': 9087, 'declaring': 9088, 'Restaurant': 9089, 'sins': 9090, '124': 9091, 'winnings': 9092, 'suspected': 9093, 'signs': 9094, 'chapel': 9095, 'Business': 9096, 'Levitt': 9097, 'Underlying': 9098, 'bespectacled': 9099, 'realize': 9100, 'still-building': 9101, 'department': 9102, 'deputies': 9103, 'leg': 9104, 'fiasco': 9105, '$2400': 9106, 'Gloriana': 9107, 'extensions': 9108, 'direct': 9109, 'landscaped': 9110, 'Tualatin': 9111, 'tract': 9112, 'F': 9113, 'notion': 9114, 'spraying': 9115, 'Adjusted': 9116, 'irrationality': 9117, 'Fleisher': 9118, 'Mississippi': 9119, 'ears': 9120, 'Sharpe': 9121, '41-8': 9122, 'Olympic': 9123, 'keeps': 9124, 'Gannon': 9125, 'unfortunately': 9126, 'officious': 9127, 'methods': 9128, 'Robertsons': 9129, 'Because': 9130, 'grader': 9131, 'subsidies': 9132, 'revelation': 9133, 'Columbia': 9134, 'take-off': 9135, 'Ricci': 9136, 'restless': 9137, 'Several': 9138, 'evacuation': 9139, 'unless': 9140, \"McClellan's\": 9141, 'Paul-Minneapolis': 9142, 'Contributions': 9143, 'crucial': 9144, 'reprisal': 9145, 'be': 9146, 'fourth': 9147, 'relationships': 9148, 'grillwork': 9149, 'find': 9150, 'mileage': 9151, 'winning': 9152, \"golf's\": 9153, \"They've\": 9154, 'Njust': 9155, 'Northeast': 9156, 'endowment': 9157, 'Tarrant': 9158, 'belated': 9159, 'MacDonald': 9160, 'Vast': 9161, 'solo': 9162, 'Brothers': 9163, 'door': 9164, 'jail': 9165, 'librarians': 9166, 'dispute': 9167, 'Trustees': 9168, 'motion-picture': 9169, 'clearly': 9170, 'Halfback': 9171, 'general': 9172, 'buss': 9173, 'soup': 9174, 'M.': 9175, 'league': 9176, 'picker': 9177, 'total': 9178, 'steam': 9179, 'English': 9180, 'rioting': 9181, 'tri-motor': 9182, 'counseled': 9183, 'teams': 9184, 'tribesmen': 9185, 'realities': 9186, '50,000,000': 9187, 'women': 9188, '1.23': 9189, 'conducting': 9190, 'leaving': 9191, 'Sequoia': 9192, 'Tee': 9193, 'service': 9194, 'irregularities': 9195, 'low': 9196, 'drank': 9197, 'hog': 9198, 'P.M.': 9199, \"one's\": 9200, 'Army': 9201, \"moment's\": 9202, 'character': 9203, 'epicure': 9204, 'aiming': 9205, 'Trouble-free': 9206, 'cloture': 9207, '5-to-3': 9208, 'knuckleball': 9209, 'figuring': 9210, 'asset': 9211, 'absorb': 9212, 'Chen': 9213, 'Fairy': 9214, 'Held': 9215, 'boos': 9216, 'Generally': 9217, 'voice': 9218, 'Ciciulla': 9219, 'fiery': 9220, 'maintaining': 9221, 'tangle': 9222, 'vests': 9223, 'External': 9224, 'dispatched': 9225, 'decertify': 9226, 'advisors': 9227, 'calypso': 9228, 'Anniston': 9229, 'clamoring': 9230, \"motorists'\": 9231, 'demonstrated': 9232, 'mound': 9233, 'nerves': 9234, '33-man': 9235, 'Captain': 9236, 'My': 9237, 'Mullen': 9238, 'Souvanna': 9239, \"taxpayer's\": 9240, 'shrink': 9241, 'surged': 9242, 'deny': 9243, 'stiff': 9244, 'ex-marine': 9245, \"Francisco's\": 9246, 'adoption': 9247, 'plaintiffs': 9248, 'hours': 9249, 'Pulling': 9250, 'assist': 9251, 'inverted': 9252, 'square': 9253, 'needy': 9254, 'Roy': 9255, 'goutte': 9256, 'tires': 9257, 'shades': 9258, '543': 9259, 'Jersey': 9260, 'personalities': 9261, 'likelihood': 9262, 'Noel': 9263, 'instrumentals': 9264, 'physical': 9265, 'lunch': 9266, 'executive': 9267, 'Smythe': 9268, 'ringsiders': 9269, 'apartments': 9270, 'witnessing': 9271, 'easy-to-reach': 9272, 'separate': 9273, 'issue': 9274, 'outdoors': 9275, 'Dublin': 9276, 'appeared': 9277, \"players'\": 9278, 'Ekberg': 9279, \"Lowe's\": 9280, \"''\": 9281, 'She': 9282, 'six-point': 9283, 'past': 9284, 'arc': 9285, 'captivating': 9286, 'booked': 9287, 'improving': 9288, \"general's\": 9289, 'rationale': 9290, 'Kililngsworth': 9291, 'grip': 9292, 'image': 9293, 'halfbacks': 9294, 'Brady': 9295, 'Fanning': 9296, 'Wissahickon': 9297, 'Negroes': 9298, 'Jack': 9299, 'Mary': 9300, 'adjustment': 9301, 'classmates': 9302, '2d': 9303, 'dark': 9304, 'Smithfield': 9305, 'Wilshire': 9306, 'vice-chairman': 9307, 'stays': 9308, \"Robinson's\": 9309, 'bric-a-brac': 9310, 'residence': 9311, 'Scottish': 9312, 'compromise': 9313, 'McElvaney': 9314, 'Tigard': 9315, 'R-Bergen': 9316, 'month-long': 9317, 'garrulous': 9318, 'frustrating': 9319, 'Wick': 9320, 'subjected': 9321, 'States': 9322, 'previous': 9323, 'highs': 9324, 'Instant': 9325, 'recalls': 9326, 'Thus': 9327, \"Cotten's\": 9328, 'recipe': 9329, 'lamb': 9330, 'presumably': 9331, 'quiet': 9332, 'sophomore': 9333, 'Eleanor': 9334, 'drifting': 9335, 'Davis': 9336, 'offices': 9337, 'Cecilia': 9338, 'sex': 9339, 'guardians': 9340, 'wetlands': 9341, 'threats': 9342, 'fielding': 9343, 'library': 9344, 'last-minute': 9345, 'Ky.': 9346, 'got': 9347, 'charge': 9348, 'threaten': 9349, 'initially': 9350, 'Salvation': 9351, 'understandable': 9352, 'schedule': 9353, 'recruits': 9354, 'handling': 9355, 'capital': 9356, 'Floresville': 9357, 'Fields': 9358, 'Wheel': 9359, '4-13': 9360, 'Barrett': 9361, 'whereby': 9362, 'suspend': 9363, 'deductions': 9364, 'spotlight': 9365, 'secret': 9366, 'regime': 9367, 'effects': 9368, '1951': 9369, 'Therefore': 9370, 'subsidized': 9371, 'Bay': 9372, 'frames': 9373, 'Total': 9374, 'below': 9375, 'red': 9376, 'Patrolman': 9377, 'Kirov': 9378, 'trailing': 9379, 'savage': 9380, 'Stanton': 9381, 'Valuable': 9382, 'Tension': 9383, 'Pete': 9384, 'steamily': 9385, 'Armenian': 9386, 'stretching': 9387, 'sounded': 9388, 'planner': 9389, 'all-important': 9390, 'monumental': 9391, 'Aparicio': 9392, '5-game': 9393, 'resentment': 9394, 'hawing': 9395, 'pulled': 9396, 'advice': 9397, 'bats': 9398, 'Cecil': 9399, 'Goodis': 9400, 'Citizens': 9401, 'small-town': 9402, 'preliminary': 9403, 'animated': 9404, 'Charges': 9405, 'Twenty-four': 9406, 'flanked': 9407, 'imbroglio': 9408, 'Finally': 9409, 'judges': 9410, 'McN.': 9411, 'constituted': 9412, 'crushing': 9413, 'evenings': 9414, 'Abe': 9415, 'Durante': 9416, 'newsletter': 9417, 'pattern': 9418, 'challenging': 9419, 'There': 9420, 'table': 9421, 'tax': 9422, '11-3': 9423, 'hostess': 9424, 'endorse': 9425, 'appointee': 9426, \"Commissioner's\": 9427, 'essential': 9428, 'Vickery': 9429, 'Burnside': 9430, 'returning': 9431, 'withdraw': 9432, 'Soule': 9433, 'Western': 9434, 'upward': 9435, 'plant': 9436, 'honeymoon': 9437, 'injuring': 9438, 'succeeds': 9439, 'letting': 9440, 'opened': 9441, '4-1/2%': 9442, 'caramel': 9443, 'Socola': 9444, 'exempt': 9445, 'MVP': 9446, 'mayor': 9447, 'Driver': 9448, 'baneful': 9449, 'Gregg': 9450, 'belt': 9451, 'Weaver': 9452, '23-year-old': 9453, 'officered': 9454, 'critics': 9455, 'makeshift': 9456, 'evasive': 9457, 'tours': 9458, 'consultant': 9459, 'Wheeler': 9460, 'reelected': 9461, 'phases': 9462, \"Jenkins's\": 9463, '85': 9464, 'criticisms': 9465, 'addition': 9466, 'Anne': 9467, 'hero': 9468, 'always': 9469, '1,212,000': 9470, 'charges': 9471, 'outlook': 9472, 'Barr': 9473, 'choosing': 9474, 'Bester': 9475, 'flowers': 9476, 'uncommon': 9477, 'group': 9478, 'Harbor': 9479, 'reflected': 9480, 'self-exile': 9481, 'knees': 9482, 'Barnett': 9483, 'pays': 9484, 'influence': 9485, 'Culmone': 9486, 'Herrington': 9487, 'contract': 9488, 'reactions': 9489, '101b': 9490, 'Bearden': 9491, 'destined': 9492, 'ersatz': 9493, 'dominate': 9494, 'wealthy': 9495, 'schedules': 9496, 'freight': 9497, \"Mansion's\": 9498, 'Hays': 9499, 'puppet': 9500, 'snapped': 9501, '$740,000': 9502, 'innocent': 9503, 'tilts': 9504, 'manufacturing': 9505, 'candle': 9506, 'outsiders': 9507, 'soon': 9508, 'Help': 9509, 'bundle': 9510, 'Sheraton-Dallas': 9511, 'announce': 9512, 'argued': 9513, 'boobify': 9514, 'aya': 9515, 'Arrow': 9516, 'Over': 9517, \"earth's\": 9518, 'provided': 9519, 'lag': 9520, 'grammar': 9521, 'contempt': 9522, \"Kirov's\": 9523, 'Tunisian': 9524, 'Stagecoach': 9525, 'Elder': 9526, 'chicanery': 9527, 'flashy': 9528, 'John': 9529, 'fronts': 9530, 'choking': 9531, 'lost': 9532, 'happier': 9533, 'Gettysburg': 9534, 'contested': 9535, 'Delhi': 9536, 'Presbyterian': 9537, 'grass-green': 9538, \"'em\": 9539, 'Bake': 9540, 'possessing': 9541, 'Aldo': 9542, 'unprecedented': 9543, 'Lake': 9544, 'pepping': 9545, 'assisted': 9546, 'signing': 9547, \"members'\": 9548, 'constituents': 9549, 'candidate': 9550, 'caskets': 9551, 'usefulness': 9552, 'Cedar': 9553, 'episode': 9554, '$1,600': 9555, 'Huff': 9556, 'nearby': 9557, 'multiple': 9558, 'snubbed': 9559, 'paneling': 9560, 'Epsilon': 9561, 'temporarily': 9562, 'liveliness': 9563, 'lawmakers': 9564, 'magazine': 9565, 'football': 9566, 'enabling': 9567, 'speaking': 9568, 'University': 9569, 'presidency': 9570, 'Vic': 9571, 'fearing': 9572, 'vitally': 9573, 'demanding': 9574, 'legal': 9575, 'tardiness': 9576, 'fins': 9577, 'rendered': 9578, 'data': 9579, 'acclaim': 9580, 'celebrating': 9581, 'tongues': 9582, 'Hinsdale': 9583, \"Arkansas'\": 9584, 'supersensitive': 9585, 'regard': 9586, 'difference': 9587, 'fuselage': 9588, 'Cohen': 9589, 'amounted': 9590, 'permits': 9591, 'Books': 9592, 'impressions': 9593, 'arguments': 9594, 'rig': 9595, 'slammed': 9596, 'precedence': 9597, 'colleagues': 9598, 'stephanotis': 9599, \"Cipriani's\": 9600, 'airstrip': 9601, 'shareholder': 9602, 'codes': 9603, 'Growth': 9604, 'Inspections': 9605, '1900': 9606, 'join': 9607, 'Bet': 9608, 'handwriting': 9609, 'agriculture': 9610, 'discarded': 9611, 'airplane': 9612, 'Sydney': 9613, 'Alexandria': 9614, 'Actor-Crooner': 9615, 'fee': 9616, \"maskers'\": 9617, 'heirs': 9618, 'Egypt': 9619, 'historic': 9620, 'Performers': 9621, 'Hackett': 9622, 'transfers': 9623, 'Chase': 9624, 'province': 9625, 'assistant': 9626, 'payoff': 9627, 'loyal': 9628, 'wired': 9629, 'threatening': 9630, 'inviolate': 9631, 'slower': 9632, 'Success': 9633, 'throws': 9634, 'UGF': 9635, 'seashore': 9636, '46th': 9637, 'Hopefully': 9638, 'Cuban': 9639, 'Railroads': 9640, 'aircraft': 9641, 'admired': 9642, 'numbers': 9643, 'Calif.': 9644, 'exactly': 9645, 'eligible': 9646, 'Marriage': 9647, 'attachment': 9648, 'undertakes': 9649, 'struck': 9650, 'Shopping': 9651, 'Piersee': 9652, \"Stone's\": 9653, 'paving': 9654, 'inches': 9655, 'announced': 9656, '56': 9657, 'drought-seared': 9658, '3.25': 9659, 'anticipated': 9660, 'Orkney': 9661, 'consulting': 9662, 'Ruling': 9663, 'crowning': 9664, 'Armed': 9665, 'reached': 9666, 'Porter': 9667, \"Rickey's\": 9668, 'Tahoe': 9669, 'hospital': 9670, 'camera': 9671, 'Mongolia': 9672, 'laid': 9673, 'England': 9674, 'Friends': 9675, 'Mankowski': 9676, '1,253': 9677, 'fall': 9678, 'prepayment': 9679, 'Counties': 9680, 'marginal': 9681, 'Calmer': 9682, 'non-farm': 9683, 'gown': 9684, '1930': 9685, 'Minnesota': 9686, 'Tallahassee': 9687, 'survey': 9688, 'Wilhelm': 9689, 'inflexible': 9690, 'wind': 9691, \"Wert's\": 9692, 'Dame': 9693, 'homeowners': 9694, 'speck': 9695, 'al': 9696, 'scenery': 9697, 'bodies': 9698, 'Giacometti': 9699, 'Clerks': 9700, 'Story': 9701, 'leaguer': 9702, 'Piraro': 9703, '$66,000': 9704, 'Into': 9705, 'Contemporary': 9706, 'Rayburn': 9707, 'Innumerable': 9708, 'eliminating': 9709, 'congressional': 9710, 'Neveh': 9711, 'burrowed': 9712, 'legislation-delaying': 9713, 'Nordmann': 9714, 'entertaining': 9715, 'Rouge': 9716, 'average': 9717, 'such': 9718, 'building': 9719, 'over': 9720, 'suffered': 9721, 'decor': 9722, 'functions': 9723, 'impunity': 9724, 'rounded': 9725, 'compact': 9726, 'two-hour': 9727, 'May': 9728, 'safe': 9729, 'rising': 9730, 'Murville': 9731, 'swelling': 9732, 'Sabol': 9733, 'Fla.': 9734, 'surpassed': 9735, 'winds': 9736, '2.295%': 9737, 'Policies': 9738, 'removed': 9739, 'Masque': 9740, 'Jamaica': 9741, 'melted': 9742, 'drive-in': 9743, 'Duncan': 9744, 'forum': 9745, 'acclaimed': 9746, 'Donald': 9747, 'Courbet': 9748, 'prosperity': 9749, 'Richards': 9750, 'came': 9751, 'air-conditioned': 9752, \"O'Neill\": 9753, 'Security': 9754, 'November': 9755, 'belatedly': 9756, 'Snodgrass': 9757, 'march': 9758, 'dutifully': 9759, 'sun-tanned': 9760, 'boiling': 9761, 'field': 9762, 'Cauffman': 9763, 'anti-submarine': 9764, 'giant': 9765, 'Muncipal': 9766, 'renewed': 9767, 'horse': 9768, 'addresses': 9769, 'soft': 9770, 'portion': 9771, 'Raesz': 9772, 'cool': 9773, 'Camille': 9774, 'pitching': 9775, 'crime': 9776, 'liberty': 9777, 'outgoing': 9778, '$25': 9779, \"aren't\": 9780, 'construction': 9781, 'light': 9782, 'procurement': 9783, 'Abatuno': 9784, 'Knauer': 9785, 'requiring': 9786, 'jitters': 9787, 'Aquinas': 9788, 'sea': 9789, 'understanding': 9790, 'safety': 9791, 'upstairs': 9792, 'Alice': 9793, 'Fifty-three': 9794, 'twirler': 9795, 'trait': 9796, 'husband': 9797, '$85': 9798, 'emerge': 9799, 'co-chairmen': 9800, 'big': 9801, 'self-portrait': 9802, 'fires': 9803, 'parents': 9804, 'steady': 9805, 'Webster': 9806, 'strong': 9807, 'shell': 9808, 'craftsman': 9809, 'confronts': 9810, 'Ticker': 9811, 'assume': 9812, 'crabs': 9813, 'punching': 9814, 'pink': 9815, 'forbid': 9816, '6934': 9817, 'treacheries': 9818, 'pockets': 9819, 'consumer': 9820, '25-minute': 9821, 'seasons': 9822, 'creative': 9823, 'controversy': 9824, 'Cervetto': 9825, 'smallest': 9826, 'Leo': 9827, 'understates': 9828, 'radioactive': 9829, 'get': 9830, 'When': 9831, 'tactic': 9832, 'Jimmy': 9833, 'projects': 9834, 'represented': 9835, 'cleaner': 9836, 'Peking': 9837, 'conductor': 9838, 'incinerator': 9839, 'Hempstead': 9840, 'span': 9841, 'wins': 9842, 'hand': 9843, 'suburban': 9844, 'Columnist': 9845, 'Purchasing': 9846, 'setbacks': 9847, 'Field': 9848, 'stomachs': 9849, 'Ambassador-designate': 9850, 'nationwide': 9851, 'See-through': 9852, \"nation's\": 9853, 'roster': 9854, 'flourish': 9855, 'pine': 9856, 'Plan': 9857, 'transferring': 9858, 'trim': 9859, 'world-famous': 9860, '415': 9861, \"That's\": 9862, 'sequins': 9863, 'alongside': 9864, 'Stan': 9865, 'Artist': 9866, 'Nugent': 9867, 'Cape': 9868, 'disagreed': 9869, 'realistic': 9870, 'souvenir': 9871, 'flights': 9872, 'Stout': 9873, 'collonaded': 9874, 'erratic': 9875, 'Souphanouvong': 9876, 'outclassed': 9877, '14th': 9878, '1922': 9879, 'ambition': 9880, 'transaction': 9881, \"Fiedler's\": 9882, 'replaced': 9883, 'Kimmell': 9884, 'masked': 9885, '21-year': 9886, \"game's\": 9887, 'successful': 9888, 'Tommy': 9889, 'stopovers': 9890, 'gubernatorial': 9891, 'drab': 9892, 'inning': 9893, '1,065': 9894, '16,000': 9895, '3-to-o': 9896, 'sacrifice': 9897, 'class': 9898, 'distributions': 9899, '$400': 9900, '645-acre': 9901, 'ceramic': 9902, 'pro': 9903, 'designer': 9904, 'living': 9905, 'By-passing': 9906, 'reign': 9907, '56-yard': 9908, 'harder': 9909, 'Foster': 9910, 'neutralized': 9911, \"years'\": 9912, 'representing': 9913, 'de': 9914, 'motorists': 9915, \"Pohl's\": 9916, 'Verboort': 9917, '$88,000': 9918, 'victim': 9919, 'poetic': 9920, 'Eight': 9921, 'Knoll': 9922, 'cliffhanging': 9923, 'copper': 9924, 'Malmud': 9925, 'shocker': 9926, 'Nothing': 9927, 'ribbons': 9928, \"we're\": 9929, 'rangers': 9930, 'trophy': 9931, 'phalanx': 9932, 'thug': 9933, 'investor': 9934, 'west': 9935, 'maximum': 9936, 'Drury': 9937, 'agenda': 9938, 'discharge': 9939, 'cooled': 9940, 'One': 9941, 'resented': 9942, 'planned': 9943, 'earlier': 9944, '11-year': 9945, 'lived': 9946, '$457,000': 9947, 'finale': 9948, '4-H': 9949, 'disagreement': 9950, 'exhibit': 9951, 'observer': 9952, 'isolated': 9953, 'Flower': 9954, 'Bloom': 9955, \"Airline's\": 9956, 'scale': 9957, 'Yards': 9958, 'Yankees': 9959, 'Gold': 9960, 'Truck': 9961, 'towards': 9962, 'keyhole': 9963, 'spots': 9964, '$3': 9965, \"Gordon's\": 9966, 'Jana': 9967, \"you'd\": 9968, 'attracted': 9969, 'elections': 9970, \"board's\": 9971, 'overcrowding': 9972, 'simply': 9973, \"Britain's\": 9974, '116': 9975, 'exhaust': 9976, 'copies': 9977, 'commuting': 9978, 'covers': 9979, 'exception': 9980, '12': 9981, 'nearing': 9982, 'motorist': 9983, 'signals': 9984, 'rank': 9985, 'Toronto': 9986, 'Bandish': 9987, 'replies': 9988, 'Bucky': 9989, 'author': 9990, 'sculpture': 9991, 'Eighteenth': 9992, 'Saba': 9993, 'charm': 9994, 'Outlays': 9995, 'staffed': 9996, 'aftermath': 9997, 'amiable': 9998, 'prone': 9999, 'Bietnar': 10000, 'Symphony': 10001, '44-year-old': 10002, 'passing': 10003, 'provinces': 10004, 'also': 10005, 'restaurant': 10006, 'Ancient': 10007, 'constructive': 10008, 'materialize': 10009, 'Today': 10010, 'biologist': 10011, 'upset': 10012, 'Colavito': 10013, 'jumped': 10014, 'Heavy': 10015, 'GOP': 10016, 'fizzled': 10017, 'Bowman': 10018, 'in': 10019, 'triple': 10020, '21-2': 10021, 'Samuels': 10022, 'screenings': 10023, \"symphony's\": 10024, 'qualify': 10025, 'equally': 10026, 'agreed': 10027, 'Abolition': 10028, 'tighten': 10029, '2,963': 10030, 'African': 10031, 'baseballs': 10032, 'fraternity': 10033, 'recognize': 10034, 'favorable': 10035, 'startlingly': 10036, 'Ellsworth': 10037, 'humiliating': 10038, 'Capt.': 10039, 'emphasis': 10040, 'Clement': 10041, 'parts': 10042, 'enunciate': 10043, 'far-reaching': 10044, 'sp.': 10045, 'playable': 10046, 'Dior': 10047, \"Musician's\": 10048, 'Scarsdale': 10049, 'split-level': 10050, 'Schmidl-Seeberg': 10051, 'merry-go-round': 10052, 'builder': 10053, 'stands': 10054, 'admittance': 10055, 'help': 10056, 'Hole': 10057, 'collective': 10058, 'an': 10059, 'regents': 10060, 'Potter': 10061, 'abortive': 10062, 'tide': 10063, 'home-owners': 10064, '$120': 10065, 'heredity': 10066, '767': 10067, '1,257,700': 10068, 'jumpy': 10069, 'Westphalia': 10070, 'Days': 10071, 'single': 10072, 'Headquarters': 10073, 'ballplayer': 10074, '224-170': 10075, 'somewhere': 10076, 'Tipoff': 10077, 'agreement': 10078, 'ex-Mrs.': 10079, 'pilgrimage': 10080, '1311': 10081, 'grateful': 10082, 'Forever': 10083, 'helpless': 10084, 'flung': 10085, 'news': 10086, 'long': 10087, 'Cabot': 10088, 'sagging': 10089, 'prospect': 10090, 'Howsam': 10091, 'Basel': 10092, 'Constitution': 10093, 'Administrator': 10094, 'maintain': 10095, 'Notte': 10096, 'Castro': 10097, 'streaked': 10098, 'body': 10099, 'Magarrell': 10100, 'tenths': 10101, 'item': 10102, 'bowed': 10103, 'throughout': 10104, 'Carlson': 10105, 'Easter': 10106, 'political': 10107, 'agent': 10108, 'uniform': 10109, 'Steel': 10110, 'Somewhere': 10111, 'owners': 10112, 'dares': 10113, 'afraid': 10114, 'decision': 10115, '707': 10116, 'blood': 10117, 'readers': 10118, 'cancel': 10119, 'fortune': 10120, 'gravy': 10121, '2269': 10122, 'Traveler': 10123, 'measles': 10124, 'nose': 10125, 'machinist': 10126, 'both': 10127, 'category': 10128, 'plague': 10129, 'headlines': 10130, 'indispensable': 10131, 'stated': 10132, 'Services': 10133, 'embankment': 10134, 'elements': 10135, 'adept': 10136, '17,000': 10137, 'Kubek': 10138, 'McLemore': 10139, 'pooling': 10140, 'glamor': 10141, 'shares': 10142, 'credited': 10143, 'perhaps': 10144, 'Burke': 10145, \"manufacturers'\": 10146, 'Port': 10147, ';': 10148, 'amendments': 10149, 'Mellow': 10150, 'forswears': 10151, 'Crozier': 10152, 'threesome': 10153, 'Garland': 10154, 'Coal': 10155, 'commentator': 10156, 'crowd': 10157, 'technology': 10158, 'sentencing': 10159, 'Hillsdale': 10160, '$139.3': 10161, 'Ullman': 10162, 'Flushing': 10163, 'tiny': 10164, 'Fil': 10165, 'quiet-spoken': 10166, 'submitted': 10167, 'kick': 10168, 'profit': 10169, 'Twenty-one-year-old': 10170, 'culpas': 10171, 'ceremonial': 10172, 'unmeritorious': 10173, 'Lafe': 10174, 'Unlike': 10175, 'corporations': 10176, 'assault': 10177, 'vicious': 10178, 'Strip': 10179, 'behalf': 10180, 'grave': 10181, 'inquired': 10182, '6': 10183, 'scattered': 10184, 'denote': 10185, 'Force': 10186, 'ambiguous': 10187, 'spoken': 10188, 'capabilities': 10189, 'head': 10190, 'backgrounds': 10191, 'it': 10192, 'Guglielmo': 10193, 'Winston': 10194, 'Finan': 10195, 'finishing': 10196, 'seasonally': 10197, 'Lois': 10198, 'Konstantin': 10199, 'thorny': 10200, 'joining': 10201, 'dishes': 10202, 'ashes': 10203, 'poll': 10204, 'newlyweds': 10205, 'Principal': 10206, 'con': 10207, 'marriages': 10208, 'feet': 10209, 'loyalists': 10210, '150': 10211, 'Trading': 10212, \"year's\": 10213, \"Berra's\": 10214, '10-hour': 10215, 'restrict': 10216, 'Bake-off': 10217, 'clerical': 10218, 'extensive': 10219, 'Kremlin': 10220, 'persistent': 10221, 'Post-Dispatch': 10222, 'faster': 10223, 'bill': 10224, 'interrupt': 10225, 'cobalt': 10226, 'inappropriate': 10227, 'shelves': 10228, 'Conservation': 10229, 'transition': 10230, 'Oum': 10231, 'Police': 10232, 'likes': 10233, 'force': 10234, 'scene': 10235, 'Change': 10236, 'Vernava': 10237, 'Rostagno': 10238, '4-under-par': 10239, 'killer': 10240, 'Chiuchow': 10241, 'dead': 10242, 'plaques': 10243, 'heel': 10244, 'seems': 10245, 'SE': 10246, 'Compare': 10247, 'passages': 10248, 'one': 10249, '$5,000,000': 10250, 'dull': 10251, 'Tunisia': 10252, 'awed': 10253, 'paper': 10254, 'Duffy': 10255, 'decrease': 10256, 'indictment': 10257, 'fame': 10258, '$115,000': 10259, 'Crippled': 10260, 'Vernor': 10261, 'Drinkhouse': 10262, 'Blum': 10263, 'kidnaped': 10264, 'run-up': 10265, 'sees': 10266, 'Tex.': 10267, 'separately': 10268, 'Lee': 10269, 'discharged': 10270, 'handy': 10271, 'combining': 10272, 'defeat': 10273, 'Leningrad': 10274, 'NLRB': 10275, 'log-jam': 10276, 'stars': 10277, 'upturn': 10278, 'Festival': 10279, 'spreads': 10280, 'Motorists': 10281, 'authorize': 10282, 'Willamette': 10283, 'Slenczynka': 10284, 'lustrous': 10285, 'work': 10286, 'balding': 10287, 'golfers': 10288, 'soloists': 10289, 'himself': 10290, 'demands': 10291, 'Methodist': 10292, 'hits': 10293, 'Zinman': 10294, 'Graduate': 10295, 'furlough': 10296, 'Bourcier': 10297, 'Don': 10298, 'Bryan': 10299, 'competing': 10300, '100,000': 10301, 'someplace': 10302, 'stuck': 10303, 'five': 10304, 'Fire': 10305, 'fifteen': 10306, 'monopolistic': 10307, 'high': 10308, 'Edgar': 10309, 'Lawrence': 10310, 'disclosure': 10311, 'Ballroom': 10312, 'assistance': 10313, \"Mickey's\": 10314, 'enrollment': 10315, 'principles': 10316, 'Grayson': 10317, 'Pakistan': 10318, '3505o': 10319, 'Executives': 10320, 'survivors': 10321, '4-0': 10322, 'unprepared': 10323, 'storage': 10324, 'recognized': 10325, 'patience': 10326, 'revenues': 10327, 'naturally': 10328, 'Supreme': 10329, 'DiVarco': 10330, 'vice': 10331, 'gray': 10332, 'Rafer': 10333, 'poured': 10334, 'Alsop': 10335, 'tastes': 10336, 'enthusiastic': 10337, 'undergoing': 10338, 'Bootle': 10339, '10:45': 10340, 'Sharon': 10341, \"'52\": 10342, 'bounds': 10343, 'privileges': 10344, 'hospitals': 10345, 'Buck': 10346, 'swum': 10347, 'Confronted': 10348, 'zeal': 10349, 'dumb': 10350, 'solemnly': 10351, 'petitions': 10352, 'Kennedy': 10353, 'Knights': 10354, 'appointing': 10355, 'bad': 10356, 'appear': 10357, 'Governor': 10358, 'jewels': 10359, '40%': 10360, 'thriving': 10361, 'precautionary': 10362, 'totaled': 10363, 'wood': 10364, 'division': 10365, 'inform': 10366, 'Mom': 10367, 'Culbertson': 10368, 'Alva': 10369, 'illegitimacy': 10370, 'resigned': 10371, 'today': 10372, 'Register': 10373, 'unheard': 10374, 'bestowal': 10375, '36th': 10376, 'Angeles': 10377, 'walk': 10378, 'socks': 10379, 'Insurance': 10380, 'fifty': 10381, 'abide': 10382, 'opposes': 10383, 'Francis': 10384, 'Huntington': 10385, 'recalled': 10386, 'Dreamboat': 10387, '36-year-old': 10388, \"medico's\": 10389, 'grads': 10390, 'Rule': 10391, 'Hollowell': 10392, 'dissatisfaction': 10393, 'entomologist': 10394, 'confront': 10395, '1,509': 10396, 'middle': 10397, 'certain': 10398, 'Nobody': 10399, 'Homeowners': 10400, 'Hammarskjold': 10401, 'hosts': 10402, 'Easier': 10403, 'masonry': 10404, '350': 10405, 'Rhine-Westphalia': 10406, 'reducing': 10407, \"writers'\": 10408, '1-1/2': 10409, 'remembered': 10410, 'density': 10411, 'S.C.': 10412, 'literary': 10413, 'educated': 10414, '19': 10415, 'Section': 10416, 'chair': 10417, 'opportunities': 10418, 'operated': 10419, 'from': 10420, 'expense': 10421, 'efficiently': 10422, 'KQED': 10423, 'viewpoint': 10424, 'alike': 10425, 'grimly': 10426, 'Housed': 10427, \"Player's\": 10428, 'fool': 10429, 'air': 10430, 'allocate': 10431, 'offenders': 10432, \"tonight's\": 10433, 'compacts': 10434, 'interests': 10435, 'inherent': 10436, 'streets': 10437, \"Anne's\": 10438, 'minister': 10439, 'gentlemanly': 10440, 'pulling': 10441, 'foliage': 10442, 'became': 10443, 'friend': 10444, 'Lummus': 10445, 'boosting': 10446, 'banquet': 10447, \"Bros.'\": 10448, 'infiltrating': 10449, 'tube': 10450, 'referendum': 10451, 'Bush': 10452, 'Neumann': 10453, '$26,000,000': 10454, 'Toys': 10455, 'Alpharetta': 10456, 'Ronnie': 10457, 'ten-concert': 10458, 'Meyers': 10459, 'satisfying': 10460, 'Lorenz': 10461, 'increasingly': 10462, \"Angeles'\": 10463, 'crusher': 10464, \"Barnard's\": 10465, 'theaters': 10466, 'salesmanship': 10467, 'forget': 10468, 'residential': 10469, 'editing': 10470, 'policemen': 10471, 'countian': 10472, 'appearances': 10473, 'embossed': 10474, 'Moffett': 10475, 'Palmer': 10476, 'hoodlum': 10477, 'hunting': 10478, 'completing': 10479, 'action': 10480, 'Public': 10481, 'Living': 10482, 'weekend': 10483, 'Westminster': 10484, '1630': 10485, \"Carreon's\": 10486, \"I've\": 10487, 'Pi': 10488, 'professor': 10489, 'efficiency': 10490, 'Nursing': 10491, 'Ray': 10492, 'foot': 10493, 'canvassed': 10494, 'reads': 10495, 'limiting': 10496, 'technical': 10497, 'royal': 10498, 'independent': 10499, 'Pennsylvania': 10500, '1200': 10501, 'prices': 10502, 'Shelby': 10503, 'Pohly': 10504, 'inject': 10505, 'Hord': 10506, 'golf': 10507, 'Hoak': 10508, 'instruction': 10509, 'Tower': 10510, 'again': 10511, 'rotunda': 10512, 'Beneficiary': 10513, '195': 10514, 'satin': 10515, 'watered': 10516, 'Distributive': 10517, 'defense': 10518, 'baseman': 10519, 'Le': 10520, 'Fonta': 10521, 'proportionately': 10522, \"Bucs'\": 10523, 'printed': 10524, 'fielded': 10525, 'ignoring': 10526, 'succession': 10527, 'raincoats': 10528, 'peaks': 10529, 'communication': 10530, 'reason': 10531, 'Vermont': 10532, 'defends': 10533, 'Exhibition': 10534, 'Idea': 10535, 'wooden': 10536, 'Tenn.': 10537, 'Oriental': 10538, 'hence': 10539, 'disabuse': 10540, 'taunted': 10541, 'Morton': 10542, 'arson': 10543, 'anti-Negro': 10544, 'taxiing': 10545, 'Congressman': 10546, 'Listed': 10547, 'injuries': 10548, 'tumbled': 10549, 'chalk': 10550, '22-acre': 10551, 'whites': 10552, 'simplest': 10553, 'Jockey': 10554, 'Grandparents': 10555, 'policies': 10556, 'intra-mural': 10557, 'muttered': 10558, 'that': 10559, 'mentioned': 10560, 'Cubans': 10561, 'plight': 10562, 'live': 10563, 'compensated': 10564, 'authorities': 10565, 'motto': 10566, 'nightmare': 10567, 'thereby': 10568, 'offense': 10569, 'calmest': 10570, 'withdrawal': 10571, 'Ferdinando': 10572, 'Ainsworth': 10573, 'commissioner': 10574, 'minute': 10575, 'plot': 10576, 'attack': 10577, 'arranged': 10578, 'churches': 10579, 'vs.': 10580, 'walloping': 10581, 'economists': 10582, 'Major': 10583, 'lettermen': 10584, 'Anita': 10585, '10:30': 10586, 'circumstances': 10587, 'brutality': 10588, 'meeting': 10589, 'unique': 10590, 'grin': 10591, '21-9': 10592, 'Menuhin': 10593, 'establishing': 10594, 'approached': 10595, 'quest': 10596, 'Prejudice': 10597, 'shrinking': 10598, 'cheery': 10599, 'anti-Colmer': 10600, 'throwing': 10601, 'marks': 10602, 'incredible': 10603, 'embedded': 10604, 'understatement': 10605, 'Lloyd': 10606, 'anywhere': 10607, 'encourage': 10608, 'emasculated': 10609, 'snubbing': 10610, 'contractors': 10611, 'conferees': 10612, 'bypass': 10613, 'church-state': 10614, 'wards': 10615, 'turns': 10616, 'Carty': 10617, 'Marin': 10618, 'keep': 10619, 'Joplin': 10620, 'pledged': 10621, 'presence': 10622, '$3.5': 10623, 'Egerton': 10624, 'Meredith': 10625, '$1,800': 10626, 'validity': 10627, 'gross': 10628, \"Gannon's\": 10629, 'Chesapeake': 10630, 'Government': 10631, 'construed': 10632, \"Government's\": 10633, 'Meyle': 10634, 'youngsters': 10635, 'presumed': 10636, 'Kriss': 10637, 'prosecute': 10638, 'Toni': 10639, 'Di': 10640, 'posts': 10641, '3-run': 10642, 'eleven': 10643, 'partially': 10644, 'Gilman': 10645, \"Rembrandt's\": 10646, 'wonder': 10647, 'reservoirs': 10648, 'guarding': 10649, 'boldly': 10650, 'Cuban-American': 10651, 'wheel': 10652, 'styling': 10653, 'remain': 10654, 'third-inning': 10655, 'injection': 10656, 'huzzahs': 10657, 'candid': 10658, 'Nikita': 10659, 'books': 10660, 'future': 10661, 'Hiring': 10662, 'increased': 10663, 'impotency': 10664, 'traditional': 10665, 'fought': 10666, \"Philadelphia's\": 10667, 'Ramsey': 10668, 'domestic': 10669, 'activities': 10670, 'evidently': 10671, 'allows': 10672, \"Nation's\": 10673, 'basic': 10674, 'Displayed': 10675, 'Kestner': 10676, 'Chromspun': 10677, 'focused': 10678, 'opposition': 10679, 'highly': 10680, '21': 10681, 'flat': 10682, 'compensation': 10683, 'outset': 10684, 'ant': 10685, 'county-wide': 10686, 'Gretchen': 10687, 'constructing': 10688, 'establishment': 10689, 'licensing': 10690, 'employer': 10691, 'Socialist': 10692, \"tomorrow's\": 10693, 'pricking': 10694, 'crowds': 10695, 'companies': 10696, 'physics': 10697, 'lie': 10698, 'decorative': 10699, 'Handsome': 10700, 'Cemetery': 10701, 'electrical': 10702, 'groups': 10703, 'librarian': 10704, '$157,460': 10705, 'though': 10706, 'successors': 10707, \"Eisenhower's\": 10708, 'discover': 10709, 'compare': 10710, 'slope': 10711, 'piano': 10712, 'momentum': 10713, 'tee': 10714, 'heaters': 10715, 'vulgar': 10716, 'secondary': 10717, 'discovered': 10718, '$300,000,000': 10719, 'banker': 10720, 'Clint': 10721, 'potential': 10722, 'Monday': 10723, 'Nebraska': 10724, 'stepping': 10725, 'Copper': 10726, 'Zeising': 10727, 'masquerades': 10728, 'versed': 10729, 'verdict': 10730, 'expires': 10731, 'Beman': 10732, 'jacket': 10733, 'trusting': 10734, 'govern': 10735, 'Miss.': 10736, 'deficiency': 10737, '$1.4': 10738, 'net': 10739, 'inner': 10740, 'records': 10741, 'Tim': 10742, 'Repertory': 10743, 'striking': 10744, 'dated': 10745, 'Cod': 10746, 'Blanchard': 10747, 'subsidy': 10748, 'March': 10749, 'inscription': 10750, 'defendant': 10751, 'prod': 10752, 'worthiest': 10753, 'freeze': 10754, 'justice': 10755, 'fashions': 10756, 'fumble': 10757, 'armchairs': 10758, 'sitting': 10759, 'broaden': 10760, 'Major-League': 10761, 'yields': 10762, 'Brod': 10763, 'Candlestick': 10764, 'doctors': 10765, 'stage': 10766, 'Bonanza': 10767, 'buffet': 10768, 'views': 10769, 'certifying': 10770, 'straight': 10771, 'goals': 10772, 'sportswriter': 10773, 'E.G.T.': 10774, 'grows': 10775, 'closed-door': 10776, '6,000': 10777, 'sat': 10778, 'volunteer': 10779, 'Rounded': 10780, 'Moments': 10781, 'orange': 10782, 'thinning': 10783, 'nominal': 10784, 'Sam': 10785, 'despite': 10786, 'Southeast': 10787, 'book': 10788, '$2.80': 10789, 'richer': 10790, 'Corporation': 10791, 'misunderstandings': 10792, 'thoroughfare': 10793, 'sensation': 10794, 'allegedly': 10795, 'incredibly': 10796, 'Same': 10797, 'military': 10798, 'Wash.': 10799, 'monopoly': 10800, 'taffeta': 10801, 'Volume': 10802, 'expected': 10803, 'preached': 10804, 'Gaither': 10805, 'sooner': 10806, 'intervening': 10807, 'Prince': 10808, 'clearing': 10809, '87-1/2': 10810, 'four': 10811, 'easier': 10812, 'wrinkle': 10813, 'bass': 10814, 'high-ceilinged': 10815, \"Caltech's\": 10816, 'Exchange': 10817, 'picketed': 10818, 'places': 10819, 'Paget': 10820, 'accommodated': 10821, '500': 10822, 'AM': 10823, 'consult': 10824, 'landscape': 10825, \"Friday's\": 10826, '1.58': 10827, 'Waxworks': 10828, 'fore': 10829, \"Purdue's\": 10830, 'fund': 10831, 'I.R.S.': 10832, 'hoping': 10833, 'southeast': 10834, 'timeless': 10835, 'rentals': 10836, 'tensions': 10837, 'allowance': 10838, 'Havana': 10839, 'illustrated': 10840, 'sharp': 10841, 'enough': 10842, 'saved': 10843, 'mid-June': 10844, 'Exclaimed': 10845, 'marked': 10846, 'dismiss': 10847, 'Happy': 10848, 'Proof': 10849, 'finger-paint': 10850, 'subsidiary': 10851, 'enforcement': 10852, 'Slack': 10853, 'intends': 10854, 'spoke': 10855, 'explicit': 10856, 'midway': 10857, 'Kika': 10858, 'No': 10859, 'Lopez': 10860, 'Colorado': 10861, 'London-based': 10862, 'struggle': 10863, 'Carpentier': 10864, 'fumes': 10865, 'twin': 10866, 'mobile': 10867, 'can': 10868, 'fact': 10869, 'specifications': 10870, 'Gallery': 10871, 'cold-war': 10872, 'studying': 10873, 'Flight': 10874, 'guaranteed': 10875, 'grant': 10876, 'bunter': 10877, 'Mulligatawny': 10878, 'Nae': 10879, '130': 10880, 'ringside': 10881, 'Loeb': 10882, 'detailed': 10883, 'conciliatory': 10884, 'surprises': 10885, 'Something': 10886, 'characteristic': 10887, '1942': 10888, 'for': 10889, 'notarized': 10890, 'editor': 10891, 'slaying': 10892, 'lobby': 10893, 'him': 10894, 'current': 10895, \"He'll\": 10896, 'Building': 10897, 'scheme': 10898, '87': 10899, 'marble': 10900, 'missile': 10901, \"Bootle's\": 10902, '1958-60': 10903, 'moves': 10904, 'relentlessly': 10905, 'distributed': 10906, 'symbol': 10907, 'graduation': 10908, 'carpet': 10909, 'De': 10910, 'scheduling': 10911, \"Berry's\": 10912, 'Shriver': 10913, 'Vita': 10914, \"fund's\": 10915, '4.4': 10916, 'expects': 10917, 'floated': 10918, '220-yard': 10919, 'business': 10920, 'Belvidere': 10921, \"church's\": 10922, 'timetable': 10923, 'ninth': 10924, 'lodge': 10925, 'diamond': 10926, 'Fitzhugh': 10927, 'attire': 10928, 'thieves': 10929, 'largely': 10930, 'exaggerated': 10931, 'Grapefruit': 10932, 'place-kicker': 10933, '34.7': 10934, 'luncheons': 10935, 'truck': 10936, 'irritable': 10937, 'Benched': 10938, '770': 10939, 'Moller': 10940, 'Shortly': 10941, 'tremendous': 10942, 'publicized': 10943, 'About': 10944, 'coping': 10945, 'lid': 10946, '$250': 10947, 'filibusters': 10948, 'opener': 10949, 'Sutherland': 10950, 'Universal-International': 10951, 'gold': 10952, 'Criminal': 10953, 'mechanically': 10954, 'furnish': 10955, 'deduction': 10956, 'smell': 10957, 'sir': 10958, 'maker': 10959, 'divorced': 10960, 'statesmen': 10961, 'convince': 10962, 'northwest': 10963, 'succeeding': 10964, 'downstream': 10965, 'Sea': 10966, 'fund-raiser': 10967, 'bringing': 10968, 'disillusioned': 10969, 'iron': 10970, 'upon': 10971, 'Instead': 10972, 'principal': 10973, 'peanut': 10974, 'bring': 10975, 'grounder': 10976, 'Giants': 10977, 'Councilman': 10978, 'dialects': 10979, 'does': 10980, 'Bar': 10981, 'Raymont': 10982, 'cuisine': 10983, 'Mass.': 10984, 'lowest': 10985, 'merge': 10986, 'provide': 10987, 'Virsaladze': 10988, 'Weinberg': 10989, 'lives': 10990, 'Morgan': 10991, 'farewell': 10992, 'Heywood': 10993, 'wish': 10994, 'misconstrued': 10995, 'Camilla': 10996, 'waited': 10997, 'Sciences': 10998, 'separators': 10999, 'reading': 11000, 'trust': 11001, 'Pezza': 11002, 'Scripps': 11003, 'Rayburn-Johnson': 11004, 'investigate': 11005, 'Desert': 11006, 'themselves': 11007, 'approve': 11008, 'FBI': 11009, 'ideas': 11010, 'inspiring': 11011, 'stew': 11012, 'scored': 11013, 'quarter-century': 11014, 'Charitable': 11015, 'huge': 11016, 'Billy': 11017, 'headmaster': 11018, 'repairs': 11019, 'Canal': 11020, 'dividends': 11021, 'bankrupt': 11022, 'subpenaed': 11023, 'alleging': 11024, 'Bowie': 11025, 'Hoffa': 11026, 'demolished': 11027, 'initiating': 11028, \"Gallery's\": 11029, 'Laughlin': 11030, 'veil': 11031, 'Ginghams': 11032, 'grown': 11033, 'Reading': 11034, 'bulky': 11035, 'existence': 11036, 'merchants': 11037, 'negotiate': 11038, 'Alla': 11039, \"Harvard's\": 11040, 'Grove': 11041, 'nineteen': 11042, 'nights': 11043, 'top-grade': 11044, 'robberies': 11045, 'complex': 11046, 'most-valuable': 11047, 'altitude': 11048, 'Once': 11049, 'coup': 11050, '1,400': 11051, 'ova': 11052, 'nonfiction': 11053, 'their': 11054, 'invaded': 11055, 'Black': 11056, 'leads': 11057, 'pioneer': 11058, 'Lancashire': 11059, 'Hoover': 11060, 'Holman': 11061, 'Bales': 11062, 'please': 11063, \"U.N.'s\": 11064, '4:18': 11065, 'mean': 11066, 'attorneys': 11067, 'settled': 11068, 'Cleveland': 11069, 'dazzler': 11070, \"A.A.U.'s\": 11071, '1961': 11072, 'climbing': 11073, 'brick': 11074, 'tie': 11075, 'Foxx': 11076, 'may': 11077, 'chiefs': 11078, 'signal': 11079, 'Nor': 11080, '5.1': 11081, 'musicians': 11082, 'bubble': 11083, 'supervision': 11084, 'beat': 11085, 'voluntarily': 11086, 'job-seekers': 11087, 'startled': 11088, 'showmanship': 11089, 'mall': 11090, 'condemned': 11091, 'Vital': 11092, 'straight-line': 11093, \"Ginner's\": 11094, 'bar': 11095, 'desired': 11096, 'scholar': 11097, \"'55\": 11098, 'babies': 11099, 'corn': 11100, 'saturation': 11101, 'underwrite': 11102, 'Stars': 11103, 'settling': 11104, 'Blasingame': 11105, 'Sterling': 11106, 'production': 11107, 'lacerations': 11108, 'Unconscionable': 11109, 'sunbonnet': 11110, 'grass': 11111, '5-run': 11112, 'teachers': 11113, 'levels': 11114, 'lights': 11115, 'hospital-care': 11116, \"Jersey's\": 11117, 'McDaniel': 11118, 'Boy': 11119, '5847': 11120, 'bottleneck': 11121, 'great': 11122, 'duffers': 11123, 'each': 11124, 'Home': 11125, 'Philadelphia': 11126, 'gliders': 11127, 'Tractor': 11128, 'Grover': 11129, 'Marsicano': 11130, 'Bureau': 11131, \"warehouseman's\": 11132, 'Portugal': 11133, 'entities': 11134, '65': 11135, 'Deputy': 11136, 'Meyer': 11137, 'ballroom': 11138, 'Opponents': 11139, '$3100': 11140, 'runway': 11141, 'dreams': 11142, 'Laotians': 11143, 'Official': 11144, 'Memorial': 11145, 'stewards': 11146, 'Carmichael': 11147, 'overhead': 11148, 'schools': 11149, 'Bishop': 11150, 'linen': 11151, 'Leverett': 11152, 'accord': 11153, 'Otis': 11154, 'Every': 11155, 'council': 11156, 'designated': 11157, 'Bahi': 11158, 'struggling': 11159, 'contemptuous': 11160, 'Olney': 11161, 'corresponding': 11162, 'Branum': 11163, 'proprietor': 11164, 'fulfill': 11165, 'Americana': 11166, \"Sunday's\": 11167, 'proposals': 11168, 'student': 11169, 'Folklore': 11170, 'translated': 11171, 'challenge': 11172, 'altho': 11173, 'Jury': 11174, 'tolerated': 11175, 'W': 11176, 'vocals': 11177, 'dressers': 11178, 'barber': 11179, 'allegations': 11180, 'Mortar': 11181, 'criminal': 11182, 'kill': 11183, 'machinery': 11184, 'absolutely': 11185, 'pedagogue': 11186, 'Olivetti': 11187, 'Mall': 11188, 'parolees': 11189, 'pitifully': 11190, 'moderate': 11191, 'eleventh': 11192, 'bunker': 11193, 'Buaford': 11194, 'Newfoundland': 11195, 'Bel-Air': 11196, 'Carolina': 11197, 'receives': 11198, 'pickers': 11199, 'free': 11200, 'lawn': 11201, 'portions': 11202, 'extent': 11203, 'pulse': 11204, '83': 11205, 'mountainous': 11206, 'pushing': 11207, 'wing': 11208, 'Possible': 11209, '13': 11210, 'Delray': 11211, 'others': 11212, 'popped': 11213, 'Convenience': 11214, 'toy': 11215, 'softened': 11216, 'Aurora': 11217, 'side': 11218, 'springing': 11219, 'mechanisms': 11220, 'magnetic': 11221, 'Bal': 11222, 'newer': 11223, 'overcome': 11224, 'Ronald': 11225, 'teahouse': 11226, 'Modern': 11227, 'Hammond': 11228, 'Monet': 11229, 'Rheims': 11230, 'Carnegey': 11231, 'dedicated': 11232, 'boasted': 11233, 'tiers': 11234, \"Falcons'\": 11235, '32,589': 11236, 'aggressively': 11237, 'secular': 11238, 'swap': 11239, \"Brooks's\": 11240, 'legislator': 11241, '2:30': 11242, 'cracked': 11243, \"war's\": 11244, 'ethnic': 11245, 'toll-rate': 11246, 'membership': 11247, 'Macwhyte': 11248, 'order': 11249, 'classes': 11250, 'blond': 11251, 'September': 11252, 'information': 11253, 'arm': 11254, 'could': 11255, 'Pappas': 11256, 'Panama': 11257, 'Measure': 11258, 'method': 11259, 'won-lost': 11260, 'endorsed': 11261, 'powderpuff': 11262, 'bedroom': 11263, 'religious': 11264, 'Bartha': 11265, 'tests': 11266, 'ten': 11267, 'Karol': 11268, 'pearl': 11269, 'Interested': 11270, 'granted': 11271, 'errors': 11272, 'ARF': 11273, 'seven': 11274, 'champs': 11275, 'Studio': 11276, 'Rep.': 11277, 'Margaret': 11278, 'runner-up': 11279, 'rapped': 11280, 'originated': 11281, 'Collins': 11282, 'answerable': 11283, 'convention': 11284, 'saffron': 11285, 'Lodge': 11286, 'fishing': 11287, 'Kansas': 11288, 'extremely': 11289, 'balanced': 11290, 'Cites': 11291, 'colleges': 11292, \"Forbes's\": 11293, 'Bessie': 11294, 'marvel': 11295, 'gardenias': 11296, 'performance': 11297, 'there': 11298, 'Schley': 11299, \"Can't\": 11300, 'prefers': 11301, 'track': 11302, 'shake': 11303, 'dwindled': 11304, \"Thursday's\": 11305, 'token': 11306, 'becomes': 11307, 'states': 11308, 'fiercest': 11309, 'surprise': 11310, 'cockpit': 11311, 'availability': 11312, 'regularly': 11313, 'decorator': 11314, 'through': 11315, 'Clarence': 11316, 'Renaissance': 11317, 'three-round': 11318, 'rivalries': 11319, 'will': 11320, 'Policeman': 11321, 'delegation': 11322, \"Maryland's\": 11323, 'hidden': 11324, 'fruitful': 11325, '10,000,000': 11326, 'Sheldon': 11327, 'Ladgham': 11328, 'clusters': 11329, 'purposes': 11330, 'wall-to-wall': 11331, '1:48': 11332, 'Volney': 11333, '$77,389,000': 11334, 'Mother': 11335, 'Ordinary': 11336, 'destroyer': 11337, 'mastodons': 11338, 'envisioned': 11339, 'Houtz': 11340, '949': 11341, 'rated': 11342, \"O's\": 11343, 'cooked': 11344, 'hard-hit': 11345, 'Neusteter': 11346, 'engaging': 11347, 'skips': 11348, 'speech-making': 11349, 'Lonsdale': 11350, 'Spahn': 11351, 'noncommissioned': 11352, 'Aiding': 11353, 'signature': 11354, 'McGehee': 11355, 'motions': 11356, \"Golf's\": 11357, 'locked': 11358, 'Twelve': 11359, 'Do': 11360, 'maverick': 11361, 'Pre-inaugural': 11362, '5000': 11363, 'advanced': 11364, 'obtain': 11365, 'ceremony': 11366, 'assessment': 11367, 'discrepancies': 11368, 'attacks': 11369, 'Boston': 11370, 'Gaining': 11371, 'truncated': 11372, 'scrimmaged': 11373, 'helm': 11374, 'Course': 11375, 'Wichita': 11376, 'charmed': 11377, 'explaining': 11378, 'unhappiest': 11379, 'Hawksley': 11380, 'directing': 11381, 'lieutenants': 11382, 'late': 11383, '52-year-old': 11384, 'breakfast': 11385, 'businessmen': 11386, '1-inch': 11387, 'flexible': 11388, 'began': 11389, 'invitation': 11390, 'halting': 11391, 'silver': 11392, 'gotten': 11393, 'Masons': 11394, 'rested': 11395, 'capitalist': 11396, 'everyday': 11397, 'assaulting': 11398, 'Gerald': 11399, 'talent': 11400, 'rounds': 11401, 'deputy': 11402, 'friction': 11403, \"salesman's\": 11404, 'Gregory': 11405, 'bedridden': 11406, 'confirming': 11407, 'protests': 11408, 'Mackey': 11409, 'feathers': 11410, 'Council': 11411, 'Vroman': 11412, 'well-armed': 11413, 'trade': 11414, 'remaining': 11415, '135': 11416, 'Goodbye': 11417, 'scandals': 11418, 'sly': 11419, 'Shaw': 11420, '1910': 11421, 'kidding': 11422, 'set': 11423, 'reactor': 11424, '$250,000': 11425, 'Munoz': 11426, 'Haaek': 11427, '$8': 11428, 'ourselves': 11429, 'duplication': 11430, 'real': 11431, 'Summerdale': 11432, 'Wabash': 11433, 'entertainers': 11434, 'issuance': 11435, '2,700,877': 11436, 'Donnelly': 11437, 'plunkers': 11438, 'illustrate': 11439, 'Norell': 11440, 'hurting': 11441, 'summit': 11442, 'comradeship': 11443, '3.1': 11444, 'doubleheader': 11445, '51st': 11446, 'charged': 11447, 'Chemical': 11448, 'names': 11449, 'delay': 11450, 'else': 11451, 'foes': 11452, 'partner': 11453, 'hats': 11454, 'Stephanie': 11455, 'suitcases': 11456, 'abandonment': 11457, 'flex': 11458, '198': 11459, 'erred': 11460, 'sofas': 11461, 'warmth': 11462, 'hijacked': 11463, 'finally': 11464, 'toll': 11465, 'silenced': 11466, 'fouled': 11467, 'Ed': 11468, 'Stratton': 11469, 'cows': 11470, 'non-profit': 11471, 'responsible': 11472, 'apprentice': 11473, 'wasteful': 11474, 'Scampini': 11475, 'Anywhere': 11476, 'long-range': 11477, 'females': 11478, 'Enrique': 11479, 'ugly': 11480, 'brisk': 11481, 'Mauch': 11482, 'Paulah': 11483, 'tilling': 11484, 'aunts': 11485, 'stove': 11486, 'sale': 11487, 'Quaker': 11488, 'refuted': 11489, 'Best': 11490, 'belted': 11491, 'discharging': 11492, 'birthday': 11493, 'Oxnard': 11494, 'roofer': 11495, 'Billikens': 11496, 'rejected': 11497, 'Wayne': 11498, 'requires': 11499, 'book-selection': 11500, 'Journal': 11501, 'Hamilton': 11502, '$43,000': 11503, 'publicity': 11504, 'asking': 11505, '$1.80': 11506, 'sights': 11507, 'Packers': 11508, 'give': 11509, 'decades': 11510, 'derive': 11511, 'foolish': 11512, 'Orchestre': 11513, '1891': 11514, 'immorality': 11515, 'Recounting': 11516, 'assembled': 11517, 'do': 11518, 'Westfield': 11519, 'appealed': 11520, 'Seagoville': 11521, 'elementary': 11522, 'lay-offs': 11523, 'industries': 11524, 'Peruvian': 11525, 'hope': 11526, 'tentatively': 11527, 'racy': 11528, 'trained': 11529, 'chatte': 11530, 'illustration': 11531, \"House's\": 11532, 'quite': 11533, 'two-story': 11534, 'Lutheran': 11535, 'description': 11536, 'study': 11537, 'ribbon': 11538, 'bellboys': 11539, 'coal': 11540, 'aims': 11541, 'fast-grossing': 11542, 'Wexler': 11543, \"'49\": 11544, \"Tom's\": 11545, 'classed': 11546, 'cutting': 11547, \"They're\": 11548, 'Jewish': 11549, 'create': 11550, 'enemy': 11551, 'jewelry': 11552, 'yesteryear': 11553, 'one-story': 11554, 'Had': 11555, 'Griffith-Jones': 11556, 'unfamiliar': 11557, 'motor': 11558, 'chic': 11559, '14-term': 11560, 'Nolan': 11561, 'Dennis': 11562, 'relatives': 11563, 'CBS': 11564, 'Tougas': 11565, 'Taussig': 11566, 'decoration': 11567, 'lately': 11568, 'instructed': 11569, 'Long': 11570, 'e.g.': 11571, 'faced': 11572, 'towels': 11573, 'Ivory': 11574, 'normalcy': 11575, 'noon': 11576, 'flickered': 11577, 'milk': 11578, 'strategy': 11579, 'mess': 11580, 'slumped': 11581, 'Individual': 11582, 'financed': 11583, 'undergone': 11584, 'dropping': 11585, 'imagine': 11586, 'hospitable': 11587, 'custodian': 11588, 'Temple': 11589, 'districts': 11590, 'believing': 11591, 'Kloman': 11592, 'treating': 11593, 'mad': 11594, 'definitive': 11595, 'Toying': 11596, 'urging': 11597, 'recommendations': 11598, 'decisions': 11599, 'Johnston': 11600, 'atom': 11601, 'begging': 11602, 'liquor': 11603, 'democracy': 11604, 'lines': 11605, 'sacrilege': 11606, 'terminate': 11607, 'sum': 11608, 'selfish': 11609, 'Archives': 11610, 'damage': 11611, 'Cerebral': 11612, 'Turkey': 11613, 'music': 11614, 'ration': 11615, 'separation': 11616, 'boy-manager': 11617, 'overdeveloped': 11618, 'goal': 11619, 'jazz': 11620, 'admitted': 11621, 'Attendance': 11622, 'open': 11623, 'unpleasant': 11624, 'B': 11625, 'chose': 11626, 'deplored': 11627, \"China's\": 11628, 'withstand': 11629, 'Wellsville': 11630, 'insurgent': 11631, 'concert': 11632, 'Adventures': 11633, 'smothered': 11634, 'nightfall': 11635, 'tourists': 11636, 'function': 11637, 'Asilomar': 11638, 'Roger': 11639, 'Pualani': 11640, 'compelled': 11641, 'dormitories': 11642, 'Isaacson': 11643, 'Harrity': 11644, 'peck': 11645, 'plead': 11646, 'frantic': 11647, 'crimson': 11648, 'personal': 11649, 'storm': 11650, 'ordinarily': 11651, 'borrowing': 11652, 'workmen': 11653, \"Veeck's\": 11654, 'originally': 11655, \"university's\": 11656, 'Leavitt': 11657, 'warhead': 11658, 'year-old': 11659, 'dampened': 11660, 'Hitting': 11661, 'gum': 11662, 'Hat': 11663, '1926': 11664, 'outplayed': 11665, 'Ralph': 11666, 'wall': 11667, 'measuring': 11668, \"management's\": 11669, \"Caldwell's\": 11670, 'chow': 11671, 'end': 11672, 'Hutchins': 11673, '$7.20': 11674, 'Casassa': 11675, 'boil': 11676, 'Zubkovskaya': 11677, 'treat': 11678, 'oilman-rancher': 11679, 'interim': 11680, 'thing': 11681, 'vehicles': 11682, 'Hewlett-Woodmere': 11683, 'enacted': 11684, 'N.C.': 11685, \"steelmakers'\": 11686, 'extra': 11687, 'shrugged': 11688, 'directed': 11689, 'treated': 11690, 'Freedom': 11691, 'cellist': 11692, '$39,000': 11693, '7:45': 11694, 'Democrats': 11695, 'war-ridden': 11696, 'Hurt': 11697, 'shifting': 11698, 'contributions': 11699, 'la': 11700, 'Trager': 11701, 'Mal': 11702, 'amended': 11703, 'Okinawa': 11704, 'Kenilworth': 11705, 'Museum': 11706, 'appeal': 11707, 'Chance': 11708, 'competitors': 11709, 'pedestal': 11710, 'Stock': 11711, 'money': 11712, 'Kreisler': 11713, 'gins': 11714, 'Dedication': 11715, 'alienated': 11716, 'lower': 11717, 'sent': 11718, 'warnings': 11719, 'chat': 11720, 'governs': 11721, 'pry': 11722, 'ventilates': 11723, 'fare': 11724, 'journey': 11725, 'hat': 11726, 'Essex': 11727, 'Rev.': 11728, 'overseas': 11729, 'receipts': 11730, 'cause': 11731, 'client': 11732, 'Casals': 11733, 'typhoon': 11734, 'guitar': 11735, '189': 11736, \"Ol'\": 11737, 'dismal': 11738, 'bedtime': 11739, 'appropriate': 11740, 'Cooke': 11741, 'Better': 11742, 'Stengel': 11743, 'intervention': 11744, 'professionals': 11745, 'included': 11746, 'sites': 11747, 'pin': 11748, 'Zoning': 11749, \"Communism's\": 11750, \"court's\": 11751, 'toast': 11752, 'pops': 11753, 'Participating': 11754, 'dimes': 11755, '2433': 11756, 'suits': 11757, 'Managing': 11758, 'so-called': 11759, 'Rae': 11760, 'While': 11761, \"Senate's\": 11762, 'Workers': 11763, 'performed': 11764, 'applaud': 11765, 'magic': 11766, 'bouncy': 11767, 'Symonds': 11768, 'Anticipated': 11769, 'chien': 11770, 'colorful': 11771, 'notices': 11772, 'exchanged': 11773, 'intimidation': 11774, 'Meyner': 11775, 'Cott': 11776, 'wardens': 11777, 'mineral': 11778, 'tuck': 11779, 'foreman': 11780, 'sums': 11781, 'beyond': 11782, 'Stepson': 11783, 'wedge': 11784, '$16,000': 11785, \"Dealers'\": 11786, 'Masonic': 11787, 'SMU': 11788, 'wellknown': 11789, '677': 11790, 'communist': 11791, 'Irish': 11792, 'lecture': 11793, 'meaning': 11794, 'gets': 11795, 'Mile': 11796, 'producers': 11797, 'idealism': 11798, 'scalloped': 11799, 'publicly': 11800, 'Matching': 11801, 'Grahamstown': 11802, 'bucked': 11803, 'meteorological': 11804, '271': 11805, 'Competent': 11806, 'highest-paid': 11807, 'frictions': 11808, 'trailed': 11809, '6-ounce': 11810, 'disposition': 11811, 'Pierson': 11812, 'photographers': 11813, 'meditating': 11814, 'ASDIC': 11815, 'clay-mining': 11816, 'poor-mouth': 11817, 'tears': 11818, 'rooted': 11819, 'mental': 11820, 'philosophy': 11821, 'Elaine': 11822, 'confronting': 11823, 'secretary-treasurer': 11824, 'Hammett': 11825, 'Speakers': 11826, 'pursuit': 11827, 'Cen-Tennial': 11828, 'declared': 11829, 'Sargent': 11830, 'Pat': 11831, 'Petitions': 11832, 'Ltd.': 11833, 'Rolnick': 11834, 'moist': 11835, 'Sapio': 11836, 'Ave.': 11837, 'hampered': 11838, 'Levittown': 11839, 'unified': 11840, 'Motor': 11841, 'escort': 11842, 'dais': 11843, 'breast': 11844, 'option': 11845, 'Pall': 11846, 'comprehensive': 11847, 'stages': 11848, 'payments': 11849, 'Commenting': 11850, 'immediately': 11851, 'strikingly': 11852, 'proud': 11853, 'Verstandig': 11854, 'companion': 11855, 'played': 11856, 'accident': 11857, \"Hollywood's\": 11858, \"workers'\": 11859, 'warm': 11860, 'Vicky': 11861, 'creation': 11862, 'city-wide': 11863, '23d': 11864, 'sales': 11865, 'Harlingen': 11866, 'Pas': 11867, 'spacious': 11868, 'emotion': 11869, 'alleged': 11870, 'most-valuable-player': 11871, '52': 11872, 'unearned': 11873, 'Elliott': 11874, 'tape': 11875, 'stag': 11876, 'inhabitants': 11877, 'appliques': 11878, 'Stewart': 11879, 'rush': 11880, 'workshops': 11881, 'Carol': 11882, 'friends': 11883, 'growing': 11884, 'hand-woven': 11885, 'Denver': 11886, 'fence': 11887, 'retire': 11888, 'lowered': 11889, 'Abel': 11890, 'manufactured': 11891, 'cab': 11892, 'literature': 11893, 'Gotham': 11894, '214': 11895, 'suggestion': 11896, \"Shea's\": 11897, 'Vinson': 11898, \"bride's\": 11899, 'wheels': 11900, 'legislative': 11901, 'Beverly': 11902, 'glanced': 11903, 'Interstate': 11904, '1671': 11905, \"they've\": 11906, 'Investment': 11907, 'carcass': 11908, 'ineffectual': 11909, 'mined': 11910, 'Philmont': 11911, 'maligned': 11912, 'NW': 11913, '25-foot': 11914, 'Beat': 11915, \"hasn't\": 11916, 'Asks': 11917, 'viewers': 11918, 'nineteenth': 11919, 'people': 11920, 'collects': 11921, 'head-and-shoulders': 11922, 'Cathedral': 11923, 'rule': 11924, 'functionary': 11925, 'Dining': 11926, 'cap': 11927, 'Bertorelli': 11928, 'cigaret': 11929, 'inability': 11930, 'Ingo': 11931, 'obliterated': 11932, 'Djakarta': 11933, 'stab': 11934, 'realization': 11935, 'onetime': 11936, 'Wish': 11937, '.': 11938, 'Chef': 11939, 'Salem': 11940, 'Wes': 11941, 'Sprinkle': 11942, 'forth': 11943, \"Smith's\": 11944, 'factory': 11945, 'Neighbor': 11946, 'investigating': 11947, 'Beryl': 11948, 'protested': 11949, 'related': 11950, 'Adam': 11951, 'Parichy': 11952, 'Olerichs': 11953, 'Chester': 11954, 'winner': 11955, \"1960's\": 11956, 'Would': 11957, 'underdeveloped': 11958, 'relieves': 11959, \"Council's\": 11960, 'Dillon': 11961, 'guarantee': 11962, 'pseudynom': 11963, 'designed': 11964, '$214': 11965, 'objected': 11966, 'Densmore': 11967, '1948': 11968, \"Wackers'\": 11969, 'Practice': 11970, 'blues': 11971, 'nonviolent': 11972, 'Jail': 11973, 'Post': 11974, 'execute': 11975, 'emergency': 11976, 'warehouse': 11977, 'shrimp': 11978, 'Ennis': 11979, 'candidates': 11980, 'receiving': 11981, 'championship': 11982, 'calico': 11983, 'His': 11984, 'hoped': 11985, 'Keegan': 11986, 'tearing': 11987, \"West's\": 11988, '71': 11989, 'couple': 11990, 'votes': 11991, 'Darrell': 11992, 'jury': 11993, 'Skylark': 11994, 'meets': 11995, 'whirling': 11996, 'principally': 11997, 'pole': 11998, 'restrictions': 11999, 'McNeil': 12000, '$840,000': 12001, 'ever-changing': 12002, 'wiping': 12003, '9-7': 12004, 'grant-in-aid': 12005, 'Spanish-born': 12006, 'Cornell': 12007, 'serves': 12008, 'organizers': 12009, 'Montgomery': 12010, 'Ierulli': 12011, 'selections': 12012, '$58,918': 12013, 'Messrs': 12014, 'Ward': 12015, 'heels': 12016, 'complication': 12017, 'Wild': 12018, 'guessing': 12019, '1957': 12020, 'ask': 12021, 'Thrift': 12022, 'canvass': 12023, 'unusually': 12024, 'aerial': 12025, 'Emerald': 12026, 'purpose': 12027, \"Officers'\": 12028, 'bolted': 12029, 'bandit': 12030, 'cleaning': 12031, \"you've\": 12032, 'describes': 12033, 'shrinkage': 12034, 'chance': 12035, 'Cater': 12036, 'invasion': 12037, 'federalism': 12038, 'Democrat': 12039, 'complete': 12040, 'detectives': 12041, 'meritorious': 12042, 'team': 12043, 'wistfully': 12044, 'Blvd.': 12045, 'promptly': 12046, 'Premier': 12047, 'Room': 12048, 'place': 12049, 'lively': 12050, 'ends': 12051, 'dedication': 12052, 'candy': 12053, 'Horace': 12054, '300': 12055, 'collaborators': 12056, 'drivers': 12057, 'big-league': 12058, 'Curie': 12059, 'pictured': 12060, 'Johnson': 12061, 'Golf': 12062, 'sprinkle': 12063, 'presiding': 12064, 'violating': 12065, 'Mardis': 12066, 'creations': 12067, 'tribe': 12068, 'Macon': 12069, 'skiddy': 12070, 'favor': 12071, 'Alfred': 12072, '9230': 12073, 'Foliage': 12074, 'various': 12075, 'advocating': 12076, 'peddlers': 12077, 'Robinson': 12078, 'Zoe': 12079, 'rights': 12080, 'netted': 12081, '$5': 12082, 'Loving': 12083, 'insists': 12084, 'famed': 12085, 'Elvis': 12086, 'Affairs': 12087, 'no-driving': 12088, 'forgetting': 12089, 'satisfactorily': 12090, 'Frog-marched': 12091, 'Moune': 12092, 'fly': 12093, 'push': 12094, 'To': 12095, 'later': 12096, 'human': 12097, 'manifestly': 12098, 'Holbrook': 12099, 'Sens.': 12100, 'professional': 12101, 'Natalie': 12102, 'any': 12103, 'Malone': 12104, 'high-wage': 12105, 'confrontations': 12106, 'drops': 12107, 'Song': 12108, 'acre': 12109, 'Bachelor': 12110, '6:15': 12111, 'outsider': 12112, 'Raymond': 12113, 'Oxford': 12114, 'semipublic': 12115, 'miracles': 12116, 'wonderfully': 12117, 'Nevertheless': 12118, 'southward': 12119, 'robbing': 12120, 'R.L.': 12121, 'cents': 12122, 'Rotary': 12123, 'Casualty': 12124, 'Motel': 12125, 'Bryson': 12126, 'worship': 12127, 'unnecessary': 12128, 'dread': 12129, 'described': 12130, 'fullbacking': 12131, 'controlling': 12132, 'Klan': 12133, 'Oil': 12134, 'spectacular': 12135, 'consonance': 12136, '17': 12137, 'putter': 12138, 'Division': 12139, 'swearing-in': 12140, 'Lehman': 12141, 'hour': 12142, 'severe': 12143, 'colts': 12144, '14': 12145, 'Payson': 12146, 'guttural': 12147, 'Marella': 12148, 'torpedoes': 12149, 'smuggling': 12150, 'shops': 12151, 'denunciation': 12152, 'demonstration': 12153, 'need': 12154, 'Albany': 12155, 'Andrew': 12156, 'label': 12157, 'Music': 12158, 'Luthuli': 12159, 'Seidel': 12160, 'lesson': 12161, 'Loen': 12162, 'require': 12163, 'Averell': 12164, 'paycheck': 12165, 'entirely': 12166, 'Princess': 12167, 'Ashman': 12168, \"baseball's\": 12169, 'learned': 12170, 'Lyle': 12171, 'surrender': 12172, 'Coward': 12173, 'extern': 12174, 'dynamite': 12175, 'foster': 12176, 'nineteenth-century': 12177, 'charging': 12178, 'yodel': 12179, 'Farm': 12180, 'trends': 12181, 'intact': 12182, 'liberal-conservative': 12183, 'forgive': 12184, 'Glass': 12185, 'McAuliffe': 12186, 'swearing': 12187, 'witnessed': 12188, 'Stadium': 12189, 'assets': 12190, 'borrowed': 12191, 'sizable': 12192, 'mentions': 12193, 'Professional': 12194, 'managed': 12195, 'voted': 12196, 'tenor': 12197, 'B.': 12198, 'Len': 12199, '900-student': 12200, 'competence': 12201, 'guilt': 12202, 'decided': 12203, 'tones': 12204, 'Allegretti': 12205, 'capture': 12206, 'Jay': 12207, 'ballot': 12208, 'Local': 12209, 'Tooling': 12210, 'normally': 12211, 'Colquitt': 12212, 'fixing': 12213, 'walkways': 12214, 'wildlife': 12215, 'silhouettes': 12216, 'Cocktail': 12217, 'traveling': 12218, 'strategic': 12219, '10:50': 12220, 'Blaine': 12221, 'eased': 12222, 'Reno-Lake': 12223, 'Klein': 12224, 'The': 12225, 'Pullings': 12226, 'thereafter': 12227, 'widespread': 12228, 'avoided': 12229, 'ensued': 12230, 'banshees': 12231, 'Director': 12232, 'Romantic': 12233, 'Kalonji': 12234, 'looking': 12235, 'Mack': 12236, 'wrecked': 12237, 'cup': 12238, 'tracks': 12239, 'Izvestia': 12240, 'Hester': 12241, 'line': 12242, 'fleet': 12243, 'flared': 12244, 'Vermeersch': 12245, 'kickoff': 12246, '1409': 12247, 'Catholic': 12248, 'Matisses': 12249, 'bean': 12250, 'Way': 12251, 'Elburn': 12252, 'inaugural': 12253, 'Busch': 12254, 'songs': 12255, 'studied': 12256, 'Shatilov': 12257, 'produce': 12258, 'curious': 12259, 'amateur': 12260, 'ratios': 12261, 'soil': 12262, 'founding': 12263, 'ante': 12264, 'history': 12265, 'stresses': 12266, 'creating': 12267, 'Patrol': 12268, 'Juras': 12269, 'dictatorship': 12270, 'conservative': 12271, 'toughness': 12272, 'vouchers': 12273, 'default': 12274, 'dividing': 12275, 'dependence': 12276, 'Birdie': 12277, 'respects': 12278, 'stake': 12279, 'Fifth': 12280, 'Janet': 12281, 'skits': 12282, 'doubly': 12283, 'since': 12284, 'brocade': 12285, 'Eire': 12286, 'Russians': 12287, \"There's\": 12288, 'Symington': 12289, 'feeling': 12290, 'resistant': 12291, 'Browning': 12292, 'schooling': 12293, \"school's\": 12294, \"coach's\": 12295, 'imminent': 12296, 'Memphis': 12297, \"Mays'\": 12298, 'Group': 12299, 'Brigantine': 12300, 'outfielder': 12301, 'Eddy': 12302, 'touches': 12303, 'spy': 12304, 'Response': 12305, 'Legislative': 12306, 'Within': 12307, 'choke': 12308, 'facilities': 12309, 'Campaigning': 12310, 'Oakland': 12311, 'promotion': 12312, 'vary': 12313, 'persecution': 12314, 'scapegoats': 12315, 'suppressed': 12316, 'remarks': 12317, 'nuns': 12318, 'Taxation': 12319, 'institution': 12320, 'volumes': 12321, 'Zone': 12322, 'Glen': 12323, 'halfway': 12324, 'halfback': 12325, 'Macassar': 12326, 'act': 12327, 'frequent': 12328, 'Riviera': 12329, 'a': 12330, 'term-end': 12331, 'progress': 12332, 'Pennock': 12333, 'Come': 12334, '357': 12335, 'venture': 12336, 'chaotic': 12337, 'flew': 12338, 'urban': 12339, 'Thru': 12340, 'How': 12341, 'Labor': 12342, 'tournament': 12343, 'omitted': 12344, 'responses': 12345, 'commodity': 12346, 'bans': 12347, 'identification': 12348, 'inconsistencies': 12349, 'triple-crown': 12350, 'Brooks': 12351, 'reception': 12352, 'Pharmical': 12353, 'deductibility': 12354, 'design-conscious': 12355, 'cotillion': 12356, 'train': 12357, 'Gregorio': 12358, 'ominous': 12359, 'coordinating': 12360, 'furnishings': 12361, 'explain': 12362, 'ago': 12363, 'Day': 12364, 'jolt': 12365, 'ensconced': 12366, 'Merger': 12367, 'Joanne': 12368, 'nothing': 12369, 'War': 12370, '25,000-man': 12371, 'belting': 12372, 'read': 12373, 'Until': 12374, 'bottled': 12375, '$700': 12376, 'vindicated': 12377, 'Norm': 12378, 'rumor': 12379, 'Dark': 12380, 'lineman': 12381, 'nerve': 12382, 'Hambric': 12383, 'fund-raisers': 12384, 'Congolese': 12385, 'few': 12386, 'participating': 12387, 'emphasized': 12388, 'physician': 12389, 'towering': 12390, \"Minnesota's\": 12391, 'Billiken': 12392, 'reproduced': 12393, 'pre-season': 12394, 'monuments': 12395, 'ambulance': 12396, 'nationalism': 12397, 'craftsmen': 12398, 'manager': 12399, 'creator': 12400, '750': 12401, 'coveted': 12402, 'recession': 12403, 'ballots': 12404, 'approved': 12405, 'free-for-all': 12406, 'native': 12407, 'bids': 12408, 'remains': 12409, 'Ron': 12410, 'Pirates': 12411, 'Contempt': 12412, 'Fortin': 12413, 'flooded': 12414, 'Trimble': 12415, '150,000,000': 12416, 'Agencies': 12417, 'Technology': 12418, 'scoring': 12419, 'wealth': 12420, 'spelled': 12421, 'build': 12422, 'exert': 12423, 'Campbell': 12424, 'Chapman': 12425, 'until': 12426, 'supplying': 12427, 'gripped': 12428, 'advantages': 12429, 'Fisher': 12430, 'Tabb': 12431, 'chemicals': 12432, '$3,675': 12433, 'patronage': 12434, 'Vientiane': 12435, 'stop': 12436, 'predict': 12437, 'federal': 12438, 'par-5': 12439, 'writes': 12440, 'Placentia': 12441, \"Island's\": 12442, 'Clearwater': 12443, 'weather': 12444, 'clutch': 12445, 'early-season': 12446, 'just': 12447, 'overreach': 12448, 'here': 12449, 'coalition': 12450, 'bows': 12451, 'Equal': 12452, 'dole': 12453, 'company': 12454, 'cemetery': 12455, 'troops': 12456, 'wreck': 12457, 'gather': 12458, 'Cannon': 12459, 'amicable': 12460, 'completions': 12461, 'reorganization': 12462, 'F.': 12463, '$80,738': 12464, 'dirt': 12465, 'briefly': 12466, 'junior-senior': 12467, 'undeveloped': 12468, 'Communists': 12469, 'waved': 12470, 'Piero': 12471, \"U.'s\": 12472, 'genial': 12473, 'Danbury': 12474, 'researchers': 12475, 'Fargo': 12476, 'railroad': 12477, '2544': 12478, 'Engaging': 12479, 'virtue': 12480, 'threat': 12481, 'Stamford': 12482, 'pull': 12483, 'giving': 12484, 'depended': 12485, \"Jr.'s\": 12486, 'congestion': 12487, 'Sizova': 12488, 'Norway': 12489, 'introduction': 12490, 'orientation': 12491, 'Roberts': 12492, 'Regarding': 12493, 'celebrates': 12494, 'peoples': 12495, 'remedy': 12496, \"McConnell's\": 12497, 'groupings': 12498, 'potatoes': 12499, 'Ferris': 12500, \"They'll\": 12501, 'collided': 12502, 'know': 12503, 'Tires': 12504, 'within': 12505, 'during': 12506, 'tricked': 12507, \"league's\": 12508, 'Leadership': 12509, 'sponsoring': 12510, 'Kentucky': 12511, 'slums': 12512, 'Lacy': 12513, \"Hitler's\": 12514, 'did': 12515, 'placed': 12516, 'Brett': 12517, 'negotiation': 12518, 'Homer': 12519, 'shoji': 12520, 'backs': 12521, 'illness': 12522, 'Stanley': 12523, 'acid': 12524, 'Saltonstall': 12525, 'objective': 12526, 'factors': 12527, 'pre-Fair': 12528, 'contendere': 12529, 'Dominic': 12530, 'pressing': 12531, 'organize': 12532, 'delayed': 12533, 'onslaught': 12534, 'Similar': 12535, 'promises': 12536, 'veteran': 12537, 'text': 12538, 'night': 12539, 'Denials': 12540, 'Brandeis': 12541, '1851': 12542, 'Foods': 12543, 'heroin': 12544, 'vows': 12545, 'fourteen-nation': 12546, \"Lanin's\": 12547, 'fast': 12548, 'Administration': 12549, 'than': 12550, 'carpenters': 12551, 'mouths': 12552, 'contribs': 12553, 'august': 12554, 'Jorda': 12555, 'enjoyed': 12556, 'unite': 12557, 'spongy': 12558, 'exports': 12559, 'folks': 12560, 'dough': 12561, 'Harmony': 12562, 'pretenses': 12563, 'commercial': 12564, 'fire': 12565, 'From': 12566, 'desire': 12567, 'controlled': 12568, 'dive': 12569, 'embezzling': 12570, 'Usually': 12571, 'Va.': 12572, \"week's\": 12573, '12-year-old': 12574, 'chests': 12575, '$70': 12576, 'consider': 12577, 'Utah': 12578, 'perfection': 12579, 'Class-D': 12580, 'cubic': 12581, '$8.50': 12582, 'France': 12583, 'Basin': 12584, 'Stevenson': 12585, 'pinpoint': 12586, 'calculating': 12587, 'employs': 12588, 'Park': 12589, '$4,500': 12590, 'Analysts': 12591, 'session': 12592, 'stay': 12593, 'economic': 12594, '21-year-old': 12595, 'implicit': 12596, 'assent': 12597, 'Bolet': 12598, 'Judy': 12599, 'Semmes': 12600, 'Ludlow': 12601, 'famous': 12602, 'vexing': 12603, 'scrambled': 12604, 'Welsh': 12605, 'Gate': 12606, 'Salary': 12607, 'plan': 12608, 'applause': 12609, 'Uhles': 12610, 'flames': 12611, 'squarely': 12612, 'suited': 12613, 'occupancy': 12614, 'silk': 12615, 'mutual': 12616, 'directors': 12617, 'consecutive': 12618, 'Cliff': 12619, 'I.': 12620, 'colossus': 12621, 'determined': 12622, 'sublime': 12623, 'stimulant': 12624, 'portable': 12625, 'Muskegon': 12626, 'Fuchs': 12627, '9:40': 12628, 'bordering': 12629, 'exemption': 12630, 'bonds': 12631, 'truce': 12632, 'discouraged': 12633, 'Chases': 12634, 'listened': 12635, 'spontaneous': 12636, 'reduction': 12637, 'foundation': 12638, 'Shoettle': 12639, 'loudly': 12640, 'speculative': 12641, 'income': 12642, 'salutary': 12643, 'steaks': 12644, 'corporation': 12645, 'campaigning': 12646, \"rocket's\": 12647, 'course': 12648, '450': 12649, 'P.m.': 12650, 'seceded': 12651, 'accompanying': 12652, 'ruefully': 12653, 'tell': 12654, 'Gather': 12655, 'pivotal': 12656, 'looks': 12657, 'pecan': 12658, 'Nori': 12659, 'overtime': 12660, 'eluded': 12661, '2100': 12662, 'chops': 12663, 'Bernhard': 12664, 'missionary': 12665, 'passenger': 12666, 'theme': 12667, 'Japan': 12668, 'insects': 12669, 'Hamey': 12670, 'auditorium': 12671, 'Jensen': 12672, 'filed': 12673, 'Romans': 12674, 'Having': 12675, 'crops': 12676, 'rookies': 12677, 'changes': 12678, 'Birgit': 12679, 'sport': 12680, 'Legislature': 12681, 'reminiscence': 12682, 'delegations': 12683, 'poet': 12684, 'comes': 12685, 'taught': 12686, 'blundered': 12687, 'where': 12688, 'United': 12689, 'Hal': 12690, 'representative': 12691, 'proposal': 12692, 'elephants': 12693, '28': 12694, 'Jr.': 12695, 'but': 12696, 'entertain': 12697, 'gives': 12698, 'Theology': 12699, 'gamble': 12700, 'stevedore': 12701, 'Bandstand': 12702, 'wants': 12703, 'costs': 12704, 'Ellwood': 12705, 'Fellini': 12706, 'liaison': 12707, 'center': 12708, 'reacting': 12709, 'turbines': 12710, 'Pearl': 12711, 'Although': 12712, 'pitfall': 12713, 'employee': 12714, 'lovely': 12715, 'Durocher': 12716, 'new': 12717, 'utilitarian': 12718, 'Nevah': 12719, 'integrate': 12720, 'reference': 12721, 'injury': 12722, 'signed': 12723, 'morning': 12724, 'interfering': 12725, 'fund-raising': 12726, 'conferred': 12727, 'public': 12728, 'first-place': 12729, 'overwhelmingly': 12730, 'myself': 12731, 'Order': 12732, 'Leaders': 12733, 'Representative': 12734, 'lists': 12735, 'flavor': 12736, 'Paradoxically': 12737, 'Budgetary': 12738, 'deferred': 12739, 'Cabana': 12740, 'merely': 12741, 'racial': 12742, 'Greater': 12743, 'convenient': 12744, 'associated': 12745, '88': 12746, 'evening': 12747, 'expedient': 12748, 'bridge': 12749, \"Club's\": 12750, 'collegiate': 12751, 'Marietta': 12752, 'forced': 12753, 'Nam': 12754, 'Nev.': 12755, 'Raymondville': 12756, 'Bronx': 12757, 'thesis': 12758, 'applying': 12759, 'one-fourth': 12760, 'Hyndman': 12761, 'ancestor': 12762, 'aid-to-education': 12763, 'Ct.': 12764, 'Hooked': 12765, 'Emilio': 12766, 'opinions': 12767, 'freezes': 12768, 'heyday': 12769, 'underwriter': 12770, 'Q.': 12771, 'adequately': 12772, 'Add': 12773, 'Palermo': 12774, 'sad': 12775, 'nodded': 12776, 'rise': 12777, '142': 12778, 'indicted': 12779, 'bounty': 12780, 'no': 12781, 'interested': 12782, 'showman': 12783, 'Mike': 12784, 'speedy': 12785, 'bludgeon': 12786, 'suspicion': 12787, 'Isodine': 12788, \"France's\": 12789, 'Maynard': 12790, 'specialization': 12791, 'Requests': 12792, 'switching': 12793, 'Atlanta': 12794, 'woodcarver': 12795, 'latest': 12796, 'attainment': 12797, 'tangible': 12798, 'idle': 12799, '1953': 12800, \"Khrushchev's\": 12801, 'Wide': 12802, 'chocolate': 12803, 'steaming': 12804, 'Humphrey': 12805, 'candor': 12806, '5': 12807, 'powers': 12808, 'sense': 12809, 'slugger': 12810, 'Angelo': 12811, 'depletion': 12812, 'questioned': 12813, 'McFarland': 12814, 'minors': 12815, 'Consequently': 12816, 'Moscone': 12817, 'Anti-Communist': 12818, 'substitute': 12819, 'fountain': 12820, 'kept': 12821, 'Ritchie': 12822, 'Doxiadis': 12823, 'vigorous': 12824, 'Syria': 12825, 'curbing': 12826, 'Gordin': 12827, 'requirement': 12828, '$17.8': 12829, 'expansion': 12830, '10th': 12831, 'staggered': 12832, '1961-62': 12833, '260-member': 12834, 'Roman': 12835, 'Expressions': 12836, 'forbids': 12837, 'Make': 12838, 'furniture': 12839, 'Ruth': 12840, 'convert': 12841, 'Loop': 12842, 'continuous': 12843, '375': 12844, 'Dancers': 12845, 'framed': 12846, 'shared': 12847, 'warfare': 12848, 'substance': 12849, 'gifts': 12850, 'competed': 12851, 'Rozelle': 12852, 'possess': 12853, 'waged': 12854, 'exceptions': 12855, 'thousand': 12856, 'suites': 12857, 'Jerry': 12858, '1688': 12859, \"Wouldn't\": 12860, 'preaching': 12861, 'torn': 12862, 'sorely': 12863, 'prizes': 12864, 'revised': 12865, 'bluntly': 12866, 'trustees': 12867, 'thousands': 12868, 'definite': 12869, 'Food': 12870, 'races': 12871, 'Miniver': 12872, 'holds': 12873, 'orchids': 12874, '17-1/2-inch': 12875, 'hubby': 12876, 'fictitious': 12877, 'quarterbacks': 12878, \"Bear's\": 12879, '206': 12880, 'Miles': 12881, 'straightaway': 12882, 'all-woman': 12883, 'equivalent': 12884, 'bear': 12885, 'McConnell': 12886, 'Clubs': 12887, 'Galt': 12888, 'fellows': 12889, 'trip': 12890, 'arts': 12891, 'impressed': 12892, '2.5%': 12893, 'uncertain': 12894, 'Cochran': 12895, 'beatnik': 12896, 'Allen': 12897, 'winners': 12898, 'Has': 12899, 'Fighters': 12900, 'Sons': 12901, 'engineers': 12902, 'gesture': 12903, 'Low-flying': 12904, 'subpenas': 12905, 'limited': 12906, 'Finance': 12907, 'achievements': 12908, '637': 12909, 'patient': 12910, '$25,000': 12911, 'Sokol': 12912, 'TEA': 12913, 'Hammons': 12914, 'enactment': 12915, 'tradition': 12916, 'Whee': 12917, 'fitted': 12918, 'unconsciously': 12919, 'surveillance': 12920, 'repaid': 12921, 'Jurisdiction': 12922, 'switch-hitter': 12923, 'deserves': 12924, 'knowledge': 12925, 'reader': 12926, 'Wolcott': 12927, 'goods': 12928, 'Trooper': 12929, 'amending': 12930, 'commuted': 12931, 'bites': 12932, 'precincts': 12933, 'strip': 12934, 'Tshombe': 12935, 'figure': 12936, 'antagonisms': 12937, 'indicates': 12938, 'Mandarin': 12939, 'Berra': 12940, \"another's\": 12941, 'Skip': 12942, \"Skipjack's\": 12943, 'exciting': 12944, 'ignored': 12945, 'adjust': 12946, 'chemical': 12947, 'hurry': 12948, 'palmed': 12949, 'Beame': 12950, 'rural': 12951, 'notably': 12952, 'stave': 12953, 'frigid': 12954, 'Pirate': 12955, 'infest': 12956, 'nine': 12957, 'Rocky': 12958, 'Navigation': 12959, 'creature': 12960, 'fresh': 12961, 'Rusk': 12962, 'duel': 12963, 'slippers': 12964, '66': 12965, 'manifestations': 12966, 'huddle': 12967, 'Note': 12968, 'distribution': 12969, 'pall': 12970, 'Greenwich': 12971, 'Junior': 12972, 'Feringa': 12973, 'assessors': 12974, 'considered': 12975, 'Research': 12976, 'La': 12977, '1': 12978, 'working': 12979, 'statement': 12980, 'expert': 12981, 'Cadillac': 12982, 'enthralled': 12983, 'sweeping': 12984, 'Rainier': 12985, 'gallons': 12986, 'follow': 12987, 'Gin': 12988, 'Huddle': 12989, 'grievances': 12990, 'Battle': 12991, \"Al's\": 12992, 'slipper': 12993, 'mud': 12994, 'narrowed': 12995, 'distinction': 12996, 'base-stealing': 12997, '37,000': 12998, \"Emperor's\": 12999, 'look': 13000, 'Katherine': 13001, 'Designs': 13002, 'Regional': 13003, 'Habib': 13004, 'these': 13005, \"president's\": 13006, 'church': 13007, 'peasants': 13008, 'Savage': 13009, 'cease': 13010, \"Idols'\": 13011, 'closing': 13012, 'etc.': 13013, 'middle-aged': 13014, 'payroll': 13015, 'golfer': 13016, 'Grenoble': 13017, 'pirates': 13018, \"secretary's\": 13019, 'totally': 13020, 'pronounced': 13021, 'teammates': 13022, 'horses': 13023, 'Weeks': 13024, 'statutes': 13025, 'coconut': 13026, 'celebrants': 13027, 'Club': 13028, 'feels': 13029, '553': 13030, 'adjustments': 13031, 'softening': 13032, 'fundamentals': 13033, 'wagging': 13034, 'full-scale': 13035, 'onus': 13036, 'confirmed': 13037, 'Turner': 13038, 'irrational': 13039, 'dept.': 13040, 'pinks': 13041, 'details': 13042, 'way': 13043, 'expand': 13044, 'companionship': 13045, 'fun': 13046, 'masses': 13047, 'remarkably': 13048, 'fill': 13049, 'conducted': 13050, 'investment': 13051, 'Byron': 13052, 'Tuesday': 13053, 'La.': 13054, 'Lane': 13055, 'Savings': 13056, 'response': 13057, 'trucks': 13058, 'villa': 13059, 'Sent': 13060, 'represents': 13061, 'kicking': 13062, 'untrammeled': 13063, 'edition': 13064, 'once': 13065, 'noble': 13066, 'rebuffed': 13067, 'desegregated': 13068, 'brown': 13069, 'intersection': 13070, 'Clifton': 13071, 'Swine': 13072, 'Tudor': 13073, 'Scotland': 13074, 'useless': 13075, 'Lawn': 13076, 'aft': 13077, 'skilled': 13078, 'semester': 13079, 'Sunrise': 13080, 'Rights': 13081, 'attached': 13082, 'salary': 13083, 'I': 13084, 'erroneous': 13085, 'insult': 13086, 'Polls': 13087, 'Menderes': 13088, '300,000': 13089, 'ex-gambler': 13090, \"Russians'\": 13091, 'ambled': 13092, 'Ponce': 13093, 'pun': 13094, '255': 13095, 'feat': 13096, 'musician': 13097, 'colony': 13098, \"Collins'\": 13099, 'three-man': 13100, '545-yard': 13101, 'estimates': 13102, 'tackle': 13103, 'constitution': 13104, 'Connie': 13105, 'inflation': 13106, 'significant': 13107, 'mechanic': 13108, 'Mostly': 13109, 'Agency': 13110, 'Even': 13111, 'acts': 13112, 'Houk': 13113, 'dealers': 13114, 'share': 13115, 'meanwhile': 13116, 'flattened': 13117, 'paralyzed': 13118, 'Lindy': 13119, 'boxes': 13120, 'mechanical': 13121, 'necessary': 13122, 'Lauderdale': 13123, 'advisers': 13124, 'Trinity': 13125, 'Sievers': 13126, 'Casino': 13127, 'lacking': 13128, 'superintendent': 13129, 'Moulton': 13130, 'Jesus': 13131, 'Eppler': 13132, 'provocation': 13133, 'hailed': 13134, 'swift-striding': 13135, 'assignment': 13136, 'plagued': 13137, 'Werner': 13138, '$12.7': 13139, '6124': 13140, 'hearts': 13141, 'tomb': 13142, 'Pfaff': 13143, 'employes': 13144, 'vitality': 13145, 'Franklin': 13146, 'accused': 13147, 'formerly': 13148, 'victims': 13149, \"He's\": 13150, 'developments': 13151, 'entertained': 13152, 'absolute': 13153, 'skidding': 13154, 'long-bodied': 13155, 'Vieth': 13156, 'father': 13157, 'Shrine': 13158, 'pinch-hitter': 13159, 'rather': 13160, 'show': 13161, 'Georgia-Pacific': 13162, 'rosy': 13163, '2nd': 13164, 'Sullivan': 13165, 'bed': 13166, \"road's\": 13167, 'Strenuous': 13168, 'equipment': 13169, 'limit': 13170, 'D.C.': 13171, 'brothers': 13172, 'eighth': 13173, 'sub': 13174, 'remained': 13175, 'eating': 13176, 'influx': 13177, 'tougher': 13178, 'Rte.': 13179, 'minutes': 13180, 'moral': 13181, 'travel': 13182, '169': 13183, 'Chancellor': 13184, 'Belgians': 13185, \"mob's\": 13186, 'mid-September': 13187, \"government's\": 13188, 'Semenov': 13189, 'nation': 13190, 'surprising': 13191, 'Achaeans': 13192, 'formula': 13193, 'Heinkel': 13194, 'youth': 13195, 'Look': 13196, 'subdue': 13197, 'alternative': 13198, 'second': 13199, 'Hood': 13200, 'Venturi': 13201, 'Red-prone': 13202, 'ex-convict': 13203, 'interviewed': 13204, 'shouted': 13205, 'define': 13206, 'obtaining': 13207, 'cheap': 13208, '80': 13209, 'Hill': 13210, 'violated': 13211, 'fireplace': 13212, 'somewhat': 13213, 'Davidson': 13214, 'design': 13215, 'yarn': 13216, 'Troy': 13217, 'Baines': 13218, '10-team': 13219, 'examined': 13220, 'tripled': 13221, 'Deadly': 13222, 'assured': 13223, 'naughtier': 13224, 'fraud': 13225, 'Passavant': 13226, 'noes': 13227, '$67,000': 13228, 'Tuttle': 13229, 'priests': 13230, 'full-dress': 13231, 'faked': 13232, 'asked': 13233, 'instituted': 13234, 'bunt': 13235, 'Minoso': 13236, 'major': 13237, 'precedent': 13238, '676': 13239, 'Del': 13240, 'edges': 13241, 'Heilman': 13242, 'piece': 13243, 'Fireside': 13244, 'Bibb': 13245, 'complained': 13246, 'cultural': 13247, 'vacated': 13248, \"team's\": 13249, 'bread': 13250, 'disallowed': 13251, 'bulge': 13252, 'Nazarene': 13253, '27': 13254, 'hundreds': 13255, \"grandmother's\": 13256, \"Berlin's\": 13257, 'Kroger': 13258, 'm.p.h.': 13259, 'Malcolm': 13260, 'Nieman': 13261, 'Cooper': 13262, 'Weatherford': 13263, 'Beyeler': 13264, 'provisions': 13265, 'intimated': 13266, 'contrast': 13267, 'intentions': 13268, \"armory's\": 13269, 'man': 13270, 'Here': 13271, 'moving': 13272, 'bake-offs': 13273, 'seventeen': 13274, 'handles': 13275, 'Taft-Hartley': 13276, 'hijackers': 13277, 'notice': 13278, 'weigh': 13279, 'Underwood': 13280, \"Shaw's\": 13281, 'imprudently': 13282, 'posed': 13283, 'airport': 13284, 'Finalists': 13285, 'hearing': 13286, 'UN': 13287, 'McElyee': 13288, '42d': 13289, 'managements': 13290, 'Herman': 13291, '361': 13292, 'generous': 13293, 'operation': 13294, 'whichever': 13295, 'starter': 13296, 'Nearly': 13297, 'nationally': 13298, 'thwarted': 13299, 'expired': 13300, '2705': 13301, 'bunkered': 13302, 'variations': 13303, 'narcotics': 13304, 'hull': 13305, 'Kasai': 13306, \"Phouma's\": 13307, 'distance': 13308, 'instances': 13309, 'Elios': 13310, 'speculating': 13311, \"janitors'\": 13312, \"Raiders'\": 13313, 'stories': 13314, 'Mineral': 13315, '25,000,000': 13316, 'died': 13317, 'ways': 13318, 'hitting': 13319, 'loyalty': 13320, 'Phillips': 13321, 'reasonable': 13322, 'hill': 13323, 'accommodations': 13324, 'sumptuous': 13325, 'parties': 13326, 'power': 13327, 'advised': 13328, 'dean': 13329, 'meddle': 13330, 'capitol': 13331, '47': 13332, 'alliance': 13333, 'spectators': 13334, 'oats': 13335, 'streetcar': 13336, 'arrested': 13337, 'Berteros': 13338, 'impersonal': 13339, 'Mount': 13340, 'engineering': 13341, 'maintains': 13342, 'Circuit': 13343, 'averaging': 13344, 'Alliance': 13345, 'Hilton': 13346, 'desirable': 13347, 'Bucs': 13348, 'unresponsive': 13349, 'youthful': 13350, 'remodeling': 13351, 'caused': 13352, 'Walnut': 13353, 'Clara': 13354, 'Kochanek': 13355, 'theater': 13356, 'roadblock': 13357, 'Daniel': 13358, '4': 13359, 'flatly': 13360, 'commented': 13361, 'slugs': 13362, 'advertises': 13363, 'Giorgio': 13364, '205-pound': 13365, \"O'Sullivan\": 13366, 'Presidential': 13367, 'supposedly': 13368, 'girl': 13369, 'Manager': 13370, 'Eldon': 13371, 'broad': 13372, '1950s': 13373, '73': 13374, 'made': 13375, 'proselytizing': 13376, 'popularity': 13377, 'Later': 13378, 'arched': 13379, 'decency': 13380, 'rallies': 13381, 'jurist': 13382, 'Gladden': 13383, 'debutante': 13384, 'pesticides': 13385, 'frock': 13386, 'awarding': 13387, 'Fabian': 13388, 'magnification': 13389, 'undoubtedly': 13390, 'hoc': 13391, 'arrangement': 13392, 'Electra': 13393, 'fathers': 13394, 'view': 13395, 'Conn.': 13396, 'July': 13397, 'Pittsburgh': 13398, 'modernized': 13399, 'price': 13400, 'former': 13401, 'Varani': 13402, 'gray-haired': 13403, 'Jefferson': 13404, 'Throw': 13405, 'Taylor': 13406, 'bearings': 13407, 'used': 13408, 'lasting': 13409, 'supervisor': 13410, 'nominated': 13411, 'sinking': 13412, 'documentary': 13413, 'Trichieri': 13414, 'whose': 13415, 'Machinists': 13416, 'expended': 13417, 'complacency': 13418, 'Random': 13419, 'wallet': 13420, 'romped': 13421, \"Don't\": 13422, 'Time': 13423, 'desiring': 13424, 'number': 13425, 'interviews': 13426, 'With': 13427, 'A.': 13428, 'sign': 13429, 'pitchers': 13430, 'tenure': 13431, 'per': 13432, \"Hansen's\": 13433, 'Changes': 13434, '$17,000': 13435, 'yeast': 13436, 'anytime': 13437, 'Sherman': 13438, 'connect': 13439, 'scholastics': 13440, \"isn't\": 13441, 'roundup': 13442, 'are': 13443, 'grand': 13444, 'his': 13445, 'onto': 13446, 'parimutuels': 13447, 'Fiat': 13448, 'combine': 13449, 'owns': 13450, '67': 13451, 'tail': 13452, 'Correction': 13453, 'princess': 13454, 'engines': 13455, 'bayonet': 13456, 'probable': 13457, 'Legislatures': 13458, 'Rickards': 13459, 'nonwhite': 13460, 'submarines': 13461, 'Bess': 13462, 'Conflict': 13463, '24': 13464, '1986': 13465, 'co-operative': 13466, 'bulwark': 13467, 'speculated': 13468, 'desk': 13469, 'Fundamental': 13470, 'Mississippians': 13471, 'seams': 13472, 'LaSalle': 13473, 'volunteers': 13474, 'visitors': 13475, 'case': 13476, 'Conrad': 13477, 'rocket-bomb': 13478, 'Rookie': 13479, \"Pentagon's\": 13480, 'contractual': 13481, 'works': 13482, 'Taking': 13483, 'Health': 13484, 'prosecutor': 13485, 'Grand': 13486, 'carved': 13487, \"teams'\": 13488, 'Da': 13489, 'Kercheval': 13490, 'racketeer': 13491, 'whims': 13492, 'intangibles': 13493, 'earns': 13494, '173': 13495, 'Balloon': 13496, 'turning': 13497, 'Opposition': 13498, 'Philharmonique': 13499, 'global': 13500, '3,325': 13501, 'chip': 13502, 'Lint': 13503, 'oil': 13504, 'visited': 13505, 'natural': 13506, 'defraud': 13507, 'Baltimore': 13508, 'ouster': 13509, 'debuting': 13510, 'sons': 13511, 'spread': 13512, 'naughty': 13513, 'uranium': 13514, 'streamer': 13515, 'divided': 13516, 'one-third': 13517, \"Burkes'\": 13518, 'majorities': 13519, 'Halleck': 13520, 'MacPhail': 13521, 'therefore': 13522, 'hunter-killer': 13523, 'Arundel': 13524, 'developed': 13525, 'sales-conscious': 13526, '2': 13527, 'erroneously': 13528, 'confronted': 13529, 'brochures': 13530, 'begins': 13531, 'Molvar': 13532, 'suddenly': 13533, 'tab': 13534, 'unlikely': 13535, 'borer': 13536, 'dragging': 13537, 'urges': 13538, 'Pesce': 13539, \"Detroit's\": 13540, 'grandchildren': 13541, 'gained': 13542, 'paganism': 13543, '26': 13544, 'attended': 13545, 'extension': 13546, 'Indonesia': 13547, 'bench': 13548, 'Delinquency': 13549, 'laws': 13550, 'lefthander': 13551, 'reforms': 13552, 'tried': 13553, 'apprentices': 13554, 'surprised': 13555, 'elect': 13556, '1919': 13557, 'audience': 13558, 'Switzerland': 13559, 'site': 13560, 'Friend': 13561, 'beds': 13562, 'Kirkland': 13563, 'investigators': 13564, 'Funeral': 13565, 'mostly': 13566, 'energy': 13567, 'preceded': 13568, 'merited': 13569, 'Legislators': 13570, 'halted': 13571, 'forever': 13572, 'Bali': 13573, 'Must': 13574, 'posters': 13575, 'stockholders': 13576, 'Dolce': 13577, 'Workshop': 13578, 'planners': 13579, 'violin': 13580, '--': 13581, 'Braun': 13582, 'celebrate': 13583, 'prison': 13584, 'Jessy': 13585, 'Sidney': 13586, 'claim': 13587, 'decadence': 13588, 'Sabbath': 13589, 'wrong': 13590, 'reserve': 13591, 'first-floor': 13592, 'Virginia': 13593, 'Stafford': 13594, 'Augustine': 13595, 'nomination': 13596, 'congratulated': 13597, 'uptrend': 13598, 'Schaefer': 13599, 'Wilson': 13600, 'succeeded': 13601, 'tent': 13602, 'shoulders': 13603, 'assemblage': 13604, 'draft': 13605, 'ocean': 13606, 'mistake': 13607, 'Dukes': 13608, 'freshman': 13609, 'Jeremiah': 13610, 'Monthly': 13611, 'pitched': 13612, 'Cushman': 13613, 'a.m.': 13614, 'medics': 13615, 'Athletic': 13616, 'electric': 13617, 'Armory': 13618, 'Zealand': 13619, 'You': 13620, 'vehemence': 13621, 'stockholder': 13622, 'quieted': 13623, 'mistakes': 13624, 'ritual': 13625, 'customers': 13626, 'crossing': 13627, 'Leopold': 13628, 'Golfers': 13629, 'Barker': 13630, 'Solly': 13631, 'long-time': 13632, 'Murtaugh': 13633, 'lenient': 13634, 'those': 13635, 'cleared': 13636, 'Tibetan': 13637, 'Gursel': 13638, 'fired': 13639, 'superior': 13640, 'ladder': 13641, 'Cards': 13642, 'Dobbs': 13643, 'Light': 13644, 'Chuck': 13645, 'Tom': 13646, 'livestock': 13647, 'peculiar': 13648, 'probability': 13649, 'Noting': 13650, 'Many': 13651, 'slow-bouncing': 13652, 'active': 13653, 'Baltimorean': 13654, 'board': 13655, 'boatload': 13656, 'hitter': 13657, 'skills': 13658, 'Presently': 13659, 'privileged': 13660, 'acclimatized': 13661, 'Tune': 13662, 'voluntary': 13663, 'Arshinkoff': 13664, 'liner': 13665, 'drizzly': 13666, 'Sigma': 13667, 'Pampa': 13668, 'Daily': 13669, 'low-down': 13670, '$344,000': 13671, 'hottest': 13672, 'grocery': 13673, 'Southerner': 13674, 'submarine': 13675, 'pertained': 13676, 'Brown': 13677, 'heartbreaking': 13678, 'wholesale': 13679, 'deaf': 13680, 'attempts': 13681, 'Massachusetts': 13682, '1934': 13683, \"America's\": 13684, 'encouragement': 13685, '$57,500': 13686, 'naval': 13687, 'Portuguese': 13688, 'rubbish': 13689, '7A': 13690, 'fined': 13691, 'rivalry': 13692, 'cerebrated': 13693, 'Cook': 13694, '3181': 13695, '704': 13696, 'swung': 13697, 'Bizerte': 13698, 'matches': 13699, 'incomparable': 13700, 'Opera': 13701, 'control': 13702, 'Crispin': 13703, 'pictures': 13704, '3-to-3': 13705, 'warmed': 13706, \"students'\": 13707, 'stabilization': 13708, \"Nischwitz'\": 13709, 'generation': 13710, 'Due': 13711, 'report': 13712, 'motel-keeping': 13713, '3247': 13714, 'richest': 13715, 'Convention': 13716, 'status': 13717, 'slashed': 13718, 'wedding': 13719, 'diving': 13720, 'aroused': 13721, 'Edward': 13722, 'dancing': 13723, 'Racquet': 13724, 'Worrell': 13725, 'sluice': 13726, 'accessories': 13727, 'reviewed': 13728, 'receptive': 13729, 'Art': 13730, 'pleasure': 13731, 'Simpkins': 13732, 'Mine': 13733, 'dogleg': 13734, 'accordion': 13735, 'Angels': 13736, 'rocket-bombs': 13737, 'showings': 13738, 'penalties': 13739, 'commission': 13740, 'Vienna': 13741, \"Blanchard's\": 13742, 'seek': 13743, 'too': 13744, 'attractive': 13745, 'Two': 13746, 'setting': 13747, 'fabrics': 13748, 'beautiful': 13749, 'winged': 13750, 'dating': 13751, 'providing': 13752, 'revenge': 13753, 'spooned': 13754, 'certainly': 13755, 'sets': 13756, 'Jean': 13757, 'avant': 13758, 'enjoy': 13759, 'Honolulu': 13760, 'yellow': 13761, 'aggressive': 13762, 'stepped': 13763, 'grips': 13764, \"didn't\": 13765, 'Pontiac': 13766, 'putt': 13767, 'absorbed': 13768, 'decried': 13769, 'doorstep': 13770, 'antiquarians': 13771, 'dipped': 13772, 'longer': 13773, 'associates': 13774, 'this': 13775, 'Greenock': 13776, 'chartered': 13777, 'Morse': 13778, 'majority': 13779, 'graduated': 13780, 'months': 13781, 'sluggers': 13782, 'Leon': 13783, 'lap': 13784, '7': 13785, 'embargo': 13786, '$842,617': 13787, 'backed': 13788, 'Camilo': 13789, 'honoring': 13790, 'impression': 13791, \"physician's\": 13792, 'Open': 13793, 'pensions': 13794, 'Reedville': 13795, 'footnotes': 13796, 'outrun': 13797, 'Younger': 13798, 'skins': 13799, '1:35': 13800, 'Trophy': 13801, 'R': 13802, 'strings': 13803, 'starts': 13804, 'vines': 13805, 'Carr': 13806, '25%': 13807, 'closed': 13808, 'happily': 13809, 'Snapped': 13810, \"Lonsdale's\": 13811, 'Escape': 13812, 'realty': 13813, 'Crawford': 13814, '$10': 13815, 'collectors': 13816, 'segment': 13817, 'nearest': 13818, 'testimony': 13819, 'Brig.': 13820, 'Advance': 13821, 'salaries': 13822, 'moderate-income': 13823, 'cutback': 13824, 'acquired': 13825, 'neighboring': 13826, 'oath-taking': 13827, 'impair': 13828, 'bonanza': 13829, 'Madonna': 13830, 'Economically': 13831, 'swift': 13832, '5,000': 13833, 'resident': 13834, 'Herter': 13835, 'radioed': 13836, \"What's\": 13837, 'prove': 13838, 'dispatching': 13839, 'blasted': 13840, 'social': 13841, 'drastic': 13842, 'disaster': 13843, 'Cash': 13844, 'aided': 13845, 'clicked': 13846, 'Cox': 13847, 'Affaire': 13848, 'approximately': 13849, 'hurtling': 13850, 'asserted': 13851, 'dark-haired': 13852, 'Kings': 13853, 'bogey': 13854, 'pretexts': 13855, 'odds': 13856, 'Executive': 13857, '37-year-old': 13858, 'Funds': 13859, 'socket': 13860, 'Dewey': 13861, 'interfered': 13862, 'SWC': 13863, \"Landis'\": 13864, 'spices': 13865, 'fails': 13866, 'Prosecutor': 13867, 'Walsh': 13868, \"can't\": 13869, 'immunization': 13870, 'busy-work': 13871, 'Kolpakova': 13872, 'Housing': 13873, 'Baylor': 13874, 'parole': 13875, 'count': 13876, 'mathematically': 13877, 'takings': 13878, '$639': 13879, \"won't\": 13880, 'Baker': 13881, 'driver': 13882, 'Adlai': 13883, 'Parrillo': 13884, 'Kivu': 13885, 'End': 13886, 'so-so': 13887, 'top': 13888, 'Clifford': 13889, 'assemblies': 13890, 'deposited': 13891, 'Skipjack': 13892, 'subtitled': 13893, 'Melvin': 13894, 'vaguely': 13895, \"town's\": 13896, 'sort': 13897, 'brain': 13898, 'World': 13899, 'stoppage': 13900, 'moderates': 13901, 'briskly': 13902, 'Task': 13903, 'Texan': 13904, 'equalizers': 13905, 'distant': 13906, 'garde': 13907, 'advance': 13908, 'arenas': 13909, 'fundamentally': 13910, 'park': 13911, 'Maris': 13912, 'upshots': 13913, 'Housewives': 13914, 'completely': 13915, 'worse': 13916, '5:30': 13917, 'insist': 13918, 'President': 13919, 'heavy': 13920, 'spotted': 13921, 'democratic': 13922, '4:30': 13923, 'Roosevelt': 13924, 'Pabor': 13925, '$754': 13926, 'background': 13927, 'border': 13928, 'sewer': 13929, 'Roland': 13930, 'adopted': 13931, 'estimated': 13932, 'apt': 13933, 'on': 13934, 'two-year': 13935, 'direction': 13936, \"Rayburn's\": 13937, 'yardage': 13938, 'flu': 13939, 'Stoll': 13940, 'Gateway': 13941, 'programs': 13942, '695': 13943, 'puppets': 13944, 'undergraduate': 13945, 'plenty': 13946, 'supporters': 13947, '127': 13948, 'race': 13949, 'twelfth': 13950, 'sparing': 13951, 'shrines': 13952, 'contracting': 13953, 'gigantic': 13954, 'shadows': 13955, '100-yard': 13956, 'concentration': 13957, 'termination': 13958, \"Journal-Bulletin's\": 13959, 'possibility': 13960, 'cooking': 13961, \"Huff's\": 13962, 'care': 13963, \"Throneberry's\": 13964, 'occasion': 13965, 'physically': 13966, 'Toll': 13967, 'dismissal': 13968, 'replace': 13969, 'Rosburg': 13970, '50%': 13971, 'candidacy': 13972, 'Lover': 13973, 'sped': 13974, 'Court': 13975, 'jump': 13976, 'statewide': 13977, '130-year': 13978, 'fairies': 13979, 'Davenport': 13980, 'Hotel': 13981, 'standards': 13982, 'nonsense': 13983, 'prostitution': 13984, 'cartels': 13985, 'eccentricity': 13986, 'Churchill': 13987, 'lurked': 13988, '237%': 13989, 'Dyer': 13990, 'terror': 13991, 'procedure': 13992, 'feel': 13993, 'mission': 13994, 'extraordinary': 13995, 'revolt': 13996, 'down-payments': 13997, 'midst': 13998, 'SW': 13999, 'observers': 14000, 'Morgart': 14001, 'executives': 14002, 'consisting': 14003, 'promise': 14004, 'hemisphere': 14005, 'happen': 14006, 'U.N.': 14007, 'support': 14008, 'vow': 14009, 'clue': 14010, 'completed': 14011, 'rejoin': 14012, 'Displaying': 14013, '1965': 14014, 'battalions': 14015, 'Victim': 14016, 'murdered': 14017, 'historical': 14018, 'raised': 14019, 'Pohl': 14020, '114': 14021, 'mink': 14022, 'peculiarities': 14023, 'Corps': 14024, 'inspired': 14025, 'Are': 14026, 'Russia': 14027, 'Centredale': 14028, 'totalitarian': 14029, 'Profili': 14030, 'ours': 14031, 'blocked': 14032, 'bumper': 14033, 'advertising': 14034, '69': 14035, 'Rosella': 14036, 'strengthening': 14037, 'tentative': 14038, 'Carla': 14039, 'corruption': 14040, 'Inc.': 14041, 'Freeport': 14042, 'Ocean': 14043, 'Capitalism': 14044, 'rushed': 14045, 'encounters': 14046, \"Party's\": 14047, 'Conductor': 14048, 'Moses': 14049, 'Prairie': 14050, 'religions': 14051, '9,273': 14052, 'locale': 14053, 'nab': 14054, 'contender': 14055, \"Broglio's\": 14056, 'now': 14057, 'respond': 14058, 'modified': 14059, 'parked': 14060, 'after': 14061, 'Avery': 14062, 'finds': 14063, 'wrinkles': 14064, '$3,500': 14065, 'three': 14066, 'Blume': 14067, 'queries': 14068, 'tractors': 14069, 'Productivity': 14070, 'draw': 14071, '7.5': 14072, 'successive': 14073, 'Hengesbach': 14074, 'separated': 14075, 'youngest': 14076, 'Mfg.': 14077, 'TCU': 14078, 'awarded': 14079, 'shipments': 14080, 'interference': 14081, 'remember': 14082, 'final': 14083, 'losses': 14084, 'pursuing': 14085, \"conference's\": 14086, 'Johnny': 14087, 'Massey-Ferguson': 14088, 'luxury': 14089, 'Foreign': 14090, 'stood': 14091, 'However': 14092, 'studies': 14093, 'Annamorena': 14094, 'well-stocked': 14095, 'modern': 14096, 'News': 14097, 'intruders': 14098, 'include': 14099, 'reform': 14100, 'hung': 14101, 'hardware': 14102, 'snapback': 14103, 'echoes': 14104, 'vindication': 14105, 'somebody': 14106, 'chain': 14107, 'logging': 14108, 'Peck': 14109, 'stick': 14110, 'Maroy': 14111, 'towel': 14112, 'Stepanovich': 14113, 'decree': 14114, 'brother': 14115, 'openly': 14116, 'off-beat': 14117, 'surveyed': 14118, 'Idaho': 14119, 'Wally': 14120, '1213-15': 14121, 'Angelico': 14122, 'Beaverton': 14123, 'Parkhouse': 14124, 'regulating': 14125, 'Skorich': 14126, \"Redbirds'\": 14127, 'unsupported': 14128, 'Apparently': 14129, 'Industrial': 14130, 'central': 14131, 'ladies': 14132, 'yearbook': 14133, 'bestowed': 14134, 'Viewing': 14135, 'Las': 14136, 'East': 14137, 'notorious': 14138, 'disapproval': 14139, 'doors': 14140, 'cannot': 14141, 'intended': 14142, 'co-educational': 14143, 'Persons': 14144, 'L': 14145, 'ghastly': 14146, 'Grinsfelder': 14147, \"Formby's\": 14148, 'Recovery': 14149, 'pubs': 14150, 'presides': 14151, 'barge': 14152, 'chorus': 14153, 'moved': 14154, 'JA': 14155, 'pinch-hitters': 14156, 'polled': 14157, 'Each': 14158, 'pester': 14159, 'Sears': 14160, 'seven-stories': 14161, 'Glenda': 14162, 'retailers': 14163, 'piping': 14164, '180': 14165, 'world': 14166, 'everything': 14167, 'fit': 14168, \"you'll\": 14169, 'Tic-Tac-Toe': 14170, 'attendants': 14171, 'twice-a-year': 14172, '13%': 14173, 'year-to-year': 14174, 'stoppages': 14175, 'W.M.': 14176, 'protocol': 14177, 'Design': 14178, 'forcing': 14179, 'Common': 14180, 'together': 14181, 'paid-for': 14182, 'Peter': 14183, 'Station': 14184, \"employers'\": 14185, 'ride': 14186, 'This': 14187, 'redevelopers': 14188, 'killing': 14189, 'USN.': 14190, 'Survivors': 14191, 'surfaces': 14192, 'Armond': 14193, 'Voorhees': 14194, 'rate': 14195, \"pastors'\": 14196, 'object': 14197, 'courtly': 14198, 'Disapproval': 14199, 'freer': 14200, 'toys': 14201, 'sudden': 14202, 'Silvers': 14203, 'stations': 14204, 'steal': 14205, 'pair': 14206, 'Buckhead': 14207, 'spokesmen': 14208, 'municipalities': 14209, '1%': 14210, 'Pinsk': 14211, 'school': 14212, 'law': 14213, 'Esther': 14214, 'Shari': 14215, 'grapes': 14216, 'ordinary': 14217, '16th': 14218, 'assembly': 14219, 'Cafe': 14220, 'Treadwell': 14221, 'Lehner': 14222, 'Mercer': 14223, 'windows': 14224, 'exaggerate': 14225, 'Senate': 14226, 'American': 14227, 'narrowly': 14228, 'Charles': 14229, 'clean': 14230, 'stirred': 14231, 'tools': 14232, 'multiplying': 14233, '74': 14234, 'Manor': 14235, '2-3/4': 14236, 'strokes': 14237, 'discussion': 14238, 'Havilland': 14239, 'excess': 14240, 'away': 14241, 'putout': 14242, 'pitcher': 14243, 'reserves': 14244, 'wheat': 14245, '$18.9': 14246, \"Braves'\": 14247, 'fair-weather': 14248, 'bail': 14249, 'Fairchild': 14250, 'Three': 14251, 'stepped-up': 14252, 'Fair': 14253, 'combined': 14254, 'Orchestra': 14255, 'courses': 14256, '1935': 14257, 'peasant': 14258, 'Rockhall': 14259, 'sellout': 14260, '34220': 14261, 'lady': 14262, 'fundamentalism': 14263, 'Firm': 14264, 'missing': 14265, 'Bexar': 14266, 'Gomez': 14267, 'muscle': 14268, 'sentenced': 14269, \"parent's\": 14270, 'expensive': 14271, 'appeals': 14272, 'essence': 14273, 'neither': 14274, '24-year-old': 14275, 'Lawford': 14276, 'replied': 14277, 'segregated': 14278, 'marketing': 14279, 'permit': 14280, 'comment': 14281, 'recover': 14282, 'questions': 14283, 'wished': 14284, 'Rider': 14285, \"summer's\": 14286, 'buffets': 14287, 'role': 14288, 'Squad': 14289, 'Committee': 14290, '1940s': 14291, 'enthralling': 14292, '25th': 14293, 'withdrawing': 14294, 'member': 14295, 'highway': 14296, 'disclosures': 14297, 'judging': 14298, 'downed': 14299, 'implements': 14300, 'Communist-led': 14301, 'mingle': 14302, 'Harriet': 14303, 'Cranston': 14304, 'Hawaiian': 14305, 'put': 14306, 'Sioux': 14307, 'cotton-growing': 14308, 'yourself': 14309, 'outside': 14310, 'abroad': 14311, 'Cavaliere': 14312, 'colonel': 14313, 'twosome': 14314, 'bargain': 14315, 'bombers': 14316, 'Guests': 14317, 'zinc': 14318, 'pert': 14319, 'O.': 14320, 'obvious': 14321, \"Krogers'\": 14322, 'Keizer': 14323, 'mine': 14324, 'Coconut': 14325, 'Lou': 14326, 'Figone': 14327, 'factories': 14328, 'narrow': 14329, 'residences': 14330, 'scheduled': 14331, 'Darnell': 14332, '12,000': 14333, 'represent': 14334, 'percent': 14335, 'constitutional': 14336, 'seven-iron': 14337, 'paintings': 14338, 'biology': 14339, 'Reama': 14340, \"Navy's\": 14341, 'Ligget': 14342, 'comfortable': 14343, 'Fatima': 14344, 'house-cleaning': 14345, 'Georgetown': 14346, 'Organization': 14347, 'waiting': 14348, 'entirety': 14349, 'Paschall': 14350, 'prefer': 14351, 'Press': 14352, 'wrongful': 14353, 'slim': 14354, \"Lenobel's\": 14355, 'blow': 14356, 'paramount': 14357, 'cocktail': 14358, 'Anyone': 14359, 'negative': 14360, 'own': 14361, 'Beam': 14362, 'Stallard': 14363, 'mechanization': 14364, 'Mister': 14365, \"d'hotel\": 14366, 'mercy': 14367, 'resulted': 14368, 'cookie': 14369, 'lead': 14370, 'Explosion': 14371, 'weapon': 14372, 'Allies': 14373, 'published': 14374, 'Appropriations': 14375, 'continuance': 14376, 'policeman': 14377, 'tactical': 14378, 'pause': 14379, 'signatures': 14380, \"NATO's\": 14381, 'Bahia': 14382, 'equatorial': 14383, 'undertake': 14384, 'Indicating': 14385, 'Pakistanis': 14386, 'concessions': 14387, 'concentrate': 14388, 'Dimaggio': 14389, 'speculations': 14390, 'much-copied': 14391, 'uncontrolled': 14392, 'tile': 14393}\n"
          ]
        }
      ],
      "source": [
        "#numericalization\n",
        "word2index = {w: i for i, w in enumerate(vocab)}\n",
        "print(word2index)"
      ]
    },
    {
      "cell_type": "code",
      "execution_count": 8,
      "metadata": {},
      "outputs": [
        {
          "name": "stdout",
          "output_type": "stream",
          "text": [
            "14394\n"
          ]
        }
      ],
      "source": [
        "#vocab size\n",
        "voc_size = len(vocab)\n",
        "print(voc_size)"
      ]
    },
    {
      "cell_type": "code",
      "execution_count": 9,
      "metadata": {},
      "outputs": [],
      "source": [
        "#append UNK\n",
        "vocab.append('<UNK>')"
      ]
    },
    {
      "cell_type": "code",
      "execution_count": 10,
      "metadata": {},
      "outputs": [],
      "source": [
        "word2index['<UNK>'] = 0"
      ]
    },
    {
      "cell_type": "code",
      "execution_count": 11,
      "metadata": {},
      "outputs": [],
      "source": [
        "#just in case we need to use\n",
        "index2word = {v:k for k, v in word2index.items()} "
      ]
    },
    {
      "attachments": {},
      "cell_type": "markdown",
      "metadata": {},
      "source": [
        "## 2. Prepare train data"
      ]
    },
    {
      "cell_type": "code",
      "execution_count": 12,
      "metadata": {},
      "outputs": [],
      "source": [
        "# for c in corpus:\n",
        "#     print(c)"
      ]
    },
    {
      "cell_type": "code",
      "execution_count": 13,
      "metadata": {},
      "outputs": [],
      "source": [
        "def random_batch(batch_size, word_sequence):\n",
        "    \n",
        "    window_size = 2\n",
        "    # Make skip gram of one size window\n",
        "    skip_grams = []\n",
        "    # loop each word sequence\n",
        "    # we starts from 1 because 0 has no context\n",
        "    # we stop at second last for the same reason\n",
        "    for sent in corpus:\n",
        "        for i in range(window_size, len(sent) - window_size):\n",
        "            target = word2index[sent[i]]\n",
        "\n",
        "            context = []\n",
        "            for j in range(1, window_size):\n",
        "                context.append(word2index[sent[i - j]])\n",
        "                context.append(word2index[sent[i + j]])\n",
        "\n",
        "            # for each outside word, append to a skip_grams\n",
        "            for w in context:\n",
        "                skip_grams.append([target, w])\n",
        "    \n",
        "    random_inputs = []\n",
        "    random_labels = []\n",
        "    random_index = np.random.choice(range(len(skip_grams)), batch_size, replace=False) #randomly pick without replacement\n",
        "        \n",
        "    for i in random_index:\n",
        "        random_inputs.append([skip_grams[i][0]])  # target, e.g., 2\n",
        "        random_labels.append([skip_grams[i][1]])  # context word, e.g., 3\n",
        "            \n",
        "    return np.array(random_inputs), np.array(random_labels)"
      ]
    },
    {
      "attachments": {},
      "cell_type": "markdown",
      "metadata": {},
      "source": [
        "### Testing the method"
      ]
    },
    {
      "cell_type": "code",
      "execution_count": 14,
      "metadata": {},
      "outputs": [
        {
          "name": "stdout",
          "output_type": "stream",
          "text": [
            "Input:  [[ 1374]\n",
            " [12330]]\n",
            "Target:  [[1022]\n",
            " [9720]]\n"
          ]
        }
      ],
      "source": [
        "#testing the method\n",
        "batch_size = 2 # mini-batch size\n",
        "input_batch, target_batch = random_batch(batch_size, corpus)\n",
        "\n",
        "print(\"Input: \",  input_batch)\n",
        "print(\"Target: \", target_batch)\n",
        "\n",
        "#we will convert them to tensor during training, so don't worry..."
      ]
    },
    {
      "cell_type": "code",
      "execution_count": 15,
      "metadata": {},
      "outputs": [
        {
          "data": {
            "text/plain": [
              "((2, 1), (2, 1))"
            ]
          },
          "execution_count": 15,
          "metadata": {},
          "output_type": "execute_result"
        }
      ],
      "source": [
        "input_batch.shape, target_batch.shape"
      ]
    },
    {
      "attachments": {},
      "cell_type": "markdown",
      "metadata": {},
      "source": [
        "## 3. Negative Sampling"
      ]
    },
    {
      "attachments": {},
      "cell_type": "markdown",
      "metadata": {},
      "source": [
        "### Unigram distribution\n",
        "\n",
        "$$P(w)=U(w)^{3/4}/Z$$"
      ]
    },
    {
      "cell_type": "code",
      "execution_count": 16,
      "metadata": {},
      "outputs": [],
      "source": [
        "Z = 0.001"
      ]
    },
    {
      "cell_type": "code",
      "execution_count": 17,
      "metadata": {},
      "outputs": [],
      "source": [
        "from collections import Counter\n",
        "\n",
        "word_count = Counter(flatten(corpus))\n",
        "num_total_words = sum([c for w, c in word_count.items()])"
      ]
    },
    {
      "cell_type": "code",
      "execution_count": 18,
      "metadata": {},
      "outputs": [
        {
          "data": {
            "text/plain": [
              "481"
            ]
          },
          "execution_count": 18,
          "metadata": {},
          "output_type": "execute_result"
        }
      ],
      "source": [
        "word_count['as']"
      ]
    },
    {
      "cell_type": "code",
      "execution_count": 19,
      "metadata": {},
      "outputs": [
        {
          "data": {
            "text/plain": [
              "100554"
            ]
          },
          "execution_count": 19,
          "metadata": {},
          "output_type": "execute_result"
        }
      ],
      "source": [
        "num_total_words"
      ]
    },
    {
      "cell_type": "code",
      "execution_count": 20,
      "metadata": {},
      "outputs": [],
      "source": [
        "unigram_table = []\n",
        "\n",
        "for vo in vocab:\n",
        "    unigram_table.extend([vo] * int(((word_count[vo]/num_total_words)**0.75)/Z))"
      ]
    },
    {
      "cell_type": "code",
      "execution_count": 21,
      "metadata": {},
      "outputs": [
        {
          "data": {
            "text/plain": [
              "Counter({'event': 1,\n",
              "         'plus': 1,\n",
              "         'seemed': 1,\n",
              "         'What': 1,\n",
              "         'done': 1,\n",
              "         'led': 1,\n",
              "         'while': 2,\n",
              "         'passed': 1,\n",
              "         'Austin': 1,\n",
              "         'what': 4,\n",
              "         'carry': 1,\n",
              "         'spirit': 1,\n",
              "         'civil': 1,\n",
              "         'we': 4,\n",
              "         \"Kennedy's\": 1,\n",
              "         'battle': 1,\n",
              "         'counties': 1,\n",
              "         'worth': 1,\n",
              "         'Other': 1,\n",
              "         'front': 1,\n",
              "         'private': 1,\n",
              "         'junior': 1,\n",
              "         'billion': 1,\n",
              "         'Sen.': 1,\n",
              "         'condition': 1,\n",
              "         'School': 1,\n",
              "         'vote': 2,\n",
              "         'result': 2,\n",
              "         'term': 1,\n",
              "         'up': 8,\n",
              "         'Texas': 3,\n",
              "         'ball': 2,\n",
              "         'All': 1,\n",
              "         'level': 1,\n",
              "         'farm': 1,\n",
              "         'Congo': 2,\n",
              "         'land': 1,\n",
              "         'pay': 2,\n",
              "         'leading': 1,\n",
              "         'relations': 1,\n",
              "         'bank': 1,\n",
              "         'color': 1,\n",
              "         'collection': 1,\n",
              "         'period': 1,\n",
              "         'call': 1,\n",
              "         'Robert': 2,\n",
              "         'E.': 2,\n",
              "         'Jan.': 1,\n",
              "         'name': 1,\n",
              "         'returned': 1,\n",
              "         'funds': 2,\n",
              "         'reasons': 1,\n",
              "         '20': 1,\n",
              "         'Mayor': 1,\n",
              "         'key': 1,\n",
              "         'After': 1,\n",
              "         'housing': 1,\n",
              "         'they': 9,\n",
              "         'held': 2,\n",
              "         'trial': 1,\n",
              "         'our': 3,\n",
              "         'recent': 1,\n",
              "         'fine': 1,\n",
              "         'charter': 1,\n",
              "         'green': 1,\n",
              "         'He': 9,\n",
              "         'down': 3,\n",
              "         'summer': 1,\n",
              "         'never': 2,\n",
              "         'grants': 1,\n",
              "         'National': 2,\n",
              "         'Mr.': 8,\n",
              "         'become': 1,\n",
              "         'shown': 1,\n",
              "         'negotiations': 1,\n",
              "         'turn': 1,\n",
              "         'unions': 1,\n",
              "         'close': 1,\n",
              "         'Warren': 1,\n",
              "         'above': 1,\n",
              "         'Secretary': 1,\n",
              "         'Thomas': 1,\n",
              "         'District': 1,\n",
              "         'having': 1,\n",
              "         'teaching': 1,\n",
              "         'least': 1,\n",
              "         'if': 4,\n",
              "         'wages': 1,\n",
              "         'must': 3,\n",
              "         'Soviet': 2,\n",
              "         'bus': 1,\n",
              "         'financial': 1,\n",
              "         'Arnold': 1,\n",
              "         'These': 1,\n",
              "         'leader': 1,\n",
              "         'probably': 1,\n",
              "         'receive': 1,\n",
              "         'month': 2,\n",
              "         'Church': 1,\n",
              "         'Cuba': 1,\n",
              "         'Mickey': 1,\n",
              "         'most': 4,\n",
              "         'old': 1,\n",
              "         'Moscow': 1,\n",
              "         'Christian': 1,\n",
              "         'union': 1,\n",
              "         'Eisenhower': 1,\n",
              "         'society': 1,\n",
              "         'Louis': 1,\n",
              "         'Center': 1,\n",
              "         'wife': 2,\n",
              "         'game': 3,\n",
              "         'services': 1,\n",
              "         'to': 55,\n",
              "         'Last': 1,\n",
              "         'Los': 1,\n",
              "         'many': 3,\n",
              "         'foreign': 2,\n",
              "         'North': 2,\n",
              "         'forces': 1,\n",
              "         'heard': 1,\n",
              "         \"it's\": 1,\n",
              "         'If': 2,\n",
              "         'little': 2,\n",
              "         'whole': 1,\n",
              "         'Air': 1,\n",
              "         'however': 2,\n",
              "         'matter': 1,\n",
              "         'industry': 2,\n",
              "         'try': 1,\n",
              "         'say': 1,\n",
              "         'marriage': 1,\n",
              "         'double': 1,\n",
              "         'better': 2,\n",
              "         '&': 2,\n",
              "         'still': 2,\n",
              "         'nearly': 1,\n",
              "         'them': 5,\n",
              "         'job': 1,\n",
              "         'and': 55,\n",
              "         'gin': 1,\n",
              "         'by': 18,\n",
              "         'like': 3,\n",
              "         'international': 1,\n",
              "         'August': 1,\n",
              "         'its': 8,\n",
              "         'Fulton': 1,\n",
              "         'agency': 1,\n",
              "         'problem': 2,\n",
              "         'opportunity': 1,\n",
              "         'Laos': 2,\n",
              "         'Education': 1,\n",
              "         'often': 1,\n",
              "         'particularly': 1,\n",
              "         'victory': 1,\n",
              "         'annual': 2,\n",
              "         'explained': 1,\n",
              "         'D.': 1,\n",
              "         'staff': 2,\n",
              "         'Howard': 1,\n",
              "         'joined': 1,\n",
              "         'near': 1,\n",
              "         'move': 1,\n",
              "         'or': 8,\n",
              "         'well': 2,\n",
              "         'really': 1,\n",
              "         'me': 2,\n",
              "         'General': 1,\n",
              "         'given': 2,\n",
              "         'association': 1,\n",
              "         \"I'm\": 1,\n",
              "         'round': 1,\n",
              "         'continue': 1,\n",
              "         'return': 1,\n",
              "         'full': 1,\n",
              "         'house': 2,\n",
              "         'hard': 1,\n",
              "         'nations': 1,\n",
              "         'They': 3,\n",
              "         'with': 19,\n",
              "         'White': 2,\n",
              "         'fight': 1,\n",
              "         'reports': 1,\n",
              "         'something': 1,\n",
              "         'judge': 1,\n",
              "         ',': 108,\n",
              "         'water': 1,\n",
              "         'anti-trust': 1,\n",
              "         'elected': 1,\n",
              "         'times': 1,\n",
              "         'family': 2,\n",
              "         'rules': 1,\n",
              "         'left': 2,\n",
              "         'boy': 1,\n",
              "         'plane': 1,\n",
              "         'proposed': 1,\n",
              "         'other': 7,\n",
              "         '11': 1,\n",
              "         'urged': 1,\n",
              "         'workers': 1,\n",
              "         'further': 1,\n",
              "         'Both': 1,\n",
              "         'think': 2,\n",
              "         'wide': 1,\n",
              "         'legislation': 1,\n",
              "         'required': 1,\n",
              "         'traffic': 1,\n",
              "         'drive': 1,\n",
              "         'Geneva': 1,\n",
              "         'members': 4,\n",
              "         'amount': 1,\n",
              "         'guests': 1,\n",
              "         'government': 3,\n",
              "         'date': 1,\n",
              "         'Miss': 3,\n",
              "         'off': 4,\n",
              "         'makes': 1,\n",
              "         'plans': 1,\n",
              "         'nuclear': 1,\n",
              "         'present': 2,\n",
              "         'letters': 1,\n",
              "         'which': 10,\n",
              "         'against': 4,\n",
              "         '30': 1,\n",
              "         'ready': 1,\n",
              "         'six': 1,\n",
              "         'talk': 1,\n",
              "         'Frank': 1,\n",
              "         '!': 2,\n",
              "         'Khrushchev': 1,\n",
              "         'Saturday': 2,\n",
              "         'independence': 1,\n",
              "         'told': 3,\n",
              "         'record': 2,\n",
              "         'possible': 2,\n",
              "         'value': 1,\n",
              "         'come': 2,\n",
              "         'court': 2,\n",
              "         'season': 2,\n",
              "         'being': 3,\n",
              "         'war': 1,\n",
              "         'going': 1,\n",
              "         'opinion': 1,\n",
              "         'Aj': 1,\n",
              "         'university': 2,\n",
              "         'served': 1,\n",
              "         'she': 2,\n",
              "         'how': 2,\n",
              "         ')': 8,\n",
              "         'saw': 1,\n",
              "         '200': 1,\n",
              "         'at': 21,\n",
              "         'Senator': 1,\n",
              "         'some': 5,\n",
              "         'employees': 1,\n",
              "         'several': 2,\n",
              "         'labor': 1,\n",
              "         'Martin': 1,\n",
              "         'Friday': 2,\n",
              "         'driving': 1,\n",
              "         'election': 2,\n",
              "         'position': 1,\n",
              "         'League': 1,\n",
              "         'Republican': 2,\n",
              "         'William': 2,\n",
              "         'series': 1,\n",
              "         'entire': 1,\n",
              "         'persons': 1,\n",
              "         'town': 1,\n",
              "         'art': 1,\n",
              "         'every': 1,\n",
              "         'under': 4,\n",
              "         'P.': 1,\n",
              "         'Judge': 2,\n",
              "         'stand': 1,\n",
              "         'able': 1,\n",
              "         'Avenue': 1,\n",
              "         'City': 3,\n",
              "         'see': 2,\n",
              "         'W.': 2,\n",
              "         'Then': 1,\n",
              "         'go': 2,\n",
              "         'St.': 2,\n",
              "         'spent': 1,\n",
              "         'is': 24,\n",
              "         'received': 2,\n",
              "         'International': 1,\n",
              "         'San': 1,\n",
              "         'coach': 1,\n",
              "         'children': 3,\n",
              "         'House': 4,\n",
              "         'first': 7,\n",
              "         'bills': 1,\n",
              "         'same': 2,\n",
              "         'Now': 1,\n",
              "         'year': 7,\n",
              "         'additional': 1,\n",
              "         'according': 1,\n",
              "         'national': 2,\n",
              "         'would': 10,\n",
              "         'G.': 1,\n",
              "         'had': 12,\n",
              "         'project': 2,\n",
              "         'run': 2,\n",
              "         'Thompson': 1,\n",
              "         'recently': 1,\n",
              "         '10': 2,\n",
              "         'basis': 1,\n",
              "         'Service': 1,\n",
              "         'presented': 1,\n",
              "         'especially': 1,\n",
              "         'calls': 1,\n",
              "         'might': 2,\n",
              "         'immediate': 1,\n",
              "         'prevent': 1,\n",
              "         'Williams': 1,\n",
              "         'meet': 2,\n",
              "         'textile': 1,\n",
              "         'party': 2,\n",
              "         'point': 1,\n",
              "         'property': 1,\n",
              "         'organization': 1,\n",
              "         'Feb.': 1,\n",
              "         'Dr.': 2,\n",
              "         'Jones': 1,\n",
              "         'finished': 1,\n",
              "         'word': 1,\n",
              "         '100': 1,\n",
              "         'honor': 1,\n",
              "         'club': 2,\n",
              "         'reported': 2,\n",
              "         'director': 2,\n",
              "         'my': 2,\n",
              "         'getting': 1,\n",
              "         'following': 1,\n",
              "         'spring': 1,\n",
              "         'development': 1,\n",
              "         'Mrs.': 11,\n",
              "         'thought': 1,\n",
              "         'although': 1,\n",
              "         'pressure': 1,\n",
              "         'New': 5,\n",
              "         'were': 11,\n",
              "         'tomorrow': 1,\n",
              "         '60': 1,\n",
              "         'short': 1,\n",
              "         'Hillsboro': 1,\n",
              "         'fees': 1,\n",
              "         '3': 1,\n",
              "         'Their': 1,\n",
              "         'mother': 1,\n",
              "         'making': 1,\n",
              "         'including': 1,\n",
              "         'strike': 1,\n",
              "         'J.': 2,\n",
              "         'College': 1,\n",
              "         'Wednesday': 1,\n",
              "         'needs': 1,\n",
              "         'has': 12,\n",
              "         'local': 2,\n",
              "         'using': 1,\n",
              "         'play': 2,\n",
              "         'effective': 1,\n",
              "         'cut': 1,\n",
              "         'all': 8,\n",
              "         'ruled': 1,\n",
              "         '18': 1,\n",
              "         'happy': 1,\n",
              "         '(': 8,\n",
              "         'speed': 1,\n",
              "         'aid': 1,\n",
              "         'opening': 1,\n",
              "         'right': 2,\n",
              "         'products': 1,\n",
              "         'increase': 1,\n",
              "         'education': 2,\n",
              "         'serious': 1,\n",
              "         'week': 5,\n",
              "         'shot': 1,\n",
              "         'afternoon': 1,\n",
              "         'conspiracy': 1,\n",
              "         'headquarters': 1,\n",
              "         '9': 1,\n",
              "         'population': 1,\n",
              "         'of': 69,\n",
              "         'conference': 1,\n",
              "         'June': 1,\n",
              "         'evidence': 1,\n",
              "         'James': 2,\n",
              "         'knee': 1,\n",
              "         'your': 1,\n",
              "         'AP': 1,\n",
              "         'not': 11,\n",
              "         'ever': 2,\n",
              "         'about': 7,\n",
              "         'means': 1,\n",
              "         'Stein': 1,\n",
              "         'want': 1,\n",
              "         'playing': 1,\n",
              "         'driven': 1,\n",
              "         'years': 5,\n",
              "         'Francisco': 1,\n",
              "         'chairman': 2,\n",
              "         'eight': 2,\n",
              "         'Hospital': 1,\n",
              "         'We': 2,\n",
              "         'indicated': 1,\n",
              "         'coming': 1,\n",
              "         'back': 4,\n",
              "         'paid': 1,\n",
              "         'Wagner': 1,\n",
              "         'officers': 1,\n",
              "         'bond': 1,\n",
              "         'On': 2,\n",
              "         'college': 1,\n",
              "         'C.': 2,\n",
              "         'before': 5,\n",
              "         'wanted': 1,\n",
              "         'among': 1,\n",
              "         'along': 2,\n",
              "         'secrets': 1,\n",
              "         'Thursday': 1,\n",
              "         'Among': 1,\n",
              "         '1960': 2,\n",
              "         'found': 2,\n",
              "         'games': 1,\n",
              "         'libraries': 1,\n",
              "         'cost': 1,\n",
              "         'Congress': 1,\n",
              "         'yards': 1,\n",
              "         'Department': 1,\n",
              "         'county': 2,\n",
              "         'seem': 1,\n",
              "         'very': 2,\n",
              "         'luncheon': 1,\n",
              "         'offered': 1,\n",
              "         'effort': 1,\n",
              "         'More': 1,\n",
              "         'you': 3,\n",
              "         'stock': 1,\n",
              "         'Portland': 1,\n",
              "         'students': 1,\n",
              "         'then': 3,\n",
              "         'Co.': 2,\n",
              "         \"It's\": 1,\n",
              "         'firms': 1,\n",
              "         'dollars': 1,\n",
              "         'Jim': 1,\n",
              "         'cars': 1,\n",
              "         'Oct.': 1,\n",
              "         '22': 1,\n",
              "         'car': 3,\n",
              "         'secretary': 1,\n",
              "         'her': 5,\n",
              "         \"doesn't\": 1,\n",
              "         'U.': 1,\n",
              "         'West': 1,\n",
              "         ':': 7,\n",
              "         'face': 1,\n",
              "         'hands': 1,\n",
              "         'dropped': 1,\n",
              "         'Smith': 1,\n",
              "         'brought': 1,\n",
              "         'kind': 1,\n",
              "         'said': 15,\n",
              "         'country': 1,\n",
              "         'Orleans': 1,\n",
              "         'headed': 1,\n",
              "         'committee': 2,\n",
              "         'knew': 1,\n",
              "         'Joseph': 1,\n",
              "         'called': 2,\n",
              "         'early': 2,\n",
              "         'home': 6,\n",
              "         'R.': 1,\n",
              "         'daughter': 2,\n",
              "         'good': 3,\n",
              "         'demand': 1,\n",
              "         \"don't\": 1,\n",
              "         'television': 1,\n",
              "         'should': 3,\n",
              "         'president': 3,\n",
              "         'Old': 1,\n",
              "         'security': 1,\n",
              "         'road': 1,\n",
              "         'Player': 2,\n",
              "         'market': 2,\n",
              "         'question': 1,\n",
              "         'resolution': 1,\n",
              "         'added': 2,\n",
              "         'floor': 1,\n",
              "         'David': 1,\n",
              "         'And': 2,\n",
              "         'dinner': 1,\n",
              "         'was': 24,\n",
              "         'took': 3,\n",
              "         'went': 2,\n",
              "         'so': 4,\n",
              "         '8': 1,\n",
              "         'Houston': 1,\n",
              "         'program': 4,\n",
              "         'already': 1,\n",
              "         'form': 1,\n",
              "         'Association': 1,\n",
              "         'Richard': 2,\n",
              "         'Mitchell': 1,\n",
              "         'says': 2,\n",
              "         'Street': 1,\n",
              "         'attend': 1,\n",
              "         'measure': 1,\n",
              "         'half': 1,\n",
              "         'believe': 1,\n",
              "         'Bob': 1,\n",
              "         'British': 1,\n",
              "         'faculty': 1,\n",
              "         'food': 1,\n",
              "         'primary': 1,\n",
              "         'best': 2,\n",
              "         'system': 3,\n",
              "         'Central': 1,\n",
              "         'bargaining': 1,\n",
              "         'cent': 3,\n",
              "         'areas': 1,\n",
              "         'without': 3,\n",
              "         'South': 1,\n",
              "         'when': 6,\n",
              "         'chief': 1,\n",
              "         'last': 8,\n",
              "         'research': 1,\n",
              "         'N.': 1,\n",
              "         'award': 1,\n",
              "         'Republicans': 1,\n",
              "         'Hughes': 1,\n",
              "         'third': 2,\n",
              "         'For': 2,\n",
              "         'turned': 1,\n",
              "         '15': 1,\n",
              "         'out': 8,\n",
              "         'community': 1,\n",
              "         'health': 1,\n",
              "         '25': 1,\n",
              "         'two': 7,\n",
              "         'district': 1,\n",
              "         'Bill': 1,\n",
              "         'part': 2,\n",
              "         'city': 3,\n",
              "         'son': 1,\n",
              "         'officials': 1,\n",
              "         'effect': 1,\n",
              "         'similar': 1,\n",
              "         'pass': 1,\n",
              "         'as': 18,\n",
              "         'into': 6,\n",
              "         'worked': 1,\n",
              "         'Some': 1,\n",
              "         'Ohio': 1,\n",
              "         'hit': 2,\n",
              "         'large': 1,\n",
              "         'room': 1,\n",
              "         'far': 2,\n",
              "         'Sunday': 3,\n",
              "         'Blue': 1,\n",
              "         'running': 1,\n",
              "         'America': 1,\n",
              "         'voters': 1,\n",
              "         'baseball': 1,\n",
              "         'much': 3,\n",
              "         '?': 5,\n",
              "         'Nations': 1,\n",
              "         'needed': 2,\n",
              "         '1959': 1,\n",
              "         'Kowalski': 1,\n",
              "         'interest': 2,\n",
              "         'continued': 1,\n",
              "         'governor': 1,\n",
              "         'next': 2,\n",
              "         'either': 1,\n",
              "         'growth': 1,\n",
              "         'medical': 1,\n",
              "         'gave': 1,\n",
              "         'age': 1,\n",
              "         'am': 1,\n",
              "         'It': 6,\n",
              "         'Providence': 1,\n",
              "         'clear': 1,\n",
              "         'players': 1,\n",
              "         'George': 1,\n",
              "         'area': 2,\n",
              "         'Dallas': 3,\n",
              "         'special': 2,\n",
              "         'only': 5,\n",
              "         'Family': 1,\n",
              "         'Federal': 1,\n",
              "         'even': 3,\n",
              "         'firm': 2,\n",
              "         'followed': 1,\n",
              "         'almost': 1,\n",
              "         'personnel': 1,\n",
              "         'Washington': 3,\n",
              "         'Miami': 1,\n",
              "         'state': 5,\n",
              "         'countries': 2,\n",
              "         'Henry': 1,\n",
              "         'p.m.': 2,\n",
              "         'young': 2,\n",
              "         'higher': 2,\n",
              "         'won': 1,\n",
              "         '1958': 1,\n",
              "         'base': 1,\n",
              "         'official': 1,\n",
              "         'El': 1,\n",
              "         'Democratic': 2,\n",
              "         '``': 24,\n",
              "         'At': 2,\n",
              "         'toward': 1,\n",
              "         'us': 1,\n",
              "         'been': 9,\n",
              "         'Her': 1,\n",
              "         'important': 1,\n",
              "         'nor': 1,\n",
              "         'As': 2,\n",
              "         'apparently': 1,\n",
              "         'start': 2,\n",
              "         \"President's\": 1,\n",
              "         'individual': 1,\n",
              "         'use': 2,\n",
              "         'army': 1,\n",
              "         'administration': 3,\n",
              "         'concerned': 1,\n",
              "         'small': 2,\n",
              "         'time': 5,\n",
              "         'score': 1,\n",
              "         'hear': 1,\n",
              "         'An': 1,\n",
              "         'felt': 1,\n",
              "         'another': 2,\n",
              "         'weeks': 1,\n",
              "         'across': 1,\n",
              "         'days': 2,\n",
              "         'Union': 1,\n",
              "         'because': 3,\n",
              "         'hardly': 1,\n",
              "         'runs': 2,\n",
              "         'efforts': 1,\n",
              "         'So': 1,\n",
              "         \"'\": 3,\n",
              "         'cases': 1,\n",
              "         'address': 1,\n",
              "         'Americans': 1,\n",
              "         'situation': 1,\n",
              "         'Chicago': 1,\n",
              "         'example': 1,\n",
              "         'taking': 1,\n",
              "         'take': 3,\n",
              "         'failed': 1,\n",
              "         'Of': 1,\n",
              "         'leaders': 1,\n",
              "         'That': 2,\n",
              "         'York': 3,\n",
              "         'test': 1,\n",
              "         'involved': 1,\n",
              "         'But': 5,\n",
              "         'Georgia': 1,\n",
              "         'attorney': 1,\n",
              "         'hole': 1,\n",
              "         'welfare': 1,\n",
              "         'loss': 1,\n",
              "         'A': 7,\n",
              "         'U.S.': 3,\n",
              "         'office': 1,\n",
              "         'yesterday': 3,\n",
              "         'between': 3,\n",
              "         'campaign': 1,\n",
              "         'started': 1,\n",
              "         'problems': 1,\n",
              "         'Moritz': 1,\n",
              "         'the': 114,\n",
              "         'taken': 2,\n",
              "         'High': 1,\n",
              "         'whether': 1,\n",
              "         'life': 1,\n",
              "         'First': 1,\n",
              "         'Communist': 2,\n",
              "         'H.': 2,\n",
              "         'more': 8,\n",
              "         'generally': 1,\n",
              "         'movement': 1,\n",
              "         'County': 2,\n",
              "         'million': 3,\n",
              "         'make': 2,\n",
              "         'day': 3,\n",
              "         'police': 2,\n",
              "         'sold': 1,\n",
              "         'white': 1,\n",
              "         'Mantle': 3,\n",
              "         'who': 11,\n",
              "         'In': 6,\n",
              "         'known': 1,\n",
              "         'Island': 1,\n",
              "         'Board': 1,\n",
              "         'around': 2,\n",
              "         'S.': 2,\n",
              "         'policy': 1,\n",
              "         'daily': 1,\n",
              "         'he': 17,\n",
              "         'men': 3,\n",
              "         'April': 1,\n",
              "         'L.': 1,\n",
              "         'State': 3,\n",
              "         'Emory': 1,\n",
              "         'have': 11,\n",
              "         'department': 1,\n",
              "         'be': 19,\n",
              "         'fourth': 1,\n",
              "         'find': 1,\n",
              "         'winning': 1,\n",
              "         'clearly': 1,\n",
              "         'general': 2,\n",
              "         'M.': 1,\n",
              "         'league': 1,\n",
              "         'total': 2,\n",
              "         'women': 1,\n",
              "         'service': 2,\n",
              "         'Army': 1,\n",
              "         'hours': 1,\n",
              "         'executive': 1,\n",
              "         'issue': 2,\n",
              "         'appeared': 1,\n",
              "         \"''\": 24,\n",
              "         'She': 2,\n",
              "         'past': 2,\n",
              "         'Jack': 1,\n",
              "         'Mary': 1,\n",
              "         'States': 2,\n",
              "         'previous': 1,\n",
              "         'Davis': 1,\n",
              "         'library': 2,\n",
              "         'got': 3,\n",
              "         'charge': 1,\n",
              "         'There': 3,\n",
              "         'tax': 3,\n",
              "         'addition': 1,\n",
              "         'group': 2,\n",
              "         'Barnett': 1,\n",
              "         'contract': 1,\n",
              "         'soon': 1,\n",
              "         'John': 4,\n",
              "         'lost': 1,\n",
              "         'candidate': 1,\n",
              "         'football': 1,\n",
              "         'University': 2,\n",
              "         'struck': 1,\n",
              "         'announced': 2,\n",
              "         'reached': 1,\n",
              "         'hospital': 1,\n",
              "         'fall': 1,\n",
              "         'average': 1,\n",
              "         'such': 4,\n",
              "         'building': 1,\n",
              "         'over': 6,\n",
              "         'May': 2,\n",
              "         'came': 2,\n",
              "         'field': 1,\n",
              "         'pitching': 1,\n",
              "         'construction': 1,\n",
              "         'husband': 1,\n",
              "         'big': 2,\n",
              "         'strong': 1,\n",
              "         'get': 4,\n",
              "         'When': 2,\n",
              "         'hand': 1,\n",
              "         'One': 2,\n",
              "         'earlier': 1,\n",
              "         'Yankees': 1,\n",
              "         '12': 1,\n",
              "         'passing': 1,\n",
              "         'also': 6,\n",
              "         'in': 50,\n",
              "         'agreed': 1,\n",
              "         'help': 2,\n",
              "         'an': 12,\n",
              "         'single': 1,\n",
              "         'agreement': 1,\n",
              "         'news': 1,\n",
              "         'long': 2,\n",
              "         'throughout': 1,\n",
              "         'political': 2,\n",
              "         'owners': 1,\n",
              "         'decision': 1,\n",
              "         'both': 3,\n",
              "         'shares': 1,\n",
              "         'perhaps': 1,\n",
              "         ';': 13,\n",
              "         '6': 1,\n",
              "         'Force': 1,\n",
              "         'head': 1,\n",
              "         'it': 14,\n",
              "         'feet': 1,\n",
              "         \"year's\": 1,\n",
              "         'bill': 3,\n",
              "         'seems': 1,\n",
              "         'one': 8,\n",
              "         'Lee': 1,\n",
              "         'work': 4,\n",
              "         'himself': 1,\n",
              "         'hits': 1,\n",
              "         'five': 2,\n",
              "         'high': 3,\n",
              "         'Lawrence': 1,\n",
              "         'revenues': 1,\n",
              "         'vice': 1,\n",
              "         'Kennedy': 4,\n",
              "         'today': 3,\n",
              "         'Angeles': 1,\n",
              "         'walk': 1,\n",
              "         'certain': 1,\n",
              "         '19': 1,\n",
              "         'from': 14,\n",
              "         'became': 1,\n",
              "         'Palmer': 2,\n",
              "         'action': 1,\n",
              "         'weekend': 1,\n",
              "         'prices': 1,\n",
              "         'golf': 1,\n",
              "         'again': 2,\n",
              "         'defense': 1,\n",
              "         'reason': 1,\n",
              "         'Morton': 1,\n",
              "         'that': 26,\n",
              "         'live': 1,\n",
              "         'attack': 1,\n",
              "         'churches': 1,\n",
              "         'meeting': 3,\n",
              "         'keep': 1,\n",
              "         'Government': 1,\n",
              "         'books': 1,\n",
              "         'future': 1,\n",
              "         'basic': 1,\n",
              "         '21': 1,\n",
              "         'companies': 1,\n",
              "         'groups': 1,\n",
              "         'though': 1,\n",
              "         'Monday': 3,\n",
              "         'verdict': 1,\n",
              "         'March': 2,\n",
              "         'stage': 1,\n",
              "         'straight': 1,\n",
              "         'Sam': 1,\n",
              "         'despite': 1,\n",
              "         'book': 1,\n",
              "         'military': 2,\n",
              "         'expected': 2,\n",
              "         'four': 4,\n",
              "         'fund': 1,\n",
              "         'Havana': 1,\n",
              "         'enough': 2,\n",
              "         'No': 1,\n",
              "         'can': 5,\n",
              "         'fact': 1,\n",
              "         'for': 30,\n",
              "         'him': 5,\n",
              "         'current': 1,\n",
              "         'De': 1,\n",
              "         'business': 2,\n",
              "         'About': 1,\n",
              "         'upon': 1,\n",
              "         'bring': 1,\n",
              "         'does': 2,\n",
              "         'provide': 1,\n",
              "         'lives': 1,\n",
              "         'themselves': 1,\n",
              "         'their': 10,\n",
              "         '1961': 2,\n",
              "         'may': 4,\n",
              "         'beat': 1,\n",
              "         'great': 2,\n",
              "         'each': 3,\n",
              "         'Philadelphia': 1,\n",
              "         'schools': 2,\n",
              "         'council': 1,\n",
              "         'student': 1,\n",
              "         'machinery': 1,\n",
              "         'free': 1,\n",
              "         '13': 1,\n",
              "         'others': 1,\n",
              "         'side': 1,\n",
              "         'order': 1,\n",
              "         'information': 1,\n",
              "         'could': 5,\n",
              "         'religious': 1,\n",
              "         'seven': 1,\n",
              "         'Kansas': 1,\n",
              "         'performance': 1,\n",
              "         'there': 6,\n",
              "         'states': 1,\n",
              "         'through': 3,\n",
              "         'will': 15,\n",
              "         'Boston': 1,\n",
              "         'late': 2,\n",
              "         'began': 2,\n",
              "         'Council': 1,\n",
              "         'trade': 1,\n",
              "         'set': 3,\n",
              "         'real': 1,\n",
              "         'charged': 1,\n",
              "         'give': 2,\n",
              "         'do': 3,\n",
              "         'hope': 1,\n",
              "         'study': 1,\n",
              "         'coal': 1,\n",
              "         'lines': 1,\n",
              "         'music': 1,\n",
              "         'admitted': 1,\n",
              "         'open': 2,\n",
              "         'concert': 1,\n",
              "         'personal': 1,\n",
              "         'end': 2,\n",
              "         'thing': 1,\n",
              "         'Democrats': 1,\n",
              "         'money': 2,\n",
              "         'sent': 1,\n",
              "         'Rev.': 1,\n",
              "         'included': 1,\n",
              "         'While': 1,\n",
              "         'declared': 1,\n",
              "         'immediately': 1,\n",
              "         'played': 1,\n",
              "         'sales': 3,\n",
              "         'friends': 1,\n",
              "         'Denver': 1,\n",
              "         'people': 3,\n",
              "         'rule': 1,\n",
              "         '.': 89,\n",
              "         'designed': 1,\n",
              "         'His': 2,\n",
              "         'couple': 1,\n",
              "         'jury': 3,\n",
              "         'complete': 1,\n",
              "         'team': 2,\n",
              "         'Premier': 1,\n",
              "         'place': 1,\n",
              "         'favor': 1,\n",
              "         'Robinson': 1,\n",
              "         'To': 2,\n",
              "         'later': 2,\n",
              "         'any': 5,\n",
              "         '17': 1,\n",
              "         'hour': 1,\n",
              "         '14': 1,\n",
              "         'need': 2,\n",
              "         'B.': 2,\n",
              "         'decided': 1,\n",
              "         'The': 26,\n",
              "         'line': 1,\n",
              "         'Catholic': 1,\n",
              "         'history': 1,\n",
              "         'since': 3,\n",
              "         'act': 1,\n",
              "         'a': 52,\n",
              "         'tournament': 1,\n",
              "         'ago': 2,\n",
              "         'Day': 1,\n",
              "         'read': 1,\n",
              "         'Congolese': 1,\n",
              "         'few': 2,\n",
              "         'manager': 1,\n",
              "         'build': 1,\n",
              "         'until': 2,\n",
              "         'federal': 2,\n",
              "         'just': 2,\n",
              "         'here': 4,\n",
              "         'company': 2,\n",
              "         'F.': 1,\n",
              "         'know': 2,\n",
              "         'within': 1,\n",
              "         'during': 3,\n",
              "         'did': 3,\n",
              "         'veteran': 1,\n",
              "         'night': 4,\n",
              "         'than': 7,\n",
              "         'fire': 1,\n",
              "         'Park': 1,\n",
              "         'session': 2,\n",
              "         'economic': 1,\n",
              "         'plan': 3,\n",
              "         'bonds': 2,\n",
              "         'income': 1,\n",
              "         'course': 1,\n",
              "         'tell': 1,\n",
              "         'Legislature': 1,\n",
              "         'where': 3,\n",
              "         'United': 3,\n",
              "         'proposal': 1,\n",
              "         'Jr.': 3,\n",
              "         'but': 8,\n",
              "         'costs': 1,\n",
              "         'center': 2,\n",
              "         'new': 7,\n",
              "         'public': 3,\n",
              "         'merely': 1,\n",
              "         ...})"
            ]
          },
          "execution_count": 21,
          "metadata": {},
          "output_type": "execute_result"
        }
      ],
      "source": [
        "Counter(unigram_table)"
      ]
    },
    {
      "attachments": {},
      "cell_type": "markdown",
      "metadata": {},
      "source": [
        "### Negative Sampling"
      ]
    },
    {
      "cell_type": "code",
      "execution_count": 22,
      "metadata": {},
      "outputs": [],
      "source": [
        "import random\n",
        "\n",
        "def prepare_sequence(seq, word2index):\n",
        "    idxs = list(map(lambda w: word2index[w] if word2index.get(w) is not None else word2index[\"<UNK>\"], seq))\n",
        "    return torch.LongTensor(idxs)\n",
        "\n",
        "def negative_sampling(targets, unigram_table, k):\n",
        "    batch_size = targets.size(0)\n",
        "    neg_samples = []\n",
        "    for i in range(batch_size):\n",
        "        nsample = []\n",
        "        target_index = targets[i].item()\n",
        "        while len(nsample) < k: # num of sampling\n",
        "            neg = random.choice(unigram_table)\n",
        "            if word2index[neg] == target_index:\n",
        "                continue\n",
        "            nsample.append(neg)\n",
        "        neg_samples.append(prepare_sequence(nsample, word2index).view(1, -1))\n",
        "    return torch.cat(neg_samples)"
      ]
    },
    {
      "attachments": {},
      "cell_type": "markdown",
      "metadata": {},
      "source": [
        "### Testing the negative sampling"
      ]
    },
    {
      "cell_type": "code",
      "execution_count": 23,
      "metadata": {},
      "outputs": [],
      "source": [
        "input_batch  = torch.Tensor(input_batch)\n",
        "target_batch = torch.LongTensor(target_batch)"
      ]
    },
    {
      "cell_type": "code",
      "execution_count": 24,
      "metadata": {},
      "outputs": [
        {
          "data": {
            "text/plain": [
              "torch.Size([2, 1])"
            ]
          },
          "execution_count": 24,
          "metadata": {},
          "output_type": "execute_result"
        }
      ],
      "source": [
        "target_batch.shape"
      ]
    },
    {
      "cell_type": "code",
      "execution_count": 25,
      "metadata": {},
      "outputs": [
        {
          "data": {
            "text/plain": [
              "tensor([[ 1374.],\n",
              "        [12330.]])"
            ]
          },
          "execution_count": 25,
          "metadata": {},
          "output_type": "execute_result"
        }
      ],
      "source": [
        "input_batch"
      ]
    },
    {
      "cell_type": "code",
      "execution_count": 26,
      "metadata": {},
      "outputs": [
        {
          "data": {
            "text/plain": [
              "tensor([[11938, 12330, 11938],\n",
              "        [12781,  7904, 11920]])"
            ]
          },
          "execution_count": 26,
          "metadata": {},
          "output_type": "execute_result"
        }
      ],
      "source": [
        "num_neg = 3\n",
        "negative_sampling(target_batch, unigram_table, num_neg)"
      ]
    },
    {
      "cell_type": "code",
      "execution_count": 27,
      "metadata": {},
      "outputs": [
        {
          "data": {
            "text/plain": [
              "tensor([9720])"
            ]
          },
          "execution_count": 27,
          "metadata": {},
          "output_type": "execute_result"
        }
      ],
      "source": [
        "target_batch[1]"
      ]
    },
    {
      "attachments": {},
      "cell_type": "markdown",
      "metadata": {},
      "source": [
        "## 4. Model\n",
        "\n",
        "$$\\mathbf{J}_{\\text{neg-sample}}(\\mathbf{v}_c,o,\\mathbf{U})=-\\log(\\sigma(\\mathbf{u}_o^T\\mathbf{v}_c))-\\sum_{k=1}^K\\log(\\sigma(-\\mathbf{u}_k^T\\mathbf{v}_c))$$"
      ]
    },
    {
      "cell_type": "code",
      "execution_count": 28,
      "metadata": {},
      "outputs": [],
      "source": [
        "class SkipgramNegSampling(nn.Module):\n",
        "    \n",
        "    def __init__(self, vocab_size, emb_size, word2index):\n",
        "        super(SkipgramNegSampling, self).__init__()\n",
        "        self.embedding_v = nn.Embedding(vocab_size, emb_size) # center embedding\n",
        "        self.embedding_u = nn.Embedding(vocab_size, emb_size) # out embedding\n",
        "        self.logsigmoid = nn.LogSigmoid()\n",
        "        self.word2index  = word2index\n",
        "                    \n",
        "    def forward(self, center_words, target_words, negative_words):\n",
        "        center_embeds = self.embedding_v(center_words) # [batch_size, 1, emb_size]\n",
        "        target_embeds = self.embedding_u(target_words) # [batch_size, 1, emb_size]\n",
        "        neg_embeds    = -self.embedding_u(negative_words) # [batch_size, num_neg, emb_size]\n",
        "        \n",
        "        positive_score = target_embeds.bmm(center_embeds.transpose(1, 2)).squeeze(2)\n",
        "        #[batch_size, 1, emb_size] @ [batch_size, emb_size, 1] = [batch_size, 1, 1] = [batch_size, 1]\n",
        "        \n",
        "        negative_score = neg_embeds.bmm(center_embeds.transpose(1, 2))\n",
        "        #[batch_size, k, emb_size] @ [batch_size, emb_size, 1] = [batch_size, k, 1]\n",
        "        \n",
        "        loss = self.logsigmoid(positive_score) + torch.sum(self.logsigmoid(negative_score), 1)\n",
        "                \n",
        "        return -torch.mean(loss)\n",
        "    \n",
        "    def get_embed(self, word):\n",
        "        word2index = self.word2index\n",
        "        \n",
        "        try:\n",
        "            index = word2index[word]\n",
        "        except:\n",
        "            index = word2index['<UNK>']\n",
        "            \n",
        "        word = torch.LongTensor([index])\n",
        "        \n",
        "        embed_c = self.embedding_v(word)\n",
        "        embed_o = self.embedding_u(word)\n",
        "        embed   = (embed_c + embed_o) / 2\n",
        "        \n",
        "        return embed[0][0].item(), embed[0][1].item()\n",
        "    \n",
        "    def prediction(self, inputs):\n",
        "        embeds = self.embedding_v(inputs)\n",
        "        \n",
        "        return embeds\n",
        "    "
      ]
    },
    {
      "attachments": {},
      "cell_type": "markdown",
      "metadata": {},
      "source": [
        "## 5. Training"
      ]
    },
    {
      "cell_type": "code",
      "execution_count": 29,
      "metadata": {},
      "outputs": [],
      "source": [
        "batch_size     = 2 # mini-batch size\n",
        "embedding_size = 2 #so we can later plot\n",
        "model          = SkipgramNegSampling(voc_size, embedding_size, word2index)\n",
        "num_neg        = 10 # num of negative sampling\n",
        "\n",
        "optimizer = optim.Adam(model.parameters(), lr=0.001)"
      ]
    },
    {
      "cell_type": "code",
      "execution_count": 30,
      "metadata": {},
      "outputs": [],
      "source": [
        "def epoch_time(start_time, end_time):\n",
        "    elapsed_time = end_time - start_time\n",
        "    elapsed_mins = int(elapsed_time / 60)\n",
        "    elapsed_secs = int(elapsed_time - (elapsed_mins * 60))\n",
        "    return elapsed_mins, elapsed_secs"
      ]
    },
    {
      "cell_type": "code",
      "execution_count": 31,
      "metadata": {},
      "outputs": [
        {
          "name": "stdout",
          "output_type": "stream",
          "text": [
            "Epoch: 10 | cost: 7.456579 | time: 0m 4s\n",
            "Epoch: 20 | cost: 8.779901 | time: 0m 8s\n",
            "Epoch: 30 | cost: 11.821223 | time: 0m 12s\n",
            "Epoch: 40 | cost: 9.472773 | time: 0m 17s\n",
            "Epoch: 50 | cost: 7.429150 | time: 0m 21s\n",
            "Epoch: 60 | cost: 8.852638 | time: 0m 25s\n",
            "Epoch: 70 | cost: 8.175594 | time: 0m 30s\n",
            "Epoch: 80 | cost: 10.665074 | time: 0m 34s\n",
            "Epoch: 90 | cost: 6.503552 | time: 0m 38s\n",
            "Epoch: 100 | cost: 12.668316 | time: 0m 42s\n",
            "\n",
            "Complete: \n",
            "Total Loss: 12.67 | Time Taken: 0 minutes and 42 seconds\n"
          ]
        }
      ],
      "source": [
        "import time\n",
        "\n",
        "# Training\n",
        "num_epochs = 100\n",
        "start = time.time()\n",
        "for epoch in range(num_epochs):\n",
        "    \n",
        "    input_batch, target_batch = random_batch(batch_size, corpus)\n",
        "    \n",
        "    #input_batch: [batch_size, 1]\n",
        "    input_batch = torch.LongTensor(input_batch)\n",
        "    \n",
        "    #target_batch: [batch_size, 1]\n",
        "    target_batch = torch.LongTensor(target_batch)\n",
        "    \n",
        "    #negs_batch:   [batch_size, num_neg]\n",
        "    negs_batch = negative_sampling(target_batch, unigram_table, num_neg)\n",
        "    \n",
        "    optimizer.zero_grad()\n",
        "        \n",
        "    loss = model(input_batch, target_batch, negs_batch)\n",
        "    \n",
        "    end = time.time()\n",
        "    \n",
        "    epoch_mins, epoch_secs = epoch_time(start, end)\n",
        "    \n",
        "    loss.backward()\n",
        "    optimizer.step()\n",
        "\n",
        "    if (epoch + 1) % 10 == 0:\n",
        "        print(f\"Epoch: {epoch + 1} | cost: {loss:.6f} | time: {epoch_mins}m {epoch_secs}s\")\n",
        "\n",
        "print(f\"\\nComplete: \\nTotal Loss: {loss:2.2f} | Time Taken: {epoch_mins} minutes and {epoch_secs} seconds\")\n",
        "\n"
      ]
    },
    {
      "cell_type": "code",
      "execution_count": null,
      "metadata": {},
      "outputs": [],
      "source": []
    },
    {
      "cell_type": "code",
      "execution_count": 32,
      "metadata": {},
      "outputs": [],
      "source": [
        "def open_file(path_to_file):\n",
        "    content = []  # Initialize content to an empty list to avoid returning None\n",
        "    try:\n",
        "        with open(path_to_file, 'r') as file:\n",
        "            content = file.readlines()  # Read all lines of the file into a list\n",
        "    except FileNotFoundError:\n",
        "        print(f\"The file {path_to_file} does not exist.\")  # File not found error\n",
        "    except Exception as e:\n",
        "        print(f\"An error occurred: {e}\")  # Handle any other exceptions (e.g., permission issues)\n",
        "\n",
        "    return content  # Return content even if it's empty, but not None\n"
      ]
    },
    {
      "cell_type": "code",
      "execution_count": 33,
      "metadata": {},
      "outputs": [],
      "source": [
        "file_path = \"file/word-test.v1.1.txt\"\n",
        "\n",
        "content = open_file(file_path)\n",
        "\n",
        "semantic = []\n",
        "syntatic = []\n",
        "\n",
        "current_test = semantic\n",
        "for sent in content:\n",
        "    if sent[0] == ':':\n",
        "        current_test = syntatic\n",
        "        continue\n",
        "    \n",
        "    current_test.append(sent.strip())"
      ]
    },
    {
      "cell_type": "code",
      "execution_count": 34,
      "metadata": {},
      "outputs": [],
      "source": [
        "vector_space = []\n",
        "\n",
        "for word in vocab:\n",
        "    vector_space.append(model.get_embed(word))\n",
        "\n",
        "vector_space = np.array(vector_space)"
      ]
    },
    {
      "cell_type": "code",
      "execution_count": 35,
      "metadata": {},
      "outputs": [],
      "source": [
        "#scipy version\n",
        "from scipy import spatial\n",
        "\n",
        "def cos_sim(a, b):\n",
        "    norm_a = a / np.linalg.norm(a)  # Normalize vector a\n",
        "    norm_b = b / np.linalg.norm(b)  # Normalize vector b\n",
        "    return 1 - spatial.distance.cosine(norm_a, norm_b)  # Cosine similarity after normalization\n",
        "\n",
        "\n",
        "def cos_sim_scores(vector_space, target_vector):\n",
        "    scores = []\n",
        "    for each_vect in vector_space:\n",
        "        scores.append(cos_sim(target_vector, each_vect))\n",
        "\n",
        "    return np.array(scores)\n",
        "\n",
        "def similarity(model, test_data):\n",
        "    words = test_data.split(\" \")\n",
        "    embeddings = [np.array(model.get_embed(word)) for word in words[:3]]  # Precompute embeddings for all words\n",
        "    embed0, embed1, embed2 = embeddings  # Unpack embeddings\n",
        "    similar_vector = embed1 - embed0 + embed2  # Perform vector arithmetic\n",
        "\n",
        "    similarity_scores = cos_sim_scores(vector_space, similar_vector)\n",
        "    max_score_idx = np.argmax(similarity_scores)\n",
        "    similar_word = index2word[max_score_idx]\n",
        "\n",
        "    return similar_word == words[3]  # Directly return the result"
      ]
    },
    {
      "cell_type": "markdown",
      "metadata": {},
      "source": [
        "Semantic accuracy"
      ]
    },
    {
      "cell_type": "code",
      "execution_count": 36,
      "metadata": {},
      "outputs": [
        {
          "name": "stdout",
          "output_type": "stream",
          "text": [
            "Semantic accuracy: 0.00\n"
          ]
        }
      ],
      "source": [
        "sem_total = len(semantic)\n",
        "sem_correct = 0\n",
        "for sent in semantic:\n",
        "    if similarity(model, sent):\n",
        "        sem_correct += 1\n",
        "\n",
        "sem_accuracy = sem_correct / sem_total\n",
        "print(f\"Semantic accuracy: {sem_accuracy:2.2f}\")"
      ]
    },
    {
      "cell_type": "markdown",
      "metadata": {},
      "source": [
        "Syntactic Accuracy"
      ]
    },
    {
      "cell_type": "code",
      "execution_count": 37,
      "metadata": {},
      "outputs": [
        {
          "name": "stdout",
          "output_type": "stream",
          "text": [
            "Syntatic accuracy: 0.00\n"
          ]
        }
      ],
      "source": [
        "syn_total = len(syntatic)\n",
        "syn_correct = 0\n",
        "for sent in syntatic:\n",
        "    if similarity(model, sent):\n",
        "        syn_correct += 1\n",
        "\n",
        "syn_accuracy = syn_correct / syn_total\n",
        "print(f\"Syntatic accuracy: {syn_accuracy:2.2f}\")"
      ]
    },
    {
      "cell_type": "markdown",
      "metadata": {},
      "source": [
        "Similarity Accuracy"
      ]
    },
    {
      "cell_type": "code",
      "execution_count": 38,
      "metadata": {},
      "outputs": [],
      "source": [
        "file_path = \"file/wordsim_similarity_goldstandard.txt\"\n",
        "\n",
        "content = open_file(file_path)\n",
        "\n",
        "sim_data = []\n",
        "\n",
        "for sent in content:\n",
        "    sim_data.append(sent.strip())"
      ]
    },
    {
      "cell_type": "code",
      "execution_count": 39,
      "metadata": {},
      "outputs": [],
      "source": [
        "def compute_similarity(model, test_data):\n",
        "    words = test_data.split(\"\\t\")\n",
        "\n",
        "    embed0 = np.array(model.get_embed(words[0].strip()))\n",
        "    embed1 = np.array(model.get_embed(words[1].strip()))\n",
        "\n",
        "    similarity_model = embed1 @ embed0.T\n",
        "    similarity_provided = float(words[2].strip())\n",
        "\n",
        "    return similarity_provided, similarity_model"
      ]
    },
    {
      "cell_type": "code",
      "execution_count": 40,
      "metadata": {},
      "outputs": [],
      "source": [
        "ds_scores = []\n",
        "model_scores = []\n",
        "for sent in sim_data:\n",
        "    ds_score, model_score = compute_similarity(model, sent)\n",
        "\n",
        "    ds_scores.append(ds_score)\n",
        "    model_scores.append(model_score)"
      ]
    },
    {
      "cell_type": "code",
      "execution_count": 41,
      "metadata": {},
      "outputs": [
        {
          "name": "stdout",
          "output_type": "stream",
          "text": [
            "Correlation between the dataset similarity metrics and models’ dot product is 0.12.\n"
          ]
        }
      ],
      "source": [
        "from scipy.stats import spearmanr\n",
        "\n",
        "correlation = spearmanr(ds_scores, model_scores)[0]\n",
        "\n",
        "print(f\"Correlation between the dataset similarity metrics and models’ dot product is {correlation:2.2f}.\")"
      ]
    },
    {
      "cell_type": "code",
      "execution_count": null,
      "metadata": {},
      "outputs": [],
      "source": []
    },
    {
      "cell_type": "code",
      "execution_count": 42,
      "metadata": {},
      "outputs": [
        {
          "name": "stdout",
          "output_type": "stream",
          "text": [
            "Model and arguments saved to model\n"
          ]
        }
      ],
      "source": [
        "import torch\n",
        "import pickle\n",
        "\n",
        "# Define the folder where want to save the files\n",
        "model_folder = 'model'  # Change this to your desired folder path\n",
        "\n",
        "# Save the model's state_dict\n",
        "torch.save(model.state_dict(), f'{model_folder}/neg.model')\n",
        "\n",
        "# Save the arguments (such as voc_size, emb_size, word2index)\n",
        "neg_args = {\n",
        "    'vocab_size': voc_size,\n",
        "    'emb_size': embedding_size,\n",
        "    'word2index': word2index,\n",
        "}\n",
        "with open(f'{model_folder}/neg.args', 'wb') as f:\n",
        "    pickle.dump(neg_args, f)\n",
        "\n",
        "print(f\"Model and arguments saved to {model_folder}\")\n"
      ]
    },
    {
      "cell_type": "code",
      "execution_count": 43,
      "metadata": {},
      "outputs": [
        {
          "name": "stdout",
          "output_type": "stream",
          "text": [
            "Model loaded successfully.\n"
          ]
        },
        {
          "name": "stderr",
          "output_type": "stream",
          "text": [
            "C:\\Users\\Ekkar\\AppData\\Local\\Temp\\ipykernel_9308\\3154215120.py:16: FutureWarning: You are using `torch.load` with `weights_only=False` (the current default value), which uses the default pickle module implicitly. It is possible to construct malicious pickle data which will execute arbitrary code during unpickling (See https://github.com/pytorch/pytorch/blob/main/SECURITY.md#untrusted-models for more details). In a future release, the default value for `weights_only` will be flipped to `True`. This limits the functions that could be executed during unpickling. Arbitrary objects will no longer be allowed to be loaded via this mode unless they are explicitly allowlisted by the user via `torch.serialization.add_safe_globals`. We recommend you start setting `weights_only=True` for any use case where you don't have full control of the loaded file. Please open an issue on GitHub for any issues related to this experimental feature.\n",
            "  model_neg.load_state_dict(torch.load(f'{model_folder}/neg.model'))\n"
          ]
        }
      ],
      "source": [
        "import torch\n",
        "import pickle\n",
        "\n",
        "# Define the folder where the files are saved\n",
        "model_folder = 'model'  # Change this to the folder where you saved the files\n",
        "\n",
        "# Load the arguments from the pickle file\n",
        "with open(f'{model_folder}/neg.args', 'rb') as f:\n",
        "    neg_args = pickle.load(f)\n",
        "\n",
        "# Define the model class and initialize it with the loaded arguments\n",
        "# Make sure the model class and arguments match the training code\n",
        "model_neg = SkipgramNegSampling(**neg_args)  # Assuming you have a neg model class\n",
        "\n",
        "# Now, load the model weights (this should be from neg.model, not neg.args)\n",
        "model_neg.load_state_dict(torch.load(f'{model_folder}/neg.model'))\n",
        "\n",
        "# Now the model is loaded with the arguments and weights, and you're ready to use it\n",
        "model_neg.eval()  # Set the model to evaluation mode if you're not training\n",
        "\n",
        "print(\"Model loaded successfully.\")\n"
      ]
    },
    {
      "cell_type": "code",
      "execution_count": 44,
      "metadata": {},
      "outputs": [
        {
          "data": {
            "text/plain": [
              "(-0.6971598267555237, -1.3981492519378662)"
            ]
          },
          "execution_count": 44,
          "metadata": {},
          "output_type": "execute_result"
        }
      ],
      "source": [
        "model_neg.get_embed('sad')"
      ]
    },
    {
      "cell_type": "code",
      "execution_count": null,
      "metadata": {},
      "outputs": [],
      "source": []
    },
    {
      "cell_type": "code",
      "execution_count": null,
      "metadata": {},
      "outputs": [],
      "source": []
    },
    {
      "attachments": {},
      "cell_type": "markdown",
      "metadata": {},
      "source": [
        "## 6. Plotting the embeddings"
      ]
    },
    {
      "cell_type": "code",
      "execution_count": null,
      "metadata": {},
      "outputs": [],
      "source": [
        "#list of vocabs\n",
        "vocab[:10]"
      ]
    },
    {
      "cell_type": "code",
      "execution_count": 32,
      "metadata": {},
      "outputs": [],
      "source": [
        "word = vocab[0]"
      ]
    },
    {
      "cell_type": "code",
      "execution_count": null,
      "metadata": {},
      "outputs": [],
      "source": [
        "#numericalization\n",
        "id = word2index[word]\n",
        "id"
      ]
    },
    {
      "cell_type": "code",
      "execution_count": null,
      "metadata": {},
      "outputs": [],
      "source": [
        "id_tensor = torch.LongTensor([id])\n",
        "id_tensor"
      ]
    },
    {
      "cell_type": "code",
      "execution_count": null,
      "metadata": {},
      "outputs": [],
      "source": [
        "#get the embedding by averaging\n",
        "v_embed = model.embedding_v(id_tensor)\n",
        "u_embed = model.embedding_u(id_tensor)\n",
        "\n",
        "v_embed, u_embed"
      ]
    },
    {
      "cell_type": "code",
      "execution_count": null,
      "metadata": {},
      "outputs": [],
      "source": [
        "#average to get the word embedding\n",
        "word_embed = (v_embed + u_embed) / 2\n",
        "word_embed[0][1]"
      ]
    },
    {
      "cell_type": "code",
      "execution_count": 37,
      "metadata": {},
      "outputs": [],
      "source": [
        "#let's write a function to get embedding given a word\n",
        "def get_embed(word):\n",
        "    id_tensor = torch.LongTensor([word2index[word]])\n",
        "    v_embed = model.embedding_v(id_tensor)\n",
        "    u_embed = model.embedding_u(id_tensor) \n",
        "    word_embed = (v_embed + u_embed) / 2 \n",
        "    x, y = word_embed[0][0].item(), word_embed[0][1].item()\n",
        "\n",
        "    return x, y"
      ]
    },
    {
      "cell_type": "code",
      "execution_count": null,
      "metadata": {},
      "outputs": [],
      "source": [
        "plt.figure(figsize=(6,3))\n",
        "for i, word in enumerate(vocab[:20]): #loop each unique vocab\n",
        "    x, y = get_embed(word)\n",
        "    plt.scatter(x, y)\n",
        "    plt.annotate(word, xy=(x, y), xytext=(5, 2), textcoords='offset points')\n",
        "plt.show()"
      ]
    },
    {
      "attachments": {},
      "cell_type": "markdown",
      "metadata": {},
      "source": [
        "## 7. Cosine similarity\n",
        "\n",
        "Formally the [Cosine Similarity](https://en.wikipedia.org/wiki/Cosine_similarity) $s$ between two vectors $p$ and $q$ is defined as:\n",
        "\n",
        "$$s = \\frac{p \\cdot q}{||p|| ||q||}, \\textrm{ where } s \\in [-1, 1] $$ \n",
        "\n",
        "If $p$ and $q$ is super similar, the result is 1 otherwise 0."
      ]
    },
    {
      "cell_type": "code",
      "execution_count": null,
      "metadata": {},
      "outputs": [],
      "source": [
        "vocab"
      ]
    },
    {
      "cell_type": "code",
      "execution_count": 40,
      "metadata": {},
      "outputs": [],
      "source": [
        "#let's try similarity between first and second, and second and third\n",
        "cat          = get_embed('cat')\n",
        "fruit        = get_embed('fruit')\n",
        "animal       = get_embed('animal')"
      ]
    },
    {
      "cell_type": "code",
      "execution_count": null,
      "metadata": {},
      "outputs": [],
      "source": [
        "#numpy version\n",
        "from numpy import dot\n",
        "from numpy.linalg import norm\n",
        "\n",
        "def cos_sim(a, b):\n",
        "    cos_sim = dot(a, b)/(norm(a)*norm(b))\n",
        "    return cos_sim\n",
        "    \n",
        "print(f\"cat vs. fruit: \",        cos_sim(cat, fruit))\n",
        "print(f\"cat vs. animal: \",       cos_sim(cat, animal))\n",
        "print(f\"cat vs. cat: \",          cos_sim(cat, cat))"
      ]
    },
    {
      "cell_type": "code",
      "execution_count": null,
      "metadata": {},
      "outputs": [],
      "source": [
        "#scipy version\n",
        "from scipy import spatial\n",
        "\n",
        "def cos_sim(a, b):\n",
        "    cos_sim = 1 - spatial.distance.cosine(a, b)  #distance = 1 - similarlity, because scipy only gives distance\n",
        "    return cos_sim\n",
        "\n",
        "print(f\"cat vs. fruit: \",        cos_sim(cat, fruit))\n",
        "print(f\"cat vs. animal: \",       cos_sim(cat, animal))\n",
        "print(f\"cat vs. cat: \",          cos_sim(cat, cat))"
      ]
    }
  ],
  "metadata": {
    "anaconda-cloud": {},
    "kernelspec": {
      "display_name": "base",
      "language": "python",
      "name": "python3"
    },
    "language_info": {
      "codemirror_mode": {
        "name": "ipython",
        "version": 3
      },
      "file_extension": ".py",
      "mimetype": "text/x-python",
      "name": "python",
      "nbconvert_exporter": "python",
      "pygments_lexer": "ipython3",
      "version": "3.9.13"
    }
  },
  "nbformat": 4,
  "nbformat_minor": 4
}
